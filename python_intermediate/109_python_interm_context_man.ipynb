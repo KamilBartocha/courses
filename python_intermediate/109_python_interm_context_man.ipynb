{
 "cells": [
  {
   "cell_type": "markdown",
   "metadata": {},
   "source": [
    "# 109 Python intermediate - context manager\n",
    "_Kamil Bartocha_\n",
    "\n",
    "_wersja_ 0.0.1"
   ]
  },
  {
   "cell_type": "markdown",
   "metadata": {},
   "source": [
    "Context Manager\n",
    "\n",
    "- mechanizm w Pythonie, który pozwala zarządzać zasobami (takimi jak pliki, połączenia z bazą danych, zamykanie socketów itp.) w sposób automatyczny i efektywny. Dzięki context managerowi możemy zapewnić, że zasoby te są poprawnie otwierane i zamykane, nawet w przypadku wystąpienia błędów.\n",
    "\n",
    "- Context manager w Pythonie wykorzystuje bloki `with`, które gwarantują, że określone czynności zostaną wykonane przed rozpoczęciem pracy oraz po jej zakończeniu, bez konieczności ręcznego zarządzania zasobami.\n",
    "\n",
    "- Podstawowy Przykład z with (Zarządzanie plikami)\n",
    "\n",
    "Najczęstszym przykładem jest użycie context managera przy pracy z plikami. Gdy otwieramy plik przy użyciu `with`, Python automatycznie zadba o to, by plik został zamknięty po zakończeniu pracy.\n",
    "\n",
    "```python\n",
    "with open('example.txt', 'w') as file:\n",
    "    file.write('Hello, World!')\n",
    "\n",
    "```\n",
    "\n",
    "W tym przykładzie:\n",
    "\n",
    "- Plik jest otwierany za pomocą `with open()`, a zarządzanie jego zamknięciem jest automatycznie obsługiwane.\n",
    "- Nawet jeśli wystąpi błąd wewnątrz bloku `with`, Python automatycznie zamknie plik.\n",
    "\n",
    "### Dlaczego Warto Używać Context Managera?\n",
    "**1. Automatyczne zarządzanie zasobami:** Context managerzy automatyzują proces zarządzania zasobami, eliminując ryzyko błędów wynikających z niezamkniętych zasobów.\n",
    "\n",
    "**2. Bezpieczeństwo:** Nawet w przypadku wystąpienia błędów lub wyjątków, zasoby zostaną zwolnione.\n",
    "\n",
    "**3. Czytelność:** Bloki with sprawiają, że kod jest bardziej czytelny i łatwiejszy do zrozumienia.\n",
    "\n",
    "### Zastosowania\n",
    "Context manager jest szczególnie użyteczny w sytuacjach, gdy zasoby muszą być otwierane i zamykane, takich jak:\n",
    "\n",
    "- Praca z plikami.\n",
    "\n",
    "- Zarządzanie połączeniami sieciowymi.\n",
    "\n",
    "- Otwarcie i zamknięcie połączeń do baz danych.\n",
    "\n",
    "- Zarządzanie blokadami wielowątkowymi (mutex)."
   ]
  },
  {
   "cell_type": "markdown",
   "metadata": {},
   "source": [
    "## Tworzenie Własnego Context Managera\n",
    "Możemy również tworzyć własne context managery, używając metod `__enter__` i `__exit__`:\n",
    "\n",
    "### Dwa Kluczowe Metody Context Managera\n",
    "Aby stworzyć własny context manager, możemy zdefiniować klasę, która implementuje dwie specjalne metody:\n",
    "\n",
    "`__enter__()`: Metoda ta jest wykonywana na początku bloku `with`.\n",
    "`__exit__()`: Metoda ta jest wykonywana po zakończeniu bloku `with`, niezależnie od tego, czy doszło do wyjątku."
   ]
  },
  {
   "cell_type": "code",
   "execution_count": 2,
   "metadata": {},
   "outputs": [
    {
     "name": "stdout",
     "output_type": "stream",
     "text": [
      "Wchodzę do bloku 'with'\n",
      "Jestem w bloku 'with'\n",
      "Wychodzę z bloku 'with'\n"
     ]
    },
    {
     "ename": "Exception",
     "evalue": "",
     "output_type": "error",
     "traceback": [
      "\u001b[0;31m---------------------------------------------------------------------------\u001b[0m",
      "\u001b[0;31mException\u001b[0m                                 Traceback (most recent call last)",
      "Cell \u001b[0;32mIn[2], line 12\u001b[0m\n\u001b[1;32m     10\u001b[0m \u001b[38;5;28;01mwith\u001b[39;00m MyContextManager() \u001b[38;5;28;01mas\u001b[39;00m manager:\n\u001b[1;32m     11\u001b[0m     \u001b[38;5;28mprint\u001b[39m(\u001b[38;5;124m\"\u001b[39m\u001b[38;5;124mJestem w bloku \u001b[39m\u001b[38;5;124m'\u001b[39m\u001b[38;5;124mwith\u001b[39m\u001b[38;5;124m'\u001b[39m\u001b[38;5;124m\"\u001b[39m)\n\u001b[0;32m---> 12\u001b[0m     \u001b[38;5;28;01mraise\u001b[39;00m \u001b[38;5;167;01mException\u001b[39;00m\n\u001b[1;32m     13\u001b[0m     \u001b[38;5;28mprint\u001b[39m(\u001b[38;5;124m\"\u001b[39m\u001b[38;5;124mJestem w bloku\u001b[39m\u001b[38;5;124m'\u001b[39m\u001b[38;5;124m\"\u001b[39m)\n",
      "\u001b[0;31mException\u001b[0m: "
     ]
    }
   ],
   "source": [
    "class MyContextManager:\n",
    "    def __enter__(self):\n",
    "        print(\"Wchodzę do bloku 'with'\")\n",
    "        return self\n",
    "\n",
    "    def __exit__(self, exc_type, exc_value, traceback):\n",
    "        print(\"Wychodzę z bloku 'with'\")\n",
    "        return False\n",
    "\n",
    "with MyContextManager() as manager:\n",
    "    print(\"Jestem w bloku 'with'\")\n",
    "    raise Exception\n",
    "    print(\"Jestem w bloku'\")\n",
    "\n"
   ]
  },
  {
   "cell_type": "code",
   "execution_count": 7,
   "metadata": {},
   "outputs": [
    {
     "name": "stdout",
     "output_type": "stream",
     "text": [
      "Start'\n",
      "Jestem w bloku 'with'\n",
      "End'\n"
     ]
    }
   ],
   "source": [
    "class Name:\n",
    "    def __enter__(self):\n",
    "        print(\"Start'\")\n",
    "        return self\n",
    "\n",
    "    def __exit__(self, exc_type, exc_value, traceback):\n",
    "        print(\"End'\")\n",
    "\n",
    "with Name() as manager:\n",
    "    print(\"Jestem w bloku 'with'\")"
   ]
  },
  {
   "cell_type": "markdown",
   "metadata": {},
   "source": [
    "W metodzie `__exit__`, parametry `exc_type`, `exc_value` i `traceback` są związane z obsługą wyjątków, które mogą wystąpić wewnątrz bloku `with`. Oto, co oznaczają:\n",
    "\n",
    "1. `exc_type`\n",
    "To typ wyjątku, który został zgłoszony. Jest to klasa wyjątku (np. `ValueError`, `TypeError`, itp.).\n",
    "Jeśli nie zgłoszono żadnego wyjątku, wartość `exc_type` wynosi `None`.\n",
    "\n",
    "2. `exc_value`\n",
    "To rzeczywisty obiekt wyjątku, czyli instancja klasy wyjątku, która zawiera dodatkowe informacje o błędzie (np. wiadomość błędu).\n",
    "Jeśli nie zgłoszono żadnego wyjątku, `exc_value` wynosi `None`.\n",
    "\n",
    "3. `traceback`\n",
    "To obiekt śledzenia stosu, który zawiera informacje o tym, gdzie w kodzie wystąpił błąd. Obiekt ten umożliwia analizowanie ścieżki wykonania kodu prowadzącej do wystąpienia wyjątku.\n",
    "Jeśli nie zgłoszono żadnego wyjątku, `traceback` wynosi `None`."
   ]
  },
  {
   "cell_type": "code",
   "execution_count": 10,
   "metadata": {},
   "outputs": [
    {
     "name": "stdout",
     "output_type": "stream",
     "text": [
      "Wchodzę do kontekstu\n",
      "Wystąpił wyjątek: ValueError\n",
      "Treść wyjątku: Błąd testowy\n"
     ]
    }
   ],
   "source": [
    "class MyContextManager:\n",
    "    def __enter__(self):\n",
    "        print(\"Wchodzę do kontekstu\")\n",
    "        return self\n",
    "\n",
    "    def __exit__(self, exc_type, exc_value, traceback):\n",
    "        if exc_type:\n",
    "            print(f\"Wystąpił wyjątek: {exc_type.__name__}\")\n",
    "            print(f\"Treść wyjątku: {exc_value}\")\n",
    "            return True  # Powoduje zignorowanie wyjątku\n",
    "        print(\"Wychodzę z kontekstu\")\n",
    "        return False  # Pozwala na ponowne zgłoszenie wyjątku\n",
    "\n",
    "with MyContextManager():\n",
    "    raise ValueError(\"Błąd testowy\")\n"
   ]
  },
  {
   "cell_type": "code",
   "execution_count": null,
   "metadata": {},
   "outputs": [],
   "source": [
    "import sqlite3\n",
    "\n",
    "class DatabaseManager:\n",
    "    def __init__(self, db_name):\n",
    "        self.db_name = db_name\n",
    "        self.connection = None\n",
    "    def __enter__(self):\n",
    "        self.connection = sqlite3.connect(self.db_name)\n",
    "        return self.connection\n",
    "\n",
    "    def __exit__(self, exc_type, exc_val, exc_tb):\n",
    "        if self.connection:\n",
    "            self.connection.commit()  # Zatwierdzanie zmian\n",
    "            self.connection.close()\n",
    "        return False\n",
    "\n",
    "with DatabaseManager('example.db') as conn:\n",
    "    cursor = conn.cursor()\n",
    "    cursor.execute('''CREATE TABLE IF NOT EXISTS users (\n",
    "                        id INTEGER PRIMARY KEY AUTOINCREMENT,\n",
    "                        name TEXT,\n",
    "                        age INTEGER\n",
    "                    )''')\n",
    "\n",
    "    cursor.execute('INSERT INTO users (name, age) VALUES (?, ?)', (\"Jan\", 30))\n",
    "    cursor.execute(' INTO users (name, age) VALUES (?, ?)', (\"Anna\", 25))\n",
    "    cursor.execute('SELECT * FROM users')\n",
    "    users = cursor.fetchall()\n",
    "    print(users)\n",
    "\n"
   ]
  },
  {
   "cell_type": "markdown",
   "metadata": {},
   "source": [
    "## Dekorator `@contextmanager`\n",
    "Python oferuje również uproszczony sposób na tworzenie context managerów za pomocą dekoratora `@contextmanager` z modułu `contextlib`. Pozwala to na pisanie context managerów bez konieczności tworzenia pełnej klasy."
   ]
  },
  {
   "cell_type": "code",
   "execution_count": 3,
   "metadata": {},
   "outputs": [
    {
     "name": "stdout",
     "output_type": "stream",
     "text": [
      "Rozpoczęcie\n",
      "W środku bloku\n",
      "Zakończenie\n"
     ]
    }
   ],
   "source": [
    "from contextlib import contextmanager\n",
    "\n",
    "@contextmanager\n",
    "def my_context():\n",
    "    print(\"Rozpoczęcie\")\n",
    "    yield  # Zawiesza wykonanie i przekazuje kontrolę do bloku 'with'\n",
    "    print(\"Zakończenie\")\n",
    "\n",
    "with my_context():\n",
    "    #<before yield>\n",
    "    print(\"W środku bloku\")"
   ]
  },
  {
   "cell_type": "markdown",
   "metadata": {},
   "source": [
    "Słowo kluczowe `yield` w kontekście dekoratora `@contextmanager` z modułu `contextlib` ma specjalne znaczenie. Umożliwia ono rozdzielenie działań, które mają zostać wykonane przed oraz po wykonaniu bloku `with`. W `contextmanager` pełni funkcję podobną do podziału między metodami `__enter__` i `__exit__` w tradycyjnym context managerze.\n",
    "\n",
    "**- Przed `yield`:** Cokolwiek jest zapisane przed instrukcją `yield`, zostanie wykonane przed rozpoczęciem pracy w bloku `with`.\n",
    "\n",
    "**- Po `yield`:** Cokolwiek jest zapisane po instrukcji `yield`, zostanie wykonane po zakończeniu pracy w bloku `with`, nawet jeśli w jego trakcie wystąpi wyjątek."
   ]
  },
  {
   "cell_type": "markdown",
   "metadata": {},
   "source": [
    "### Przykład - własny konteks manager do pliku"
   ]
  },
  {
   "cell_type": "code",
   "execution_count": 6,
   "metadata": {},
   "outputs": [
    {
     "name": "stdout",
     "output_type": "stream",
     "text": [
      "['{\\n', '    \"name\": \"John\",\\n', '    \"age\": 30,\\n', '    \"city\": \"Gdańsk\"\\n', '}']\n"
     ]
    }
   ],
   "source": [
    "from contextlib import contextmanager\n",
    "\n",
    "@contextmanager\n",
    "def open_file(file_name):\n",
    "    file = open(file_name, 'r')\n",
    "    lines = file.readlines()\n",
    "    try:\n",
    "        yield lines  # Przekazanie kontroli do bloku 'with'\n",
    "    finally:\n",
    "        file.close()  # Zamykanie pliku po zakończeniu bloku 'with'\n",
    "\n",
    "\n",
    "with open_file('data.json') as f:\n",
    "    print(f)\n"
   ]
  },
  {
   "cell_type": "markdown",
   "metadata": {},
   "source": [
    "### Własna implementacja pozwala na rozszerzenie mechanizmów:\n"
   ]
  },
  {
   "cell_type": "code",
   "execution_count": 24,
   "metadata": {},
   "outputs": [
    {
     "name": "stdout",
     "output_type": "stream",
     "text": [
      "Otwieranie pliku: data.json\n",
      "Zamknięcie pliku: data.json\n",
      "Czas operacji: 0.0008 sekund \n",
      "\n",
      "Otwieranie pliku: large_file.txt\n",
      "Zamknięcie pliku: large_file.txt\n",
      "Czas operacji: 0.0007 sekund \n",
      "\n",
      "Otwieranie pliku: example.txt\n",
      "Błąd: Plik example.txt nie został znaleziony.\n",
      "Wystąpił błąd: local variable 'file' referenced before assignment\n"
     ]
    }
   ],
   "source": [
    "import time\n",
    "from contextlib import contextmanager\n",
    "\n",
    "@contextmanager\n",
    "def open_file(file_name, mode='r'):\n",
    "    \"\"\"Context manager do otwierania pliku z dodatkowymi funkcjami.\"\"\"\n",
    "    start_time = time.time()  # Mierzymy czas rozpoczęcia\n",
    "    print(f\"Otwieranie pliku: {file_name}\")\n",
    "\n",
    "    try:\n",
    "        file = open(file_name, mode)\n",
    "        yield file  # Przekazujemy plik do bloku `with`\n",
    "    except FileNotFoundError as e:\n",
    "        print(f\"Błąd: Plik {file_name} nie został znaleziony.\")\n",
    "        raise e  # Przekazujemy wyjątek dalej\n",
    "    except Exception as e:\n",
    "        print(f\"Nieznany błąd: {e}\")\n",
    "        raise e  # Przekazujemy dalej inne nieoczekiwane błędy\n",
    "    finally:\n",
    "        file.close()  # Zamykanie pliku\n",
    "        elapsed_time = time.time() - start_time  # Obliczamy czas trwania operacji\n",
    "        print(f\"Zamknięcie pliku: {file_name}\")\n",
    "        print(f\"Czas operacji: {elapsed_time:.4f} sekund \\n\")\n",
    "\n",
    "\n",
    "try:\n",
    "    with open_file('data.json', 'r') as f:\n",
    "        content = f.read()\n",
    "        # print(content)\n",
    "except Exception as e:\n",
    "    print(f\"Wystąpił błąd: {e}\")\n",
    "\n",
    "\n",
    "try:\n",
    "    with open_file('large_file.txt', 'r') as f:\n",
    "        content = f.read()\n",
    "        # print(content)\n",
    "except Exception as e:\n",
    "    print(f\"Wystąpił błąd: {e}\")\n",
    "\n",
    "\n",
    "try:\n",
    "    with open_file('example.txt', 'r') as f:\n",
    "        content = f.read()\n",
    "        # print(content)\n",
    "except Exception as e:\n",
    "    print(f\"Wystąpił błąd: {e}\")"
   ]
  }
 ],
 "metadata": {
  "kernelspec": {
   "display_name": "Python 3",
   "language": "python",
   "name": "python3"
  },
  "language_info": {
   "codemirror_mode": {
    "name": "ipython",
    "version": 3
   },
   "file_extension": ".py",
   "mimetype": "text/x-python",
   "name": "python",
   "nbconvert_exporter": "python",
   "pygments_lexer": "ipython3",
   "version": "3.10.14"
  }
 },
 "nbformat": 4,
 "nbformat_minor": 2
}
