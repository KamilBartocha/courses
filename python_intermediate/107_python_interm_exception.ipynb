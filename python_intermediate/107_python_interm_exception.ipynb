{
 "cells": [
  {
   "attachments": {},
   "cell_type": "markdown",
   "metadata": {
    "slideshow": {
     "slide_type": "slide"
    }
   },
   "source": [
    "# 107 Python intermediate - exception\n",
    "_Kamil Bartocha_\n",
    "\n",
    "_wersja_ 0.0.1"
   ]
  },
  {
   "attachments": {},
   "cell_type": "markdown",
   "metadata": {
    "slideshow": {
     "slide_type": "slide"
    }
   },
   "source": [
    "## Wyjątki, ang. _Exception_"
   ]
  },
  {
   "cell_type": "markdown",
   "metadata": {},
   "source": [
    "### Kluczowe Pojęcia\n",
    "\n",
    "1. **Wyjątek (Exception)**:\n",
    "   - To obiekt reprezentujący błąd lub nieoczekiwaną sytuację, która wystąpiła podczas działania programu. Wyjątki sygnalizują, że coś poszło nie tak i mogą pochodzić z różnych źródeł, takich jak błędy w kodzie, nieprawidłowe dane wejściowe, problemy z zasobami itp.\n",
    "\n",
    "2. **Podnoszenie wyjątku (Raising an Exception)**:\n",
    "   - Proces generowania wyjątku w kodzie programu. Wyjątek może być podnoszony ręcznie przez programistę lub automatycznie przez system lub bibliotekę, gdy napotka problem, którego nie potrafi obsłużyć.\n",
    "\n",
    "3. **Przechwytywanie wyjątku (Catching an Exception)**:\n",
    "   - Proces obsługi wyjątku, który został wygenerowany. Umożliwia to programowi reagowanie na błędy w kontrolowany sposób, zamiast kończyć działanie w sposób nieoczekiwany.\n",
    "\n",
    "4. **Blok `try` i `except`**:\n",
    "   - W językach programowania takich jak Python, blok `try` jest używany do umieszczania kodu, który może wygenerować wyjątek. Blok `except` służy do obsługi wyjątku, jeśli wystąpi. Umożliwia to programowi przechwycenie i zarządzanie błędami.\n",
    "\n",
    "5. **Blok `finally`**:\n",
    "   - Opcjonalny blok, który jest zawsze wykonywany po zakończeniu bloków `try` i `except`. Jest używany do czyszczenia zasobów, takich jak zamykanie plików lub zwalnianie pamięci, niezależnie od tego, czy wyjątek wystąpił, czy nie.\n",
    "\n",
    "6. **Blok `else`**:\n",
    "   - Opcjonalny blok, który jest wykonywany, jeśli kod w bloku `try` nie wygenerował żadnego wyjątku. Umożliwia to wykonanie dodatkowego kodu, gdy operacje zakończą się pomyślnie.\n",
    "\n",
    "## Dlaczego Wyjątki Są Ważne?\n",
    "\n",
    "1. **Bezpieczne zarządzanie błędami**:\n",
    "   - Wyjątki pozwalają na kontrolowanie błędów i zapobiegają zakończeniu działania programu w sposób nieoczekiwany, co zwiększa stabilność aplikacji.\n",
    "\n",
    "2. **Lepsza czytelność kodu**:\n",
    "   - Dzięki wyjątkowym mechanizmom, kod odpowiedzialny za obsługę błędów jest oddzielony od kodu głównego, co poprawia czytelność i organizację kodu.\n",
    "\n",
    "3. **Kontrola przepływu programu**:\n",
    "   - Wyjątki umożliwiają zarządzanie przepływem programu w sytuacjach nieoczekiwanych, co pozwala na lepszą obsługę nieprawidłowych warunków i problemów.\n",
    "\n",
    "Wyjątki są kluczowym mechanizmem w programowaniu, który pozwala na efektywne zarządzanie błędami i nieoczekiwanymi sytuacjami, zapewniając stabilność i niezawodność aplikacji.\n"
   ]
  },
  {
   "attachments": {},
   "cell_type": "markdown",
   "metadata": {
    "slideshow": {
     "slide_type": "slide"
    }
   },
   "source": [
    "### Wyjątki w Pythonie"
   ]
  },
  {
   "attachments": {},
   "cell_type": "markdown",
   "metadata": {
    "slideshow": {
     "slide_type": "fragment"
    }
   },
   "source": [
    "* Gdy interpreter Pythona zauważy w programie błąd, tworzy wyjątek z opisem błędu"
   ]
  },
  {
   "cell_type": "code",
   "execution_count": 9,
   "metadata": {
    "scrolled": true,
    "slideshow": {
     "slide_type": "slide"
    }
   },
   "outputs": [
    {
     "name": "stdout",
     "output_type": "stream",
     "text": [
      "ups + division by zero\n",
      "x\n"
     ]
    }
   ],
   "source": [
    "try:\n",
    "    print(5 * (1/2))\n",
    "except ZeroDivisionError as e:\n",
    "    print(f\"ups + {e}\")\n",
    "else:\n",
    "    print(\"else\")\n",
    "finally:\n",
    "    print(\"x\")"
   ]
  },
  {
   "cell_type": "code",
   "execution_count": 3,
   "metadata": {
    "scrolled": true,
    "slideshow": {
     "slide_type": "fragment"
    }
   },
   "outputs": [
    {
     "ename": "NameError",
     "evalue": "name 'x' is not defined",
     "output_type": "error",
     "traceback": [
      "\u001b[0;31m---------------------------------------------------------------------------\u001b[0m",
      "\u001b[0;31mNameError\u001b[0m                                 Traceback (most recent call last)",
      "Cell \u001b[0;32mIn[3], line 1\u001b[0m\n\u001b[0;32m----> 1\u001b[0m \u001b[38;5;28mprint\u001b[39m(\u001b[38;5;241m2\u001b[39m \u001b[38;5;241m+\u001b[39m \u001b[43mx\u001b[49m \u001b[38;5;241m*\u001b[39m \u001b[38;5;241m3\u001b[39m)\n",
      "\u001b[0;31mNameError\u001b[0m: name 'x' is not defined"
     ]
    }
   ],
   "source": [
    "print(2 + x * 3)"
   ]
  },
  {
   "cell_type": "code",
   "execution_count": 8,
   "metadata": {
    "slideshow": {
     "slide_type": "fragment"
    }
   },
   "outputs": [
    {
     "ename": "TypeError",
     "evalue": "unsupported operand type(s) for +: 'int' and 'str'",
     "output_type": "error",
     "traceback": [
      "\u001b[0;31m---------------------------------------------------------------------------\u001b[0m",
      "\u001b[0;31mTypeError\u001b[0m                                 Traceback (most recent call last)",
      "\u001b[1;32m/Users/kamil/Repositories/jit-team-courses/python_od_podstaw/07_python_wyjatki.ipynb Cell 12\u001b[0m line \u001b[0;36m1\n\u001b[0;32m----> <a href='vscode-notebook-cell:/Users/kamil/Repositories/jit-team-courses/python_od_podstaw/07_python_wyjatki.ipynb#X14sZmlsZQ%3D%3D?line=0'>1</a>\u001b[0m \u001b[39mprint\u001b[39m(\u001b[39m2\u001b[39;49m \u001b[39m+\u001b[39;49m \u001b[39m'\u001b[39;49m\u001b[39m2\u001b[39;49m\u001b[39m'\u001b[39;49m \u001b[39m+\u001b[39m y)\n",
      "\u001b[0;31mTypeError\u001b[0m: unsupported operand type(s) for +: 'int' and 'str'"
     ]
    }
   ],
   "source": [
    "print(2 + '2' + y)"
   ]
  },
  {
   "attachments": {},
   "cell_type": "markdown",
   "metadata": {
    "slideshow": {
     "slide_type": "slide"
    }
   },
   "source": [
    "### Lista wbudowanych wyjątków Pythona\n",
    "\n",
    "https://python.readthedocs.io/en/stable/library/exceptions.html"
   ]
  },
  {
   "cell_type": "markdown",
   "metadata": {},
   "source": [
    "### Przykład:"
   ]
  },
  {
   "cell_type": "code",
   "execution_count": 10,
   "metadata": {},
   "outputs": [
    {
     "name": "stdout",
     "output_type": "stream",
     "text": [
      "x\n",
      "Błąd: Dzielenie przez zero!\n",
      "x\n",
      "Błąd: Niepoprawny typ danych!\n",
      "x\n"
     ]
    }
   ],
   "source": [
    "def divide_numbers(a, b):\n",
    "    try:\n",
    "        result = a / b\n",
    "    except TypeError:\n",
    "        print(\"Błąd: Niepoprawny typ danych!\")\n",
    "        return None\n",
    "    except ZeroDivisionError:\n",
    "        print(\"Błąd: Dzielenie przez zero!\")\n",
    "        return None\n",
    "    else:\n",
    "        return result\n",
    "    finally:\n",
    "        # return f\"x\"\n",
    "        print(\"Operacja zakończona.\")\n",
    "\n",
    "print(divide_numbers(10, 2))  # Powinno zwrócić 5.0\n",
    "print(divide_numbers(10, 0))  # Powinno obsłużyć wyjątek dzielenia przez zero\n",
    "print(divide_numbers(10, 'a'))  # Powinno obsłużyć wyjątek typu danych\n"
   ]
  },
  {
   "cell_type": "markdown",
   "metadata": {},
   "source": [
    "#### Opis \n",
    "- **Blok `try`**: Kod, który może generować wyjątek, umieszczamy w bloku `try`. Jest to miejsce, gdzie umieszczamy operacje, które mogą spowodować błąd, na przykład operację dzielenia `a / b`.\n",
    "\n",
    "- **Blok `except`**: Obsługuje wyjątek, jeśli wystąpi. W bloku `except` definiujemy, jak program powinien zareagować na konkretne typy wyjątków. Na przykład, możemy mieć obsługę `ZeroDivisionError` dla przypadków dzielenia przez zero i `TypeError` dla błędów związanych z niepoprawnymi typami danych.\n",
    "\n",
    "- **Blok `else`**: Wykonywany tylko wtedy, gdy kod w bloku `try` nie wygenerował żadnego wyjątku. W tym przypadku blok `else` może być użyty do wykonania dodatkowych operacji, takich jak zwracanie wyniku dzielenia, jeśli operacja zakończyła się pomyślnie.\n",
    "\n",
    "- **Blok `finally`**: Zawsze wykonywany po zakończeniu bloków `try` i `except`, niezależnie od tego, czy wyjątek wystąpił, czy nie. Jest używany do zakończenia operacji, takich jak zamykanie plików, zwalnianie zasobów czy wykonywanie innych operacji czyszczących.\n"
   ]
  },
  {
   "attachments": {},
   "cell_type": "markdown",
   "metadata": {
    "slideshow": {
     "slide_type": "slide"
    }
   },
   "source": [
    "```bash\n",
    "+----------------------+\n",
    "|        try           |\n",
    "|----------------------|\n",
    "| # Kod, który może    |\n",
    "| # generować wyjątek  |\n",
    "+----------------------+\n",
    "            |\n",
    "            |\n",
    "            V\n",
    "+----------------------+\n",
    "|       except         |\n",
    "|----------------------|\n",
    "| # Obsługuje wyjątek, |\n",
    "| # jeśli wystąpi      |\n",
    "| # np. TypeError      |\n",
    "+----------------------+\n",
    "            |\n",
    "            |\n",
    "            V\n",
    "+----------------------+\n",
    "|        else          |\n",
    "|----------------------|\n",
    "| # Wykonywany tylko   |\n",
    "| # wtedy, gdy nie     |\n",
    "| # wystąpił żaden     |\n",
    "| # wyjątek            |\n",
    "+----------------------+\n",
    "            |\n",
    "            |\n",
    "            V\n",
    "+----------------------+\n",
    "|       finally        |\n",
    "|----------------------|\n",
    "| # Zawsze wykonywany  |\n",
    "| # po zakończeniu     |\n",
    "| # try i except       |\n",
    "| # np. zamknij plik   |\n",
    "+----------------------+\n",
    "\n",
    "```"
   ]
  },
  {
   "attachments": {},
   "cell_type": "markdown",
   "metadata": {
    "slideshow": {
     "slide_type": "slide"
    }
   },
   "source": [
    "## Obsługa"
   ]
  },
  {
   "attachments": {},
   "cell_type": "markdown",
   "metadata": {
    "slideshow": {
     "slide_type": "slide"
    }
   },
   "source": [
    "### Wyjątki i obsługa błędów w Pythonie\n",
    "\n",
    "```python\n",
    "try:\n",
    "    code_to_execute\n",
    "except ErrorType as er:\n",
    "    print(f\"Error occured, {er}\")\n",
    "```"
   ]
  },
  {
   "attachments": {},
   "cell_type": "markdown",
   "metadata": {
    "slideshow": {
     "slide_type": "slide"
    }
   },
   "source": [
    "### Podstawowa obsługa"
   ]
  },
  {
   "attachments": {},
   "cell_type": "markdown",
   "metadata": {
    "slideshow": {
     "slide_type": "fragment"
    }
   },
   "source": [
    "* Podniesiony wyjątek można przechwycić i obsłużyć przy pomocy struktury:\n",
    "```python\n",
    "try:\n",
    "\t...\n",
    "\t<linie kodu> \n",
    "except Exeption as err: \n",
    "\t<obsługa wtątku>\n",
    "```\n",
    "* Możemy również podnieść wyjątek przez `raise`\n"
   ]
  },
  {
   "attachments": {},
   "cell_type": "markdown",
   "metadata": {
    "slideshow": {
     "slide_type": "slide"
    }
   },
   "source": [
    "### Przykład"
   ]
  },
  {
   "cell_type": "code",
   "execution_count": 11,
   "metadata": {
    "slideshow": {
     "slide_type": "fragment"
    }
   },
   "outputs": [
    {
     "name": "stdout",
     "output_type": "stream",
     "text": [
      "Plik nie znaleziony\n"
     ]
    }
   ],
   "source": [
    "try:\n",
    "    f = open(\"plan2.txt\")\n",
    "    s = f.readline()\n",
    "    print(s)\n",
    "except FileNotFoundError:\n",
    "    print(\"Plik nie znaleziony\")"
   ]
  },
  {
   "attachments": {},
   "cell_type": "markdown",
   "metadata": {
    "slideshow": {
     "slide_type": "slide"
    }
   },
   "source": [
    "## Podnieś wyjątek"
   ]
  },
  {
   "attachments": {},
   "cell_type": "markdown",
   "metadata": {
    "slideshow": {
     "slide_type": "fragment"
    }
   },
   "source": [
    "* Jako programista Pythona możesz zgłosić wyjątek, jeśli wystąpi warunek\n",
    "* Aby zgłosić (lub podnieść) wyjątek, użyj słowa kluczowego `raise`\n",
    "* Słowo kluczowe `raise` jest używane do zgłaszania wyjątku\n",
    "* Możesz zdefiniować rodzaj błędu, który należy zgłosić, oraz tekst do wydrukowania dla użytkownika\n",
    "* Przykłady:\n",
    "  1. Wywołaj błąd i zatrzymaj program, jeśli `x` jest mniejsze niż `0`\n",
    "  1. Podnieś `TypeError`, jeśli `x` nie jest liczbą całkowitą (`int`)"
   ]
  },
  {
   "attachments": {},
   "cell_type": "markdown",
   "metadata": {
    "slideshow": {
     "slide_type": "slide"
    }
   },
   "source": [
    "### Przykład nr: 1"
   ]
  },
  {
   "cell_type": "code",
   "execution_count": 12,
   "metadata": {
    "slideshow": {
     "slide_type": "fragment"
    }
   },
   "outputs": [
    {
     "ename": "Exception",
     "evalue": "Przepraszamy, brak liczb poniżej zera",
     "output_type": "error",
     "traceback": [
      "\u001b[0;31m---------------------------------------------------------------------------\u001b[0m",
      "\u001b[0;31mException\u001b[0m                                 Traceback (most recent call last)",
      "Cell \u001b[0;32mIn[12], line 4\u001b[0m\n\u001b[1;32m      1\u001b[0m x \u001b[38;5;241m=\u001b[39m \u001b[38;5;241m-\u001b[39m\u001b[38;5;241m1\u001b[39m\n\u001b[1;32m      3\u001b[0m \u001b[38;5;28;01mif\u001b[39;00m x \u001b[38;5;241m<\u001b[39m \u001b[38;5;241m0\u001b[39m:\n\u001b[0;32m----> 4\u001b[0m     \u001b[38;5;28;01mraise\u001b[39;00m \u001b[38;5;167;01mException\u001b[39;00m(\u001b[38;5;124m\"\u001b[39m\u001b[38;5;124mPrzepraszamy, brak liczb poniżej zera\u001b[39m\u001b[38;5;124m\"\u001b[39m)\n",
      "\u001b[0;31mException\u001b[0m: Przepraszamy, brak liczb poniżej zera"
     ]
    }
   ],
   "source": [
    "x = -1\n",
    "\n",
    "if x < 0:\n",
    "    raise Exception(\"Przepraszamy, brak liczb poniżej zera\")"
   ]
  },
  {
   "attachments": {},
   "cell_type": "markdown",
   "metadata": {
    "slideshow": {
     "slide_type": "slide"
    }
   },
   "source": [
    "### Przykład nr 2:"
   ]
  },
  {
   "cell_type": "code",
   "execution_count": 13,
   "metadata": {
    "slideshow": {
     "slide_type": "fragment"
    }
   },
   "outputs": [
    {
     "ename": "TypeError",
     "evalue": "Dozwolone są tylko liczby całkowite",
     "output_type": "error",
     "traceback": [
      "\u001b[0;31m---------------------------------------------------------------------------\u001b[0m",
      "\u001b[0;31mTypeError\u001b[0m                                 Traceback (most recent call last)",
      "\u001b[1;32m/Users/kamil/Repositories/jit-team-courses/python_od_podstaw/07_python_wyjatki.ipynb Cell 36\u001b[0m line \u001b[0;36m4\n\u001b[1;32m      <a href='vscode-notebook-cell:/Users/kamil/Repositories/jit-team-courses/python_od_podstaw/07_python_wyjatki.ipynb#X50sZmlsZQ%3D%3D?line=0'>1</a>\u001b[0m x \u001b[39m=\u001b[39m \u001b[39m\"\u001b[39m\u001b[39mDzień dobry\u001b[39m\u001b[39m\"\u001b[39m\n\u001b[1;32m      <a href='vscode-notebook-cell:/Users/kamil/Repositories/jit-team-courses/python_od_podstaw/07_python_wyjatki.ipynb#X50sZmlsZQ%3D%3D?line=2'>3</a>\u001b[0m \u001b[39mif\u001b[39;00m \u001b[39mtype\u001b[39m(x) \u001b[39mis\u001b[39;00m \u001b[39mnot\u001b[39;00m \u001b[39mint\u001b[39m:\n\u001b[0;32m----> <a href='vscode-notebook-cell:/Users/kamil/Repositories/jit-team-courses/python_od_podstaw/07_python_wyjatki.ipynb#X50sZmlsZQ%3D%3D?line=3'>4</a>\u001b[0m     \u001b[39mraise\u001b[39;00m \u001b[39mTypeError\u001b[39;00m(\u001b[39m\"\u001b[39m\u001b[39mDozwolone są tylko liczby całkowite\u001b[39m\u001b[39m\"\u001b[39m)\n",
      "\u001b[0;31mTypeError\u001b[0m: Dozwolone są tylko liczby całkowite"
     ]
    }
   ],
   "source": [
    "x = \"Dzień dobry\"\n",
    "\n",
    "if type(x) is not int:\n",
    "    raise TypeError(\"Dozwolone są tylko liczby całkowite\")"
   ]
  },
  {
   "cell_type": "markdown",
   "metadata": {},
   "source": [
    "### Przykład nr 3:\n",
    "\n",
    "funkcja `register_user`, która przyjmuje nazwę użytkownika i hasło, sprawdza, czy nazwa użytkownika jest już zajęta, i zgłasza wyjątek, jeśli tak jest."
   ]
  },
  {
   "cell_type": "code",
   "execution_count": null,
   "metadata": {},
   "outputs": [],
   "source": [
    "user_database = ['alice', 'bob', 'carol']\n",
    "\n",
    "\n",
    "def register_user(username, password):\n",
    "    if username in user_database:\n",
    "        raise ValueError(f\"Nazwa użytkownika '{username}' jest już zajęta.\")\n",
    "    if len(password) < 8:\n",
    "        raise ValueError(\"Hasło musi mieć co najmniej 8 znaków.\")\n",
    "    user_database.append(username)\n",
    "    print(f\"Użytkownik '{username}' został pomyślnie zarejestrowany.\")"
   ]
  },
  {
   "attachments": {},
   "cell_type": "markdown",
   "metadata": {
    "slideshow": {
     "slide_type": "slide"
    }
   },
   "source": [
    "## Ćwiczenia"
   ]
  },
  {
   "attachments": {},
   "cell_type": "markdown",
   "metadata": {
    "slideshow": {
     "slide_type": "fragment"
    }
   },
   "source": [
    "### Ćwiczenie nr 1:\n",
    "Napisz program, który poprosi użytkownika o podanie dwóch liczb.\n",
    "\n",
    "* Dodaj wprowadzone liczny i wypisz wynik.\n",
    "* Jeśli nie zostanie wprowadzona liczba, zwróć komunikat o błędzie i poproś ponownie.\n",
    "* dodaj obsługę wyjątku w przypadku błędu konwersji znaku na liczbę\n"
   ]
  },
  {
   "attachments": {},
   "cell_type": "markdown",
   "metadata": {
    "slideshow": {
     "slide_type": "fragment"
    }
   },
   "source": [
    "### Ćwiczenie nr 2:\n",
    "Podziel przez siebie dwie liczby\n",
    "\n",
    "Wypisz:\n",
    "\n",
    "```python\n",
    "\"Nie możesz podzielić przez 0\"\n",
    "```\n",
    "\n",
    "aby program uniknął `ZeroDivisionError`"
   ]
  },
  {
   "attachments": {},
   "cell_type": "markdown",
   "metadata": {
    "slideshow": {
     "slide_type": "slide"
    }
   },
   "source": [
    "### Ćwiczenie nr 3:\n",
    "Napisz dowolny kod.\n",
    "Wychwyć w nim wyjątek, ale nic nie rób po przechwyceniu."
   ]
  },
  {
   "attachments": {},
   "cell_type": "markdown",
   "metadata": {
    "slideshow": {
     "slide_type": "fragment"
    }
   },
   "source": [
    "### Ćwiczenie nr 4:\n",
    "\n",
    "Spróbuj dodać `int` do ciągu.\n",
    "\n",
    "Umieść:\n",
    "\n",
    "```python\n",
    "msg = \"Nie możesz dodać int do string\"\n",
    "```\n",
    "\n",
    "aby program uniknął błędu `BaseException`.\n",
    "\n",
    "Możesz użyć wyjątku `Exception`, chociaż zwykle powinno się ostrożnie używać tak potężnych instrukcji wyjątków."
   ]
  },
  {
   "attachments": {},
   "cell_type": "markdown",
   "metadata": {
    "slideshow": {
     "slide_type": "fragment"
    }
   },
   "source": [
    "### Ćwiczenie nr 5:\n",
    "\n",
    "Stwórz trójelementową listę.\n",
    "\n",
    "Spróbuj wypisać piąty element.\n",
    "\n",
    "Umieść:\n",
    "\n",
    "```python\n",
    "\"Jesteś poza zakresem listy\"\n",
    "```\n",
    "\n",
    "aby uniknąć wyjątku `IndexError`."
   ]
  }
 ],
 "metadata": {
  "celltoolbar": "Slideshow",
  "kernelspec": {
   "display_name": "Python 3 (ipykernel)",
   "language": "python",
   "name": "python3"
  },
  "language_info": {
   "codemirror_mode": {
    "name": "ipython",
    "version": 3
   },
   "file_extension": ".py",
   "mimetype": "text/x-python",
   "name": "python",
   "nbconvert_exporter": "python",
   "pygments_lexer": "ipython3",
   "version": "3.10.6"
  }
 },
 "nbformat": 4,
 "nbformat_minor": 4
}
