{
 "cells": [
  {
   "cell_type": "markdown",
   "metadata": {},
   "source": [
    "# 103 Python intermediate - args, kwargs\n",
    "_Kamil Bartocha_\n",
    "\n",
    "_wersja_ 0.0.1"
   ]
  },
  {
   "cell_type": "markdown",
   "metadata": {},
   "source": [
    "## `*args` i `**kwargs`\n",
    "\n",
    "\n",
    "W Pythonie `*args` i `**kwargs` są używane do przekazywania zmiennej liczby argumentów do funkcji. Są to techniki, które umożliwiają funkcjom przyjmowanie dowolnej liczby argumentów pozycyjnych i słownikowych. Oto jak działają:\n",
    "\n",
    "### `*args`\n",
    "\n",
    "- Co to jest? `*args` jest konwencją do przekazywania zmiennej liczby argumentów pozycyjnych do funkcji.\n",
    "Jak działa? Argumenty przekazywane przez `*args` są dostępne w funkcji jako krotka.\n",
    "\n",
    "W poniższym przykładzie, `*args` pozwala funkcji `print_args` na przyjęcie dowolnej liczby argumentów, które są następnie wypisywane na konsoli."
   ]
  },
  {
   "cell_type": "code",
   "execution_count": 1,
   "metadata": {},
   "outputs": [
    {
     "name": "stdout",
     "output_type": "stream",
     "text": [
      "(1, 2, 3, 'hello', [1, 2, 3])\n",
      "<class 'tuple'>\n",
      "1\n",
      "2\n",
      "3\n",
      "hello\n",
      "[1, 2, 3]\n"
     ]
    }
   ],
   "source": [
    "def print_args(*alamakota):\n",
    "    print(alamakota)\n",
    "    print(type(alamakota))\n",
    "    for arg in alamakota:\n",
    "        print(arg)\n",
    "\n",
    "print_args(1, 2, 3, 'hello', [1, 2, 3])\n"
   ]
  },
  {
   "cell_type": "code",
   "execution_count": 3,
   "metadata": {},
   "outputs": [
    {
     "name": "stdout",
     "output_type": "stream",
     "text": [
      "4\n",
      "18\n"
     ]
    }
   ],
   "source": [
    "def add_many(*args):\n",
    "    suma = 0\n",
    "    for param in args:\n",
    "        suma += param\n",
    "    return suma\n",
    "\n",
    "print(add_many(1, 1, 1, 1))\n",
    "print(add_many(1, 1, 2, 3, 5, 6))\n"
   ]
  },
  {
   "cell_type": "markdown",
   "metadata": {},
   "source": [
    "### `**kwargs`\n",
    "\n",
    "- Co to jest? `**kwargs` jest konwencją do przekazywania zmiennej liczby argumentów słownikowych (klucz-wartość) do funkcji.\n",
    "- Jak działa? Argumenty przekazywane przez `**kwargs` są dostępne w funkcji jako słownik.\n",
    "\n",
    "W poniższym przykładzie, `**kwargs` pozwala funkcji print_kwargs na przyjęcie dowolnej liczby argumentów w formie par klucz-wartość, które są następnie wypisywane na konsoli."
   ]
  },
  {
   "cell_type": "code",
   "execution_count": 4,
   "metadata": {},
   "outputs": [
    {
     "name": "stdout",
     "output_type": "stream",
     "text": [
      "{'name': 'Alice', 'age': 30, 'city': 'New York'}\n",
      "<class 'dict'>\n",
      "name: Alice\n",
      "age: 30\n",
      "city: New York\n"
     ]
    }
   ],
   "source": [
    "def print_kwargs(**ala):\n",
    "    print(ala)\n",
    "    print(type(ala))\n",
    "    for key, value in ala.items():\n",
    "        print(f\"{key}: {value}\")\n",
    "\n",
    "print_kwargs(name='Alice', age=30, city='New York')\n"
   ]
  },
  {
   "cell_type": "markdown",
   "metadata": {},
   "source": [
    "### Połączenie `*args` i `**kwargs`\n",
    "Można używać zarówno `*args`, jak i `**kwargs` w jednej funkcji. `*args` musi być umieszczony przed `**kwargs`."
   ]
  },
  {
   "cell_type": "code",
   "execution_count": 5,
   "metadata": {},
   "outputs": [
    {
     "name": "stdout",
     "output_type": "stream",
     "text": [
      "arg1: 1\n",
      "arg2: 2\n",
      "args: (3, 4, 5)\n",
      "kwarg1: value1\n",
      "kwarg2: value2\n",
      "kwargs: {'extra1': 'extra1', 'extra2': 'extra2'}\n"
     ]
    }
   ],
   "source": [
    "def example_function(arg1, arg2, *args, kwarg1=None, kwarg2=None, **kwargs):\n",
    "    print(\"arg1:\", arg1)\n",
    "    print(\"arg2:\", arg2)\n",
    "    print(\"args:\", args)\n",
    "    print(\"kwarg1:\", kwarg1)\n",
    "    print(\"kwarg2:\", kwarg2)\n",
    "    print(\"kwargs:\", kwargs)\n",
    "\n",
    "example_function(1, 2, 3, 4, 5, kwarg1='value1', kwarg2='value2', extra1='extra1', extra2='extra2')\n"
   ]
  },
  {
   "cell_type": "markdown",
   "metadata": {},
   "source": [
    "### Przykłady:"
   ]
  },
  {
   "cell_type": "code",
   "execution_count": 8,
   "metadata": {},
   "outputs": [
    {
     "name": "stdout",
     "output_type": "stream",
     "text": [
      "Hello world!\n",
      "Python is fun\n"
     ]
    }
   ],
   "source": [
    "def concat_strings(*args):\n",
    "    return \" \".join(args)\n",
    "\n",
    "print(concat_strings('Hello', 'world!'))\n",
    "print(concat_strings('Python', 'is', 'fun'))\n"
   ]
  },
  {
   "cell_type": "code",
   "execution_count": 12,
   "metadata": {},
   "outputs": [
    {
     "name": "stdout",
     "output_type": "stream",
     "text": [
      "klucz: age\n"
     ]
    }
   ],
   "source": [
    "def print_person_info(**kwargs):\n",
    "    for key in kwargs.keys():\n",
    "        key == \"age\" and print(f\"klucz: {key}\")\n",
    "\n",
    "\n",
    "print_person_info(name='Alice', age=30, city='New York')\n"
   ]
  },
  {
   "cell_type": "code",
   "execution_count": 14,
   "metadata": {},
   "outputs": [
    {
     "name": "stdout",
     "output_type": "stream",
     "text": [
      "Title: Report 1\n",
      "Arguments: (10, 20, 30)\n",
      "Keyword Arguments: {'status': 'completed', 'author': 'John'}\n"
     ]
    }
   ],
   "source": [
    "def report(title, *args, **kwargs):\n",
    "    print(f\"Title: {title}\")\n",
    "    print(\"Arguments:\", args)\n",
    "    print(\"Keyword Arguments:\", kwargs)\n",
    "\n",
    "report('Report 1', 10, 20, 30, status='completed', author='John')\n"
   ]
  },
  {
   "cell_type": "markdown",
   "metadata": {},
   "source": [
    "### Ćwiczenia:\n"
   ]
  },
  {
   "cell_type": "markdown",
   "metadata": {},
   "source": [
    "**1. Łączenie list**\n",
    "\n",
    "Opis: Napisz funkcję `merge_lists`, która przyjmuje dowolną liczbę list jako argumenty pozycyjne i łączy je w jedną listę.\n",
    "\n",
    "Wskazówka: Użyj operatora `+` do łączenia list lub metody `.extend()`.\n",
    "\n",
    "*Przykładowe użycie*\n",
    "\n",
    "`print(merge_lists([1, 2], [3, 4], [5, 6]))`\n",
    "\n",
    "Wyjście: `[1, 2, 3, 4, 5, 6]`"
   ]
  },
  {
   "cell_type": "markdown",
   "metadata": {},
   "source": [
    "**2. Formowanie komunikatu**\n",
    "Opis: Napisz funkcję `format_message`, która przyjmuje dowolną liczbę argumentów pozycyjnych i łączy je w jeden komunikat, oddzielając je przecinkami. Na końcu dodaj znak „!” na końcu komunikatu.\n",
    "\n",
    "Wskazówka: Użyj metody `.join()` do łączenia napisów.\n",
    "\n",
    "*Przykładowe użycie*\n",
    "\n",
    "`print(format_message('Hello', 'world', 'Python'))`\n",
    "\n",
    "Wyjście: `'Hello, world, Python!'`"
   ]
  },
  {
   "cell_type": "code",
   "execution_count": null,
   "metadata": {},
   "outputs": [],
   "source": []
  },
  {
   "cell_type": "markdown",
   "metadata": {},
   "source": [
    "**3. Funkcja obliczająca średnią ocen**\n",
    "Wyobraź sobie, że tworzysz aplikację do zarządzania wynikami uczniów, gdzie musisz obliczać średnią ocen. Funkcja `calculate_average` przyjmuje zmienną liczbę ocen i oblicza ich średnią.\n",
    "\n",
    "\n",
    "*Przykładowe użycie*\n",
    "\n",
    "`print(calculate_average(5, 3, 4, 2))`\n",
    "\n",
    "Wyjście: `3.5`"
   ]
  },
  {
   "cell_type": "markdown",
   "metadata": {},
   "source": [
    "**4. Filtracja parametrów**\n",
    "\n",
    "Opis: Napisz funkcję `filter_params`, która przyjmuje dowolną liczbę argumentów słownikowych i filtruje je, aby zachować tylko te, które mają wartość większą niż `10`.\n",
    "\n",
    "Wskazówka: Użyj słownikowego wyrażenia warunkowego(dict comprehensions) do filtrowania.\n",
    "\n",
    "\n",
    "*Przykładowe użycie*\n",
    "\n",
    "`print(filter_params(a=5, b=15, c=25))`\n",
    "\n",
    "Wyjście: `{'b': 15, 'c': 25}`"
   ]
  },
  {
   "cell_type": "markdown",
   "metadata": {},
   "source": [
    "### Przykład real-life\n",
    "\n",
    "W przypadku konfiguracji aplikacji, api, połączenia"
   ]
  },
  {
   "cell_type": "code",
   "execution_count": 15,
   "metadata": {},
   "outputs": [
    {
     "name": "stdout",
     "output_type": "stream",
     "text": [
      "{'debug': False, 'log_level': 'INFO', 'host': 'localhost', 'port': 5000}\n",
      "{'debug': True, 'log_level': 'INFO', 'host': 'localhost', 'port': 8080}\n"
     ]
    }
   ],
   "source": [
    "def configure_app(**settings):\n",
    "    default_settings = {\n",
    "        'debug': True,\n",
    "        'log_level': 'INFO',\n",
    "        'host': 'localhost',\n",
    "        'port': 8080\n",
    "    }\n",
    "    default_settings.update(settings)\n",
    "    return default_settings\n",
    "\n",
    "# Przykłady użycia\n",
    "print(configure_app(debug=False, port=5000))\n",
    "\n",
    "print(configure_app())\n"
   ]
  },
  {
   "cell_type": "markdown",
   "metadata": {},
   "source": [
    "### Extra funkcjonalność, odpakowywanie `**`\n",
    "\n",
    "składnia `**` do rozpakowywania słowników pozwala na łączenie i aktualizowanie słowników w elegancki sposób."
   ]
  },
  {
   "cell_type": "code",
   "execution_count": 21,
   "metadata": {},
   "outputs": [
    {
     "name": "stdout",
     "output_type": "stream",
     "text": [
      "{'port': 8080, 'theme': 'light', 'notifications': False}\n"
     ]
    }
   ],
   "source": [
    "\n",
    "settings = {\"theme\": \"light\",\n",
    "            \"notifications\": False}\n",
    "my_dict = {**settings,\n",
    "           'theme': 'light'}\n",
    "print(my_dict)"
   ]
  },
  {
   "cell_type": "markdown",
   "metadata": {},
   "source": [
    "W tym przypadku `**settings` rozpakowuje zawartość słownika settings i wstawia jego klucze i wartości do nowego słownika `my_dict`.\n",
    "\n",
    "`{\"port\": 8080}` tworzy nowy słownik z jednym kluczem `'port'` i wartością `8080`.\n",
    "`**settings` rozpakowuje słownik `settings` i dodaje jego klucze i wartości do słownika `my_dict`.\n",
    "Wynikowy słownik `my_dict` łączy oba źródła danych. Klucze i wartości z settings są dodawane do słownika `{\"port\": 8080}`, tworząc jeden słownik z wszystkimi danymi."
   ]
  },
  {
   "cell_type": "code",
   "execution_count": 20,
   "metadata": {},
   "outputs": [
    {
     "name": "stdout",
     "output_type": "stream",
     "text": [
      "{'port': 8080, 'theme': 'dark', 'notifications': True}\n"
     ]
    }
   ],
   "source": [
    "# Nadpisywanie wartości\n",
    "settings = {\"theme\": \"dark\", \"notifications\": True}\n",
    "my_dict = {\"port\": 8080, \"theme\": \"light\", **settings}\n",
    "print(my_dict)\n"
   ]
  },
  {
   "cell_type": "markdown",
   "metadata": {},
   "source": [
    "W powyższym przykładzie, klucz `'theme'` w settings nadpisuje wartość `'light'` w `my_dict`.\n",
    "\n"
   ]
  },
  {
   "cell_type": "markdown",
   "metadata": {},
   "source": [
    "`*` można używać do rozpakowywania krotek (tupli) w kontekście tworzenia nowych krotek, co jest analogiczne do rozpakowywania list podczas tworzenia nowych list."
   ]
  },
  {
   "cell_type": "code",
   "execution_count": 22,
   "metadata": {},
   "outputs": [
    {
     "name": "stdout",
     "output_type": "stream",
     "text": [
      "(8080, 'light', True)\n"
     ]
    }
   ],
   "source": [
    "settings = (\"light\", True)\n",
    "my_tuple = (8080, *settings)\n",
    "print(my_tuple)\n"
   ]
  },
  {
   "cell_type": "code",
   "execution_count": 24,
   "metadata": {},
   "outputs": [
    {
     "name": "stdout",
     "output_type": "stream",
     "text": [
      "[8080, 'light', True]\n"
     ]
    }
   ],
   "source": [
    "settings = (\"light\", True)\n",
    "my_list = [8080, *settings]\n",
    "print(my_list)"
   ]
  },
  {
   "cell_type": "code",
   "execution_count": 13,
   "metadata": {},
   "outputs": [
    {
     "name": "stdout",
     "output_type": "stream",
     "text": [
      "['cherry', 'apple', 'banana', 'date']\n"
     ]
    }
   ],
   "source": [
    "x = [\"apple\", \"banana\"]\n",
    "y = [\"cherry\", *x, \"date\"]\n",
    "print(y)"
   ]
  },
  {
   "cell_type": "markdown",
   "metadata": {},
   "source": []
  }
 ],
 "metadata": {
  "kernelspec": {
   "display_name": "Python 3",
   "language": "python",
   "name": "python3"
  },
  "language_info": {
   "codemirror_mode": {
    "name": "ipython",
    "version": 3
   },
   "file_extension": ".py",
   "mimetype": "text/x-python",
   "name": "python",
   "nbconvert_exporter": "python",
   "pygments_lexer": "ipython3",
   "version": "3.10.14"
  }
 },
 "nbformat": 4,
 "nbformat_minor": 2
}
