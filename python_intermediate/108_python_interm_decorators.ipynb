{
 "cells": [
  {
   "cell_type": "markdown",
   "metadata": {},
   "source": [
    "# 108 Python intermediate - decorators\n",
    "_Kamil Bartocha_\n",
    "\n",
    "_wersja_ 0.0.1"
   ]
  },
  {
   "cell_type": "markdown",
   "metadata": {},
   "source": [
    "# Dekorator w Pythonie\n",
    "\n",
    "Dekorator w Pythonie to specjalny typ funkcji, który modyfikuje lub rozszerza funkcjonalność innej funkcji lub metody. Dekoratory są używane do dodawania dodatkowych funkcji lub zmieniania zachowania funkcji bez zmieniania jej kodu źródłowego.\n",
    "\n",
    "## Jak Działa Dekorator?\n",
    "\n",
    "1. **Definicja Dekoratora**:\n",
    "   - Dekorator jest funkcją, która przyjmuje funkcję jako argument i zwraca nową funkcję, która zazwyczaj wywołuje oryginalną funkcję z dodatkowymi modyfikacjami.\n",
    "\n",
    "2. **Stosowanie Dekoratora**:\n",
    "   - Dekorator jest stosowany do funkcji lub metody za pomocą znaku `@` przed nazwą dekoratora, zaraz nad definicją funkcji, którą chcemy udekorować\n",
    "\n",
    "## Zalety Dekoratorów\n",
    "\n",
    "- **Wielokrotne Użycie**: Pozwalają na wielokrotne użycie tego samego kodu dekoratora do różnych funkcji.\n",
    "- **Czyszczenie Kod**: Umożliwiają separację dodatkowych funkcjonalności (np. logowanie, sprawdzanie uprawnień) od logiki głównej funkcji.\n",
    "- **Rozszerzalność**: Umożliwiają łatwe dodawanie nowych funkcjonalności do istniejących funkcji.\n",
    "\n",
    "## Przykład Dekoratora\n",
    "\n",
    "Przykład dekoratora, który dodaje czas trwania wywołania funkcji:\n",
    "\n",
    "```python\n",
    "import time\n",
    "\n",
    "def timing_decorator(func):\n",
    "    def wrapper(*args, **kwargs):\n",
    "        start_time = time.time()\n",
    "        result = func(*args, **kwargs)\n",
    "        end_time = time.time()\n",
    "        print(f\"Czas wykonania: {end_time - start_time} sekundy\")\n",
    "        return result\n",
    "    return wrapper\n",
    "\n",
    "@timing_decorator\n",
    "def slow_function(seconds):\n",
    "    time.sleep(seconds)\n",
    "    return \"Gotowe!\"\n",
    "\n",
    "print(slow_function(2))\n",
    "```\n"
   ]
  },
  {
   "cell_type": "markdown",
   "metadata": {},
   "source": [
    "## Opis\n",
    "\n",
    "### Definicja Dekoratora `timing_decorator`\n",
    "\n",
    "- Funkcja `timing_decorator` przyjmuje funkcję `func` jako argument.\n",
    "- Definiuje wewnętrzną funkcję `wrapper`, która:\n",
    "  - Mierzy czas przed i po wywołaniu `func`.\n",
    "  - Oblicza czas wykonania.\n",
    "  - Wywołuje `func` i zwraca jej wynik.\n",
    "\n",
    "### Stosowanie Dekoratora\n",
    "\n",
    "- Dekorator jest stosowany do funkcji `slow_function` za pomocą `@timing_decorator` tuż przed jej definicją.\n",
    "- Oznacza to, że `slow_function` będzie teraz wywoływana przez `wrapper` z dodatkowymi funkcjonalnościami.\n",
    "\n",
    "### Wywołanie Funkcji\n",
    "\n",
    "- Wywołanie `slow_function(2)` wywołuje `wrapper`, który mierzy czas wykonania `slow_function` i wyświetla go."
   ]
  },
  {
   "cell_type": "code",
   "execution_count": 5,
   "metadata": {},
   "outputs": [
    {
     "name": "stdout",
     "output_type": "stream",
     "text": [
      "Czas wykonania: 2.004542827606201 sekundy\n",
      "Gotowe!\n"
     ]
    }
   ],
   "source": [
    "import time\n",
    "\n",
    "def timing_decorator(func):\n",
    "    def wrapper(*args, **kwargs):\n",
    "        start_time = time.time()\n",
    "        result = func(*args, **kwargs)\n",
    "        end_time = time.time()\n",
    "        print(f\"Czas wykonania: {end_time - start_time} sekundy\")\n",
    "        return result\n",
    "    return wrapper\n",
    "\n",
    "@timing_decorator\n",
    "def slow_function(seconds):\n",
    "    time.sleep(seconds)\n",
    "    return \"Gotowe!\"\n",
    "\n",
    "print(slow_function(2))"
   ]
  },
  {
   "cell_type": "markdown",
   "metadata": {},
   "source": [
    "### Przkłady:"
   ]
  },
  {
   "cell_type": "markdown",
   "metadata": {},
   "source": [
    "#### 1. Dekorator do Logowania\n",
    "\n",
    "Ten dekorator dodaje funkcjonalność logowania do każdej funkcji, rejestrując jej wywołania i argumenty."
   ]
  },
  {
   "cell_type": "code",
   "execution_count": 6,
   "metadata": {},
   "outputs": [
    {
     "name": "stdout",
     "output_type": "stream",
     "text": [
      "Wywołanie funkcji: add\n",
      "Argumenty: args=(3, 5), kwargs={}\n",
      "Wynik: 8\n"
     ]
    },
    {
     "data": {
      "text/plain": [
       "8"
      ]
     },
     "execution_count": 6,
     "metadata": {},
     "output_type": "execute_result"
    }
   ],
   "source": [
    "def log_decorator(func):\n",
    "    def wrapper(*args, **kwargs):\n",
    "        print(f\"Wywołanie funkcji: {func.__name__}\")\n",
    "        print(f\"Argumenty: args={args}, kwargs={kwargs}\")\n",
    "        result = func(*args, **kwargs)\n",
    "        print(f\"Wynik: {result}\")\n",
    "        return result\n",
    "    return wrapper\n",
    "\n",
    "@log_decorator\n",
    "def add(a, b):\n",
    "    return a + b\n",
    "\n",
    "add(3, 5)\n"
   ]
  },
  {
   "cell_type": "markdown",
   "metadata": {},
   "source": [
    "#### Definicja Dekoratora `log_decorator`\n",
    "\n",
    "- Funkcja `log_decorator` przyjmuje funkcję `func` jako argument.\n",
    "- Definiuje wewnętrzną funkcję `wrapper`, która:\n",
    "  - Loguje nazwę funkcji, argumenty oraz wynik.\n",
    "  - Następnie wywołuje `func` i zwraca jej wynik.\n",
    "- Wywołanie `add(3, 5)` spowoduje logowanie informacji o wywołaniu funkcji, jej argumentach i wyniku.\n"
   ]
  },
  {
   "cell_type": "markdown",
   "metadata": {},
   "source": [
    "#### 2. Dekorator do Sprawdzania Uprawnień\n",
    "\n",
    "Ten dekorator sprawdza, czy użytkownik ma odpowiednie uprawnienia do wykonania funkcji."
   ]
  },
  {
   "cell_type": "code",
   "execution_count": 14,
   "metadata": {},
   "outputs": [
    {
     "name": "stdout",
     "output_type": "stream",
     "text": [
      "Dane wrażliwe\n"
     ]
    },
    {
     "ename": "PermissionError",
     "evalue": "Brak wymaganych uprawnień.",
     "output_type": "error",
     "traceback": [
      "\u001b[0;31m---------------------------------------------------------------------------\u001b[0m",
      "\u001b[0;31mPermissionError\u001b[0m                           Traceback (most recent call last)",
      "Cell \u001b[0;32mIn[14], line 21\u001b[0m\n\u001b[1;32m     18\u001b[0m user_without_permission \u001b[38;5;241m=\u001b[39m {\u001b[38;5;124m'\u001b[39m\u001b[38;5;124mpermission\u001b[39m\u001b[38;5;124m'\u001b[39m: \u001b[38;5;241m1\u001b[39m}\n\u001b[1;32m     20\u001b[0m \u001b[38;5;28mprint\u001b[39m(view_sensitive_data(user_with_permission))\n\u001b[0;32m---> 21\u001b[0m \u001b[38;5;28mprint\u001b[39m(\u001b[43mview_sensitive_data\u001b[49m\u001b[43m(\u001b[49m\u001b[43muser_without_permission\u001b[49m\u001b[43m)\u001b[49m)  \u001b[38;5;66;03m# exception\u001b[39;00m\n",
      "Cell \u001b[0;32mIn[14], line 5\u001b[0m, in \u001b[0;36mrequire_permission.<locals>.decorator.<locals>.wrapper\u001b[0;34m(user, *args, **kwargs)\u001b[0m\n\u001b[1;32m      3\u001b[0m \u001b[38;5;28;01mdef\u001b[39;00m \u001b[38;5;21mwrapper\u001b[39m(user, \u001b[38;5;241m*\u001b[39margs, \u001b[38;5;241m*\u001b[39m\u001b[38;5;241m*\u001b[39mkwargs):\n\u001b[1;32m      4\u001b[0m     \u001b[38;5;28;01mif\u001b[39;00m user[\u001b[38;5;124m'\u001b[39m\u001b[38;5;124mpermission\u001b[39m\u001b[38;5;124m'\u001b[39m] \u001b[38;5;241m<\u001b[39m permission:\n\u001b[0;32m----> 5\u001b[0m         \u001b[38;5;28;01mraise\u001b[39;00m \u001b[38;5;167;01mPermissionError\u001b[39;00m(\u001b[38;5;124m\"\u001b[39m\u001b[38;5;124mBrak wymaganych uprawnień.\u001b[39m\u001b[38;5;124m\"\u001b[39m)\n\u001b[1;32m      6\u001b[0m     \u001b[38;5;28;01mreturn\u001b[39;00m func(user, \u001b[38;5;241m*\u001b[39margs, \u001b[38;5;241m*\u001b[39m\u001b[38;5;241m*\u001b[39mkwargs)\n",
      "\u001b[0;31mPermissionError\u001b[0m: Brak wymaganych uprawnień."
     ]
    }
   ],
   "source": [
    "def require_permission(permission):\n",
    "    # def decorator(func):\n",
    "    #     # def wrapper(user, *args, **kwargs):\n",
    "    #     #     if user['permission'] < permission:\n",
    "    #     #         raise PermissionError(\"Brak wymaganych uprawnień.\")\n",
    "    #     #     return func(user, *args, **kwargs)\n",
    "    #     return wrapper\n",
    "    return func\n",
    "\n",
    "@require_permission(2)\n",
    "def view_sensitive_data(user):\n",
    "    return \"Dane wrażliwe\"\n",
    "\n",
    "# Użytkownik z odpowiednimi uprawnieniami\n",
    "user_with_permission = {'permission': 3}\n",
    "\n",
    "# Użytkownik bez odpowiednich uprawnień\n",
    "user_without_permission = {'permission': 1}\n",
    "\n",
    "print(view_sensitive_data(user_with_permission))\n",
    "print(view_sensitive_data(user_without_permission))  # exception\n"
   ]
  },
  {
   "cell_type": "markdown",
   "metadata": {},
   "source": [
    "#### Definicja Dekoratora `require_permission`\n",
    "\n",
    "- Funkcja `require_permission` przyjmuje `permission` jako argument, który określa wymagane uprawnienia.\n",
    "- Funkcja `decorator` przyjmuje funkcję `func` jako argument.\n",
    "- Funkcja `wrapper`:\n",
    "  - Sprawdza uprawnienia użytkownika.\n",
    "  - Zgłasza wyjątek `PermissionError`, jeśli użytkownik nie ma odpowiednich uprawnień.\n",
    "  - W przeciwnym razie wywołuje `func`.\n",
    "\n",
    "#### Stosowanie Dekoratora\n",
    "\n",
    "- Dekorator jest stosowany do funkcji `view_sensitive_data` za pomocą `@require_permission(2)`.\n",
    "\n",
    "#### Wywołanie Funkcji\n",
    "\n",
    "- Wywołanie `view_sensitive_data(user_with_permission)` działa poprawnie.\n",
    "- Wywołanie `view_sensitive_data(user_without_permission)` zgłasza wyjątek.\n"
   ]
  },
  {
   "cell_type": "markdown",
   "metadata": {},
   "source": [
    "## Przkład 3. Dekorator do logowania ale używający loggera\n",
    "\n",
    "używamy modułu `logging` do rejestrowania informacji o wywołaniach funkcji, w tym nazw funkcji, argumentów i wyników, do pliku logów."
   ]
  },
  {
   "cell_type": "code",
   "execution_count": 15,
   "metadata": {},
   "outputs": [
    {
     "name": "stderr",
     "output_type": "stream",
     "text": [
      "/var/folders/hk/h8h2g0f12d5cbvcs33z7zvfr0000gn/T/ipykernel_26924/3431132200.py:14: DeprecationWarning: The 'warn' function is deprecated, use 'warning' instead\n",
      "  logging.warn(f\"Wynik: {result}\")\n"
     ]
    },
    {
     "data": {
      "text/plain": [
       "28"
      ]
     },
     "execution_count": 15,
     "metadata": {},
     "output_type": "execute_result"
    }
   ],
   "source": [
    "import logging\n",
    "\n",
    "logging.basicConfig(\n",
    "    filename='function_calls.log',\n",
    "    level=logging.INFO,\n",
    "    format='%(asctime)s - %(levelname)s - %(message)s'\n",
    ")\n",
    "\n",
    "def log_decorator(func):\n",
    "    def wrapper(*args, **kwargs):\n",
    "        logging.info(f\"Wywołanie funkcji: {func.__name__}\")\n",
    "        logging.info(f\"Argumenty: args={args}, kwargs={kwargs}\")\n",
    "        result = func(*args, **kwargs)\n",
    "        logging.warn(f\"Wynik: {result}\")\n",
    "        return result\n",
    "    return wrapper\n",
    "\n",
    "@log_decorator\n",
    "def add(a, b):\n",
    "    return a + b\n",
    "\n",
    "@log_decorator\n",
    "def multiply(a, b):\n",
    "    return a * b\n",
    "\n",
    "add(3, 5)\n",
    "multiply(4, 7)\n"
   ]
  },
  {
   "cell_type": "markdown",
   "metadata": {},
   "source": [
    "w wyniku działania powyżego dekoratora, moduł `logging` stworzy plik `function_calls.log` w którym znajdziemy wywołania udekorowanych funkcji.\n",
    "\n",
    "```log\n",
    "2024-09-08 16:49:22,623 - INFO - Wywołanie funkcji: add\n",
    "2024-09-08 16:49:22,623 - INFO - Argumenty: args=(3, 5), kwargs={}\n",
    "2024-09-08 16:49:22,623 - INFO - Wynik: 8\n",
    "2024-09-08 16:49:22,624 - INFO - Wywołanie funkcji: multiply\n",
    "2024-09-08 16:49:22,624 - INFO - Argumenty: args=(4, 7), kwargs={}\n",
    "2024-09-08 16:49:22,624 - INFO - Wynik: 28\n",
    "```"
   ]
  },
  {
   "cell_type": "markdown",
   "metadata": {},
   "source": [
    "## Dekorator do mierzenia zasobów"
   ]
  },
  {
   "cell_type": "code",
   "execution_count": 4,
   "metadata": {},
   "outputs": [],
   "source": [
    "import time\n",
    "import psutil\n",
    "import os\n",
    "\n",
    "\n",
    "def measure_resources(func):\n",
    "    def wrapper(*args, **kwargs):\n",
    "        start_time = time.time()\n",
    "        process = psutil.Process(os.getpid())\n",
    "        start_memory = process.memory_info().rss / (1024 * 1024)\n",
    "\n",
    "        result = func(*args, **kwargs)\n",
    "\n",
    "        end_time = time.time()\n",
    "        end_memory = process.memory_info().rss / (1024 * 1024)\n",
    "\n",
    "        time_taken = end_time - start_time\n",
    "        memory_used = end_memory - start_memory\n",
    "\n",
    "        print(f\"Time taken: {time_taken:.4f} seconds\")\n",
    "        print(f\"Memory used: {memory_used:.4f} MB\")\n",
    "\n",
    "        return result\n",
    "\n",
    "    return wrapper"
   ]
  },
  {
   "cell_type": "code",
   "execution_count": 17,
   "metadata": {},
   "outputs": [
    {
     "name": "stdout",
     "output_type": "stream",
     "text": [
      "Time taken: 0.0097 seconds\n",
      "Memory used: 0.2344 MB\n",
      "Time taken: 6.3518 seconds\n",
      "Memory used: 9.2188 MB\n"
     ]
    },
    {
     "data": {
      "text/plain": [
       "333333283333335000000"
      ]
     },
     "execution_count": 17,
     "metadata": {},
     "output_type": "execute_result"
    }
   ],
   "source": [
    "@measure_resources\n",
    "def example_function():\n",
    "    data = [i ** 2 for i in range(10**4)]\n",
    "    return sum(data)\n",
    "\n",
    "example_function()\n",
    "\n",
    "@measure_resources\n",
    "def example_function2():\n",
    "    data = [i ** 2 for i in range(10**7)]\n",
    "    return sum(data)\n",
    "\n",
    "example_function2()"
   ]
  },
  {
   "cell_type": "markdown",
   "metadata": {},
   "source": [
    "## Najpopularniejsze gotowe dekoratory w Pythonie\n",
    "\n",
    "### `@staticmethod`\n",
    "\n",
    "- **Opis**: Używany do oznaczania metod w klasie jako statycznych. Metody statyczne nie mają dostępu do instancji klasy ani do samej klasy. Mogą być wywoływane bez tworzenia instancji klasy.\n"
   ]
  },
  {
   "cell_type": "code",
   "execution_count": 10,
   "metadata": {},
   "outputs": [],
   "source": [
    "class Math:\n",
    "    @staticmethod\n",
    "    def add(a, b):\n",
    "        return a + b\n",
    "\n",
    "result = Math.add(3, 5)\n"
   ]
  },
  {
   "cell_type": "markdown",
   "metadata": {},
   "source": [
    "### `@classmethod`\n",
    "\n",
    "- **Opis**: Używany do oznaczania metod w klasie jako klasowych. Metody klasowe mają dostęp do klasy (ale nie do instancji) i mogą modyfikować stan klasy.\n"
   ]
  },
  {
   "cell_type": "code",
   "execution_count": 11,
   "metadata": {},
   "outputs": [
    {
     "name": "stdout",
     "output_type": "stream",
     "text": [
      "1\n"
     ]
    }
   ],
   "source": [
    "class Person:\n",
    "    count = 0\n",
    "\n",
    "    @classmethod\n",
    "    def increment_count(cls):\n",
    "        cls.count += 1\n",
    "\n",
    "Person.increment_count()\n",
    "print(Person.count)  # Output: 1\n"
   ]
  },
  {
   "cell_type": "markdown",
   "metadata": {},
   "source": [
    "### `@property`\n",
    "\n",
    "- **Opis**: Używany do definiowania metod, które mogą być dostępne jak atrybuty obiektów. Umożliwia utworzenie \"właściwości\" obiektu, która może mieć własne getter, setter i deleter.\n",
    "\n"
   ]
  },
  {
   "cell_type": "code",
   "execution_count": 19,
   "metadata": {},
   "outputs": [
    {
     "name": "stdout",
     "output_type": "stream",
     "text": [
      "5\n",
      "20\n"
     ]
    }
   ],
   "source": [
    "class Circle:\n",
    "    def __init__(self, radius):\n",
    "        self._radius = radius\n",
    "\n",
    "    @property\n",
    "    def radius(self):\n",
    "        return self._radius\n",
    "\n",
    "    @radius.setter\n",
    "    def radius(self, value):\n",
    "        if value < 0:\n",
    "            raise ValueError(\"Radius cannot be negative\")\n",
    "        self._radius = 2 * value\n",
    "\n",
    "    @radius.deleter\n",
    "    def radius(self):\n",
    "        del self._radius\n",
    "\n",
    "c = Circle(5)\n",
    "print(c.radius)\n",
    "c.radius = 10\n",
    "print(c.radius)\n",
    "\n"
   ]
  },
  {
   "cell_type": "markdown",
   "metadata": {},
   "source": [
    "### `@functools.lru_cache`\n",
    "\n",
    "- **Opis**: Używany do pamiętania wyników funkcji dla określonych argumentów, co może przyspieszyć działanie funkcji w przypadku wielokrotnego wywoływania z tymi samymi argumentami. Jest przykładem dekoratora używanego do optymalizacji.\n",
    "\n"
   ]
  },
  {
   "cell_type": "code",
   "execution_count": 21,
   "metadata": {},
   "outputs": [
    {
     "name": "stdout",
     "output_type": "stream",
     "text": [
      "832040\n"
     ]
    }
   ],
   "source": [
    "from functools import lru_cache\n",
    "\n",
    "@lru_cache(maxsize=None)\n",
    "def fibonacci(n):\n",
    "    if n < 2:\n",
    "        return n\n",
    "    return fibonacci(n - 1) + fibonacci(n - 2)\n",
    "\n",
    "print(fibonacci(30))\n"
   ]
  },
  {
   "cell_type": "markdown",
   "metadata": {},
   "source": [
    "### `@wraps`\n",
    "\n",
    "- **Opis**: Dekorator z modułu `functools`, który jest używany wewnętrznie w innych dekoratorach do zachowania informacji o oryginalnej funkcji, takich jak jej nazwa i docstring. Pomaga zachować metadane funkcji po jej udekorowaniu.\n",
    "\n"
   ]
  },
  {
   "cell_type": "code",
   "execution_count": 24,
   "metadata": {},
   "outputs": [
    {
     "name": "stdout",
     "output_type": "stream",
     "text": [
      "example\n",
      "This is an example function.\n"
     ]
    }
   ],
   "source": [
    "from functools import wraps\n",
    "\n",
    "def decorator(func):\n",
    "    @wraps(func)\n",
    "    def wrapper(*args, **kwargs):\n",
    "        return func(*args, **kwargs)\n",
    "    return wrapper\n",
    "\n",
    "@decorator\n",
    "def example():\n",
    "    \"\"\"This is an example function.\"\"\"\n",
    "    pass\n",
    "\n",
    "print(example.__name__)\n",
    "print(example.__doc__)\n"
   ]
  },
  {
   "cell_type": "markdown",
   "metadata": {},
   "source": [
    "### `@contextmanager`\n",
    "\n",
    "- **Opis**: Używany do tworzenia menedżerów kontekstowych, które są używane z instrukcją `with`. Pozwala na zdefiniowanie kodu, który jest wykonywany przed i po bloku `with`.\n",
    "\n"
   ]
  },
  {
   "cell_type": "code",
   "execution_count": null,
   "metadata": {},
   "outputs": [],
   "source": [
    "from contextlib import contextmanager\n",
    "\n",
    "@contextmanager\n",
    "def open_file(filename):\n",
    "    file = open(filename, 'w')\n",
    "    try:\n",
    "        yield file\n",
    "    finally:\n",
    "        file.close()\n",
    "\n",
    "with open_file('example.txt') as f:\n",
    "    f.write('Hello, world!')\n"
   ]
  },
  {
   "cell_type": "markdown",
   "metadata": {},
   "source": [
    "### `@login_required` (w Django)\n",
    "\n",
    "- **Opis**: Specyficzny dla frameworka Django, używany do wymuszania, aby użytkownik był zalogowany, aby uzyskać dostęp do widoku. W przypadku, gdy użytkownik nie jest zalogowany, zostanie przekierowany do strony logowania."
   ]
  },
  {
   "cell_type": "code",
   "execution_count": null,
   "metadata": {},
   "outputs": [],
   "source": [
    "from django.contrib.auth.decorators import login_required\n",
    "\n",
    "@login_required\n",
    "def my_view(request):\n",
    "    pass\n"
   ]
  },
  {
   "cell_type": "markdown",
   "metadata": {},
   "source": [
    "## Dekoratory są popularne w frameworkach pythona, umożliwiają wygodne i szybkie używanie dostępnych mechanizmów"
   ]
  },
  {
   "cell_type": "markdown",
   "metadata": {},
   "source": [
    "## Przykłady `pytest`"
   ]
  },
  {
   "cell_type": "markdown",
   "metadata": {},
   "source": [
    "### `@pytest.mark.parametrize`\n",
    "\n",
    "- **Opis**: Używany do parametryzowania testów, pozwala na uruchamianie tej samej funkcji testowej z różnymi zestawami danych. Ułatwia testowanie funkcji z wieloma zestawami wejściowymi i oczekiwanymi wynikami.\n",
    "\n",
    "### `@pytest.mark.skip`\n",
    "\n",
    "- **Opis**: Używany do pomijania testów. Testy oznaczone tym dekoratorem nie będą uruchamiane. Można dodać opcjonalny powód, dlaczego test został pominięty.\n",
    "\n",
    "### `@pytest.mark.skipif`\n",
    "\n",
    "- **Opis**: Używany do pomijania testów warunkowo, na podstawie podanego warunku. Jeśli warunek jest prawdziwy, test zostanie pominięty. Przydatne w sytuacjach, gdy testy powinny być pomijane tylko w określonych okolicznościach.\n",
    "\n",
    "### `@pytest.mark.xfail`\n",
    "\n",
    "- **Opis**: Oznacza, że test jest oczekiwany do niepowodzenia. Jeśli test zakończy się niepowodzeniem, `pytest` uzna go za pomyślnie zakończony, a test nie będzie traktowany jako błąd.\n",
    "\n",
    "### `@pytest.fixture`\n",
    "\n",
    "- **Opis**: Używany do definiowania funkcji, które mogą być używane do dostarczania danych lub obiektów dla testów. Funkcje oznaczone tym dekoratorem mogą być wykorzystywane do konfiguracji i czyszczenia zasobów przed i po testach.\n"
   ]
  },
  {
   "cell_type": "code",
   "execution_count": null,
   "metadata": {},
   "outputs": [],
   "source": [
    "import pytest\n",
    "\n",
    "@pytest.fixture\n",
    "def sample_data():\n",
    "    data = {\"name\": \"Alice\", \"age\": 31}\n",
    "    return data\n",
    "\n",
    "def test_sample_data_name(sample_data):\n",
    "    assert sample_data[\"name\"] == \"Alice\"\n",
    "\n",
    "def test_sample_data_age(sample_data):\n",
    "    assert sample_data[\"age\"] == 30\n"
   ]
  },
  {
   "cell_type": "markdown",
   "metadata": {},
   "source": [
    "Inne użycia:\n",
    "\n",
    "### `@tf.function` (TensorFlow)\n",
    "\n",
    "- **Opis**: Używany do konwersji funkcji Pythona na funkcję wykonaną w trybie TensorFlow, co pozwala na optymalizację i przyspieszenie obliczeń. Pomaga w kompilacji kodu do grafu TensorFlow, co może poprawić wydajność obliczeń.\n",
    "- **Zastosowanie**: Optymalizacja wydajności obliczeń w modelach TensorFlow.\n",
    "\n",
    "### `@tf.keras.utils.register_keras_serializable` (TensorFlow)\n",
    "\n",
    "- **Opis**: Używany do rejestrowania niestandardowych klas, które mogą być zapisane i załadowane przy użyciu API Keras. Ułatwia pracę z niestandardowymi warstwami i modelami.\n",
    "- **Zastosowanie**: Serializacja i deserializacja niestandardowych komponentów w TensorFlow.\n",
    "\n",
    "### `@torch.no_grad` (PyTorch)\n",
    "\n",
    "- **Opis**: Używany do wyłączenia obliczania gradientów dla operacji w kontekście, w którym jest stosowany. Pomaga w oszczędzaniu pamięci i przyspieszaniu obliczeń podczas ewaluacji modeli.\n",
    "- **Zastosowanie**: Optymalizacja obliczeń podczas ewaluacji modeli w PyTorch, gdzie gradienty nie są potrzebne.\n",
    "\n",
    "### `@torch.jit.script` (PyTorch)\n",
    "\n",
    "- **Opis**: Używany do konwersji funkcji Pythona na formę skompilowaną przez TorchScript, co może zwiększyć wydajność oraz umożliwić eksport modeli do produkcji.\n",
    "- **Zastosowanie**: Optymalizacja i eksport modeli w PyTorch.\n",
    "\n",
    "### `@sklearn.utils.estimator_checks.parametrize_with_checks` (Scikit-Learn)\n",
    "\n",
    "- **Opis**: Używany do parametryzowania testów w celu sprawdzenia poprawności implementacji estymatorów w Scikit-Learn. Pomaga w walidacji poprawności kodu.\n",
    "- **Zastosowanie**: Testowanie i weryfikacja estymatorów w bibliotekach ML, takich jak Scikit-Learn.\n"
   ]
  },
  {
   "cell_type": "markdown",
   "metadata": {},
   "source": [
    "## Dekoratory `@staticmethod` i `@classmethod` w Pythonie\n",
    "\n",
    "### `@staticmethod`\n",
    "\n",
    "- **Opis**: Dekorator `@staticmethod` oznacza metodę jako statyczną, co oznacza, że nie jest związana z instancją klasy ani z klasą jako taką. Metoda statyczna nie przyjmuje jako pierwszego argumentu `self` ani `cls`, co oznacza, że nie ma dostępu do atrybutów instancji ani klasy.\n",
    "\n",
    "- **Zastosowanie**: Używa się go do definiowania metod, które są niezależne od stanu instancji lub klasy. Mogą być wywoływane na poziomie klasy lub instancji, ale nie mogą modyfikować stanu obiektu ani klasy.\n",
    "\n",
    "- **Przykład**:\n",
    "  ```python\n",
    "  class MathUtils:\n",
    "      @staticmethod\n",
    "      def add(x, y):\n",
    "          return x + y\n",
    "\n",
    "  result = MathUtils.add(5, 3)\n",
    "  print(result)  # Output: 8\n",
    "  ```\n",
    "\n",
    "W powyższym przykładzie metoda `add` jest statyczną metodą, która nie wymaga dostępu do atrybutów klasy ani instancji. Może być wywoływana bez tworzenia instancji klasy ``."
   ]
  },
  {
   "cell_type": "code",
   "execution_count": 16,
   "metadata": {},
   "outputs": [
    {
     "name": "stdout",
     "output_type": "stream",
     "text": [
      "Wynik dodawania: 8\n",
      "Wynik mnożenia: 28\n"
     ]
    }
   ],
   "source": [
    "class MathUtils:\n",
    "    @staticmethod\n",
    "    def add(x, y):\n",
    "        return x + y\n",
    "\n",
    "    @staticmethod\n",
    "    def multiply(x, y):\n",
    "        return x * y\n",
    "\n",
    "\n",
    "# Wywołanie metod statycznych bez potrzeby tworzenia instancji klasy\n",
    "result_add = MathUtils.add(5, 3)\n",
    "result_multiply = MathUtils.multiply(4, 7)\n",
    "\n",
    "print(f\"Wynik dodawania: {result_add}\")\n",
    "print(f\"Wynik mnożenia: {result_multiply}\")\n"
   ]
  },
  {
   "cell_type": "code",
   "execution_count": 21,
   "metadata": {},
   "outputs": [
    {
     "name": "stdout",
     "output_type": "stream",
     "text": [
      "Saldo początkowe: 1000\n",
      "Saldo po zastosowaniu odsetek: 1050.0\n"
     ]
    }
   ],
   "source": [
    "class BankAccount:\n",
    "    interest_rate = 0.05\n",
    "\n",
    "    def __init__(self, balance):\n",
    "        self.balance = balance\n",
    "\n",
    "    @staticmethod\n",
    "    def calculate_interest(amount):\n",
    "        \"\"\"Oblicza odsetki dla danej kwoty.\"\"\"\n",
    "        return amount * BankAccount.interest_rate  # Niewłaściwe: odwołanie do atrybutu klasy w metodzie statycznej\n",
    "\n",
    "    def apply_interest(self):\n",
    "        \"\"\"Stosuje odsetki do salda konta.\"\"\"\n",
    "        self.balance += BankAccount.calculate_interest(self.balance)  # Niewłaściwe: odwołanie do metody statycznej\n",
    "\n",
    "\n",
    "account = BankAccount(1000)\n",
    "print(f\"Saldo początkowe: {account.balance}\")\n",
    "\n",
    "account.apply_interest()\n",
    "print(f\"Saldo po zastosowaniu odsetek: {account.balance}\")\n"
   ]
  },
  {
   "cell_type": "markdown",
   "metadata": {},
   "source": [
    "Bez Błędów Interpretera: Python nie wymusza, aby metoda statyczna była całkowicie niezależna od atrybutów klasy. Kod działa, ponieważ odwołanie się do atrybutu klasy przez nazwę klasy jest poprawne składniowo.\n",
    "\n",
    "Niemniej poprawna implementacja, powinna użyć `@classmethod` z `cls`"
   ]
  },
  {
   "cell_type": "code",
   "execution_count": null,
   "metadata": {},
   "outputs": [],
   "source": [
    "class BankAccount:\n",
    "    interest_rate = 0.05\n",
    "\n",
    "    def __init__(self, balance):\n",
    "        self.balance = balance  # Atrybut instancji\n",
    "\n",
    "    @classmethod\n",
    "    def calculate_interest(cls, amount):\n",
    "        \"\"\"Oblicza odsetki dla danej kwoty.\"\"\"\n",
    "        return amount * cls.interest_rate  # Poprawne: odwołanie do atrybutu klasy za pomocą cls\n",
    "\n",
    "    def apply_interest(self):\n",
    "        \"\"\"Stosuje odsetki do salda konta.\"\"\"\n",
    "        self.balance += BankAccount.calculate_interest(self.balance)  # Poprawne: wywołanie metody klasowej\n",
    "\n",
    "if __name__ == \"__main__\":\n",
    "    account = BankAccount(1000)\n",
    "    print(f\"Saldo początkowe: {account.balance}\")\n",
    "\n",
    "    account.apply_interest()\n",
    "    print(f\"Saldo po zastosowaniu odsetek: {account.balance}\")\n"
   ]
  },
  {
   "cell_type": "markdown",
   "metadata": {},
   "source": [
    "### `@classmethod`\n",
    "\n",
    "- **Opis**: Dekorator `@classmethod` oznacza metodę jako metodę klasową, co oznacza, że jest związana z klasą, a nie z jej instancjami. Metoda klasowa przyjmuje jako pierwszy argument `cls`, który odnosi się do samej klasy i pozwala na dostęp do atrybutów klasy i metod klasowych.\n",
    "\n",
    "- **Zastosowanie**: Używa się go do definiowania metod, które muszą operować na klasie jako całości, a nie na poszczególnych instancjach. Metody klasowe mogą być używane do tworzenia instancji klasy, dostępu do atrybutów klasy i innych operacji, które dotyczą klasy jako całości.\n",
    "\n",
    "- **Przykład**:\n",
    "  ```python\n",
    "    class Person:\n",
    "        population = 0\n",
    "\n",
    "        def __init__(self, name):\n",
    "            self.name = name\n",
    "            Person.population += 1\n",
    "\n",
    "        @classmethod\n",
    "        def get_population(cls):\n",
    "            return cls.population\n",
    "\n",
    "    person1 = Person(\"Alice\")\n",
    "    person2 = Person(\"Bob\")\n",
    "\n",
    "    print(Person.get_population())  # Output: 2\n",
    "  ```\n",
    "\n",
    "W powyższym przykładzie metoda `get_population` jest metodą klasową, która przyjmuje cls jako pierwszy argument i pozwala na dostęp do atrybutu klasy population. Może być wywoływana bez tworzenia instancji klasy `Person`, ale działa na poziomie klasy i jej atrybutów."
   ]
  },
  {
   "cell_type": "markdown",
   "metadata": {},
   "source": [
    "# Ćwiczenia"
   ]
  },
  {
   "cell_type": "markdown",
   "metadata": {},
   "source": [
    "### Ćwiczenie 1: Dekorator Wypisujący start\n",
    "Zadanie: Napisz dekorator, który wypisuje \"start\" przed wywołaniem funkcji.\n",
    "\n",
    "```python\n",
    "@greeting_decorator\n",
    "def say_hello(name):\n",
    "    return f\"Hello, {name}!\"\n",
    "\n",
    "\n",
    "print(say_hello(\"Alice\"))\n",
    "```\n",
    "\n",
    "powinno wypisać:\n",
    "\n",
    "```bash\n",
    "\"Start!\n",
    "Hello, Alice!\"\n",
    "```"
   ]
  },
  {
   "cell_type": "markdown",
   "metadata": {},
   "source": [
    "### Ćwiczenie 2: Dekorator Wypisujący Typ Argumentu\n",
    "Zadanie: Napisz dekorator, który wypisuje typ każdego argumentu przed wywołaniem funkcji.\n",
    "\n",
    "```python\n",
    "@type_decorator\n",
    "def echo(value):\n",
    "    return value\n",
    "\n",
    "# Testowanie dekoratora\n",
    "print(echo(\"Hello\"))  # Powinno wypisać \"Typ argumentu: str\" i \"Hello\"\n",
    "print(echo(10))       # Powinno wypisać \"Typ argumentu: int\" i \"10\"\n",
    "```\n",
    "\n",
    "Wskazówka: typ argumentu: `type(arg)`\n",
    "\n",
    "```python\n",
    "def d(*args):\n",
    "    for a in args:\n",
    "        print(type(a))\n",
    "\n",
    "d(\"x\", 2)\n",
    "```"
   ]
  },
  {
   "cell_type": "markdown",
   "metadata": {},
   "source": [
    "### Ćwiczenie 3: Dekorator Mierzący Czas Wykonania Funkcji\n",
    "Zadanie: Napisz dekorator, który mierzy czas wykonania funkcji i wypisuje go na ekranie.\n",
    "\n",
    "```python\n",
    "@time_decorator\n",
    "def long_running_function(n):\n",
    "    time.sleep(n)\n",
    "    return \"Gotowe!\"\n",
    "\n",
    "print(long_running_function(2))\n",
    "\n",
    "```\n",
    "\n",
    "Wskzówka: `time.time()` zwróci aktualny czas\n"
   ]
  },
  {
   "cell_type": "markdown",
   "metadata": {},
   "source": [
    "## Dekorator klasy w Pythonie\n",
    "\n",
    "Dekorator klasy to funkcja, która przyjmuje klasę jako argument i zwraca zmodyfikowaną wersję tej klasy lub nową klasę. Działa podobnie jak dekorator funkcji, z tą różnicą, że dekoruje całą klasę, a nie pojedyncze funkcje.\n",
    "\n",
    "#### Schemat działania dekoratora klasy:\n",
    "1. **Przyjęcie klasy jako argumentu**: Dekorator przyjmuje definicję klasy jako argument.\n",
    "\n",
    "2. **Modyfikacja klasy**: Dekorator może zmieniać istniejące metody, dodawać nowe atrybuty lub modyfikować inne aspekty klasy.\n",
    "\n",
    "3. **Zwrócenie zmodyfikowanej klasy**: Po wprowadzeniu zmian dekorator zwraca oryginalną lub zmodyfikowaną wersję klasy.\n",
    "\n",
    "#### Zastosowanie dekoratorów klas:\n",
    "- **Logowanie**: Możliwość dodania mechanizmów logowania do wszystkich metod klasy.\n",
    "\n",
    "- **Walidacja**: Automatyczne sprawdzanie poprawności danych dla instancji klasy.\n",
    "\n",
    "- **Modyfikacja atrybutów**: Dodawanie nowych atrybutów do klas lub modyfikacja istniejących.\n",
    "\n",
    "#### Zalety dekoratorów klas:\n",
    "- **Reusable Code**: Dekoratory klas pozwalają na wielokrotne wykorzystanie tej samej logiki w różnych klasach.\n",
    "\n",
    "- **Separation of Concerns**: Logika rozszerzająca klasę jest odseparowana od jej definicji, co prowadzi do bardziej przejrzystego i zrozumiałego kodu.\n"
   ]
  },
  {
   "cell_type": "code",
   "execution_count": 25,
   "metadata": {},
   "outputs": [
    {
     "name": "stdout",
     "output_type": "stream",
     "text": [
      "To jest oryginalna metoda.\n",
      "To jest nowa metoda dodana przez dekorator.\n"
     ]
    }
   ],
   "source": [
    "def add_method_decorator(cls):\n",
    "    \"\"\"Dekorator dodający nową metodę do klasy.\"\"\"\n",
    "\n",
    "    def new_method(self):\n",
    "        return \"To jest nowa metoda dodana przez dekorator.\"\n",
    "\n",
    "    cls.new_method = new_method\n",
    "    return cls\n",
    "\n",
    "\n",
    "@add_method_decorator\n",
    "class MyClass:\n",
    "    def existing_method(self):\n",
    "        return \"To jest oryginalna metoda.\"\n",
    "\n",
    "obj = MyClass()\n",
    "\n",
    "\n",
    "print(obj.existing_method())\n",
    "\n",
    "print(obj.new_method())\n"
   ]
  },
  {
   "cell_type": "code",
   "execution_count": 27,
   "metadata": {},
   "outputs": [
    {
     "name": "stdout",
     "output_type": "stream",
     "text": [
      "Nowa metoda dodana przez dekorator!\n"
     ]
    }
   ],
   "source": [
    "def class_decorator(cls):\n",
    "    \"\"\"Dekorator, który dodaje metodę do klasy.\"\"\"\n",
    "    cls.existing_method = lambda self: print(\"Nowa metoda dodana przez dekorator!\")\n",
    "    return cls\n",
    "\n",
    "@class_decorator\n",
    "class MyClass:\n",
    "    def existing_method(self):\n",
    "        print(\"Oryginalna metoda w klasie.\")\n",
    "\n",
    "obj = MyClass()\n",
    "\n",
    "obj.existing_method()\n",
    "\n",
    "# obj.new_method()\n"
   ]
  },
  {
   "cell_type": "markdown",
   "metadata": {},
   "source": [
    "### Przykłady"
   ]
  },
  {
   "cell_type": "markdown",
   "metadata": {},
   "source": [
    "\n",
    "- `cls.new_method`:\n",
    "    - `cls` to referencja do klasy, którą dekorujemy. W dekoratorze klas `cls` jest parametrem, który odnosi się do klasy przekazywanej do dekoratora.\n",
    "    - `new_method` to nazwa nowo dodanej metody. Jeśli ta nazwa nie istniała wcześniej, zostanie utworzona. Jeśli już istniała, zostanie nadpisana.\n",
    "\n",
    "- `lambda self: print(\"Nowa metoda dodana przez dekorator!\")`:\n",
    "\n",
    "    - `lambda` to wyrażenie lambda, czyli krótkie funkcje anonimowe w Pythonie. Tutaj pełni rolę funkcji/metody, która przyjmuje jeden argument — `self`, co jest wymagane w każdej metodzie instancyjnej w Pythonie, aby odnosić się do konkretnej instancji obiektu.\n",
    "\n",
    "    - `print(\"Nowa metoda dodana przez dekorator!\")`: Ta część kodu jest wykonana, kiedy metoda zostanie wywołana"
   ]
  },
  {
   "cell_type": "markdown",
   "metadata": {},
   "source": [
    "### Przykłady"
   ]
  },
  {
   "cell_type": "code",
   "execution_count": 28,
   "metadata": {},
   "outputs": [
    {
     "name": "stdout",
     "output_type": "stream",
     "text": [
      "Dodany atrybut klasowy\n"
     ]
    }
   ],
   "source": [
    "def add_class_attribute(cls):\n",
    "    \"\"\"Dekorator, który dodaje nowy atrybut klasowy.\"\"\"\n",
    "    cls.new_class_attr = \"Dodany atrybut klasowy\"\n",
    "    return cls\n",
    "\n",
    "@add_class_attribute\n",
    "class MyClass:\n",
    "    pass\n",
    "\n",
    "\n",
    "print(MyClass.new_class_attr)  # Dodany atrybut klasowy\n"
   ]
  },
  {
   "cell_type": "markdown",
   "metadata": {},
   "source": [
    "`self`: Używane w metodach instancyjnych. Odnosi się do konkretnej instancji klasy i pozwala na dostęp do atrybutów oraz metod instancji.\n",
    "\n",
    "`cls`: Używane w metodach klasowych. Odnosi się do samej klasy, umożliwiając dostęp do atrybutów i metod klasowych."
   ]
  },
  {
   "cell_type": "code",
   "execution_count": 29,
   "metadata": {},
   "outputs": [
    {
     "name": "stdout",
     "output_type": "stream",
     "text": [
      "Person(name='Jan', age=30, city='Warszawa')\n",
      "True\n"
     ]
    }
   ],
   "source": [
    "from dataclasses import dataclass\n",
    "\n",
    "@dataclass\n",
    "class Person:\n",
    "    name: str\n",
    "    age: int\n",
    "    city: str\n",
    "\n",
    "person = Person(name=\"Jan\", age=30, city=\"Warszawa\")\n",
    "\n",
    "print(person)\n",
    "\n",
    "# Automatycznie generowany __repr__ zwróci czytelny format:\n",
    "# Person(name='Jan', age=30, city='Warszawa')\n",
    "\n",
    "# Możemy też porównywać obiekty\n",
    "person2 = Person(name=\"Jan\", age=30, city=\"Warszawa\")\n",
    "print(person == person2)  # True, ponieważ wartości są takie same\n"
   ]
  }
 ],
 "metadata": {
  "kernelspec": {
   "display_name": "Python 3",
   "language": "python",
   "name": "python3"
  },
  "language_info": {
   "codemirror_mode": {
    "name": "ipython",
    "version": 3
   },
   "file_extension": ".py",
   "mimetype": "text/x-python",
   "name": "python",
   "nbconvert_exporter": "python",
   "pygments_lexer": "ipython3",
   "version": "3.10.6"
  }
 },
 "nbformat": 4,
 "nbformat_minor": 2
}
