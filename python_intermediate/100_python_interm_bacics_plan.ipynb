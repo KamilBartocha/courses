{
 "cells": [
  {
   "attachments": {},
   "cell_type": "markdown",
   "metadata": {
    "slideshow": {
     "slide_type": "slide"
    }
   },
   "source": [
    "# 100 Python intermediate - powtórka podstaw, plan\n",
    "_Kamil Bartocha_\n",
    "\n",
    "_wersja_ 0.0.1"
   ]
  },
  {
   "attachments": {},
   "cell_type": "markdown",
   "metadata": {
    "slideshow": {
     "slide_type": "slide"
    }
   },
   "source": [
    "### Agenda\n",
    "```\n",
    "\n",
    "100. Powtórzenie python podstawy\n",
    "101. Programowanie obiektowe - zaawansowane\n",
    "102. Lambda, map i filter, list comp\n",
    "103. Argumenty *args i **kwargs\n",
    "104. Wirtualne środowiska\n",
    "105. Tworzenie własnych modułów\n",
    "106. JSON\n",
    "107. Przechwytywanie i obsługa wyjątków\n",
    "108. Dekoratory\n",
    "109. Menadżer kontekstu\n",
    "```\n",
    "\n",
    "### Rozkład jazdy:\n",
    "```\n",
    "08:00 - 09:45 py 1\n",
    "  9:45 - 10:00 break 15 min\n",
    "10:00 - 11:45 py 2\n",
    "  11:45  - 12:15 break 30 min (obiad)\n",
    "12:15 - 14:00 py 3\n",
    "  14:00 - 14:15 break 15 min\n",
    "14:15 - 16:00 py 4\n",
    "```\n",
    "\n",
    "### Linki:\n",
    "- https://pastecode.io/\n"
   ]
  },
  {
   "cell_type": "markdown",
   "metadata": {},
   "source": [
    "## Podstawowe operacje arytmetyczne"
   ]
  },
  {
   "cell_type": "code",
   "execution_count": 89,
   "metadata": {},
   "outputs": [],
   "source": [
    "x = 2\n",
    "y = 3"
   ]
  },
  {
   "cell_type": "code",
   "execution_count": 90,
   "metadata": {},
   "outputs": [
    {
     "name": "stdout",
     "output_type": "stream",
     "text": [
      "5\n",
      "6\n",
      "1.6666666666666667\n",
      "125\n",
      "1\n"
     ]
    }
   ],
   "source": [
    "print(2 + 3)\n",
    "print(2 * 3)\n",
    "print(5 / 3)\n",
    "print(5 ** 3)\n",
    "print(5 // 3)"
   ]
  },
  {
   "cell_type": "markdown",
   "metadata": {},
   "source": [
    "#### Czytelność danych wyjściowych. Możemy użyć specjalnych znaków aby edytować to jak zostaną wyświetlane dane:\n",
    "\n",
    "* `\\n` - nowa linia\n",
    "* `\\t` - wcięcie(tabulacja)"
   ]
  },
  {
   "cell_type": "code",
   "execution_count": 91,
   "metadata": {},
   "outputs": [
    {
     "name": "stdout",
     "output_type": "stream",
     "text": [
      "pierwsza linia \n",
      "\tnowa linia po tabulacji\n",
      "\tnowa linia po tabulacji\n"
     ]
    }
   ],
   "source": [
    "print(\"pierwsza linia \\n\\tnowa linia po tabulacji\\n\\tnowa linia po tabulacji\")"
   ]
  },
  {
   "cell_type": "markdown",
   "metadata": {},
   "source": [
    "### Indeksowanie łańcuchów, slicing, len"
   ]
  },
  {
   "cell_type": "code",
   "execution_count": 112,
   "metadata": {},
   "outputs": [
    {
     "name": "stdout",
     "output_type": "stream",
     "text": [
      "P\n",
      "P\n",
      "y\n",
      "n\n",
      "\n",
      "\n",
      "n\n",
      "o\n",
      "P\n",
      "\n",
      "\n",
      "Py\n",
      "\n",
      "\n",
      "6\n"
     ]
    }
   ],
   "source": [
    "word = 'Python'\n",
    "#       P   y  t  h  o  n\n",
    "#       0   1  2  3  4  5  6\n",
    "idx_0 = word[0]\n",
    "print(idx_0)\n",
    "print(word[0])\n",
    "print(word[1])\n",
    "print(word[5])\n",
    "\n",
    "print('\\n')\n",
    "#       P   y  t  h  o  n\n",
    "#\n",
    "#       0   1  2  3  4  5\n",
    "#       -6 -5 -4 -3 -2 -1\n",
    "print(word[-1])\n",
    "print(word[-2])\n",
    "print(word[-6])\n",
    "\n",
    "print('\\n')\n",
    "print(word[0:2])  # znaki od pozycji 0 (dołączone) do 2 (wyłączone)\n",
    "\n",
    "print('\\n')\n",
    "print(len(word))\n"
   ]
  },
  {
   "cell_type": "markdown",
   "metadata": {},
   "source": [
    "### Dane wejściowe"
   ]
  },
  {
   "cell_type": "code",
   "execution_count": 1,
   "metadata": {},
   "outputs": [
    {
     "name": "stdout",
     "output_type": "stream",
     "text": [
      "3\n",
      "4\n"
     ]
    }
   ],
   "source": [
    "lata = input()\n",
    "oprocentowanie = input(\"Wprowadź oprocentowanie: \")\n",
    "\n",
    "print(lata)\n",
    "print(oprocentowanie)"
   ]
  },
  {
   "cell_type": "markdown",
   "metadata": {},
   "source": [
    "### Typy złożone"
   ]
  },
  {
   "cell_type": "code",
   "execution_count": 94,
   "metadata": {},
   "outputs": [
    {
     "name": "stdout",
     "output_type": "stream",
     "text": [
      "[1, 4, 9, 16, 25]\n",
      "[1, 4]\n",
      "25\n",
      "[9, 16, 25]\n",
      "[1, 4, 9, 16, 25, 36]\n",
      "6\n"
     ]
    }
   ],
   "source": [
    "# lista\n",
    "squares = [1, 4, 9, 16, 25]\n",
    "print(squares)\n",
    "\n",
    "print(squares[0:2])  # indeksowanie zwraca element\n",
    "print(squares[-1])\n",
    "print(squares[-3:])  # krojenie zwraca nową listę\n",
    "\n",
    "squares.append(36)\n",
    "print(squares)\n",
    "print(len(squares))\n",
    "\n"
   ]
  },
  {
   "cell_type": "code",
   "execution_count": 95,
   "metadata": {},
   "outputs": [
    {
     "name": "stdout",
     "output_type": "stream",
     "text": [
      "{'ala': 'kot', 'ola': 1, 'brainer': True}\n",
      "<class 'dict'>\n",
      "dict_items([('ala', 'kot'), ('ola', 1), ('brainer', True)])\n",
      "{'ala': 'kot', 'ola': 1, 'brainer': True, 'Jit': 'Team'}\n"
     ]
    }
   ],
   "source": [
    "# słownik\n",
    "\n",
    "slownik =  {\"ala\": \"kot\", \"ola\": 1, \"brainer\": True}\n",
    "print(slownik)\n",
    "print(type(slownik))\n",
    "print(slownik.items())\n",
    "slownik[\"Jit\"] = \"Team\"\n",
    "print(slownik)\n"
   ]
  },
  {
   "cell_type": "code",
   "execution_count": 96,
   "metadata": {},
   "outputs": [
    {
     "name": "stdout",
     "output_type": "stream",
     "text": [
      "<class 'set'>\n",
      "{'ala', 2.89, 'kot', 1}\n",
      "False\n",
      "{3, 4, 5, 8}\n",
      "{1, 2}\n",
      "{3, 4, 5}\n",
      "{1, 2, 3, 4, 5, 8}\n"
     ]
    }
   ],
   "source": [
    "# set - zbiór\n",
    "zbior = {\"ala\", \"kot\", 1, 2.89, 1}\n",
    "print(type(zbior))\n",
    "print(zbior)\n",
    "\n",
    "print(2 in zbior)\n",
    "\n",
    "zb = {1, 2, 3 ,4, 3, 5}\n",
    "zb2 = {1, 2, 8}\n",
    "\n",
    "print(zb ^ zb2)\n",
    "print(zb & zb2)\n",
    "print(zb - zb2)\n",
    "print(zb | zb2)"
   ]
  },
  {
   "cell_type": "code",
   "execution_count": 97,
   "metadata": {},
   "outputs": [
    {
     "name": "stdout",
     "output_type": "stream",
     "text": [
      "(1, 2, 3, 4, 5, 5)\n",
      "<class 'tuple'>\n"
     ]
    }
   ],
   "source": [
    "# touple - krotka\n",
    "\n",
    "krotka = (1, 2, 3, 4, 5, 5)\n",
    "print(krotka)\n",
    "print(type(krotka))"
   ]
  },
  {
   "cell_type": "markdown",
   "metadata": {},
   "source": [
    "### Sposoby wyświetlania danych, tekst + zmienne w print()"
   ]
  },
  {
   "cell_type": "code",
   "execution_count": 98,
   "metadata": {},
   "outputs": [
    {
     "name": "stdout",
     "output_type": "stream",
     "text": [
      "Masz 20 lat.\n",
      "Masz 20 lat.\n",
      "Masz 20 lat\n"
     ]
    }
   ],
   "source": [
    "age = 20\n",
    "\"\"\" Text to print: Masz <age> lat.\"\"\"\n",
    "\n",
    "print(\"Masz \" + str(age) + \" lat.\")    # konkatenacja ze zmianą typu\n",
    "print(\"Masz {} lat.\".format(age))      # .format()\n",
    "print(f\"Masz {age} lat\")              # f string"
   ]
  },
  {
   "cell_type": "markdown",
   "metadata": {},
   "source": [
    "### Instrukcje warunkowe"
   ]
  },
  {
   "cell_type": "code",
   "execution_count": 99,
   "metadata": {},
   "outputs": [
    {
     "name": "stdout",
     "output_type": "stream",
     "text": [
      "2\n",
      "Can't start driving course\n",
      "passed\n"
     ]
    }
   ],
   "source": [
    "punkty = 40\n",
    "\n",
    "if punkty >= 90:\n",
    "    ocena = '5'\n",
    "elif punkty >= 75:\n",
    "    ocena = '4'\n",
    "elif punkty >= 50:\n",
    "    ocena = '3'\n",
    "else:\n",
    "    ocena = '2'\n",
    "\n",
    "print(ocena)\n",
    "\n",
    "is_healthy = False\n",
    "age = 20\n",
    "\n",
    "if age >= 18 and is_healthy:\n",
    "    print(\"Can start driving course\")\n",
    "\n",
    "if age >= 18 or is_healthy:\n",
    "    print(\"Can't start driving course\")\n",
    "\n",
    "punkty = 60\n",
    "x = 3 if punkty >= 60 else print(\"not passed\")"
   ]
  },
  {
   "cell_type": "markdown",
   "metadata": {},
   "source": [
    "### Pętle"
   ]
  },
  {
   "cell_type": "code",
   "execution_count": 100,
   "metadata": {},
   "outputs": [
    {
     "name": "stdout",
     "output_type": "stream",
     "text": [
      "litera: P\n",
      "litera: y\n",
      "litera: t\n",
      "litera: h\n",
      "litera: o\n",
      "litera: n\n",
      "koniec\n"
     ]
    }
   ],
   "source": [
    "string = 'Python'\n",
    "for li in string:\n",
    "    print('litera:', li)\n",
    "print(\"koniec\")"
   ]
  },
  {
   "cell_type": "code",
   "execution_count": 101,
   "metadata": {},
   "outputs": [
    {
     "name": "stdout",
     "output_type": "stream",
     "text": [
      "zewnatrz 1\n",
      "wewnątrz: 4\n",
      "wewnątrz: 5\n",
      "wewnątrz: 6\n",
      "zewnatrz 2\n",
      "wewnątrz: 4\n",
      "wewnątrz: 5\n",
      "wewnątrz: 6\n",
      "zewnatrz 3\n",
      "wewnątrz: 4\n",
      "wewnątrz: 5\n",
      "wewnątrz: 6\n"
     ]
    }
   ],
   "source": [
    "for i in [1, 2, 3]:\n",
    "    print(\"zewnatrz\", i)\n",
    "    for j in [4, 5, 6]:\n",
    "        print(\"wewnątrz:\", j)"
   ]
  },
  {
   "cell_type": "code",
   "execution_count": 102,
   "metadata": {},
   "outputs": [
    {
     "name": "stdout",
     "output_type": "stream",
     "text": [
      "warzywo: marchew\n",
      "warzywo: kalafior\n",
      "warzywo: kapusta\n"
     ]
    }
   ],
   "source": [
    "warzywa = ('marchew', 'kalafior', 'kapusta')\n",
    "\n",
    "for warzywo in warzywa:\n",
    "    print('warzywo:', warzywo)"
   ]
  },
  {
   "cell_type": "code",
   "execution_count": 3,
   "metadata": {},
   "outputs": [
    {
     "name": "stdout",
     "output_type": "stream",
     "text": [
      "5\n",
      "7\n",
      "9\n"
     ]
    }
   ],
   "source": [
    "for i in range(5, 10, 2):\n",
    "    print(i)"
   ]
  },
  {
   "cell_type": "code",
   "execution_count": 8,
   "metadata": {},
   "outputs": [
    {
     "name": "stdout",
     "output_type": "stream",
     "text": [
      "0\n",
      "Value: 1.6 \n",
      "\n",
      "1\n",
      "Value: 2 \n",
      "\n",
      "2\n",
      "Value: 3 \n",
      "\n",
      "3\n",
      "Value: kot \n",
      "\n"
     ]
    }
   ],
   "source": [
    "# enumerate\n",
    "\n",
    "list_num = [1.6, 2, 3, \"kot\"]\n",
    "for idx, el in enumerate(list_num):\n",
    "    print(idx)\n",
    "    print(f\"Value: {el} \\n\")"
   ]
  },
  {
   "cell_type": "code",
   "execution_count": 4,
   "metadata": {},
   "outputs": [
    {
     "name": "stdout",
     "output_type": "stream",
     "text": [
      "5\n",
      "4\n",
      "3\n",
      "2\n",
      "1\n",
      "0\n"
     ]
    }
   ],
   "source": [
    "x = 5\n",
    "while x >= 0:\n",
    "    print(x)\n",
    "    x = x - 1"
   ]
  },
  {
   "cell_type": "code",
   "execution_count": 105,
   "metadata": {},
   "outputs": [
    {
     "name": "stdout",
     "output_type": "stream",
     "text": [
      "2\n",
      "[2]\n",
      "4\n",
      "[2, 4]\n",
      "6\n",
      "[2, 4, 6]\n",
      "8\n",
      "[2, 4, 6, 8]\n",
      "10\n",
      "[2, 4, 6, 8, 10]\n"
     ]
    }
   ],
   "source": [
    "liczby = list()\n",
    "i = 2\n",
    "while i < 11:\n",
    "    print(i)\n",
    "    liczby.append(i)\n",
    "    print(liczby)\n",
    "    i += 2"
   ]
  },
  {
   "cell_type": "markdown",
   "metadata": {},
   "source": [
    "### Funkcje"
   ]
  },
  {
   "cell_type": "code",
   "execution_count": 106,
   "metadata": {},
   "outputs": [
    {
     "name": "stdout",
     "output_type": "stream",
     "text": [
      "Hello world!\n",
      "Wikipedia\n"
     ]
    }
   ],
   "source": [
    "def simple_function():\n",
    "    print('Hello world!')\n",
    "    print('Wikipedia')\n",
    "\n",
    "\n",
    "simple_function()"
   ]
  },
  {
   "cell_type": "code",
   "execution_count": 107,
   "metadata": {},
   "outputs": [
    {
     "name": "stdout",
     "output_type": "stream",
     "text": [
      "5\n"
     ]
    }
   ],
   "source": [
    "def add(x, y):\n",
    "    result = x + y\n",
    "    return result\n",
    "\n",
    "\n",
    "y = add(9, 6)\n",
    "print(add(2, 3))"
   ]
  },
  {
   "cell_type": "code",
   "execution_count": 108,
   "metadata": {},
   "outputs": [
    {
     "name": "stdout",
     "output_type": "stream",
     "text": [
      "[1, 1, 2, 3, 5, 8, 13, 21, 34, 55, 89]\n"
     ]
    }
   ],
   "source": [
    "def fibonacci_numbers(n):\n",
    "    ''' zwraca liczby Fibonacciego mniejsze od n '''\n",
    "    wynik = []\n",
    "    a, b = 1, 1\n",
    "    while a < n:\n",
    "        wynik.append(a)\n",
    "        a, b = b, a + b # a= b, b = a + b\n",
    "    return wynik\n",
    "\n",
    "fib100 = fibonacci_numbers(100)\n",
    "print(fib100)"
   ]
  },
  {
   "cell_type": "code",
   "execution_count": 109,
   "metadata": {},
   "outputs": [
    {
     "name": "stdout",
     "output_type": "stream",
     "text": [
      "Help on function my_function in module __main__:\n",
      "\n",
      "my_function()\n",
      "    Dokumentacja funkcji X\n",
      "\n"
     ]
    }
   ],
   "source": [
    "def my_function():\n",
    "    \"\"\"Dokumentacja funkcji X\"\"\"\n",
    "\n",
    "help(my_function)"
   ]
  },
  {
   "cell_type": "code",
   "execution_count": 110,
   "metadata": {},
   "outputs": [
    {
     "name": "stdout",
     "output_type": "stream",
     "text": [
      "Plik nie znaleziony\n"
     ]
    }
   ],
   "source": [
    "try:\n",
    "    f = open(\"plan2.txt\")\n",
    "    s = f.readline()\n",
    "    print(s)\n",
    "except FileNotFoundError:\n",
    "    print(\"Plik nie znaleziony\")"
   ]
  },
  {
   "cell_type": "code",
   "execution_count": 111,
   "metadata": {},
   "outputs": [
    {
     "ename": "TypeError",
     "evalue": "Dozwolone są tylko liczby całkowite",
     "output_type": "error",
     "traceback": [
      "\u001b[0;31m---------------------------------------------------------------------------\u001b[0m",
      "\u001b[0;31mTypeError\u001b[0m                                 Traceback (most recent call last)",
      "Cell \u001b[0;32mIn[111], line 4\u001b[0m\n\u001b[1;32m      1\u001b[0m x \u001b[38;5;241m=\u001b[39m \u001b[38;5;124m\"\u001b[39m\u001b[38;5;124mDzień dobry\u001b[39m\u001b[38;5;124m\"\u001b[39m\n\u001b[1;32m      3\u001b[0m \u001b[38;5;28;01mif\u001b[39;00m \u001b[38;5;28mtype\u001b[39m(x) \u001b[38;5;129;01mis\u001b[39;00m \u001b[38;5;129;01mnot\u001b[39;00m \u001b[38;5;28mint\u001b[39m:\n\u001b[0;32m----> 4\u001b[0m     \u001b[38;5;28;01mraise\u001b[39;00m \u001b[38;5;167;01mTypeError\u001b[39;00m(\u001b[38;5;124m\"\u001b[39m\u001b[38;5;124mDozwolone są tylko liczby całkowite\u001b[39m\u001b[38;5;124m\"\u001b[39m)\n",
      "\u001b[0;31mTypeError\u001b[0m: Dozwolone są tylko liczby całkowite"
     ]
    }
   ],
   "source": [
    "x = \"Dzień dobry\"\n",
    "\n",
    "if type(x) is not int:\n",
    "    raise TypeError(\"Dozwolone są tylko liczby całkowite\")\n",
    "\n",
    "if isinstance(x, str):\n",
    "    pass\n",
    "else:\n",
    "    raise ValueError(\"my error\")"
   ]
  },
  {
   "cell_type": "code",
   "execution_count": 11,
   "metadata": {},
   "outputs": [
    {
     "name": "stdout",
     "output_type": "stream",
     "text": [
      "2\n"
     ]
    },
    {
     "ename": "Exception",
     "evalue": "0 payments returned, check timerange",
     "output_type": "error",
     "traceback": [
      "\u001b[0;31m---------------------------------------------------------------------------\u001b[0m",
      "\u001b[0;31mException\u001b[0m                                 Traceback (most recent call last)",
      "Cell \u001b[0;32mIn[11], line 10\u001b[0m\n\u001b[1;32m      8\u001b[0m payments \u001b[38;5;241m=\u001b[39m get_payment()\n\u001b[1;32m      9\u001b[0m \u001b[38;5;28;01mif\u001b[39;00m payments \u001b[38;5;241m==\u001b[39m \u001b[38;5;241m0\u001b[39m:\n\u001b[0;32m---> 10\u001b[0m     \u001b[38;5;28;01mraise\u001b[39;00m \u001b[38;5;167;01mException\u001b[39;00m(\u001b[38;5;124m\"\u001b[39m\u001b[38;5;124m0 payments returned, check timerange\u001b[39m\u001b[38;5;124m\"\u001b[39m)\n",
      "\u001b[0;31mException\u001b[0m: 0 payments returned, check timerange"
     ]
    }
   ],
   "source": [
    "import random\n",
    "def get_payment():\n",
    "    return random.randrange(0, 3)\n",
    "\n",
    "x = get_payment()\n",
    "print(x)\n",
    "\n",
    "payments = get_payment()\n",
    "if payments == 0:\n",
    "    raise Exception(\"0 payments returned, check timerange\")"
   ]
  },
  {
   "cell_type": "markdown",
   "metadata": {},
   "source": [
    "### Operacje na plikach"
   ]
  },
  {
   "cell_type": "code",
   "execution_count": 13,
   "metadata": {},
   "outputs": [
    {
     "name": "stdout",
     "output_type": "stream",
     "text": [
      "Nazwa pliku:  data.json\n",
      "Wczytany text: {\n",
      "    \"name\": \"John\",\n",
      "    \"age\": 30,\n",
      "    \"city\": \"Gdańsk\"\n",
      "}\n"
     ]
    }
   ],
   "source": [
    "f = open(\"data.json\", \"r\")\n",
    "print(\"Nazwa pliku: \", f.name)\n",
    "\n",
    "file_content = f.read()\n",
    "print(f\"Wczytany text: {file_content}\")\n",
    "\n",
    "f.close()"
   ]
  },
  {
   "cell_type": "code",
   "execution_count": null,
   "metadata": {},
   "outputs": [],
   "source": [
    "# używanie instrukcji with\n",
    "with open('file_path.txt', 'w') as file:\n",
    "\tfile.write('hello world !')"
   ]
  },
  {
   "cell_type": "markdown",
   "metadata": {},
   "source": [
    "### Funkcje anonimowe (lambda)"
   ]
  },
  {
   "cell_type": "code",
   "execution_count": null,
   "metadata": {},
   "outputs": [],
   "source": [
    "pitagoras = lambda a, b:  ((a * a) + (b * b)) ** 0.5\n",
    "print(pitagoras(3, 5))"
   ]
  },
  {
   "cell_type": "markdown",
   "metadata": {},
   "source": [
    "### Wyrażenia listowe – ang. _list comprehension_"
   ]
  },
  {
   "cell_type": "code",
   "execution_count": null,
   "metadata": {},
   "outputs": [],
   "source": [
    "szesciany = [x ** 3 for x in range(10)]\n",
    "print(szesciany)\n",
    "\n",
    "# szesciany = []\n",
    "# for x in range(10):\n",
    "#     szesciany.append(x ** 3)\n",
    "\n",
    "# print(szesciany)"
   ]
  },
  {
   "cell_type": "code",
   "execution_count": null,
   "metadata": {},
   "outputs": [],
   "source": [
    "dane = list\n",
    "kwadraty = [el ** 2 for el in range(1, 102) if el % 2 != 0]\n",
    "x = [el ** 2 for el in range(1, 102) if el % 2 != 0]\n",
    "c = [el ** 2 for el in range(1, 102) if el % 2 != 0]\n",
    "g = [el ** 2 for el in range(1, 102) if el % 2 != 0]\n",
    "\n",
    "print(kwadraty)"
   ]
  },
  {
   "cell_type": "code",
   "execution_count": null,
   "metadata": {},
   "outputs": [],
   "source": [
    "# PEP8\n",
    "\n",
    "variable = 4\n",
    "variable_1 = 6\n",
    "\n",
    "class UpperCamelCase:\n",
    "    pass\n",
    "\n",
    "x1 = UpperCamelCase\n",
    "\n",
    "is_healthy = True\n",
    "\n",
    "def add_two_numbers(x , y):\n",
    "    pass\n",
    "\n",
    "\n"
   ]
  }
 ],
 "metadata": {
  "celltoolbar": "Slideshow",
  "kernelspec": {
   "display_name": "Python 3",
   "language": "python",
   "name": "python3"
  },
  "language_info": {
   "codemirror_mode": {
    "name": "ipython",
    "version": 3
   },
   "file_extension": ".py",
   "mimetype": "text/x-python",
   "name": "python",
   "nbconvert_exporter": "python",
   "pygments_lexer": "ipython3",
   "version": "3.10.14"
  }
 },
 "nbformat": 4,
 "nbformat_minor": 4
}
