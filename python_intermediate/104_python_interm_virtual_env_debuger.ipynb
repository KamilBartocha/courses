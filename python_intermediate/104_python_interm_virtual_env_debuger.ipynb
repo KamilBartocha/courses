{
 "cells": [
  {
   "cell_type": "markdown",
   "metadata": {},
   "source": [
    "# 104 Python intermediate - virtual env, debuger\n",
    "_Kamil Bartocha_\n",
    "\n",
    "_wersja_ 0.0.1"
   ]
  },
  {
   "cell_type": "markdown",
   "metadata": {},
   "source": [
    "## Wirtualne środowisko\n",
    "\n",
    "`virtualenv` to narzędzie w Pythonie, które pozwala na tworzenie odizolowanych środowisk dla projektów. Każde takie środowisko jest jak osobny zestaw katalogów, który zawiera własną wersję Pythona oraz wszystkie potrzebne biblioteki. Dzięki temu możesz mieć różne projekty, które używają różnych wersji bibliotek, bez ryzyka konfliktów między nimi.\n",
    "\n"
   ]
  },
  {
   "cell_type": "markdown",
   "metadata": {},
   "source": [
    "Działanie `virtualenv`:\n",
    "\n",
    "1. **Instalacja `virtualenv`:**\n",
    "   Aby zainstalować `virtualenv`, użyj polecenia:\n",
    "   `pip install virtualenv`\n",
    "\n",
    "2. **Tworzenie nowego środowiska:**\n",
    "   Aby stworzyć nowe środowisko, przejdź do katalogu, w którym chcesz umieścić swoje środowisko, i użyj polecenia:\n",
    "   `virtualenv nazwa_srodowiska`\n",
    "\n",
    "   Gdzie `nazwa_srodowiska` to nazwa katalogu, który będzie zawierał środowisko.\n",
    "\n",
    "3. **Aktywacja środowiska:**\n",
    "   Aby używać środowiska, musisz je aktywować. W systemie Windows:\n",
    "   `.\\nazwa_srodowiska\\Scripts\\activate`\n",
    "\n",
    "   W systemach Unix/Linux/MacOS:\n",
    "   `source nazwa_srodowiska/bin/activate`\n",
    "\n",
    "   Po aktywacji środowiska, w linii poleceń zobaczysz nazwę środowiska przed ścieżką, co oznacza, że wszystkie operacje z użyciem `pip` będą dotyczyć tego środowiska.\n",
    "\n",
    "4. **Instalacja pakietów:**\n",
    "   Gdy środowisko jest aktywne, możesz instalować pakiety używając `pip`. Te pakiety będą instalowane tylko w tym środowisku, a nie globalnie:\n",
    "\n",
    "   `pip install nazwa_pakietu`\n",
    "\n",
    "5. **Dezaktywacja środowiska:**\n",
    "   Aby wyjść z aktywnego środowiska, użyj polecenia:\n",
    "\n",
    "   `deactivate`\n",
    "\n",
    "`virtualenv` jest bardzo przydatny do zarządzania zależnościami i wersjami bibliotek w różnych projektach. Pomaga to uniknąć problemów związanych z niekompatybilnością pakietów oraz ułatwia przenoszenie projektów między różnymi maszynami.\n"
   ]
  },
  {
   "cell_type": "markdown",
   "metadata": {},
   "source": [
    "### Zalety:"
   ]
  },
  {
   "cell_type": "markdown",
   "metadata": {},
   "source": [
    "**1. Izolacja zależności**\n",
    "\n",
    "Każde środowisko w venv jest niezależne od innych środowisk oraz od globalnej instalacji Pythona. Dzięki temu możesz mieć różne wersje bibliotek dla różnych projektów bez ryzyka konfliktów. Na przykład, jeśli jeden projekt wymaga wersji Django 2.2, a inny wersji 3.0, możesz łatwo zarządzać tymi zależnościami w odrębnych środowiskach.\n",
    "\n",
    "**2. Zarządzanie wersjami Pythona**\n",
    "\n",
    "Chociaż venv sam w sobie nie pozwala na instalowanie różnych wersji Pythona, może być użyty z różnymi wersjami interpretera Pythona, które masz zainstalowane na swoim systemie. Możesz tworzyć środowiska, które używają konkretnej wersji Pythona.\n",
    "\n",
    "**3. Łatwość użycia**\n",
    "\n",
    "venv jest prosty w użyciu i nie wymaga dodatkowych instalacji poza Pythonem. Oto podstawowe polecenia do zarządzania środowiskami za pomocą venv\n",
    "\n",
    "**4. Bezpieczeństwo i porządek**\n",
    "\n",
    "Izolowane środowiska pomagają w utrzymaniu porządku w projekcie i unikaniu problemów związanych z zainstalowanymi pakietami. Jeśli projekt wymaga specyficznych wersji pakietów, środowisko w venv gwarantuje, że są one używane tylko w kontekście tego projektu.\n",
    "\n",
    "**5. Reprodukowalność**\n",
    "\n",
    "Dzięki venv możesz łatwo odtworzyć środowisko na różnych maszynach lub w różnych lokalizacjach. Możesz zainstalować potrzebne pakiety na podstawie pliku `requirements.txt`, co pozwala na szybkie i spójne konfigurowanie środowisk w różnych środowiskach deweloperskich.\n",
    "\n"
   ]
  },
  {
   "cell_type": "markdown",
   "metadata": {},
   "source": [
    "```bash\n",
    "project_root/\n",
    "│\n",
    "├── venv_old/\n",
    "│   ├── bin/\n",
    "│   ├── include/\n",
    "│   ├── lib/\n",
    "│   │   └── pythonX.Y/\n",
    "│   │       └── site-packages/\n",
    "│   │           └── selenium/\n",
    "│   ├── pyvenv.cfg\n",
    "│   └── ...\n",
    "│\n",
    "├── venv_new/\n",
    "│   ├── bin/\n",
    "│   ├── include/\n",
    "│   ├── lib/\n",
    "│   │   └── pythonX.Y/\n",
    "│   │       └── site-packages/\n",
    "│   │           └── selenium/\n",
    "│   ├── pyvenv.cfg\n",
    "│   └── ...\n",
    "│\n",
    "├── src/\n",
    "│   ├── old_version_app.py\n",
    "│   ├── new_version_app.py\n",
    "│   └── ...\n",
    "│\n",
    "├── requirements_old.txt\n",
    "├── requirements_new.txt\n",
    "└── README.md\n",
    "\n",
    "```\n",
    "\n",
    "requirements_old.txt:\n",
    "\n",
    "`selenium==3.141.0`\n",
    "\n",
    "requirements_new.txt:\n",
    "\n",
    "`selenium==4.0.0`\n"
   ]
  },
  {
   "cell_type": "markdown",
   "metadata": {},
   "source": [
    "### Przykład, aktualizacja selnium z wersji 3 do wersji 4"
   ]
  },
  {
   "cell_type": "markdown",
   "metadata": {},
   "source": [
    "kod w wersji 3"
   ]
  },
  {
   "cell_type": "code",
   "execution_count": null,
   "metadata": {},
   "outputs": [],
   "source": [
    "from selenium import webdriver\n",
    "from selenium.webdriver.common.keys import Keys\n",
    "\n",
    "# Ustawienie ścieżki do ChromeDriver\n",
    "# driver = webdriver.Chrome()\n",
    "driver = webdriver.Safari()\n",
    "\n",
    "\n",
    "try:\n",
    "    driver.get(\"https://www.google.com\")\n",
    "    search_box = driver.find_element_by_name(\"q\")\n",
    "    search_box.send_keys(\"Selenium Python\")\n",
    "    search_box.send_keys(Keys.RETURN)\n",
    "    driver.implicitly_wait(5)\n",
    "    first_result = driver.find_element_by_css_selector(\"h3\")\n",
    "    first_result.click()\n",
    "finally:\n",
    "    driver.quit()\n"
   ]
  },
  {
   "cell_type": "markdown",
   "metadata": {},
   "source": [
    "kod w wersji 4"
   ]
  },
  {
   "cell_type": "code",
   "execution_count": null,
   "metadata": {},
   "outputs": [],
   "source": [
    "from selenium import webdriver\n",
    "from selenium.webdriver.common.by import By\n",
    "from selenium.webdriver.common.keys import Keys\n",
    "\n",
    "driver = webdriver.Chrome()\n",
    "\n",
    "try:\n",
    "    driver.get(\"https://www.google.com\")\n",
    "    search_box = driver.find_element(By.NAME, \"q\")\n",
    "    search_box.send_keys(\"Selenium Python\")\n",
    "    search_box.send_keys(Keys.RETURN)\n",
    "    driver.implicitly_wait(5)  # Czas w sekundach\n",
    "    first_result = driver.find_element(By.CSS_SELECTOR, \"h3\")\n",
    "    first_result.click()\n",
    "finally:\n",
    "    driver.quit()\n"
   ]
  },
  {
   "cell_type": "markdown",
   "metadata": {},
   "source": [
    "W Selenium 4, metody `find_element_by_`* zostały usunięte i zastąpione bardziej ujednoliconymi metodami `find_element` i `find_elements` z użyciem strategii lokalizacji."
   ]
  },
  {
   "cell_type": "markdown",
   "metadata": {},
   "source": [
    "## Debugger debug mode"
   ]
  },
  {
   "cell_type": "markdown",
   "metadata": {},
   "source": [
    "# Jak działa debugger?\n",
    "\n",
    "Debugger w programowaniu to narzędzie, które umożliwia programistom uruchamianie i analizowanie programu krok po kroku w celu znalezienia i naprawienia błędów. Debugger pomaga lepiej zrozumieć, co dzieje się wewnątrz kodu, i pozwala na obserwację stanu programu w różnych momentach jego wykonania.\n",
    "\n",
    "### 1. Uruchamianie programu w trybie debugowania\n",
    "Debugger uruchamia program w specjalnym trybie, który pozwala na kontrolowanie jego przebiegu. Zamiast wykonywać cały kod od początku do końca, można zatrzymać program w określonych miejscach i analizować go krok po kroku.\n",
    "\n",
    "### 2. Punkty przerwania (Breakpoints)\n",
    "Punkty przerwania to miejsca w kodzie, które wskazujemy, aby debugger zatrzymał wykonanie programu. Kiedy kod osiągnie punkt przerwania, debugger zatrzymuje program, umożliwiając programiście przeglądanie stanu zmiennych i pamięci.\n",
    "- Możesz dodać punkt przerwania w IDE lub za pomocą instrukcji, jak np. `breakpoint()` w Pythonie (Python 3.7+).\n",
    "\n",
    "### 3. Krok po kroku (Stepping)\n",
    "Po zatrzymaniu programu na punkcie przerwania, programista może wykonywać kod krok po kroku.\n",
    "- **Step over**: Wykonuje następną linię kodu, ale nie wchodzi do funkcji.\n",
    "- **Step into**: Wchodzi do funkcji, aby zobaczyć, co dzieje się wewnątrz niej.\n",
    "- **Step out**: Kończy wykonywanie bieżącej funkcji i wraca do miejsca, z którego funkcja została wywołana.\n",
    "\n",
    "### 4. Podgląd zmiennych\n",
    "Gdy program jest zatrzymany w punkcie przerwania, można zobaczyć aktualny stan zmiennych, wartości obiektów oraz wyniki wyrażeń. Debugger pozwala na podgląd i modyfikację wartości zmiennych w locie, co pomaga w testowaniu różnych scenariuszy.\n",
    "\n",
    "### 5. Kontrola stosu wywołań (Call Stack)\n",
    "Debugger umożliwia przeglądanie stosu wywołań, czyli śledzenie, jakie funkcje zostały wywołane w danym momencie. Możesz zobaczyć, która funkcja wywołała daną funkcję, oraz przejść do dowolnej funkcji w stosie, aby analizować jej stan.\n",
    "\n",
    "### 6. Śledzenie wyjątków\n",
    "Debugger umożliwia śledzenie błędów i wyjątków w kodzie. Kiedy wystąpi błąd, debugger zatrzymuje program i pokazuje miejsce, w którym wyjątek został rzucony, co pozwala na szybkie zdiagnozowanie problemu.\n",
    "\n",
    "### 7. Modyfikowanie kodu w trakcie jego działania\n",
    "W niektórych debuggerach można modyfikować kod lub zmienne w trakcie działania programu. Dzięki temu można przetestować różne rozwiązania bez konieczności ponownego uruchamiania programu.\n",
    "\n",
    "### 8. Kończenie debugowania\n",
    "Po znalezieniu i naprawieniu błędu, programista może kontynuować normalne uruchomienie programu lub zakończyć sesję debugowania.\n",
    "\n"
   ]
  },
  {
   "cell_type": "markdown",
   "metadata": {},
   "source": [
    "### Prosty przykład:\n"
   ]
  },
  {
   "cell_type": "code",
   "execution_count": 3,
   "metadata": {},
   "outputs": [
    {
     "name": "stdout",
     "output_type": "stream",
     "text": [
      "Litera 't' występuje 2 razy w słowie 'jitteam'.\n"
     ]
    }
   ],
   "source": [
    "word = \"jitteam\"\n",
    "letter_to_count = 't'\n",
    "count = 0\n",
    "\n",
    "for letter in word:\n",
    "    if letter == letter_to_count:\n",
    "        count += 1\n",
    "\n",
    "print(f\"Litera '{letter_to_count}' występuje {count} razy w słowie '{word}'.\")\n"
   ]
  },
  {
   "cell_type": "markdown",
   "metadata": {},
   "source": []
  }
 ],
 "metadata": {
  "kernelspec": {
   "display_name": "Python 3",
   "language": "python",
   "name": "python3"
  },
  "language_info": {
   "codemirror_mode": {
    "name": "ipython",
    "version": 3
   },
   "file_extension": ".py",
   "mimetype": "text/x-python",
   "name": "python",
   "nbconvert_exporter": "python",
   "pygments_lexer": "ipython3",
   "version": "3.10.6"
  }
 },
 "nbformat": 4,
 "nbformat_minor": 2
}
