{
 "cells": [
  {
   "cell_type": "markdown",
   "metadata": {},
   "source": [
    "# 106 Python intermediate - json\n",
    "_Kamil Bartocha_\n",
    "\n",
    "_wersja_ 0.0.1"
   ]
  },
  {
   "cell_type": "markdown",
   "metadata": {},
   "source": [
    "W Pythonie obsługa formatu JSON jest realizowana za pomocą wbudowanego modułu `json`. JSON (JavaScript Object Notation) to format wymiany danych, który jest szeroko stosowany do przesyłania danych między serwerami a aplikacjami internetowymi. Python oferuje prosty interfejs do pracy z JSON-em dzięki modułowi json."
   ]
  },
  {
   "cell_type": "markdown",
   "metadata": {},
   "source": [
    "## Dlaczego Warto Znaleźć JSON w Pythonie\n",
    "\n",
    "### 1. **Wszechstronność w Przechowywaniu Danych**\n",
    "\n",
    "JSON jest popularnym formatem przechowywania danych, który jest lekki, czytelny i łatwy do przetwarzania. Umiejętność obsługi JSON pozwala na efektywne przechowywanie i wymianę danych między aplikacjami, bazami danych i plikami konfiguracyjnymi.\n"
   ]
  },
  {
   "cell_type": "markdown",
   "metadata": {},
   "source": [
    "**Przykład:**\n",
    "\n",
    "Zapis danych użytkownika do pliku JSON:\n",
    "\n",
    "```python\n",
    "import json\n",
    "\n",
    "user_data = {\n",
    "    'username': 'john_doe',\n",
    "    'email': 'john@example.com',\n",
    "    'age': 28\n",
    "}\n",
    "\n",
    "with open('user_data.json', 'w') as file:\n",
    "    json.dump(user_data, file, indent=4)\n",
    "```"
   ]
  },
  {
   "cell_type": "markdown",
   "metadata": {},
   "source": [
    "### 2. **Interakcja z API**\n",
    "\n",
    "Wiele nowoczesnych API korzysta z JSON jako formatu wymiany danych. Znajomość JSON jest niezbędna do prawidłowego pobierania danych z takich API, przetwarzania odpowiedzi i integracji z innymi systemami.\n"
   ]
  },
  {
   "cell_type": "code",
   "execution_count": null,
   "metadata": {},
   "outputs": [],
   "source": [
    "import requests\n",
    "\n",
    "response = requests.get('https://api.example.com/data')\n",
    "data = response.json()  # Automatycznie deserializuje JSON do obiektów Pythona\n",
    "\n",
    "print(data)\n"
   ]
  },
  {
   "cell_type": "markdown",
   "metadata": {},
   "source": [
    "### 3. **Konfiguracja Aplikacji**\n",
    "\n",
    "JSON jest często używany do przechowywania konfiguracji aplikacji. Możliwość ładowania, modyfikowania i zapisywania konfiguracji aplikacji w formacie JSON jest bardzo przydatna i upraszcza zarządzanie ustawieniami aplikacji.\n"
   ]
  },
  {
   "cell_type": "code",
   "execution_count": 4,
   "metadata": {},
   "outputs": [],
   "source": [
    "import json\n",
    "\n",
    "config = {\n",
    "    'database': 'mydb',\n",
    "    'host': 'localhost',\n",
    "    'port': 5432\n",
    "}\n",
    "\n",
    "with open('config.json', 'w') as file:\n",
    "    json.dump(config, file, indent=2)\n"
   ]
  },
  {
   "cell_type": "markdown",
   "metadata": {},
   "source": [
    "### 4. **Przechowywanie Danych w Plikach**\n",
    "\n",
    "JSON jest używany do przechowywania danych w plikach tekstowych. Obsługa JSON pozwala na efektywne zapisywanie obiektów Pythona do plików i wczytywanie ich później, co jest użyteczne w wielu aplikacjach.\n"
   ]
  },
  {
   "cell_type": "markdown",
   "metadata": {},
   "source": [
    "### 5. **Przetwarzanie Danych w Web Developmencie**\n",
    "\n",
    "JSON jest szeroko stosowany w aplikacjach webowych do przesyłania danych między serwerem a klientem. Znajomość JSON pozwala lepiej zrozumieć, jak dane są przesyłane i przetwarzane w aplikacjach webowych, co jest istotne dla tworzenia i integracji aplikacji webowych.\n"
   ]
  },
  {
   "cell_type": "markdown",
   "metadata": {},
   "source": [
    "### 6. **Integracja z Różnymi Systemami**\n",
    "\n",
    "JSON jest formatem interoperacyjnym, używanym w różnych systemach, językach programowania i platformach. Znajomość JSON ułatwia integrację z systemami zewnętrznymi i innymi aplikacjami, co jest ważne w nowoczesnym środowisku technologicznym.\n"
   ]
  },
  {
   "cell_type": "markdown",
   "metadata": {},
   "source": [
    "### 7. **Przyszłościowe Umiejętności**\n",
    "\n",
    "JSON stał się standardem w wielu dziedzinach, takich jak analiza danych, API i konfiguracja. Znajomość JSON jest uniwersalną umiejętnością, która będzie użyteczna w wielu kontekstach i projektach, co czyni ją ważną umiejętnością w dzisiejszym świecie programowania."
   ]
  },
  {
   "cell_type": "markdown",
   "metadata": {},
   "source": [
    "## Podstawowe informacje o json"
   ]
  },
  {
   "cell_type": "markdown",
   "metadata": {},
   "source": [
    "- **Serializacja**: Przekształcanie obiektów Pythona do formatu JSON za pomocą `json.dump()` (do pliku) lub `json.dumps()` (do łańcucha znaków).\n",
    "- **Deserializacja**: Przekształcanie danych JSON z powrotem na obiekty Pythona za pomocą `json.load()` (z pliku) lub `json.loads()` (z łańcucha znaków)."
   ]
  },
  {
   "cell_type": "markdown",
   "metadata": {},
   "source": [
    "### 1. Deserializacja: Wczytanie danych JSON z pliku\n",
    "Jeśli masz plik z danymi w formacie JSON, możesz załadować go do obiektu Pythona (np. słownika) za pomocą funkcji `json.load()`.\n",
    "\n",
    "dla pliku `data.json`:\n",
    "\n",
    "```json\n",
    "{\n",
    "  \"name\": \"John\",\n",
    "  \"age\": 30,\n",
    "  \"city\": \"New York\"\n",
    "}\n",
    "\n",
    "```"
   ]
  },
  {
   "cell_type": "code",
   "execution_count": 2,
   "metadata": {},
   "outputs": [
    {
     "name": "stdout",
     "output_type": "stream",
     "text": [
      "{'name': 'John', 'age': 30, 'city': 'Gdańsk'}\n"
     ]
    }
   ],
   "source": [
    "import json\n",
    "\n",
    "with open('data.json', 'r') as file:\n",
    "    data = json.load(file)\n",
    "\n",
    "if data['age'] > 30:\n",
    "    pass\n",
    "print(data)  # Wyświetla dane jako słownik\n"
   ]
  },
  {
   "cell_type": "markdown",
   "metadata": {},
   "source": [
    "### 2. Serializacja: Zapis obiektu Pythona do pliku .json\n",
    "Jeśli chcesz zapisać dane Pythona (np. słownik) w formacie JSON do pliku, użyj funkcji `json.dump()`."
   ]
  },
  {
   "cell_type": "markdown",
   "metadata": {},
   "source": [
    "Przykład:"
   ]
  },
  {
   "cell_type": "code",
   "execution_count": 8,
   "metadata": {},
   "outputs": [],
   "source": [
    "import json\n",
    "\n",
    "data = {\n",
    "    \"name\": \"John\",\n",
    "    \"age\": 30,\n",
    "    \"city\": \"3miasto\"\n",
    "}\n",
    "\n",
    "# Zapisz dane do pliku JSON\n",
    "with open('output.json', 'w', encoding=\"utf-8\") as file:\n",
    "    json.dump(data, file, indent=4)\n"
   ]
  },
  {
   "cell_type": "markdown",
   "metadata": {},
   "source": [
    "gdzie\n",
    "\n",
    "- `indent=4`: Ustawia wcięcia dla bardziej czytelnego zapisu danych."
   ]
  },
  {
   "cell_type": "markdown",
   "metadata": {},
   "source": [
    "### 3. Parsowanie danych JSON ze stringa(deserializacja)\n",
    "\n",
    "Jeśli masz dane JSON w formie tekstu (np. z API lub z pliku), możesz je przekonwertować do obiektu Pythona za pomocą funkcji `json.loads()`."
   ]
  },
  {
   "cell_type": "code",
   "execution_count": 10,
   "metadata": {},
   "outputs": [
    {
     "name": "stdout",
     "output_type": "stream",
     "text": [
      "<class 'dict'>\n",
      "{'name': 'John', 'age': 31, 'city': 'Warszawa'}\n"
     ]
    }
   ],
   "source": [
    "import json\n",
    "\n",
    "json_string = '{\"name\": \"John\", \"age\": 31, \"city\": \"Warszawa\"}'\n",
    "\n",
    "# Zamiana JSON (string) na słownik Pythona\n",
    "data = json.loads(json_string)\n",
    "\n",
    "print(type(data))\n",
    "print(data)\n"
   ]
  },
  {
   "cell_type": "markdown",
   "metadata": {},
   "source": [
    "### 4. Konwersja obiektu Pythona do formatu JSON (serializacja)\n",
    "\n",
    "Jeśli chcesz zamienić obiekt Pythona (np. słownik lub listę) na JSON (w formie tekstu), użyj funkcji `json.dumps()`.\n"
   ]
  },
  {
   "cell_type": "code",
   "execution_count": 11,
   "metadata": {},
   "outputs": [
    {
     "name": "stdout",
     "output_type": "stream",
     "text": [
      "<class 'str'>\n",
      "{\n",
      "    \"name\": \"John\",\n",
      "    \"age\": 30,\n",
      "    \"city\": \"New York\"\n",
      "}\n"
     ]
    }
   ],
   "source": [
    "import json\n",
    "\n",
    "data = {\n",
    "    \"name\": \"John\",\n",
    "    \"age\": 30,\n",
    "    \"city\": \"New York\"\n",
    "}\n",
    "\n",
    "# Zamiana słownika Pythona na JSON (string)\n",
    "json_string = json.dumps(data, indent=4)\n",
    "\n",
    "print(type(json_string))\n",
    "print(json_string)\n"
   ]
  },
  {
   "cell_type": "markdown",
   "metadata": {},
   "source": [
    "### 5. Obsługa Wyjątków\n",
    "\n",
    "Podczas pracy z JSON mogą wystąpić błędy, np. nieprawidłowy format JSON. Można je obsłużyć za pomocą wyjątków:\n",
    "\n",
    "- `json.JSONDecodeError`: Występuje, gdy JSON jest źle sformatowany."
   ]
  },
  {
   "cell_type": "code",
   "execution_count": 14,
   "metadata": {},
   "outputs": [
    {
     "name": "stdout",
     "output_type": "stream",
     "text": [
      "success\n",
      "Error decoding JSON: Expecting ':' delimiter: line 1 column 42 (char 41)\n"
     ]
    }
   ],
   "source": [
    "import json\n",
    "\n",
    "json_string = '{\"name\": \"Eve\", \"age\": \"thirty\", \"city\": \"Boston\"}'\n",
    "\n",
    "try:\n",
    "    data = json.loads(json_string)\n",
    "    print(\"success\")\n",
    "except json.JSONDecodeError as e:\n",
    "    print(f\"Error decoding JSON: {e}\")\n",
    "\n",
    "\n",
    "json_string = '{\"name\": \"Eve\", \"age\": \"thirty\", \"city: \"Boston\"}'\n",
    "\n",
    "try:\n",
    "    data = json.loads(json_string)\n",
    "except json.JSONDecodeError as e:\n",
    "    print(f\"Error decoding JSON: {e}\")\n"
   ]
  },
  {
   "cell_type": "markdown",
   "metadata": {},
   "source": [
    "### 6. Interakcja z API\n",
    "\n",
    "Wiele nowoczesnych API korzysta z JSON jako formatu wymiany danych. Znajomość JSON jest niezbędna do prawidłowego pobierania danych z takich API, przetwarzania odpowiedzi i integracji z innymi systemami."
   ]
  },
  {
   "cell_type": "code",
   "execution_count": null,
   "metadata": {},
   "outputs": [],
   "source": [
    "import requests\n",
    "\n",
    "response = requests.get('https://api.example.com/data')\n",
    "data = response.json()  # Automatycznie deserializuje JSON do obiektów Pythona\n",
    "\n",
    "print(data)\n"
   ]
  },
  {
   "cell_type": "code",
   "execution_count": null,
   "metadata": {},
   "outputs": [],
   "source": [
    "import requests\n",
    "\n",
    "data = {'key': 'value'}\n",
    "response = requests.post('https://api.example.com/submit', json=data)\n",
    "print(response.status_code)"
   ]
  },
  {
   "cell_type": "markdown",
   "metadata": {},
   "source": [
    "### Przykłady użycia:"
   ]
  },
  {
   "cell_type": "markdown",
   "metadata": {},
   "source": [
    "`config.json`"
   ]
  },
  {
   "cell_type": "code",
   "execution_count": null,
   "metadata": {},
   "outputs": [],
   "source": [
    "{\n",
    "    \"database\": {\n",
    "        \"host\": \"localhost\",\n",
    "        \"port\": 5432,\n",
    "        \"user\": \"admin\",\n",
    "        \"password\": \"securepassword\"\n",
    "    },\n",
    "    \"logging\": {\n",
    "        \"level\": \"DEBUG\",\n",
    "        \"file\": \"app.log\"\n",
    "    },\n",
    "    \"server\": {\n",
    "        \"host\": \"0.0.0.0\",\n",
    "        \"port\": 8080\n",
    "    }\n",
    "}\n"
   ]
  }
 ],
 "metadata": {
  "kernelspec": {
   "display_name": "Python 3",
   "language": "python",
   "name": "python3"
  },
  "language_info": {
   "codemirror_mode": {
    "name": "ipython",
    "version": 3
   },
   "file_extension": ".py",
   "mimetype": "text/x-python",
   "name": "python",
   "nbconvert_exporter": "python",
   "pygments_lexer": "ipython3",
   "version": "3.10.6"
  }
 },
 "nbformat": 4,
 "nbformat_minor": 2
}
