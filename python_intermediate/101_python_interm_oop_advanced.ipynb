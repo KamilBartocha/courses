{
 "cells": [
  {
   "attachments": {},
   "cell_type": "markdown",
   "metadata": {
    "slideshow": {
     "slide_type": "slide"
    }
   },
   "source": [
    "# 101 Python intermediate - programowanie obiektowe, zaawansowane\n",
    "_Kamil Bartocha_\n",
    "\n",
    "_wersja_ 0.0.1"
   ]
  },
  {
   "cell_type": "markdown",
   "metadata": {},
   "source": [
    "## Programowanie Obiektowe w Pythonie\n",
    "\n",
    "Programowanie obiektowe (Object-Oriented Programming, OOP) to paradygmat programowania, który opiera się na koncepcji obiektów i klas. W Pythonie, podobnie jak w innych językach programowania, OOP jest bardzo popularnym i skutecznym sposobem organizowania kodu, szczególnie w większych projektach.\n",
    "\n",
    "### Zalety OOP:\n",
    "- **Modularność**: OOP pozwala na tworzenie kodu, który jest bardziej modularny i łatwiejszy do zarządzania.\n",
    "- **Ponowne użycie kodu**: Dziedziczenie i polimorfizm umożliwiają ponowne użycie istniejącego kodu, co przyspiesza rozwój.\n",
    "- **Utrzymanie kodu**: Dzięki hermetyzacji zmniejsza się ryzyko błędów, ponieważ implementacja szczegółów jest ukryta przed użytkownikiem.\n",
    "\n",
    "Podsumowując, programowanie obiektowe w Pythonie pozwala na tworzenie złożonych aplikacji w sposób zorganizowany i skalowalny, co jest kluczowe w nowoczesnym oprogramowaniu.\n",
    "\n",
    "### Podstawowe pojęcia OOP:\n",
    "\n",
    "1. **Klasa**:\n",
    "   - Klasa to swoisty szablon dla obiektów. Definiuje ona atrybuty (cechy) i metody (zachowania), które będą wspólne dla wszystkich obiektów utworzonych na jej podstawie.\n",
    "   - Przykład klasy:\n",
    "\n",
    "     ```python\n",
    "     class Samochod:\n",
    "         def __init__(self, marka, model, rok):\n",
    "             self.marka = marka\n",
    "             self.model = model\n",
    "             self.rok = rok\n",
    "\n",
    "         def opis(self):\n",
    "             return f\"{self.marka} {self.model}, rok produkcji {self.rok}\"\n",
    "     ```\n",
    "\n",
    "2. **Obiekt**:\n",
    "   - Obiekt to konkretny egzemplarz klasy. Można powiedzieć, że jest to instancja klasy, czyli jej konkretna realizacja.\n",
    "   - Przykład tworzenia obiektu:\n",
    "\n",
    "     ```python\n",
    "     moj_samochod = Samochod(\"Toyota\", \"Corolla\", 2020)\n",
    "     print(moj_samochod.opis())\n",
    "     ```\n",
    "\n",
    "3. **Atrybuty**:\n",
    "   - Atrybuty to zmienne, które są przechowywane w obiekcie. Są one definiowane w klasie i mogą przechowywać różne wartości dla różnych obiektów.\n",
    "   - W powyższym przykładzie `marka`, `model` i `rok` to atrybuty klasy `Samochod`.\n",
    "\n",
    "4. **Metody**:\n",
    "   - Metody to funkcje zdefiniowane wewnątrz klasy, które opisują zachowania obiektu. Metody mogą manipulować atrybutami obiektu i wykonywać na nich różne operacje.\n",
    "   - Przykładem metody jest `opis` w klasie `Samochod`, która zwraca tekstowy opis obiektu.\n",
    "\n",
    "5. **Konstruktor (`__init__`)**:\n",
    "   - Konstruktor to specjalna metoda w Pythonie, która jest wywoływana automatycznie, gdy tworzony jest nowy obiekt. W konstruktorze często inicjalizuje się atrybuty obiektu.\n",
    "   - W naszym przykładzie metoda `__init__` przypisuje wartości dla atrybutów `marka`, `model`, i `rok`.\n",
    "\n",
    "6. **Dziedziczenie**:\n",
    "   - Dziedziczenie pozwala tworzyć nową klasę na podstawie innej klasy, dziedzicząc jej atrybuty i metody. Dzięki temu można rozszerzać funkcjonalność istniejących klas bez konieczności ich modyfikowania.\n",
    "   - Przykład dziedziczenia:\n",
    "\n",
    "     ```python\n",
    "\n",
    "        class ElektrycznySamochod(Samochod):\n",
    "            def opis_elektryczny(self):\n",
    "                return f\"elektryczny samochod: {self.marka} {self.model}\"\n",
    "     ```\n",
    "\n",
    "7. **Polimorfizm**:\n",
    "   - Polimorfizm to zdolność różnych klas do używania tych samych metod, ale z różnymi implementacjami. Dzięki temu można pisać bardziej elastyczny kod, który działa z różnymi typami obiektów.\n",
    "   - Przykład polimorfizmu:\n",
    "\n",
    "     ```python\n",
    "     class Zwierze:\n",
    "         def dzwiek(self):\n",
    "             pass\n",
    "\n",
    "     class Pies(Zwierze):\n",
    "         def dzwiek(self):\n",
    "             return \"Hau Hau\"\n",
    "\n",
    "     class Kot(Zwierze):\n",
    "         def dzwiek(self):\n",
    "             return \"Miau\"\n",
    "\n",
    "     def wydaj_dzwiek(zwierze):\n",
    "         print(zwierze.dzwiek())\n",
    "\n",
    "     pies = Pies()\n",
    "     kot = Kot()\n",
    "\n",
    "     wydaj_dzwiek(pies)  # Hau Hau\n",
    "     wydaj_dzwiek(kot)   # Miau\n",
    "     ```\n",
    "\n",
    "8. **Hermetyzacja (enkapsulacja)**:\n",
    "   - Hermetyzacja (enkapsulacja) to jedna z podstawowych zasad programowania obiektowego, która polega na ukrywaniu wewnętrznej implementacji obiektu i udostępnianiu tylko niezbędnych interfejsów (metod) do interakcji z obiektem. W Pythonie hermetyzację można osiągnąć poprzez oznaczanie atrybutów jako prywatnych, co zapobiega ich bezpośredniemu dostępowi z zewnątrz klasy.\n",
    "\n",
    "     ```python\n",
    "        class KontoBankowe:\n",
    "            def __init__(self, wlasciciel, saldo):\n",
    "                self.wlasciciel = wlasciciel\n",
    "                self.__saldo = saldo  # Atrybut prywatny\n",
    "\n",
    "            def wplac(self, kwota):\n",
    "                if kwota > 0:\n",
    "                    self.__saldo += kwota\n",
    "                    print(f\"Wpłacono {kwota}. Nowe saldo: {self.__saldo}\")\n",
    "                else:\n",
    "                    print(\"Kwota do wpłaty musi być większa niż 0.\")\n",
    "            def sprawdz_saldo(self):\n",
    "                return f\"Saldo konta: {self.__saldo}\"\n",
    "\n",
    "            konto1 = KontoBankowe(\"Jan Kowalski\", 1000)\n",
    "            konto1.wplac(500)               # Output: Wpłacono 500. Nowe saldo: 1500\n",
    "            print(konto1.sprawdz_saldo())   # Output: Saldo konta: 1500\n",
    "\n",
    "            # Próba dostępu do prywatnego atrybutu (powoduje błąd)\n",
    "            print(konto1.__saldo)\n",
    "            # AttributeError: 'KontoBankowe' object has no attribute '__saldo'\n",
    "\n",
    "\n",
    "     ```\n"
   ]
  },
  {
   "cell_type": "code",
   "execution_count": 1,
   "metadata": {},
   "outputs": [
    {
     "name": "stdout",
     "output_type": "stream",
     "text": [
      "BMW G20 330i, rok produkcji 2020\n",
      "elektryczny samochod: Tesla Model 3\n",
      "elektryczny samochod: Tesla Model 3\n"
     ]
    }
   ],
   "source": [
    "class Samochod:\n",
    "    def __init__(self, marka, model, rok):\n",
    "        self.marka = marka\n",
    "        self.model = model\n",
    "        self.rok = rok\n",
    "\n",
    "    def opis(self):\n",
    "        return f\"{self.marka} {self.model}, rok produkcji {self.rok}\"\n",
    "\n",
    "s1 = Samochod(\"BMW\", \"G20 330i\", 2020)\n",
    "print(s1.opis())\n",
    "\n",
    "class ElektrycznySamochod(Samochod):\n",
    "    def opis(self):\n",
    "        return f\"elektryczny samochod: {self.marka} {self.model}\"\n",
    "\n",
    "\n",
    "el = ElektrycznySamochod(\"Tesla\", \"Model 3\", 2022)\n",
    "print(el.opis())\n",
    "print(el.opis())"
   ]
  },
  {
   "cell_type": "markdown",
   "metadata": {},
   "source": [
    "### Przykłady:\n",
    "\n"
   ]
  },
  {
   "cell_type": "code",
   "execution_count": 13,
   "metadata": {},
   "outputs": [
    {
     "name": "stdout",
     "output_type": "stream",
     "text": [
      "Buddy says Woof!\n"
     ]
    }
   ],
   "source": [
    "class Dog:\n",
    "    def __init__(self, name, breed, age):\n",
    "        self.name = name\n",
    "        self.breed = breed\n",
    "        self.age = age\n",
    "\n",
    "    def bark(self):\n",
    "        return f\"{self.name} says Woof!\"\n",
    "\n",
    "# Example usage:\n",
    "dog1 = Dog(\"Buddy\", \"Golden Retriever\", 3)\n",
    "print(dog1.bark())  # Output: Buddy says Woof!\n"
   ]
  },
  {
   "cell_type": "code",
   "execution_count": 14,
   "metadata": {},
   "outputs": [
    {
     "name": "stdout",
     "output_type": "stream",
     "text": [
      "'1984' by George Orwell, published in 1949\n"
     ]
    }
   ],
   "source": [
    "class Book:\n",
    "    def __init__(self, title, author, year):\n",
    "        self.title = title\n",
    "        self.author = author\n",
    "        self.year = year\n",
    "\n",
    "    def get_info(self):\n",
    "        return f\"'{self.title}' by {self.author}, published in {self.year}\"\n",
    "\n",
    "# Example usage:\n",
    "book1 = Book(\"1984\", \"George Orwell\", 1949)\n",
    "print(book1.get_info())  # Output: '1984' by George Orwell, published in 1949\n"
   ]
  },
  {
   "cell_type": "code",
   "execution_count": 15,
   "metadata": {},
   "outputs": [
    {
     "name": "stdout",
     "output_type": "stream",
     "text": [
      "88.75\n"
     ]
    }
   ],
   "source": [
    "class Student:\n",
    "    def __init__(self, name, student_id, grades):\n",
    "        self.name = name\n",
    "        self.student_id = student_id\n",
    "        self.grades = grades\n",
    "\n",
    "    def average_grade(self):\n",
    "        return sum(self.grades) / len(self.grades)\n",
    "\n",
    "# Example usage:\n",
    "student1 = Student(\"Alice\", \"S12345\", [90, 85, 88, 92])\n",
    "print(student1.average_grade())  # Output: 88.75\n"
   ]
  },
  {
   "cell_type": "code",
   "execution_count": 16,
   "metadata": {},
   "outputs": [
    {
     "name": "stdout",
     "output_type": "stream",
     "text": [
      "Deposited 500. New balance: 1500\n",
      "Withdrew 200. New balance: 1300\n",
      "Account balance: 1300\n"
     ]
    }
   ],
   "source": [
    "class BankAccount:\n",
    "    def __init__(self, account_holder, account_number, balance=0):\n",
    "        self.account_holder = account_holder\n",
    "        self.account_number = account_number\n",
    "        self.balance = balance\n",
    "\n",
    "    def deposit(self, amount):\n",
    "        self.balance += amount\n",
    "        return f\"Deposited {amount}. New balance: {self.balance}\"\n",
    "\n",
    "    def withdraw(self, amount):\n",
    "        if amount > self.balance:\n",
    "            return \"Insufficient funds\"\n",
    "        self.balance -= amount\n",
    "        return f\"Withdrew {amount}. New balance: {self.balance}\"\n",
    "\n",
    "    def check_balance(self):\n",
    "        return f\"Account balance: {self.balance}\"\n",
    "\n",
    "# Example usage:\n",
    "account1 = BankAccount(\"John Doe\", \"1234567890\", 1000)\n",
    "print(account1.deposit(500))       # Output: Deposited 500. New balance: 1500\n",
    "print(account1.withdraw(200))      # Output: Withdrew 200. New balance: 1300\n",
    "print(account1.check_balance())    # Output: Account balance: 1300\n"
   ]
  },
  {
   "cell_type": "code",
   "execution_count": 20,
   "metadata": {},
   "outputs": [
    {
     "name": "stdout",
     "output_type": "stream",
     "text": [
      "Toyota Camry rented successfully.\n",
      "Toyota Camry returned. Total cost: 150 EUR.\n"
     ]
    }
   ],
   "source": [
    "class CarRental:\n",
    "    def __init__(self, car_model, rate_per_day, is_available=True):\n",
    "        self.car_model = car_model\n",
    "        self.rate_per_day = rate_per_day\n",
    "        self.is_available = is_available\n",
    "\n",
    "    def rent_car(self):\n",
    "        if self.is_available:\n",
    "            self.is_available = False\n",
    "            return f\"{self.car_model} rented successfully.\"\n",
    "        return f\"{self.car_model} is currently unavailable.\"\n",
    "\n",
    "    def return_car(self, days_rented):\n",
    "        self.is_available = True\n",
    "        currency = 'EUR'\n",
    "        total_cost = days_rented * self.rate_per_day\n",
    "        return f\"{self.car_model} returned. Total cost: {total_cost} {currency}.\"\n",
    "\n",
    "# Example usage:\n",
    "rental1 = CarRental(\"Toyota Camry\", 50)\n",
    "print(rental1.rent_car())           # Output: Toyota Camry rented successfully.\n",
    "print(rental1.return_car(3))        # Output: Toyota Camry returned. Total cost: 150.\n"
   ]
  },
  {
   "cell_type": "code",
   "execution_count": 23,
   "metadata": {},
   "outputs": [
    {
     "name": "stdout",
     "output_type": "stream",
     "text": [
      "Added Laptop to the cart.\n",
      "Added Mouse to the cart.\n",
      "Total cost: 2024\n",
      "Removed Mouse from the cart.\n",
      "Total cost: 1999\n"
     ]
    }
   ],
   "source": [
    "class ShoppingCart:\n",
    "    def __init__(self):\n",
    "        self.items = []\n",
    "\n",
    "    def add_item(self, item_name, price):\n",
    "        self.items.append({\"name\": item_name, \"price\": price})\n",
    "        return f\"Added {item_name} to the cart.\"\n",
    "\n",
    "    def remove_item(self, item_name):\n",
    "        for item in self.items:\n",
    "            if item[\"name\"] == item_name:\n",
    "                self.items.remove(item)\n",
    "                return f\"Removed {item_name} from the cart.\"\n",
    "        return f\"{item_name} not found in the cart.\"\n",
    "\n",
    "    def calculate_total(self):\n",
    "        total = sum(item[\"price\"] for item in self.items)\n",
    "        return f\"Total cost: {total}\"\n",
    "\n",
    "# Example usage:\n",
    "cart = ShoppingCart()\n",
    "print(cart.add_item(\"Laptop\", 1999))\n",
    "print(cart.add_item(\"Mouse\", 25))\n",
    "print(cart.calculate_total())\n",
    "print(cart.remove_item(\"Mouse\"))\n",
    "print(cart.calculate_total())"
   ]
  },
  {
   "cell_type": "code",
   "execution_count": 26,
   "metadata": {},
   "outputs": [
    {
     "name": "stdout",
     "output_type": "stream",
     "text": [
      "Employee: Jan Kowsalsky, Position: Software Engineer, Salary: 15000\n",
      "Jan Kowsalsky got a raise. New salary: 16500\n"
     ]
    }
   ],
   "source": [
    "class Employee:\n",
    "    def __init__(self, name, position, salary):\n",
    "        self.name = name\n",
    "        self.position = position\n",
    "        self.salary = salary\n",
    "\n",
    "    def give_raise(self, amount):\n",
    "        self.salary += amount\n",
    "        return f\"{self.name} got a raise. New salary: {self.salary}\"\n",
    "\n",
    "    def display_employee(self):\n",
    "        return f\"Employee: {self.name}, Position: {self.position}, Salary: {self.salary}\"\n",
    "\n",
    "# Example usage:\n",
    "employee1 = Employee(\"Jan Kowsalsky\", \"Software Engineer\", 15000)\n",
    "print(employee1.display_employee())\n",
    "print(employee1.give_raise(1500))\n"
   ]
  },
  {
   "cell_type": "markdown",
   "metadata": {},
   "source": [
    "### `super()` w Pythonie\n",
    "\n",
    "`super()` w Pythonie to wbudowana funkcja, która pozwala odwołać się do klasy bazowej (nadrzędnej) w hierarchii dziedziczenia. Używając `super()`, możemy wywołać metody lub konstruktory z klasy bazowej, co jest szczególnie przydatne w klasach dziedziczących, gdy chcemy rozszerzyć lub nadpisać funkcjonalność klas bazowych.\n",
    "\n",
    "### Główne zastosowania `super()`:\n",
    "\n",
    "1. **Wywoływanie konstruktora klasy bazowej**:\n",
    "   - `super().__init__()` wywołuje konstruktor klasy bazowej, co pozwala zainicjalizować atrybuty odziedziczone z tej klasy.\n",
    "   \n",
    "2. **Wywoływanie metod klasy bazowej**:\n",
    "   - `super().method_name()` wywołuje metodę z klasy bazowej, co pozwala na rozbudowę lub zmianę jej działania w klasie pochodnej.\n",
    "\n",
    "### Przykład 1: Dziedziczenie z wykorzystaniem `super()` w konstruktorze\n",
    "\n",
    "```python\n",
    "class Pojazd:\n",
    "    def __init__(self, marka, model):\n",
    "        self.marka = marka\n",
    "        self.model = model\n",
    "\n",
    "    def opis(self):\n",
    "        return f\"Pojazd: {self.marka} {self.model}\"\n",
    "\n",
    "class Samochod(Pojazd):\n",
    "    def __init__(self, marka, model, liczba_drzwi):\n",
    "        super().__init__(marka, model)  # Wywołanie konstruktora klasy bazowej\n",
    "        self.liczba_drzwi = liczba_drzwi\n",
    "\n",
    "    def opis(self):\n",
    "        # Rozszerzenie metody opis z klasy bazowej\n",
    "        podstawowy_opis = super().opis()  # Wywołanie metody 'opis' z klasy bazowej\n",
    "        return f\"{podstawowy_opis}, liczba drzwi: {self.liczba_drzwi}\"\n",
    "\n",
    "# Przykład użycia:\n",
    "samochod1 = Samochod(\"Toyota\", \"Corolla\", 4)\n",
    "print(samochod1.opis())  # Output: Pojazd: Toyota Corolla, liczba drzwi: 4\n",
    "```\n",
    "\n",
    "### Wyjaśnienie:\n",
    "1. **Wywołanie konstruktora klasy bazowej:**\n",
    "\n",
    "W klasie Samochod, `super().__init__(marka, model)` wywołuje konstruktor klasy Pojazd, co inicjalizuje atrybuty marka i model. To pozwala uniknąć konieczności powielania kodu inicjalizującego te atrybuty.\n",
    "\n",
    "2. **Rozszerzenie metody opis:**\n",
    "\n",
    "`super().opis()` wywołuje metodę opis z klasy bazowej Pojazd. Następnie ta metoda jest rozszerzana o dodatkowe informacje w klasie Samochod.\n",
    "\n",
    "### Przykład 2: Dziedziczenie wielokrotne i `super()`\n",
    "W dziedziczeniu wielokrotnym `super()` jest szczególnie przydatne, ponieważ pozwala na wywoływanie metod z klas bazowych zgodnie z kolejnością ustaloną przez Method Resolution Order (MRO).\n",
    "\n",
    "```python\n",
    "class A:\n",
    "    def __init__(self):\n",
    "        print(\"Inicjalizacja A\")\n",
    "\n",
    "class B(A):\n",
    "    def __init__(self):\n",
    "        print(\"Inicjalizacja B\")\n",
    "        super().__init__()  # Wywołuje konstruktor A\n",
    "\n",
    "class C(A):\n",
    "    def __init__(self):\n",
    "        print(\"Inicjalizacja C\")\n",
    "        super().__init__()  # Wywołuje konstruktor A\n",
    "\n",
    "class D(B, C):\n",
    "    def __init__(self):\n",
    "        print(\"Inicjalizacja D\")\n",
    "        super().__init__()  # Wywołuje konstruktor B i C w odpowiedniej kolejności (MRO)\n",
    "\n",
    "# Przykład użycia:\n",
    "d = D()\n",
    "# Output:\n",
    "# Inicjalizacja D\n",
    "# Inicjalizacja B\n",
    "# Inicjalizacja C\n",
    "# Inicjalizacja A\n",
    "```\n",
    "\n",
    "### Wyjaśnienie:\n",
    "1. **Kolejność wywołań:**\n",
    "\n",
    "- `super()` w klasie `D` wywołuje najpierw konstruktor klasy `B`, który z kolei wywołuje `super().__init__()` i przechodzi do klasy `C`, a potem do klasy `A`.\n",
    "- Python ustala kolejność wywołań na podstawie MRO (Method Resolution Order), co w przypadku klasy `D` jest kolejnością: `D -> B -> C -> A`.\n",
    "\n",
    "\n",
    "2. **Zarządzanie złożonym dziedziczeniem:**\n",
    "\n",
    "- Dzięki `super()` można zarządzać wywołaniami metod z wielu klas bazowych bez ręcznego kontrolowania kolejności, co czyni kod bardziej przejrzystym i mniej podatnym na błędy.\n",
    "\n",
    "\n",
    "## Podsumowanie:\n",
    "`super()` to potężne narzędzie, które upraszcza dziedziczenie w Pythonie, pozwalając na łatwe rozszerzanie i modyfikowanie funkcji klas bazowych oraz efektywne zarządzanie dziedziczeniem wielokrotnym."
   ]
  },
  {
   "cell_type": "code",
   "execution_count": 2,
   "metadata": {},
   "outputs": [
    {
     "name": "stdout",
     "output_type": "stream",
     "text": [
      "Catch exception Error Code: 404\n"
     ]
    }
   ],
   "source": [
    "class SuperError(Exception):\n",
    "    def __init__(self, message, error_code=None):\n",
    "        super().__init__(message)\n",
    "        self.error_code = error_code\n",
    "\n",
    "    def __str__(self):\n",
    "        if self.error_code:\n",
    "            return f\"Error Code: {self.error_code}\"\n",
    "        else:\n",
    "            return None\n",
    "\n",
    "try:\n",
    "    raise SuperError(\"Error\", error_code=404)\n",
    "except SuperError as e:\n",
    "    print(f\"Catch exception {e}\")\n"
   ]
  },
  {
   "cell_type": "markdown",
   "metadata": {},
   "source": [
    "## Dziedziczenie przykłady"
   ]
  },
  {
   "cell_type": "markdown",
   "metadata": {},
   "source": [
    "1. **Zwierzę i jego podklasy: Pies i Kot**\n",
    "\n",
    "W tym przykładzie mamy klasę bazową `Zwierze`, która definiuje podstawowe atrybuty i metody dla różnych zwierząt. Klasy `Pies` i `Kot` dziedziczą po klasie `Zwierze` i dodają swoje specyficzne metody."
   ]
  },
  {
   "cell_type": "code",
   "execution_count": 3,
   "metadata": {},
   "outputs": [
    {
     "name": "stdout",
     "output_type": "stream",
     "text": [
      "Burek, wiek: 5\n",
      "Hau Hau!\n",
      "Mruczek, wiek: 3\n",
      "Miau Miau!\n"
     ]
    }
   ],
   "source": [
    "class Zwierze:\n",
    "    def __init__(self, imie, wiek):\n",
    "        self.imie = imie\n",
    "        self.wiek = wiek\n",
    "\n",
    "    def opis(self):\n",
    "        return f\"{self.imie}, wiek: {self.wiek}\"\n",
    "\n",
    "    def dzwiek(self):\n",
    "        raise NotImplementedError(\"Ta metoda powinna być nadpisana przez podklasę\")\n",
    "\n",
    "class Pies(Zwierze):\n",
    "    def dzwiek(self):\n",
    "        return \"Hau Hau!\"\n",
    "\n",
    "\n",
    "class Kot(Zwierze):\n",
    "    def dzwiek(self):\n",
    "        return \"Miau Miau!\"\n",
    "\n",
    "\n",
    "pies1 = Pies(\"Burek\", 5)\n",
    "kot1 = Kot(\"Mruczek\", 3)\n",
    "\n",
    "print(pies1.opis())    # Output: Burek, wiek: 5\n",
    "print(pies1.dzwiek())  # Output: Hau Hau!\n",
    "\n",
    "print(kot1.opis())     # Output: Mruczek, wiek: 3\n",
    "print(kot1.dzwiek())   # Output: Miau Miau!\n",
    "\n",
    "zw = Zwierze(\"Devon\", 1)\n",
    "# zw.dzwiek()"
   ]
  },
  {
   "cell_type": "markdown",
   "metadata": {},
   "source": [
    "### 2. **Pojazd i jego podklasy: Samochód i Motocykl**\n",
    "\n",
    "W tym przykładzie mamy klasę bazową `Pojazd`, która definiuje podstawowe atrybuty i metody wspólne dla różnych typów pojazdów. Klasy `Samochod` i `Motocykl` dziedziczą po klasie `Pojazd` i dodają swoje specyficzne atrybuty i metody.\n",
    "\n"
   ]
  },
  {
   "cell_type": "code",
   "execution_count": 9,
   "metadata": {},
   "outputs": [
    {
     "name": "stdout",
     "output_type": "stream",
     "text": [
      "Toyota Corolla, rok produkcji None - 3-drzwiowy\n",
      "Yamaha MT-07, rok produkcji 2019 - typ: Naked\n"
     ]
    }
   ],
   "source": [
    "class Pojazd:\n",
    "    def __init__(self, marka, model, rok):\n",
    "        self.marka = marka\n",
    "        self.model = model\n",
    "        self.rok = rok\n",
    "\n",
    "    def opis(self):\n",
    "        return f\"{self.marka} {self.model}, rok produkcji {self.rok}\"\n",
    "\n",
    "\n",
    "class Samochod(Pojazd):\n",
    "    def __init__(self, marka, model, rok, liczba_drzwi=None):\n",
    "        super().__init__(marka, model, rok)\n",
    "        self.liczba_drzwi = liczba_drzwi\n",
    "\n",
    "    def opis(self):\n",
    "        return f\"{super().opis()} - {self.liczba_drzwi}-drzwiowy\"\n",
    "\n",
    "\n",
    "class Motocykl(Pojazd):\n",
    "    def __init__(self, marka, model, rok, typ=None):\n",
    "        super().__init__(marka, model, rok)\n",
    "        self.typ = typ\n",
    "\n",
    "    def opis(self):\n",
    "        return f\"{super().opis()} - typ: {self.typ}\"\n",
    "\n",
    "# Przykład użycia:\n",
    "samochod1 = Samochod(\"Toyota\", \"Corolla\", liczba_drzwi=3)\n",
    "motocykl1 = Motocykl(\"Yamaha\", \"MT-07\", 2019, \"Naked\")\n",
    "\n",
    "print(samochod1.opis())  # Output: Toyota Corolla, rok produkcji 2020 - 4-drzwiowy\n",
    "print(motocykl1.opis())  # Output: Yamaha MT-07, rok produkcji 2019 - typ: Naked\n"
   ]
  },
  {
   "cell_type": "markdown",
   "metadata": {},
   "source": [
    "## Dziedziczenie wielopoziomowe"
   ]
  },
  {
   "cell_type": "markdown",
   "metadata": {},
   "source": [
    "Wielopoziomowe dziedziczenie w Pythonie odnosi się do sytuacji, gdy klasa dziedziczy z innej klasy, która sama również dziedziczy z klasy bazowej. Oznacza to, że istnieje hierarchia klas, w której każda klasa dziedziczy właściwości i metody z klasy nadrzędnej, a także może rozszerzać lub nadpisywać te właściwości.\n",
    "\n",
    "#### Definiowanie klas\n",
    "\n",
    "1. Klasa `A` jest klasą bazową.\n",
    "2. Klasa `B` dziedziczy z klasy `A`.\n",
    "3. Klasa `C` dziedziczy z klasy `B`.\n",
    "\n",
    "#### Dziedziczenie właściwości i metod\n",
    "\n",
    "- Klasa `C` dziedziczy wszystkie właściwości i metody z klasy `B`, a także te z klasy `A`.\n",
    "- Klasa `B` dziedziczy właściwości i metody z klasy `A`.\n",
    "\n",
    "#### Method Resolution Order (MRO)\n",
    "\n",
    "- Python ustala, w jakiej kolejności metody są wywoływane w hierarchii dziedziczenia za pomocą algorytmu C3 linearization. Umożliwia to prawidłowe wywoływanie metod w przypadku, gdy klasy dziedziczą z wielu klas nadrzędnych.\n",
    "\n",
    "#### Przykład wielopoziomowego dziedziczenia\n",
    "\n",
    "```python\n",
    "class A:\n",
    "    def __init__(self):\n",
    "        print(\"Inicjalizacja A\")\n",
    "\n",
    "    def metoda_a(self):\n",
    "        print(\"Metoda z klasy A\")\n",
    "\n",
    "class B(A):\n",
    "    def __init__(self):\n",
    "        super().__init__()  # Wywołanie konstruktora klasy A\n",
    "        print(\"Inicjalizacja B\")\n",
    "\n",
    "    def metoda_b(self):\n",
    "        print(\"Metoda z klasy B\")\n",
    "\n",
    "class C(B):\n",
    "    def __init__(self):\n",
    "        super().__init__()  # Wywołanie konstruktora klasy B\n",
    "        print(\"Inicjalizacja C\")\n",
    "\n",
    "    def metoda_c(self):\n",
    "        print(\"Metoda z klasy C\")\n",
    "\n",
    "# Przykład użycia:\n",
    "obiekt_c = C()\n",
    "obiekt_c.metoda_a()  # Output: Metoda z klasy A\n",
    "obiekt_c.metoda_b()  # Output: Metoda z klasy B\n",
    "obiekt_c.metoda_c()  # Output: Metoda z klasy C\n",
    "```\n",
    "\n",
    "### Wyjaśnienie\n",
    "\n",
    "1. **Inicjalizacja klas**:\n",
    "   - Przy tworzeniu obiektu klasy `C`, konstruktor klasy `C` wywołuje konstruktor klasy `B` za pomocą `super().__init__()`, a konstruktor klasy `B` wywołuje konstruktor klasy `A`. Dzięki temu, inicjalizacja następuje w kolejności od najstarszej klasy (`A`) do najnowszej (`C`).\n",
    "\n",
    "2. **Wywoływanie metod**:\n",
    "   - Metody dziedziczone są dostępne w klasie potomnej. Na przykład, obiekt klasy `C` może wywołać metodę `metoda_a` z klasy `A`, metodę `metoda_b` z klasy `B`, i metodę `metoda_c` z klasy `C`.\n",
    "\n",
    "3. **Metoda Resolution Order (MRO)**:\n",
    "   - Python używa algorytmu MRO do ustalania kolejności, w jakiej klasy są sprawdzane przy wywoływaniu metod. MRO zapewnia, że metody są wywoływane w odpowiedniej kolejności w hierarchii dziedziczenia. MRO można sprawdzić za pomocą `ClassName.__mro__` lub `ClassName.mro()`.\n",
    "\n",
    "   - `__mro__` zwraca krotkę klas w kolejności, w jakiej Python przeszukuje hierarchię dziedziczenia, aby znaleźć metodę lub atrybut. Krotka zawiera wszystkie klasy w kolejności, w jakiej będą sprawdzane, począwszy od najbliższej klasy pochodnej do najstarszej klasy bazowej, kończąc na wbudowanej klasie object.\n",
    "\n",
    "```python\n",
    "print(C.__mro__)\n",
    "# Output: (<class '__main__.C'>, <class '__main__.B'>, <class '__main__.A'>, <class 'object'>)\n",
    "```\n",
    "\n",
    "### Podsumowanie\n",
    "\n",
    "Wielopoziomowe dziedziczenie w Pythonie pozwala na tworzenie złożonych hierarchii klas, gdzie każda klasa dziedziczy właściwości i metody z klas nadrzędnych. Klasa potomna (`C`) dziedziczy z klasy pośredniej (`B`), która z kolei dziedziczy z klasy bazowej (`A`). Python zarządza hierarchią dziedziczenia za pomocą algorytmu MRO, który zapewnia prawidłowe wywoływanie metod w przypadku złożonych hierarchii dziedziczenia.\n",
    "\n",
    "\n"
   ]
  },
  {
   "cell_type": "code",
   "execution_count": 37,
   "metadata": {},
   "outputs": [
    {
     "name": "stdout",
     "output_type": "stream",
     "text": [
      "Inicjalizacja A\n",
      "Inicjalizacja B\n",
      "Inicjalizacja C\n",
      "Metoda z klasy A\n",
      "Metoda z klasy B\n",
      "Metoda z klasy C\n",
      "(<class '__main__.C'>, <class '__main__.B'>, <class '__main__.A'>, <class 'object'>)\n"
     ]
    }
   ],
   "source": [
    "class A:\n",
    "    def __init__(self):\n",
    "        print(\"Inicjalizacja A\")\n",
    "\n",
    "    def metoda_a(self):\n",
    "        print(\"Metoda z klasy A\")\n",
    "\n",
    "class B(A):\n",
    "    def __init__(self):\n",
    "        super().__init__()  # Wywołanie konstruktora klasy A\n",
    "        print(\"Inicjalizacja B\")\n",
    "\n",
    "    def metoda_b(self):\n",
    "        print(\"Metoda z klasy B\")\n",
    "\n",
    "class C(B):\n",
    "    def __init__(self):\n",
    "        super().__init__()  # Wywołanie konstruktora klasy B\n",
    "        print(\"Inicjalizacja C\")\n",
    "\n",
    "    def metoda_c(self):\n",
    "        print(\"Metoda z klasy C\")\n",
    "\n",
    "# Przykład użycia:\n",
    "obiekt_c = C()\n",
    "obiekt_c.metoda_a()  # Output: Metoda z klasy A\n",
    "obiekt_c.metoda_b()  # Output: Metoda z klasy B\n",
    "obiekt_c.metoda_c()  # Output: Metoda z klasy C\n",
    "\n",
    "\n",
    "print(C.__mro__)\n",
    "# Output: (<class '__main__.C'>, <class '__main__.B'>, <class '__main__.A'>, <class 'object'>)\n",
    "\n"
   ]
  },
  {
   "cell_type": "code",
   "execution_count": 10,
   "metadata": {},
   "outputs": [
    {
     "name": "stdout",
     "output_type": "stream",
     "text": [
      "(<class '__main__.D'>, <class '__main__.B'>, <class '__main__.C'>, <class '__main__.A'>, <class 'object'>)\n"
     ]
    }
   ],
   "source": [
    "class A:\n",
    "    pass\n",
    "\n",
    "class B(A):\n",
    "    pass\n",
    "\n",
    "class C(A):\n",
    "    pass\n",
    "\n",
    "class D(B, C):\n",
    "    pass\n",
    "\n",
    "# Uzyskanie MRO dla klasy D\n",
    "print(D.__mro__)\n"
   ]
  },
  {
   "cell_type": "markdown",
   "metadata": {},
   "source": [
    "### Employee Management System\n",
    "\n",
    "1. `Person`: A base class representing a person.\n",
    "2. `Employee`: A class that inherits from `Person` and adds attributes specific to employees.\n",
    "3. `Manager`: A class that inherits from `Employee` and adds attributes specific to managers."
   ]
  },
  {
   "cell_type": "code",
   "execution_count": 39,
   "metadata": {},
   "outputs": [
    {
     "name": "stdout",
     "output_type": "stream",
     "text": [
      "Name: Alice Smith, Age: 40, Employee ID: E12345, Department: Marketing\n"
     ]
    }
   ],
   "source": [
    "class Person:\n",
    "    def __init__(self, name, age):\n",
    "        self.name = name\n",
    "        self.age = age\n",
    "\n",
    "    def display_info(self):\n",
    "        \"\"\"Display basic information about the person.\"\"\"\n",
    "        return f\"Name: {self.name}, Age: {self.age}\"\n",
    "\n",
    "class Employee(Person):\n",
    "    def __init__(self, name, age, employee_id):\n",
    "        super().__init__(name, age)  # Initialize attributes from Person\n",
    "        self.employee_id = employee_id\n",
    "\n",
    "    def display_info(self):\n",
    "        \"\"\"Display information about the employee.\"\"\"\n",
    "        base_info = super().display_info()  # Get base information from Person\n",
    "        return f\"{base_info}, Employee ID: {self.employee_id}\"\n",
    "\n",
    "class Manager(Employee):\n",
    "    def __init__(self, name, age, employee_id, department):\n",
    "        super().__init__(name, age, employee_id)  # Initialize attributes from Employee\n",
    "        self.department = department\n",
    "\n",
    "    def display_info(self):\n",
    "        \"\"\"Display detailed information about the manager.\"\"\"\n",
    "        base_info = super().display_info()  # Get base information from Employee\n",
    "        return f\"{base_info}, Department: {self.department}\"\n",
    "\n",
    "# Example usage:\n",
    "manager = Manager(\"Alice Smith\", 40, \"E12345\", \"Marketing\")\n",
    "print(manager.display_info())\n"
   ]
  },
  {
   "cell_type": "markdown",
   "metadata": {},
   "source": [
    "## Hermetyzacja przykłady\n",
    "\n",
    "Hermetyzacja w Pythonie polega na ukrywaniu wewnętrznej struktury klasy i zapewnianiu tylko niezbędnych metod do interakcji z obiektem. Pomaga to w zachowaniu spójności danych i chroni przed przypadkowym uszkodzeniem obiektów.\n",
    "\n",
    "W Pythonie atrybuty można uczynić prywatnymi, dodając dwa podkreślenia (__) przed nazwą atrybutu.\n",
    "\n"
   ]
  },
  {
   "cell_type": "code",
   "execution_count": 11,
   "metadata": {},
   "outputs": [
    {
     "name": "stdout",
     "output_type": "stream",
     "text": [
      "Wpłacono 500. Nowe saldo: 1500\n",
      "Wypłacono 300. Nowe saldo: 1200\n",
      "Saldo konta: 1200\n",
      "1200\n",
      "100\n"
     ]
    }
   ],
   "source": [
    "class KontoBankowe:\n",
    "    def __init__(self, wlasciciel, saldo):\n",
    "        self.wlasciciel = wlasciciel\n",
    "        self.__saldo = saldo  # Atrybut prywatny\n",
    "\n",
    "    def wplac(self, kwota):\n",
    "        if kwota > 0:\n",
    "            self.__saldo += kwota\n",
    "            print(f\"Wpłacono {kwota}. Nowe saldo: {self.__saldo}\")\n",
    "        else:\n",
    "            print(\"Kwota do wpłaty musi być większa niż 0.\")\n",
    "\n",
    "    def wyplac(self, kwota):\n",
    "        if 0 < kwota <= self.__saldo:\n",
    "            self.__saldo -= kwota\n",
    "            print(f\"Wypłacono {kwota}. Nowe saldo: {self.__saldo}\")\n",
    "        else:\n",
    "            print(\"Niewystarczające środki lub niepoprawna kwota.\")\n",
    "\n",
    "    def sprawdz_saldo(self):\n",
    "        return f\"Saldo konta: {self.__saldo}\"\n",
    "\n",
    "# Przykład użycia:\n",
    "konto1 = KontoBankowe(\"Jan Kowalski\", 1000)\n",
    "konto1.wplac(500)               # Output: Wpłacono 500. Nowe saldo: 1500\n",
    "konto1.wyplac(300)              # Output: Wypłacono 300. Nowe saldo: 1200\n",
    "print(konto1.sprawdz_saldo())   # Output: Saldo konta: 1200\n",
    "\n",
    "# Próba dostępu do prywatnego atrybutu (powoduje błąd)\n",
    "# print(konto1.__saldo)  # AttributeError: 'KontoBankowe' object has no attribute '__saldo'\n",
    "\n",
    "# Możliwy, ale niezalecany sposób dostępu do prywatnego atrybutu (obejście)\n",
    "print(konto1._KontoBankowe__saldo)  # Output: 1200\n",
    "konto1._KontoBankowe__saldo = 100\n",
    "print(konto1._KontoBankowe__saldo)  # Output: 1200\n",
    "\n"
   ]
  },
  {
   "cell_type": "markdown",
   "metadata": {},
   "source": [
    "### Wyjaśnienie:\n",
    "\n",
    "1. **Prywatny atrybut**:\n",
    "   - W Pythonie atrybuty można uczynić prywatnymi, dodając dwa podkreślenia (`__`) przed nazwą atrybutu. W przykładzie `self.__saldo` jest atrybutem prywatnym, co oznacza, że nie można go bezpośrednio odczytać ani zmodyfikować z zewnątrz klasy.\n",
    "\n",
    "2. **Metody publiczne**:\n",
    "   - Klasa `KontoBankowe` udostępnia publiczne metody (`wplac`, `wyplac`, `sprawdz_saldo`), które pozwalają na kontrolowaną interakcję z prywatnym atrybutem `__saldo`. Dzięki temu możemy wpłacać, wypłacać pieniądze i sprawdzać saldo konta bez bezpośredniego dostępu do samego atrybutu.\n",
    "\n",
    "3. **Ochrona danych**:\n",
    "   - Hermetyzacja chroni atrybuty przed przypadkowym lub nieautoryzowanym dostępem lub modyfikacją z zewnątrz klasy, co zwiększa bezpieczeństwo i integralność danych.\n",
    "\n",
    "4. ***Dostęp do prywatnego atrybutu**:\n",
    "   - W Pythonie prywatne atrybuty są tak naprawdę dostępne, ale pod zmienioną nazwą (name mangling). Na przykład `__saldo` w rzeczywistości jest przechowywane jako `_KontoBankowe__saldo`. Jednak bezpośredni dostęp do takich atrybutów jest niezalecany, ponieważ łamie zasadę hermetyzacji.\n",
    "\n"
   ]
  },
  {
   "cell_type": "markdown",
   "metadata": {},
   "source": [
    "### Przykład `Rectangle`"
   ]
  },
  {
   "cell_type": "code",
   "execution_count": 35,
   "metadata": {},
   "outputs": [
    {
     "name": "stdout",
     "output_type": "stream",
     "text": [
      "Area: 50\n",
      "Perimeter: 30\n",
      "Dimensions: (5, 10)\n",
      "5\n"
     ]
    }
   ],
   "source": [
    "class Rectangle:\n",
    "    def __init__(self, width, height):\n",
    "        self.__width = width\n",
    "        self.__height = height\n",
    "\n",
    "    def set_dimensions(self, width, height):\n",
    "        \"\"\"Set the dimensions of the rectangle.\"\"\"\n",
    "        if width > 0 and height > 0:\n",
    "            self.__width = width\n",
    "            self.__height = height\n",
    "            print(f\"Dimensions set to width: {self.__width} and height: {self.__height}.\")\n",
    "        else:\n",
    "            print(\"Width and height must be positive values.\")\n",
    "\n",
    "    def get_area(self):\n",
    "        \"\"\"Calculate the area of the rectangle.\"\"\"\n",
    "        return self.__width * self.__height\n",
    "\n",
    "    def get_perimeter(self):\n",
    "        \"\"\"Calculate the perimeter of the rectangle.\"\"\"\n",
    "        return 2 * (self.__width + self.__height)\n",
    "\n",
    "    def get_dimensions(self):\n",
    "        \"\"\"Get the current dimensions of the rectangle.\"\"\"\n",
    "        return (self.__width, self.__height)\n",
    "\n",
    "# Example usage:\n",
    "rect = Rectangle(5, 10)\n",
    "print(f\"Area: {rect.get_area()}\")              # Output: Area: 50\n",
    "print(f\"Perimeter: {rect.get_perimeter()}\")    # Output: Perimeter: 30\n",
    "print(f\"Dimensions: {rect.get_dimensions()}\")  # Output: Dimensions: (5, 10)\n",
    "\n",
    "# Attempt to access private attributes directly\n",
    "# print(rect.__width)  # This will cause an error: AttributeError: 'Rectangle' object has no attribute '__width'\n",
    "\n",
    "# Accessing private attribute through name mangling (not recommended)\n",
    "print(rect._Rectangle__width)  # Output: 5\n"
   ]
  },
  {
   "cell_type": "markdown",
   "metadata": {},
   "source": [
    "## Przeciążanie metod specjalnych w pythonie\n",
    "\n",
    "W Pythonie przeciążanie metod specjalnych polega na definiowaniu lub nadpisywaniu metod, które mają specjalne znaczenie dla działania obiektów i ich interakcji z różnymi operacjami. Metody te, znane również jako metody dunder (od *double underscore*, czyli podwójne podkreślenie), są używane do definiowania, jak obiekty zachowują się w różnych kontekstach, takich jak dodawanie, porównywanie, czy reprezentowanie obiektów.\n",
    "\n",
    "## Jak działają metody specjalne?\n",
    "\n",
    "Metody specjalne w Pythonie są to metody, które zaczynają się i kończą na podwójne podkreślenie, np. `__init__`, `__str__`, `__add__`. Definiując te metody w klasie, możesz kontrolować, jak obiekty tej klasy będą zachowywać się w różnych sytuacjach.\n",
    "\n",
    "### Przykłady przeciążania metod specjalnych\n",
    "\n",
    "1. **Metoda `__init__`**: Inicjalizator obiektu.\n",
    "2. **Metoda `__str__`**: Definiuje, jak obiekt będzie reprezentowany w formie tekstowej dla użytkownika.\n",
    "3. **Metoda `__repr__`**: Definiuje, jak obiekt będzie reprezentowany dla dewelopera (w debugowaniu).\n",
    "4. **Metoda `__add__`**: Definiuje, jak obiekty są dodawane za pomocą operatora `+`.\n",
    "5. **Metoda `__eq__`**: Definiuje, jak obiekty są porównywane za pomocą operatora `==`.\n",
    "\n",
    "### Przykład: Klasa `Vector` z przeciążonymi metodami specjalnymi\n",
    "\n",
    "```python\n",
    "class Vector:\n",
    "    def __init__(self, x, y):\n",
    "        self.x = x\n",
    "        self.y = y\n",
    "\n",
    "    def __repr__(self):\n",
    "        \"\"\"Return a string representation of the Vector object for debugging.\"\"\"\n",
    "        return f\"Vector(x={self.x}, y={self.y})\"\n",
    "\n",
    "    def __str__(self):\n",
    "        \"\"\"Return a user-friendly string representation of the Vector object.\"\"\"\n",
    "        return f\"Vector with coordinates ({self.x}, {self.y})\"\n",
    "\n",
    "    def __add__(self, other):\n",
    "        \"\"\"Add two Vector objects.\"\"\"\n",
    "        if isinstance(other, Vector):\n",
    "            return Vector(self.x + other.x, self.y + other.y)\n",
    "        return NotImplemented\n",
    "\n",
    "    def __eq__(self, other):\n",
    "        \"\"\"Check if two Vector objects are equal.\"\"\"\n",
    "        if isinstance(other, Vector):\n",
    "            return self.x == other.x and self.y == other.y\n",
    "        return False\n",
    "\n",
    "# Przykład użycia:\n",
    "v1 = Vector(2, 3)\n",
    "v2 = Vector(4, 5)\n",
    "\n",
    "# Użycie __str__ do uzyskania czytelnej reprezentacji\n",
    "print(v1)  # Output: Vector with coordinates (2, 3)\n",
    "\n",
    "# Użycie __repr__ do uzyskania szczegółowej reprezentacji\n",
    "print(repr(v1))  # Output: Vector(x=2, y=3)\n",
    "\n",
    "# Dodawanie dwóch wektorów\n",
    "v3 = v1 + v2\n",
    "print(v3)  # Output: Vector with coordinates (6, 8)\n",
    "\n",
    "# Porównywanie wektorów\n",
    "print(v1 == v2)  # Output: False\n",
    "print(v1 == Vector(2, 3))  # Output: True\n",
    "```\n",
    "## Wyjaśnienie\n",
    "\n",
    "Metody specjalne w Pythonie, znane również jako metody dunder (od *double underscore*), to metody, które zaczynają się i kończą na podwójne podkreślenie. Są one używane do definiowania, jak obiekty zachowują się w różnych kontekstach operacyjnych. Przeciążanie metod specjalnych pozwala na dostosowanie sposobu, w jaki obiekty klasy są używane w operacjach takich jak dodawanie, porównywanie czy reprezentowanie obiektów.\n",
    "\n",
    "### Przykłady metod specjalnych:\n",
    "\n",
    "1. **`__init__`**: Służy do inicjalizacji obiektu. Wywoływana jest przy tworzeniu nowego obiektu.\n",
    "2. **`__repr__`**: Definiuje szczegółową reprezentację obiektu, przydatną podczas debugowania. Powinna zwracać łańcuch, który, jeśli to możliwe, może być użyty do odtworzenia obiektu.\n",
    "3. **`__str__`**: Definiuje przyjazną dla użytkownika reprezentację obiektu, która jest używana w kontekstach takich jak drukowanie.\n",
    "4. **`__add__`**: Umożliwia dodawanie dwóch obiektów za pomocą operatora `+`.\n",
    "5. **`__eq__`**: Umożliwia porównywanie dwóch obiektów za pomocą operatora `==`.\n",
    "\n",
    "## Podsumowanie\n",
    "\n",
    "Przeciążanie metod specjalnych w Pythonie pozwala na dostosowanie działania obiektów w odpowiedzi na różne operacje. Dzięki metodom takim jak `__init__`, `__repr__`, `__str__`, `__add__`, i `__eq__`, możesz określić, jak obiekty Twojej klasy mają być inicjalizowane, reprezentowane, dodawane i porównywane. Definiowanie tych metod zwiększa elastyczność obiektów oraz ich integrację z językiem Python, co pozwala na bardziej intuicyjne i spójne operowanie na obiektach w różnych kontekstach.\n",
    "\n"
   ]
  },
  {
   "cell_type": "markdown",
   "metadata": {},
   "source": [
    "### Przykład przeciążenia __str__"
   ]
  },
  {
   "cell_type": "code",
   "execution_count": 42,
   "metadata": {},
   "outputs": [
    {
     "name": "stdout",
     "output_type": "stream",
     "text": [
      "Person(Name: Alice, Age: 30)\n",
      "<__main__.PersonNoStr object at 0x1068f0880>\n"
     ]
    }
   ],
   "source": [
    "class Person:\n",
    "    def __init__(self, name, age):\n",
    "        \"\"\"Inicjalizuje obiekt Person z imieniem i wiekiem.\"\"\"\n",
    "        self.name = name\n",
    "        self.age = age\n",
    "\n",
    "    def __str__(self):\n",
    "        \"\"\"Zwraca czytelną reprezentację obiektu Person do wyświetlenia.\"\"\"\n",
    "        return f\"Person(Name: {self.name}, Age: {self.age})\"\n",
    "\n",
    "person = Person(\"Alice\", 30)\n",
    "print(person)\n",
    "\n",
    "\n",
    "\n",
    "class PersonNoStr:\n",
    "    def __init__(self, name, age):\n",
    "        \"\"\"Inicjalizuje obiekt Person z imieniem i wiekiem.\"\"\"\n",
    "        self.name = name\n",
    "        self.age = age\n",
    "\n",
    "# Przykład użycia:\n",
    "person = PersonNoStr(\"Bob\", 27)\n",
    "print(person)\n",
    "\n"
   ]
  },
  {
   "cell_type": "markdown",
   "metadata": {},
   "source": [
    "### Przykład klasy `Matrix` z przeciążonym wyświetlaniem dodawaniem i mnożeniem"
   ]
  },
  {
   "cell_type": "code",
   "execution_count": 40,
   "metadata": {},
   "outputs": [
    {
     "name": "stdout",
     "output_type": "stream",
     "text": [
      "Matrix1:\n",
      "1\t2\n",
      "3\t4\n",
      "\n",
      "Matrix2:\n",
      "5\t6\n",
      "7\t8\n",
      "\n",
      "Sum of Matrix1 and Matrix2:\n",
      "6\t8\n",
      "10\t12\n",
      "\n",
      "Matrix1 scaled by 2:\n",
      "2\t4\n",
      "6\t8\n",
      "\n",
      "Product of Matrix1 and Matrix2:\n",
      "19\t22\n",
      "43\t50\n"
     ]
    }
   ],
   "source": [
    "class Matrix:\n",
    "    def __init__(self, rows):\n",
    "        \"\"\"Inicjalizuje macierz z danymi w postaci listy list.\"\"\"\n",
    "        self.rows = rows\n",
    "        self.num_rows = len(rows)\n",
    "        self.num_cols = len(rows[0]) if rows else 0\n",
    "\n",
    "    def __repr__(self):\n",
    "        \"\"\"Zwraca szczegółową reprezentację obiektu Matrix.\"\"\"\n",
    "        return f\"Matrix(rows={self.rows})\"\n",
    "\n",
    "    def __str__(self):\n",
    "        \"\"\"Zwraca czytelną reprezentację obiektu Matrix do wyświetlenia.\"\"\"\n",
    "        return '\\n'.join(['\\t'.join(map(str, row)) for row in self.rows])\n",
    "\n",
    "    def __add__(self, other):\n",
    "        \"\"\"Dodaje dwie macierze o tych samych wymiarach.\"\"\"\n",
    "        if isinstance(other, Matrix) and self.num_rows == other.num_rows and self.num_cols == other.num_cols:\n",
    "            result = [\n",
    "                [self.rows[i][j] + other.rows[i][j] for j in range(self.num_cols)] for i in range(self.num_rows)\n",
    "            ]\n",
    "            return Matrix(result)\n",
    "        return NotImplemented\n",
    "\n",
    "    def __mul__(self, other):\n",
    "        \"\"\"Mnoży macierz przez skalar lub inną macierz (przez macierz, jeśli wymiary są zgodne).\"\"\"\n",
    "        if isinstance(other, (int, float)):  # Mnożenie przez skalar\n",
    "            result = [[element * other for element in row] for row in self.rows]\n",
    "            return Matrix(result)\n",
    "        elif isinstance(other, Matrix): # Mnożenie macierzy przez macierz\n",
    "            if self.num_cols == other.num_rows:\n",
    "                result = [\n",
    "                    [sum(self.rows[i][k] * other.rows[k][j] for k in range(self.num_cols)) for j in range(other.num_cols)]\n",
    "                    for i in range(self.num_rows)\n",
    "                ]\n",
    "                return Matrix(result)\n",
    "        return NotImplemented\n",
    "\n",
    "# Przykład użycia:\n",
    "matrix1 = Matrix([[1, 2], [3, 4]])\n",
    "matrix2 = Matrix([[5, 6], [7, 8]])\n",
    "\n",
    "# Wyświetlenie macierzy\n",
    "print(\"Matrix1:\")\n",
    "print(matrix1)\n",
    "print(\"\\nMatrix2:\")\n",
    "print(matrix2)\n",
    "\n",
    "# Dodawanie macierzy\n",
    "sum_matrix = matrix1 + matrix2\n",
    "print(\"\\nSum of Matrix1 and Matrix2:\")\n",
    "print(sum_matrix)\n",
    "\n",
    "# Mnożenie macierzy przez skalar\n",
    "scaled_matrix = matrix1 * 2\n",
    "print(\"\\nMatrix1 scaled by 2:\")\n",
    "print(scaled_matrix)\n",
    "\n",
    "# Mnożenie macierzy przez macierz\n",
    "product_matrix = matrix1 * matrix2\n",
    "print(\"\\nProduct of Matrix1 and Matrix2:\")\n",
    "print(product_matrix)\n"
   ]
  },
  {
   "cell_type": "code",
   "execution_count": null,
   "metadata": {},
   "outputs": [],
   "source": [
    "x = list()"
   ]
  },
  {
   "cell_type": "markdown",
   "metadata": {},
   "source": [
    "### Wyjaśnienie\n",
    "\n",
    "W przykładzie klasy `Matrix`, przeciążane metody specjalne pozwalają na wykonywanie podstawowych operacji matematycznych na macierzach w sposób intuicyjny i elegancki.\n",
    "\n",
    "1. **Metoda `__init__`**:\n",
    "   - Inicjalizuje obiekt `Matrix` z dwuwymiarowej listy `rows`, która reprezentuje wartości macierzy. Ustawia także liczbę wierszy i kolumn macierzy.\n",
    "\n",
    "2. **Metoda `__repr__`**:\n",
    "   - Zwraca szczegółową reprezentację obiektu `Matrix`, która jest używana do debugowania. Pokazuje zawartość macierzy w formie czytelnej dla programisty.\n",
    "\n",
    "3. **Metoda `__str__`**:\n",
    "   - Zwraca czytelną reprezentację obiektu `Matrix`, która jest używana do wyświetlania obiektu. Elementy wierszy są oddzielane tabulatorami, co ułatwia odczyt macierzy.\n",
    "\n",
    "4. **Metoda `__add__`**:\n",
    "   - Umożliwia dodawanie dwóch macierzy. Sprawdza, czy obie macierze mają takie same wymiary, a następnie tworzy nową macierz z sumą odpowiadających sobie elementów.\n",
    "\n",
    "5. **Metoda `__mul__`**:\n",
    "   - Umożliwia mnożenie macierzy przez skalar lub przez inną macierz. \n",
    "     - Jeśli mnożenie przez skalar, każdy element macierzy jest mnożony przez wartość skalaru.\n",
    "     - Jeśli mnożenie przez macierz, sprawdza, czy wymiary macierzy są zgodne do wykonania mnożenia macierzy (czyli liczba kolumn pierwszej macierzy musi odpowiadać liczbie wierszy drugiej macierzy).\n",
    "\n",
    "### Podsumowanie\n",
    "\n",
    "Przeciążanie metod specjalnych w Pythonie w klasie `Matrix` pozwala na definiowanie naturalnych operacji matematycznych dla obiektów macierzy. Dzięki metodom `__add__` i `__mul__` możliwe jest dodawanie macierzy oraz mnożenie ich przez skalar lub inną macierz, co sprawia, że klasa `Matrix` jest bardziej funkcjonalna i integruje się z językiem Python w sposób naturalny.\n"
   ]
  },
  {
   "cell_type": "markdown",
   "metadata": {},
   "source": []
  },
  {
   "cell_type": "markdown",
   "metadata": {},
   "source": [
    "## Ćwiczenia"
   ]
  },
  {
   "cell_type": "markdown",
   "metadata": {},
   "source": [
    "## Ćwiczenie 1: Klasa `Circle`\n",
    "\n",
    "**Cel:** Napisz klasę `Circle`, która reprezentuje okrąg.\n",
    "\n",
    "1. Zdefiniuj klasę `Circle`, która ma atrybut `radius` (promień).\n",
    "2. Dodaj metodę `__init__`, która inicjalizuje ten atrybut.\n",
    "3. Dodaj metodę `area()`, która zwraca pole okręgu (π * promień²).\n",
    "4. Dodaj metodę `circumference()`, która zwraca obwód okręgu (2 * π * promień).\n",
    "5. Utwórz obiekt klasy `Circle` i wyświetl jego pole i obwód.\n",
    "\n",
    "#### input::\n",
    "\n",
    "```python\n",
    "circle = Circle(5)\n",
    "\n",
    "print(f\"Area: {circle.area()}\")\n",
    "print(f\"Circumference: {circle.circumference()}\")\n",
    "```\n",
    "\n",
    "#### output:\n",
    "```bash\n",
    "Area: 78.53981633974483\n",
    "Circumference: 31.41592653589793\n",
    "```"
   ]
  },
  {
   "cell_type": "code",
   "execution_count": 44,
   "metadata": {},
   "outputs": [
    {
     "name": "stdout",
     "output_type": "stream",
     "text": [
      "Area: 78.53981633974483\n",
      "Circumference: 31.41592653589793\n"
     ]
    }
   ],
   "source": []
  },
  {
   "cell_type": "markdown",
   "metadata": {},
   "source": [
    "## Ćwiczenie 2: Klasa `Person`\n",
    "\n",
    "**Cel:** Napisz klasę `Person`, która reprezentuje osobę.\n",
    "\n",
    "1. Zdefiniuj klasę `Person`, która ma atrybuty `name` (imię) i `age` (wiek).\n",
    "2. Dodaj metodę `__init__`, która inicjalizuje te atrybuty.\n",
    "3. Dodaj metodę `birthday()`, która zwiększa wiek o 1.\n",
    "4. Dodaj metodę `__str__`, która zwraca czytelną reprezentację osoby w formie: `\"Person(name: 'Name', age: Age)\"`.\n",
    "5. Utwórz obiekt klasy `Person`, zaktualizuj jego wiek przy pomocy metody `birthday()`, a następnie wyświetl obiekt.\n",
    "\n",
    "#### Input:\n",
    "\n",
    "```python\n",
    "person = Person(\"Alice\", 30)\n",
    "print(person)\n",
    "\n",
    "person.birthday()\n",
    "print(person)\n",
    "```\n",
    "#### output:\n",
    "```bash\n",
    "Person(name: 'Alice', age: 30)\n",
    "Person(name: 'Alice', age: 31)\n",
    "```\n"
   ]
  },
  {
   "cell_type": "code",
   "execution_count": 53,
   "metadata": {},
   "outputs": [
    {
     "name": "stdout",
     "output_type": "stream",
     "text": [
      "Person(name: 'Alice', age: 30)\n",
      "Person(name: 'Alice', age: 31)\n"
     ]
    }
   ],
   "source": []
  },
  {
   "cell_type": "markdown",
   "metadata": {},
   "source": [
    "## Ćwiczenie 3: Klasa `Library`\n",
    "\n",
    "**Cel:** Napisz klasę `Library`, która reprezentuje bibliotekę.\n",
    "\n",
    "1. Zdefiniuj klasę `Library`, która ma atrybut `books` (lista książek).\n",
    "2. Dodaj metodę `__init__`, która inicjalizuje tę listę jako pustą.\n",
    "3. Dodaj metodę `add_book(book)`, która dodaje książkę do listy.\n",
    "4. Dodaj metodę `list_books()`, która wypisuje wszystkie książki w bibliotece.\n",
    "5. Utwórz obiekt klasy `Library`, dodaj kilka książek i wyświetl je.\n"
   ]
  },
  {
   "cell_type": "code",
   "execution_count": 52,
   "metadata": {},
   "outputs": [
    {
     "name": "stdout",
     "output_type": "stream",
     "text": [
      "1984 by George Orwell\n",
      "To Kill a Mockingbird by Harper Lee\n"
     ]
    }
   ],
   "source": []
  },
  {
   "cell_type": "markdown",
   "metadata": {},
   "source": [
    "## Ćwiczenie 4: Dziedziczenie klas `Animal` i `Dog`\n",
    "\n",
    "**Cel:** Napisz klasy `Animal` i `Dog`, gdzie `Dog` dziedziczy po `Animal`.\n",
    "\n",
    "1. Zdefiniuj klasę `Animal`, która ma atrybut `name` (imię) oraz metodę `make_sound()` wypisującą ogólny dźwięk, np. `\"Some generic animal sound\"`.\n",
    "2. Zdefiniuj klasę `Dog`, która dziedziczy po `Animal` i nadpisuje metodę `make_sound()` w celu wypisania dźwięku `\"Woof! Woof!\"`.\n",
    "3. Dodaj metodę `__str__` do obu klas, aby zwracała czytelną reprezentację obiektów.\n",
    "4. Utwórz obiekt klasy `Dog` i wywołaj metodę `make_sound()`."
   ]
  },
  {
   "cell_type": "code",
   "execution_count": 51,
   "metadata": {},
   "outputs": [
    {
     "name": "stdout",
     "output_type": "stream",
     "text": [
      "Dog(name: 'Rex')\n",
      "Woof! Woof!\n"
     ]
    }
   ],
   "source": []
  },
  {
   "cell_type": "markdown",
   "metadata": {},
   "source": [
    "## Ćwiczenie 5: Dziedziczenie klas `Shape`, `Rectangle` i `Circle`\n",
    "\n",
    "**Cel:** Napisz klasy `Shape`, `Rectangle` i `Circle`, gdzie `Rectangle` i `Circle` dziedziczą po `Shape`.\n",
    "\n",
    "1. Zdefiniuj klasę `Shape` z metodą `area()` podnoszącą wyjątek `NotImplementedError`.\n",
    "2. Zdefiniuj klasę `Rectangle`, która dziedziczy po `Shape` i implementuje metodę `area()` zwracającą pole prostokąta.\n",
    "3. Zdefiniuj klasę `Circle`, która dziedziczy po `Shape` i implementuje metodę `area()` zwracającą pole okręgu.\n",
    "4. Utwórz obiekty klas `Rectangle` i `Circle`, i wywołaj metodę `area()` dla każdego z nich.\n"
   ]
  },
  {
   "cell_type": "code",
   "execution_count": 50,
   "metadata": {},
   "outputs": [
    {
     "name": "stdout",
     "output_type": "stream",
     "text": [
      "Rectangle area: 20\n",
      "Circle area: 28.274333882308138\n"
     ]
    }
   ],
   "source": [
    "\n"
   ]
  },
  {
   "cell_type": "markdown",
   "metadata": {},
   "source": [
    "## Ćwiczenie 6: Dziedziczenie klas `Employee` i `Manager`\n",
    "\n",
    "**Cel:** Napisz klasy `Employee` i `Manager`, gdzie `Manager` dziedziczy po `Employee`.\n",
    "\n",
    "1. Zdefiniuj klasę `Employee`, która ma atrybuty `name` (imię) i `salary` (wynagrodzenie). Dodaj metodę `__str__`, która zwraca reprezentację pracownika.\n",
    "2. Zdefiniuj klasę `Manager`, która dziedziczy po `Employee` i dodaje atrybut `department` (dział). Nadpisz metodę `__str__` w celu dodania informacji o dziale.\n",
    "3. Utwórz obiekty klas `Employee` i `Manager` oraz wyświetl ich reprezentację.\n",
    "4. Wyświetl MRO dla klasy `Manager`"
   ]
  },
  {
   "cell_type": "code",
   "execution_count": null,
   "metadata": {},
   "outputs": [],
   "source": []
  },
  {
   "cell_type": "markdown",
   "metadata": {},
   "source": [
    "W Pythonie, zarówno `self`, jak i `cls` to konwencje związane z metodami klasowymi i instancjami, ale służą różnym celom.\n",
    "\n",
    "### 1. **`self`** – Wskaźnik na instancję klasy\n",
    "\n",
    "- `self` odnosi się do konkretnej instancji obiektu danej klasy.\n",
    "- Jest używane w metodach instancji (czyli metodach, które działają na poszczególnych obiektach klasy) do uzyskiwania dostępu do atrybutów i metod tej instancji.\n",
    "- **Nie jest słowem kluczowym**, ale jest konwencjonalnie używane w Pythonie jako pierwszy parametr w metodach instancji.\n",
    "\n",
    "#### Przykład:"
   ]
  },
  {
   "cell_type": "code",
   "execution_count": 4,
   "metadata": {},
   "outputs": [
    {
     "name": "stdout",
     "output_type": "stream",
     "text": [
      "Samochód: Toyota Corolla, liczba drzwi: 5\n"
     ]
    }
   ],
   "source": [
    "class Samochod:\n",
    "    def __init__(self, marka, model):\n",
    "        self.marka = marka  # self wskazuje na atrybut instancji\n",
    "        self.model = model\n",
    "\n",
    "    def opis(self):\n",
    "        wheel_number = 5\n",
    "        return f\"Samochód: {self.marka} {self.model}, liczba drzwi: {wheel_number}\"  # self odnosi się do konkretnej instancji\n",
    "\n",
    "auto = Samochod(\"Toyota\", \"Corolla\")\n",
    "print(auto.opis())  # Wydrukuje: Samochód: Toyota Corolla"
   ]
  },
  {
   "cell_type": "markdown",
   "metadata": {},
   "source": [
    "W powyższym przykładzie, `self.marka`i `self.model` odnoszą się do atrybutów przypisanych do konkretnej instancji `auto`."
   ]
  },
  {
   "cell_type": "markdown",
   "metadata": {},
   "source": [
    "### **`cls`** – Wskaźnik na klasę\n",
    "\n",
    "- `cls` odnosi się do samej klasy, a nie do instancji.\n",
    "- Używane jest w **metodach klasowych**, czyli takich, które odnoszą się do klasy, a nie do konkretnych obiektów tej klasy.\n",
    "- Aby stworzyć metodę klasową, używamy dekoratora **`@classmethod`**.\n",
    "- `cls` jest konwencją, a nie słowem kluczowym, ale powszechnie stosowaną w Pythonie.\n",
    "\n",
    "#### Przykład:\n"
   ]
  },
  {
   "cell_type": "code",
   "execution_count": 13,
   "metadata": {},
   "outputs": [
    {
     "name": "stdout",
     "output_type": "stream",
     "text": [
      "2\n",
      "3\n"
     ]
    }
   ],
   "source": [
    "class Samochod:\n",
    "    liczba_samochodow = 0  # atrybut klasy\n",
    "\n",
    "    def __init__(self, marka, model):\n",
    "        self.marka = marka\n",
    "        self.model = model\n",
    "        Samochod.liczba_samochodow += 1  # Odwołanie do atrybutu klasy\n",
    "\n",
    "    @classmethod\n",
    "    def ile_samochodow(cls):\n",
    "        Samochod.liczba_samochodow += 1  # Odwołanie do atrybutu klasy\n",
    "\n",
    "auto1 = Samochod(\"Toyota\", \"Corolla\")\n",
    "auto2 = Samochod(\"Honda\", \"Civic\")\n",
    "\n",
    "print(Samochod.ile_samochodow())\n",
    "auto3 = Samochod(\"BMW\", \"3\")\n",
    "\n",
    "print(Samochod.ile_samochodow())\n"
   ]
  },
  {
   "cell_type": "markdown",
   "metadata": {},
   "source": [
    "W tym przykładzie metoda `ile_samochodow()` jest metodą klasową, co oznacza, że operuje na poziomie klasy, a nie instancji. Parametr `cls` umożliwia dostęp do atrybutu klasy `liczba_samochodow`."
   ]
  },
  {
   "cell_type": "code",
   "execution_count": 13,
   "metadata": {},
   "outputs": [
    {
     "name": "stdout",
     "output_type": "stream",
     "text": [
      "2\n"
     ]
    }
   ],
   "source": [
    "class Samochod:\n",
    "    liczba_samochodow = 0  # Atrybut klasy\n",
    "\n",
    "    def __init__(self, marka, model):\n",
    "        self.marka = marka\n",
    "        self.model = model\n",
    "        Samochod.liczba_samochodow += 1  # Odwołanie do atrybutu klasy\n",
    "\n",
    "    def ile_samochodow(self):\n",
    "        return Samochod.liczba_samochodow  # Odwołanie do atrybutu klasy\n",
    "\n",
    "auto1 = Samochod(\"Toyota\", \"Corolla\")\n",
    "auto2 = Samochod(\"Honda\", \"Civic\")\n",
    "\n",
    "print(auto1.ile_samochodow())\n"
   ]
  },
  {
   "cell_type": "code",
   "execution_count": 14,
   "metadata": {},
   "outputs": [
    {
     "name": "stdout",
     "output_type": "stream",
     "text": [
      "2\n"
     ]
    }
   ],
   "source": [
    "class Samochod:\n",
    "    liczba_samochodow = 0  # Atrybut klasy\n",
    "\n",
    "    def __init__(self, marka, model):\n",
    "        self.marka = marka\n",
    "        self.model = model\n",
    "        Samochod.liczba_samochodow += 1  # Zwiększa licznik samochodów\n",
    "\n",
    "    def ile_samochodow(self):\n",
    "        return self.liczba_samochodow  # self również może odwołać się do atrybutu klasy\n",
    "\n",
    "auto1 = Samochod(\"Toyota\", \"Corolla\")\n",
    "auto2 = Samochod(\"Honda\", \"Civic\")\n",
    "\n",
    "print(auto2.ile_samochodow())\n"
   ]
  },
  {
   "cell_type": "markdown",
   "metadata": {},
   "source": []
  },
  {
   "cell_type": "code",
   "execution_count": null,
   "metadata": {},
   "outputs": [],
   "source": []
  }
 ],
 "metadata": {
  "celltoolbar": "Slideshow",
  "kernelspec": {
   "display_name": "Python 3",
   "language": "python",
   "name": "python3"
  },
  "language_info": {
   "codemirror_mode": {
    "name": "ipython",
    "version": 3
   },
   "file_extension": ".py",
   "mimetype": "text/x-python",
   "name": "python",
   "nbconvert_exporter": "python",
   "pygments_lexer": "ipython3",
   "version": "3.10.14"
  }
 },
 "nbformat": 4,
 "nbformat_minor": 4
}
