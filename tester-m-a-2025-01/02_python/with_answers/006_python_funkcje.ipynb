{
 "cells": [
  {
   "cell_type": "markdown",
   "metadata": {},
   "source": [
    "<img src=\"../../code_brainers_logo.png\" alt=\"logo\" width=\"400\"/>\n",
    "\n",
    "# 005 Python - funkcje\n",
    "_Kamil Bartocha_"
   ]
  },
  {
   "cell_type": "markdown",
   "metadata": {
    "slideshow": {
     "slide_type": "slide"
    }
   },
   "source": [
    "## Funkcje"
   ]
  },
  {
   "cell_type": "markdown",
   "metadata": {
    "slideshow": {
     "slide_type": "fragment"
    }
   },
   "source": [
    "Funkcje służą do wykonywania określonych operacji, które mogą być wykonywane w jednym programie wielokrotnie.\n",
    "\n",
    "Do tej pory używaliśmy funkcji wbudowanych w język takich jak `print()` czy `len()`.\n",
    "\n",
    "Każda funkcja ma `nazwę()`, a w nawiasach okrągłych może mieć listę argumentów, które przyjmuje.\n",
    "\n",
    "Instrukcja `def` definiuje funkcję. Instrukcje tworzące ciało funkcji zaczynają się od następnego wiersza i muszą być wcięte. Przykład:\n",
    "\n",
    "```python\n",
    "def function_name():\n",
    "    code\n",
    "```"
   ]
  },
  {
   "cell_type": "markdown",
   "metadata": {
    "slideshow": {
     "slide_type": "slide"
    }
   },
   "source": [
    "### Definicja funkcji składa się z linijki\n",
    "```python\n",
    "def fibbonaci_numbers(n)\n",
    "```\n",
    "która definiuje nazwę funkcji (w tym przypadku `fibbonaci_numbers`) oraz jej argumenty podane w nawiasach okrągłych (w tym przypadku `n`)\n",
    "* W kolejnych linijkach, które muszą być jednokrotnie wcięte podane jest tzw. ciało funkcji czyli wszystkie operacje wykonywane wewnątrz funkcji\n",
    "* Wszystkie zmienne utworzone w funkcji są dostępne tylko z w jej wnętrzu\n",
    "* Funkcja może zwracać jakiś obiekt, do tego służy instrukcja\n",
    "```python\n",
    "return <objekt>\n",
    "```\n",
    "\n",
    "\n",
    "### Następnie wywołanie funckji:\n",
    "\n",
    "```python\n",
    "x = fibbonaci_numbers(10)\n",
    "```"
   ]
  },
  {
   "cell_type": "markdown",
   "metadata": {},
   "source": [
    "### Przykład:"
   ]
  },
  {
   "cell_type": "code",
   "execution_count": 1,
   "metadata": {
    "slideshow": {
     "slide_type": "slide"
    }
   },
   "outputs": [
    {
     "name": "stdout",
     "output_type": "stream",
     "text": [
      "[0, 1, 1, 2, 3, 5, 8]\n"
     ]
    }
   ],
   "source": [
    "def fibbonaci_numbers(n):\n",
    "    ''' zwraca liczby Fibonacciego mniejsze od n '''\n",
    "    wynik = []\n",
    "    a, b = 0, 1\n",
    "    while a < n:\n",
    "        wynik.append(a)\n",
    "        a, b = b, a+b\n",
    "    return wynik\n",
    "\n",
    "fibb10 = fibbonaci_numbers(10)\n",
    "print(fibb10)"
   ]
  },
  {
   "cell_type": "markdown",
   "metadata": {
    "slideshow": {
     "slide_type": "slide"
    }
   },
   "source": [
    "Program wypisujący „`Hello world!`” a następnie „`Wikipedia`” w następnym wierszu za pomocą funckji o nazwie simple_function."
   ]
  },
  {
   "cell_type": "code",
   "execution_count": 2,
   "metadata": {
    "slideshow": {
     "slide_type": "fragment"
    }
   },
   "outputs": [
    {
     "name": "stdout",
     "output_type": "stream",
     "text": [
      "Hello world!\n",
      "Wikipedia\n"
     ]
    }
   ],
   "source": [
    "def simple_function():\n",
    "    print('Hello world!')\n",
    "    print('Wikipedia')\n",
    "\n",
    "\n",
    "simple_function()"
   ]
  },
  {
   "cell_type": "markdown",
   "metadata": {
    "slideshow": {
     "slide_type": "slide"
    }
   },
   "source": [
    "Instrukcja `return` służy do zwracania wartości z funkcji."
   ]
  },
  {
   "cell_type": "markdown",
   "metadata": {
    "slideshow": {
     "slide_type": "fragment"
    }
   },
   "source": [
    "#### Przykład: Funkcja zwracająca wynik działania 3 + 3"
   ]
  },
  {
   "cell_type": "code",
   "execution_count": 3,
   "metadata": {
    "slideshow": {
     "slide_type": "fragment"
    }
   },
   "outputs": [
    {
     "name": "stdout",
     "output_type": "stream",
     "text": [
      "6\n"
     ]
    }
   ],
   "source": [
    "def myfunction():\n",
    "    return 3 + 3\n",
    "\n",
    "\n",
    "print(myfunction())"
   ]
  },
  {
   "cell_type": "markdown",
   "metadata": {
    "slideshow": {
     "slide_type": "slide"
    }
   },
   "source": [
    "Argument (parametr aktualny), to element składni w języku programowania Python, który w wyniku wywołania podprogramu (funkcji), zostaje utożsamiony (skojarzony) z określonym parametrem podprogramu (funkcji)."
   ]
  },
  {
   "cell_type": "code",
   "execution_count": 4,
   "metadata": {
    "slideshow": {
     "slide_type": "fragment"
    }
   },
   "outputs": [
    {
     "name": "stdout",
     "output_type": "stream",
     "text": [
      "5\n"
     ]
    }
   ],
   "source": [
    "def add(x, y):\n",
    "    return x + y\n",
    "\n",
    "\n",
    "print(add(2, 3))"
   ]
  },
  {
   "cell_type": "markdown",
   "metadata": {
    "slideshow": {
     "slide_type": "slide"
    }
   },
   "source": [
    "## Docstring"
   ]
  },
  {
   "cell_type": "markdown",
   "metadata": {
    "slideshow": {
     "slide_type": "fragment"
    }
   },
   "source": [
    "Funkcja może zawierać informacje dokumentujące jej działanie.\n",
    "\n",
    "Należy je podać w potrójnych cudzysłowach `\"\"\"` w linijkach następujących po linijce definiującej nazwę funkcji i jej argumenty."
   ]
  },
  {
   "cell_type": "code",
   "execution_count": 5,
   "metadata": {
    "slideshow": {
     "slide_type": "fragment"
    }
   },
   "outputs": [
    {
     "name": "stdout",
     "output_type": "stream",
     "text": [
      "Help on function my_function in module __main__:\n",
      "\n",
      "my_function()\n",
      "    Dokumentacja funkcji X\n",
      "\n"
     ]
    }
   ],
   "source": [
    "def my_function():\n",
    "    \"\"\"Dokumentacja funkcji X\"\"\"\n",
    "\n",
    "help(my_function)"
   ]
  },
  {
   "cell_type": "markdown",
   "metadata": {
    "slideshow": {
     "slide_type": "slide"
    }
   },
   "source": [
    "## Rekurencja/rekursja ang. _recursion_\n",
    "\n",
    "Odwoływanie się do samej siebie np.: funkcji, lub definicji."
   ]
  },
  {
   "cell_type": "code",
   "execution_count": 6,
   "metadata": {},
   "outputs": [
    {
     "name": "stdout",
     "output_type": "stream",
     "text": [
      "zmienna i: 0 Suma: 0\n",
      "zmienna i: 1 Suma: 1\n",
      "zmienna i: 2 Suma: 3\n",
      "zmienna i: 3 Suma: 6\n",
      "Suma za pomocą for: 6\n",
      "\n",
      "\n",
      "Zmienna number: 3\n",
      "Zmienna number: 2\n",
      "Zmienna number: 1\n",
      "Suma za pomocą rekurencji: 6\n"
     ]
    }
   ],
   "source": [
    "def suma_for(number):\n",
    "    suma = 0\n",
    "    for i in range(number + 1):\n",
    "        suma += i # suma = suma + i\n",
    "        print(f\"zmienna i: {i} Suma: {suma}\")\n",
    "    return suma\n",
    "\n",
    "\n",
    "print(f\"Suma za pomocą for: {suma_for(3)}\\n\\n\")\n",
    "\n",
    "\n",
    "def suma_rekurencja(number):\n",
    "    if number == 0:\n",
    "        return 0\n",
    "    print(f\"Zmienna number: {number}\")\n",
    "    return number + suma_rekurencja(number - 1)\n",
    "\n",
    "\n",
    "print(f\"Suma za pomocą rekurencji: {suma_rekurencja(3)}\")"
   ]
  },
  {
   "cell_type": "markdown",
   "metadata": {},
   "source": [
    "Jeżeli wywołamy naszą funkcję z wartością 3\n",
    "```suma_rekurencja(3),```\n",
    "To zostanie wykonane następujące wyliczenie:\n",
    "\n",
    "```python\n",
    "3 + suma_rekurencja(2), czyli\n",
    "\n",
    "    2 + suma_rekurencja(1), czyli\n",
    "\n",
    "        1 + suma_rekurencja(0), czyli\n",
    "\n",
    "3 + 2 + 1 + 0\n",
    "\n",
    "```\n",
    "i otrzymamy `6`"
   ]
  },
  {
   "cell_type": "markdown",
   "metadata": {
    "slideshow": {
     "slide_type": "slide"
    }
   },
   "source": [
    "## Ćwiczenia"
   ]
  },
  {
   "cell_type": "markdown",
   "metadata": {
    "slideshow": {
     "slide_type": "fragment"
    }
   },
   "source": [
    "### Ćwiczenie nr 1:\n",
    "\n",
    "Napisz funkcję w Pythonie, która obliczania długości łańcucha.\n",
    "\n",
    "Input: `\"CodeBrainers\"`\n",
    "\n",
    "Output: `12`"
   ]
  },
  {
   "cell_type": "markdown",
   "metadata": {
    "slideshow": {
     "slide_type": "slide"
    }
   },
   "source": [
    "#### Rozwiązanie"
   ]
  },
  {
   "cell_type": "code",
   "execution_count": 7,
   "metadata": {
    "slideshow": {
     "slide_type": "fragment"
    }
   },
   "outputs": [
    {
     "name": "stdout",
     "output_type": "stream",
     "text": [
      "12\n"
     ]
    }
   ],
   "source": [
    "def string_length(str1):\n",
    "    count = 0\n",
    "    for _ in str1:\n",
    "        count += 1\n",
    "    return count\n",
    "print(string_length('CodeBrainers'))"
   ]
  },
  {
   "cell_type": "markdown",
   "metadata": {
    "slideshow": {
     "slide_type": "fragment"
    }
   },
   "source": [
    "### Ćwiczenie nr 2:\n",
    "\n",
    "Napisz funkcję w Pythonie, która zsumuje wszystkie elementy na liście.\n",
    "\n",
    "input: `[1, 2, -8]`\n",
    "\n",
    "output: `-5`"
   ]
  },
  {
   "cell_type": "markdown",
   "metadata": {
    "slideshow": {
     "slide_type": "slide"
    }
   },
   "source": [
    "#### Rozwiązanie"
   ]
  },
  {
   "cell_type": "code",
   "execution_count": 8,
   "metadata": {
    "slideshow": {
     "slide_type": "fragment"
    }
   },
   "outputs": [
    {
     "name": "stdout",
     "output_type": "stream",
     "text": [
      "-5\n"
     ]
    }
   ],
   "source": [
    "def sum_list(items):\n",
    "    sum_numbers = 0\n",
    "    for x in items:\n",
    "        sum_numbers += x\n",
    "    return sum_numbers\n",
    "print(sum_list([1,2,-8]))"
   ]
  },
  {
   "cell_type": "markdown",
   "metadata": {
    "slideshow": {
     "slide_type": "fragment"
    }
   },
   "source": [
    "### Ćwiczenie nr 3:\n",
    "\n",
    "Napisz funkcję w Pythonie, która mnoży wszystkie elementy na liście.\n",
    "\n",
    "input: `[1, 2, -8]`\n",
    "\n",
    "output: `-16`"
   ]
  },
  {
   "cell_type": "markdown",
   "metadata": {
    "slideshow": {
     "slide_type": "slide"
    }
   },
   "source": [
    "#### Rozwiązanie"
   ]
  },
  {
   "cell_type": "code",
   "execution_count": 9,
   "metadata": {
    "slideshow": {
     "slide_type": "fragment"
    }
   },
   "outputs": [
    {
     "name": "stdout",
     "output_type": "stream",
     "text": [
      "-16\n"
     ]
    }
   ],
   "source": [
    "def multiply_list(items):\n",
    "    tot = items[0]\n",
    "    for x in items[1:]:\n",
    "        tot *= x\n",
    "    return tot\n",
    "print(multiply_list([1,2,-8]))"
   ]
  },
  {
   "cell_type": "markdown",
   "metadata": {
    "slideshow": {
     "slide_type": "slide"
    }
   },
   "source": [
    "### Ćwiczenie nr 4:\n",
    "\n",
    "Napisz funkcję w Pythonie, która znajdzie i zwróci największą liczbę w liście."
   ]
  },
  {
   "cell_type": "markdown",
   "metadata": {
    "slideshow": {
     "slide_type": "slide"
    }
   },
   "source": [
    "#### Rozwiązanie"
   ]
  },
  {
   "cell_type": "code",
   "execution_count": 10,
   "metadata": {
    "slideshow": {
     "slide_type": "fragment"
    }
   },
   "outputs": [
    {
     "name": "stdout",
     "output_type": "stream",
     "text": [
      "2\n"
     ]
    }
   ],
   "source": [
    "def max_num_in_list( list ):\n",
    "    max = list[ 0 ]\n",
    "    for a in list[1:]:\n",
    "        if a > max:\n",
    "            max = a\n",
    "    return max\n",
    "print(max_num_in_list([1, 2, -8, 0]))"
   ]
  },
  {
   "cell_type": "markdown",
   "metadata": {},
   "source": [
    "### Ćwiczenie nr 5:\n",
    "\n",
    "Napisz funkcję w Pythonie, która znajdzie i zwróci najmniejszą liczbę w liście."
   ]
  },
  {
   "cell_type": "markdown",
   "metadata": {
    "slideshow": {
     "slide_type": "slide"
    }
   },
   "source": [
    "#### Rozwiązanie"
   ]
  },
  {
   "cell_type": "code",
   "execution_count": 11,
   "metadata": {
    "slideshow": {
     "slide_type": "fragment"
    }
   },
   "outputs": [
    {
     "name": "stdout",
     "output_type": "stream",
     "text": [
      "-8\n"
     ]
    }
   ],
   "source": [
    "def smallest_num_in_list( list ):\n",
    "    min = list[ 0 ]\n",
    "    for a in list[1:]:\n",
    "        if a < min:\n",
    "            min = a\n",
    "    return min\n",
    "print(smallest_num_in_list([1, 2, -8, 0]))"
   ]
  },
  {
   "cell_type": "markdown",
   "metadata": {
    "slideshow": {
     "slide_type": "fragment"
    }
   },
   "source": [
    "### Ćwiczenie nr 6:\n",
    "\n",
    "Napisz funkcję w Pythonie, która zlicza liczbę znaków (częstotliwość znaków) w ciągu.\n",
    "\n",
    "Przykładowy ciąg: `google.com`\n",
    "\n",
    "Oczekiwany wynik:\n",
    "\n",
    "`{'o': 3, 'g': 2, '.': 1, 'e': 1, 'l': 1, 'm': 1, 'c': 1}`"
   ]
  },
  {
   "cell_type": "markdown",
   "metadata": {
    "slideshow": {
     "slide_type": "slide"
    }
   },
   "source": [
    "#### Rozwiązanie"
   ]
  },
  {
   "cell_type": "code",
   "execution_count": 12,
   "metadata": {
    "slideshow": {
     "slide_type": "fragment"
    }
   },
   "outputs": [
    {
     "name": "stdout",
     "output_type": "stream",
     "text": [
      "{'g': 2, 'o': 3, 'l': 1, 'e': 1, '.': 1, 'c': 1, 'm': 1}\n"
     ]
    }
   ],
   "source": [
    "def char_frequency(str1):\n",
    "    dict = {}\n",
    "    for n in str1:\n",
    "        keys = dict.keys()\n",
    "        if n in keys:\n",
    "            dict[n] += 1\n",
    "        else:\n",
    "            dict[n] = 1\n",
    "    return dict\n",
    "print(char_frequency('google.com'))"
   ]
  },
  {
   "cell_type": "markdown",
   "metadata": {
    "slideshow": {
     "slide_type": "fragment"
    }
   },
   "source": [
    "### Ćwicznie nr 7:\n",
    "\n",
    "Napisz funkcję w Pythonie, która zlicza ciągi znaków, w których\n",
    "* długość ciągu wynosi `2` lub więcej\n",
    "* a pierwszy i ostatni znak  danego słowa są takie same.\n",
    "\n",
    "Przykładowa lista : `['abc', 'xyz', 'aba', '1221']`\n",
    "\n",
    "Oczekiwany wynik: `2`"
   ]
  },
  {
   "cell_type": "markdown",
   "metadata": {
    "slideshow": {
     "slide_type": "slide"
    }
   },
   "source": [
    "#### Rozwiązanie"
   ]
  },
  {
   "cell_type": "code",
   "execution_count": 13,
   "metadata": {
    "slideshow": {
     "slide_type": "fragment"
    }
   },
   "outputs": [
    {
     "name": "stdout",
     "output_type": "stream",
     "text": [
      "2\n"
     ]
    }
   ],
   "source": [
    "def match_words(words):\n",
    "  ctr = 0\n",
    "\n",
    "  for word in words:\n",
    "    if len(word) >= 2 and word[0] == word[-1]:\n",
    "      ctr += 1\n",
    "  return ctr\n",
    "\n",
    "print(match_words(['abc', 'xyz', 'aba', '1221']))"
   ]
  },
  {
   "cell_type": "markdown",
   "metadata": {
    "slideshow": {
     "slide_type": "fragment"
    }
   },
   "source": [
    "### Ćwiczenie nr 8:\n",
    "\n",
    "Napisz funkcję w Pythonie, aby uzyskać listę posortowaną w porządku rosnącym według ostatniego elementu w każdej krotce z podanej listy niepustych krotek.\n",
    "\n",
    "Przykładowa lista: `[(2, 5), (1, 2), (4, 4), (2, 3), (2, 1)]`\n",
    "\n",
    "Oczekiwany wynik : `[(2, 1), (1, 2), (2, 3), (4, 4), (2, 5)]`\n",
    "\n",
    "Wskazówka:\n",
    "* Napisz funkcję pomocniczą last(n), która zwróci ostatni element z podanej listy/krotki\n",
    "* użyj pomocniczej funckji we wbudowanej funkcji `sorted()` przekazując ją jako parametr `key=last`"
   ]
  },
  {
   "cell_type": "markdown",
   "metadata": {
    "slideshow": {
     "slide_type": "slide"
    }
   },
   "source": [
    "#### Rozwiązanie"
   ]
  },
  {
   "cell_type": "code",
   "execution_count": 14,
   "metadata": {
    "slideshow": {
     "slide_type": "fragment"
    }
   },
   "outputs": [
    {
     "name": "stdout",
     "output_type": "stream",
     "text": [
      "[(2, 1), (1, 2), (2, 3), (4, 4), (2, 5)]\n"
     ]
    }
   ],
   "source": [
    "def last(n): return n[-1]\n",
    "\n",
    "def sort_list_last(tuples):\n",
    "  return sorted(tuples, key=last)\n",
    "\n",
    "print(sort_list_last([(2, 5), (1, 2), (4, 4), (2, 3), (2, 1)]))"
   ]
  },
  {
   "cell_type": "markdown",
   "metadata": {
    "slideshow": {
     "slide_type": "fragment"
    }
   },
   "source": [
    "### Ćwiczenie nr 9:\n",
    "\n",
    "Napisz funkcję w Pythonie, aby uzyskać łańcuch składający się z pierwszych `2` i ostatnich `2` znaków z danego łańcucha.\n",
    "\n",
    "* Jeśli długość ciągu jest mniejsza niż `2`, zwróć zamiast tego pusty ciąg.\n",
    "\n",
    "Przykładowy ciąg : `CodeBrainers`\n",
    "\n",
    "Oczekiwany wynik: `Cors`\n",
    "\n",
    "Przykładowy ciąg : `CB`\n",
    "\n",
    "Oczekiwany wynik: `CBCB`\n",
    "\n",
    "Przykładowy ciąg : `C`\n",
    "\n",
    "Oczekiwany wynik: pusty ciąg"
   ]
  },
  {
   "cell_type": "markdown",
   "metadata": {
    "slideshow": {
     "slide_type": "slide"
    }
   },
   "source": [
    "#### Rozwiązanie"
   ]
  },
  {
   "cell_type": "code",
   "execution_count": 15,
   "metadata": {
    "slideshow": {
     "slide_type": "fragment"
    }
   },
   "outputs": [],
   "source": [
    "def string_both_ends(str):\n",
    "  if len(str) < 2:\n",
    "    return ''\n",
    "\n",
    "  return str[:2] + str[-2:]"
   ]
  },
  {
   "cell_type": "code",
   "execution_count": 16,
   "metadata": {
    "slideshow": {
     "slide_type": "fragment"
    }
   },
   "outputs": [
    {
     "name": "stdout",
     "output_type": "stream",
     "text": [
      "Cors\n"
     ]
    }
   ],
   "source": [
    "print(string_both_ends('CodeBrainers'))"
   ]
  },
  {
   "cell_type": "code",
   "execution_count": 17,
   "metadata": {
    "slideshow": {
     "slide_type": "fragment"
    }
   },
   "outputs": [
    {
     "name": "stdout",
     "output_type": "stream",
     "text": [
      "CBCB\n"
     ]
    }
   ],
   "source": [
    "print(string_both_ends('CB'))"
   ]
  },
  {
   "cell_type": "code",
   "execution_count": 18,
   "metadata": {
    "slideshow": {
     "slide_type": "fragment"
    }
   },
   "outputs": [
    {
     "name": "stdout",
     "output_type": "stream",
     "text": [
      "\n"
     ]
    }
   ],
   "source": [
    "print(string_both_ends('C'))"
   ]
  },
  {
   "cell_type": "markdown",
   "metadata": {
    "slideshow": {
     "slide_type": "fragment"
    }
   },
   "source": [
    "### Ćwiczenie nr 10: (*)\n",
    "\n",
    "Napisz funckję obliczjącą ciąg Fibonacciego w Pythonie za pomocą rekurencji."
   ]
  },
  {
   "cell_type": "markdown",
   "metadata": {
    "slideshow": {
     "slide_type": "slide"
    }
   },
   "source": [
    "#### Rozwiązanie"
   ]
  },
  {
   "cell_type": "code",
   "execution_count": 19,
   "metadata": {
    "slideshow": {
     "slide_type": "fragment"
    }
   },
   "outputs": [
    {
     "name": "stdout",
     "output_type": "stream",
     "text": [
      "55\n"
     ]
    }
   ],
   "source": [
    "def recur_fibo(n):\n",
    "    if n <= 1:\n",
    "        return n\n",
    "    else:\n",
    "        return recur_fibo(n-1) + recur_fibo(n-2)\n",
    "\n",
    "\n",
    "print(recur_fibo(10))"
   ]
  }
 ],
 "metadata": {
  "celltoolbar": "Slideshow",
  "kernelspec": {
   "display_name": "Python 3 (ipykernel)",
   "language": "python",
   "name": "python3"
  },
  "language_info": {
   "codemirror_mode": {
    "name": "ipython",
    "version": 3
   },
   "file_extension": ".py",
   "mimetype": "text/x-python",
   "name": "python",
   "nbconvert_exporter": "python",
   "pygments_lexer": "ipython3",
   "version": "3.10.6"
  }
 },
 "nbformat": 4,
 "nbformat_minor": 4
}
