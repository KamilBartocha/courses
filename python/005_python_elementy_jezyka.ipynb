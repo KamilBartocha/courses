{
 "cells": [
  {
   "cell_type": "markdown",
   "metadata": {
    "slideshow": {
     "slide_type": "slide"
    }
   },
   "source": [
    "<img src=\"../code_brainers_logo.png\" alt=\"logo\" width=\"400\"/>\n",
    "\n",
    "# 005 Python - elementy języka\n",
    "_Kamil Bartocha_"
   ]
  },
  {
   "cell_type": "markdown",
   "metadata": {
    "slideshow": {
     "slide_type": "slide"
    }
   },
   "source": [
    "## Operatory"
   ]
  },
  {
   "cell_type": "markdown",
   "metadata": {
    "slideshow": {
     "slide_type": "slide"
    }
   },
   "source": [
    "#### Typy operatorów"
   ]
  },
  {
   "cell_type": "markdown",
   "metadata": {
    "slideshow": {
     "slide_type": "fragment"
    }
   },
   "source": [
    "* Arytmetyczne:\n",
    "  * Dodawania: `+`\n",
    "  * Odejmowania: `-`\n",
    "  * Mnożenia: `*`\n",
    "  * Dzielenia: `/`\n",
    "  * Dzielenia modulo (reszta z dzielenia): `%`\n",
    "  * Dzielenia całkowitego: `//`\n",
    "  * Potęgowania: `**`"
   ]
  },
  {
   "cell_type": "markdown",
   "metadata": {
    "slideshow": {
     "slide_type": "subslide"
    }
   },
   "source": [
    "* Porównania `a` i `b`\n",
    "  * `a` jest równe `b`: `a == b`\n",
    "  * `a` jest różne od `b`: `a != b`\n",
    "  * `a` jest większe od `b`: `a > b`\n",
    "  * `a` jest mniejsze od `b`: `a < b`\n",
    "  * `a` jest większe lub równe `b`: `a >= b`\n",
    "  * `a` jest mniejsze lub równe `b`: `a <= b`\n",
    "* Przypisania\n",
    "  * przypisz do lewej strony wartość z prawej strony: `=`\n",
    "  * dodaj do lewej strony wartość z prawej strony: `+= . . .`\n",
    "* Bitowe\n",
    "* Logiczne: `and`, `or`, `not`"
   ]
  },
  {
   "cell_type": "code",
   "execution_count": 48,
   "metadata": {},
   "outputs": [
    {
     "name": "stdout",
     "output_type": "stream",
     "text": [
      "5\n",
      "6\n",
      "False\n",
      "False\n"
     ]
    }
   ],
   "source": [
    "a = 5\n",
    "b = 6\n",
    "print(a)\n",
    "print(b)\n",
    "print(a == b)\n",
    "print(a > b)"
   ]
  },
  {
   "cell_type": "markdown",
   "metadata": {
    "slideshow": {
     "slide_type": "slide"
    }
   },
   "source": [
    "## Struktura przez wcięcia"
   ]
  },
  {
   "cell_type": "markdown",
   "metadata": {
    "slideshow": {
     "slide_type": "subslide"
    }
   },
   "source": [
    "* Cechą wyróżniającą **Pythona** spośród innych języków jest stosowanie wcięć do wydzielania bloków kodu\n",
    "* Jest to cecha unikatowa wśród powszechnie stosowanych języków programowania, jako pierwsza rzucająca się w oczy programistom niepiszącym w **Pythonie**\n",
    "* W językach programowania wywodzących strukturę blokową od **Algola** (niekoniecznie bezpośrednio) – np. **Pascalu**, **C**, czy **Perlu** – bloki kodu zaznaczane są klamrami lub słowami kluczowymi:\n",
    "  * C i Perl używają `{` `}`,\n",
    "  * Pascal używa `begin` i `end`"
   ]
  },
  {
   "cell_type": "markdown",
   "metadata": {
    "slideshow": {
     "slide_type": "subslide"
    }
   },
   "source": [
    "* Jednakże we wszystkich tych językach programiści tradycyjnie stosują wcięcia, by wyróżnić bloki w otaczającym kodzie\n",
    "* Natomiast **Python** dziedziczy cechę mniej znanego języka **ABC** – zamiast interpunkcji czy słów kluczowych używa samych wcięć do zaznaczania bloków\n",
    "* Wyjaśnić to można na prostym przykładzie zamieszczonym na kolejnym slajdzie\n",
    "* Przedstawiona jest w nim funkcja licząca silnię w **C** i w **Pythonie**"
   ]
  },
  {
   "cell_type": "markdown",
   "metadata": {
    "slideshow": {
     "slide_type": "subslide"
    }
   },
   "source": [
    "**Silnia w C (zapisana bez wcięć):**\n",
    "\n",
    "```C\n",
    "int silnia(int x) { \n",
    "\tif (x == 0) return 1; \n",
    "\telse return x * silnia(x-1); }\n",
    "```\n",
    "\n",
    "**Silnia w Pythonie:**\n",
    "\n",
    "```python\n",
    "def silnia(x):\n",
    "\tif x == 0: \n",
    "\t\treturn 1 \n",
    "\telse: \n",
    "\t\treturn x * silnia(x - 1)\n",
    "```"
   ]
  },
  {
   "cell_type": "markdown",
   "metadata": {
    "slideshow": {
     "slide_type": "subslide"
    }
   },
   "source": [
    "* Zwolennicy tego języka zwracają także uwagę na wadę „swobodnej” składni, polegającą na tym, że skoro wcięcia kodu są ignorowane, nie można wymusić jednej dobrej konwencji (stąd też konflikty między programistami, dotyczące stosowania **spacji** (i różnej ich liczby) lub **tabulatorów**, tzw. [**_indentation wars_**](https://www.wykop.pl/wpis/32266253/pasta-heheszki-mecz-humorinformatykow-pewnego-piek/))\n",
    "* Nieprawidłowo wcięty kod może być mylący, gdyż czytający go programista i interpreter mogą go różnie zinterpretować"
   ]
  },
  {
   "cell_type": "markdown",
   "metadata": {
    "slideshow": {
     "slide_type": "slide"
    }
   },
   "source": [
    "## Instrukcje warunkowe"
   ]
  },
  {
   "cell_type": "markdown",
   "metadata": {},
   "source": [
    "```python\n",
    "if condition:\n",
    "    code_in_condition\n",
    "else:\n",
    "    code_in_else\n",
    "```"
   ]
  },
  {
   "cell_type": "code",
   "execution_count": 49,
   "metadata": {},
   "outputs": [
    {
     "name": "stdout",
     "output_type": "stream",
     "text": [
      "Nie zdałeś\n"
     ]
    }
   ],
   "source": [
    "punkty = 40\n",
    "\n",
    "if punkty >= 60:\n",
    "    print(\"Zdałeś\")\n",
    "else:\n",
    "    print(\"Nie zdałeś\")"
   ]
  },
  {
   "cell_type": "code",
   "execution_count": 50,
   "metadata": {
    "slideshow": {
     "slide_type": "fragment"
    }
   },
   "outputs": [
    {
     "name": "stdout",
     "output_type": "stream",
     "text": [
      "2\n"
     ]
    }
   ],
   "source": [
    "punkty = 40\n",
    "\n",
    "if punkty >= 90:\n",
    "    ocena = '5'\n",
    "elif punkty >= 75:\n",
    "    ocena = '4'\n",
    "elif punkty >= 60:\n",
    "    ocena = '3'\n",
    "else:\n",
    "    ocena = '2'\n",
    "\n",
    "print(ocena)"
   ]
  },
  {
   "cell_type": "code",
   "execution_count": 51,
   "metadata": {},
   "outputs": [
    {
     "name": "stdout",
     "output_type": "stream",
     "text": [
      "równe 40\n"
     ]
    }
   ],
   "source": [
    "punkty = 40\n",
    "if punkty == 40:\n",
    "    print(\"równe 40\")\n",
    "else:\n",
    "    print(\"nie równe 40\")"
   ]
  },
  {
   "cell_type": "markdown",
   "metadata": {
    "slideshow": {
     "slide_type": "slide"
    }
   },
   "source": [
    "## Operatory logiczne `not`, `and`, `or`"
   ]
  },
  {
   "cell_type": "markdown",
   "metadata": {
    "slideshow": {
     "slide_type": "slide"
    }
   },
   "source": [
    "### Operator logiczny `not` - zaprzeczenie"
   ]
  },
  {
   "cell_type": "markdown",
   "metadata": {
    "slideshow": {
     "slide_type": "fragment"
    }
   },
   "source": [
    "* Jeśli chcemy, aby coś było `False`, możemy tego użyć `not`\n",
    "* Jest to operator logiczny:"
   ]
  },
  {
   "cell_type": "code",
   "execution_count": 52,
   "metadata": {
    "slideshow": {
     "slide_type": "fragment"
    }
   },
   "outputs": [
    {
     "name": "stdout",
     "output_type": "stream",
     "text": [
      "warunek spełniony\n"
     ]
    }
   ],
   "source": [
    "x = False\n",
    "if not False:\n",
    "    print(\"warunek spełniony\")\n",
    "else:\n",
    "    print(\"warunek niespełniony\")"
   ]
  },
  {
   "cell_type": "markdown",
   "metadata": {
    "slideshow": {
     "slide_type": "slide"
    }
   },
   "source": [
    "### Operatory logiczne `and`, `or`"
   ]
  },
  {
   "cell_type": "markdown",
   "metadata": {
    "slideshow": {
     "slide_type": "fragment"
    }
   },
   "source": [
    "* Zasada działania tych operatorów odrobinę różni się od analogicznych operatorów znanych z innych języków programowania\n",
    "* Przede wszystkim: operatory zwracają wystarczającą wartość, która je spełnia"
   ]
  },
  {
   "cell_type": "code",
   "execution_count": 53,
   "metadata": {
    "slideshow": {
     "slide_type": "fragment"
    }
   },
   "outputs": [
    {
     "name": "stdout",
     "output_type": "stream",
     "text": [
      "test\n"
     ]
    }
   ],
   "source": [
    "niepusta_wartosc = 0 or \"test\"\n",
    "print(niepusta_wartosc)"
   ]
  },
  {
   "cell_type": "code",
   "execution_count": 54,
   "metadata": {
    "slideshow": {
     "slide_type": "fragment"
    }
   },
   "outputs": [],
   "source": [
    "is_driver_license = False\n",
    "age = 20\n",
    "\n",
    "if age >= 18 and is_driver_license:\n",
    "    print(\"Can start driving course\")"
   ]
  },
  {
   "cell_type": "markdown",
   "metadata": {
    "slideshow": {
     "slide_type": "subslide"
    }
   },
   "source": [
    "* Operator `or` działa tak, że jeżeli jakakolwiek wartość go spełnia, to operator „działa”\n",
    "* W przeciwieństwie do operatora `and`, który musi mieć wszystkie wartości, aby „zadziałać”\n",
    "* Wtedy ostatnia wartość, która go spełnia, jest zwrócona:"
   ]
  },
  {
   "cell_type": "code",
   "execution_count": 55,
   "metadata": {
    "slideshow": {
     "slide_type": "fragment"
    }
   },
   "outputs": [
    {
     "name": "stdout",
     "output_type": "stream",
     "text": [
      "can look for information in web\n"
     ]
    }
   ],
   "source": [
    "is_phone = True\n",
    "is_pc = False\n",
    "\n",
    "if is_phone or is_pc:\n",
    "    print(\"can look for information in web\")"
   ]
  },
  {
   "cell_type": "markdown",
   "metadata": {
    "slideshow": {
     "slide_type": "slide"
    }
   },
   "source": [
    "## Operatory liniowe/trójskładnikowe"
   ]
  },
  {
   "cell_type": "markdown",
   "metadata": {
    "slideshow": {
     "slide_type": "fragment"
    }
   },
   "source": [
    "* Operatory liniowe/trójskładnikowe są w Pythonie bardziej znane jako wyrażenia warunkowe\n",
    "* Te operatory oceniają coś na podstawie warunku, który jest prawdziwy lub nie\n",
    "* Stały się częścią Pythona w wersji 2.4\n",
    "* Na następnych slajdach – plan i przykład użycia tych wyrażeń warunkowych"
   ]
  },
  {
   "cell_type": "markdown",
   "metadata": {
    "slideshow": {
     "slide_type": "slide"
    }
   },
   "source": [
    "### Warunkowy operator liniowy `if`-`else`"
   ]
  },
  {
   "cell_type": "markdown",
   "metadata": {
    "slideshow": {
     "slide_type": "slide"
    }
   },
   "source": [
    "#### Plan"
   ]
  },
  {
   "cell_type": "markdown",
   "metadata": {
    "slideshow": {
     "slide_type": "fragment"
    }
   },
   "source": [
    "```python\n",
    "value_if_true if condition else value_if_false\n",
    "```"
   ]
  },
  {
   "cell_type": "code",
   "execution_count": 56,
   "metadata": {},
   "outputs": [
    {
     "name": "stdout",
     "output_type": "stream",
     "text": [
      "passed\n"
     ]
    }
   ],
   "source": [
    "punkty =60\n",
    "print(\"passed\") if punkty >= 60 else print(\"not passed\")"
   ]
  },
  {
   "cell_type": "markdown",
   "metadata": {
    "slideshow": {
     "slide_type": "slide"
    }
   },
   "source": [
    "## Pętle"
   ]
  },
  {
   "cell_type": "markdown",
   "metadata": {
    "slideshow": {
     "slide_type": "fragment"
    }
   },
   "source": [
    "* Jeżeli chcemy wykonać pewne działania na każdym elemencie listy, napisu, zbioru, krotki lub innego obiektu iterowalnego (np. otwartego pliku) możemy wykorzystać strukturę pętli, w której każdy kolejny element jest przetwarzany i wykonywane są instrukcje zawarte wewnątrz wciętego bloku\n",
    "* Rozróżniamy kilka rodzajów pętli"
   ]
  },
  {
   "cell_type": "markdown",
   "metadata": {
    "slideshow": {
     "slide_type": "slide"
    }
   },
   "source": [
    "### Pętla dla – `for`"
   ]
  },
  {
   "cell_type": "markdown",
   "metadata": {
    "slideshow": {
     "slide_type": "fragment"
    }
   },
   "source": [
    "```python\n",
    "for el in iterable:\n",
    "    print(\"pracujemy na\", iterable.index(el),\"elemencie o wartości\", el, \"z obiektu iterowanego\", iterable)\n",
    "```"
   ]
  },
  {
   "cell_type": "markdown",
   "metadata": {
    "slideshow": {
     "slide_type": "slide"
    }
   },
   "source": [
    "#### Przykłady"
   ]
  },
  {
   "cell_type": "code",
   "execution_count": 57,
   "metadata": {},
   "outputs": [
    {
     "name": "stdout",
     "output_type": "stream",
     "text": [
      "litera: P\n",
      "litera: y\n",
      "litera: t\n",
      "litera: h\n",
      "litera: o\n",
      "litera: n\n"
     ]
    }
   ],
   "source": [
    "string = 'Python'\n",
    "for li in string:\n",
    "    print('litera:', li)"
   ]
  },
  {
   "cell_type": "code",
   "execution_count": 58,
   "metadata": {},
   "outputs": [
    {
     "name": "stdout",
     "output_type": "stream",
     "text": [
      "zewnatrz 1\n",
      "zewnatrz 2\n",
      "zewnatrz 3\n",
      "wenątrz: 4\n",
      "wenątrz: 5\n",
      "wenątrz: 6\n"
     ]
    }
   ],
   "source": [
    "for i in [1, 2, 3]:\n",
    "    print(\"zewnatrz\", i)\n",
    "for j in [4, 5, 6]:\n",
    "    print(\"wenątrz:\", j)"
   ]
  },
  {
   "cell_type": "code",
   "execution_count": 59,
   "metadata": {},
   "outputs": [
    {
     "name": "stdout",
     "output_type": "stream",
     "text": [
      "zewnatrz 1\n",
      "wenątrz: 4\n",
      "wenątrz: 5\n",
      "wenątrz: 6\n",
      "zewnatrz 2\n",
      "wenątrz: 4\n",
      "wenątrz: 5\n",
      "wenątrz: 6\n",
      "zewnatrz 3\n",
      "wenątrz: 4\n",
      "wenątrz: 5\n",
      "wenątrz: 6\n"
     ]
    }
   ],
   "source": [
    "for i in [1, 2, 3]:\n",
    "    print(\"zewnatrz\", i)\n",
    "    for j in [4, 5, 6]:\n",
    "        print(\"wenątrz:\", j)"
   ]
  },
  {
   "cell_type": "code",
   "execution_count": 60,
   "metadata": {
    "slideshow": {
     "slide_type": "subslide"
    }
   },
   "outputs": [
    {
     "name": "stdout",
     "output_type": "stream",
     "text": [
      "warzywo: marchew\n",
      "warzywo: kalafior\n",
      "warzywo: kapusta\n"
     ]
    }
   ],
   "source": [
    "warzywa = ('marchew', 'kalafior', 'kapusta')\n",
    "\n",
    "for warzywo in warzywa:\n",
    "    print('warzywo:', warzywo)"
   ]
  },
  {
   "cell_type": "markdown",
   "metadata": {
    "slideshow": {
     "slide_type": "slide"
    }
   },
   "source": [
    "### Zakres `range()`"
   ]
  },
  {
   "cell_type": "markdown",
   "metadata": {
    "slideshow": {
     "slide_type": "slide"
    }
   },
   "source": [
    "#### Funkcja `range()` w języku Python wyjaśniona na przykładzie "
   ]
  },
  {
   "cell_type": "markdown",
   "metadata": {
    "slideshow": {
     "slide_type": "fragment"
    }
   },
   "source": [
    "* Funkcja wbudowana `range()` generuje **liczby całkowite między podaną liczbą całkowitą początkową a liczbą całkowitą zatrzymania**, tj. zwraca obiekt zakresu\n",
    "* Używając pętli `for`, możemy iterować po sekwencji liczb utworzonych przez funkcję `range()`\n",
    "* Zrozummy, jak korzystać z funkcji `range()` w Pythonie na prostym przykładzie, wraz z wynikiem"
   ]
  },
  {
   "cell_type": "code",
   "execution_count": 61,
   "metadata": {
    "scrolled": true,
    "slideshow": {
     "slide_type": "subslide"
    }
   },
   "outputs": [
    {
     "name": "stdout",
     "output_type": "stream",
     "text": [
      "Przykład range() w Pythonie\n",
      "Uzyskaj liczby z zakresu od 0 do 5\n",
      "0, 1, 2, 3, 4, 5, "
     ]
    }
   ],
   "source": [
    "print(\"Przykład range() w Pythonie\")\n",
    "print(\"Uzyskaj liczby z zakresu od 0 do 5\")\n",
    "for i in range(6):\n",
    "    print(i, end=\", \")"
   ]
  },
  {
   "cell_type": "markdown",
   "metadata": {
    "slideshow": {
     "slide_type": "slide"
    }
   },
   "source": [
    "![](https://pynative.com/wp-content/uploads/2018/10/python_range.png)"
   ]
  },
  {
   "cell_type": "markdown",
   "metadata": {
    "slideshow": {
     "slide_type": "fragment"
    }
   },
   "source": [
    "* Uwaga: Otrzymaliśmy liczby całkowite od `0` do `5`, ponieważ funkcja `range()` nie zawiera ostatniej (końcowej) liczby w wyniku"
   ]
  },
  {
   "cell_type": "markdown",
   "metadata": {
    "slideshow": {
     "slide_type": "slide"
    }
   },
   "source": [
    "* Składnia i argumenty funkcji `range()`\n",
    "```python\n",
    "range(start, stop[, step])\n",
    "```\n",
    "* Potrzeba trzech argumentów. Z trzech 2 argumentów są opcjonalne. Oznacza to, że `start` i `step` to argumenty opcjonalne.\n",
    "  * Argument **`start`** to numer początkowy sekwencji. tj. dolna granica; domyślnie zaczyna się od `0`, jeśli nie zostanie określony\n",
    "  * Argument **`stop`** to górna granica. tj. generuje liczby do tej liczby, `range()` nie uwzględnia tej liczby w wyniku\n",
    "  * Argument **`step`** jest różnicą między każdą liczbą w wyniku; domyślna wartość kroku to `1`, jeśli nie zostanie określona"
   ]
  },
  {
   "cell_type": "markdown",
   "metadata": {
    "slideshow": {
     "slide_type": "slide"
    }
   },
   "source": [
    "#### Zakres `range()`"
   ]
  },
  {
   "cell_type": "markdown",
   "metadata": {
    "slideshow": {
     "slide_type": "fragment"
    }
   },
   "source": [
    "* Funkcja `range()`"
   ]
  },
  {
   "cell_type": "code",
   "execution_count": 62,
   "metadata": {
    "slideshow": {
     "slide_type": "fragment"
    }
   },
   "outputs": [
    {
     "name": "stdout",
     "output_type": "stream",
     "text": [
      "0\n",
      "1\n",
      "2\n",
      "3\n",
      "4\n"
     ]
    }
   ],
   "source": [
    "for i in range(5):\n",
    "    print(i)"
   ]
  },
  {
   "cell_type": "code",
   "execution_count": 63,
   "metadata": {},
   "outputs": [
    {
     "name": "stdout",
     "output_type": "stream",
     "text": [
      "2\n",
      "3\n",
      "4\n",
      "5\n",
      "6\n",
      "7\n",
      "8\n",
      "9\n",
      "10\n"
     ]
    }
   ],
   "source": [
    "for i in range(2, 11):\n",
    "    print(i)"
   ]
  },
  {
   "cell_type": "code",
   "execution_count": 64,
   "metadata": {
    "slideshow": {
     "slide_type": "fragment"
    }
   },
   "outputs": [
    {
     "name": "stdout",
     "output_type": "stream",
     "text": [
      "2\n",
      "4\n",
      "6\n",
      "8\n",
      "10\n"
     ]
    }
   ],
   "source": [
    "for i in range(2, 11, 2):\n",
    "    print(i)"
   ]
  },
  {
   "cell_type": "markdown",
   "metadata": {
    "slideshow": {
     "slide_type": "slide"
    }
   },
   "source": [
    "### Pętla dopóki – `while`"
   ]
  },
  {
   "cell_type": "markdown",
   "metadata": {},
   "source": [
    "```\n",
    "while condition:\n",
    "    do_this_code\n",
    "```"
   ]
  },
  {
   "cell_type": "code",
   "execution_count": 65,
   "metadata": {},
   "outputs": [
    {
     "name": "stdout",
     "output_type": "stream",
     "text": [
      "5\n",
      "4\n",
      "3\n",
      "2\n",
      "1\n",
      "0\n"
     ]
    }
   ],
   "source": [
    "x = 5\n",
    "while x >= 0:\n",
    "    print(x)\n",
    "    x = x - 1"
   ]
  },
  {
   "cell_type": "code",
   "execution_count": 66,
   "metadata": {
    "slideshow": {
     "slide_type": "fragment"
    }
   },
   "outputs": [
    {
     "name": "stdout",
     "output_type": "stream",
     "text": [
      "2\n",
      "[2]\n",
      "4\n",
      "[2, 4]\n",
      "6\n",
      "[2, 4, 6]\n",
      "8\n",
      "[2, 4, 6, 8]\n",
      "10\n",
      "[2, 4, 6, 8, 10]\n"
     ]
    }
   ],
   "source": [
    "liczby = list()\n",
    "i = 2\n",
    "while i < 11:\n",
    "    print(i)\n",
    "    liczby.append(i)\n",
    "    print(liczby)\n",
    "    i += 2"
   ]
  },
  {
   "cell_type": "code",
   "execution_count": 67,
   "metadata": {
    "slideshow": {
     "slide_type": "subslide"
    }
   },
   "outputs": [
    {
     "name": "stdout",
     "output_type": "stream",
     "text": [
      "Wprowadź tekst po linijce.\n",
      "Żeby zakończyć wprowadź pustą linię.\n",
      "['Ala', 'ma', 'Kota']\n"
     ]
    }
   ],
   "source": [
    "lines = list()\n",
    "print('Wprowadź tekst po linijce.')\n",
    "print('Żeby zakończyć wprowadź pustą linię.')\n",
    "line = input('Następna linijka: ')\n",
    "while line != '':\n",
    "    lines.append(line)\n",
    "    line = input('Następna linijka: ')\n",
    "print(lines)"
   ]
  },
  {
   "cell_type": "markdown",
   "metadata": {
    "slideshow": {
     "slide_type": "slide"
    }
   },
   "source": [
    "### Sterowanie pętlami"
   ]
  },
  {
   "cell_type": "markdown",
   "metadata": {
    "slideshow": {
     "slide_type": "slide"
    }
   },
   "source": [
    "#### Przerwanie pętli - `break`"
   ]
  },
  {
   "cell_type": "code",
   "execution_count": 68,
   "metadata": {
    "slideshow": {
     "slide_type": "fragment"
    }
   },
   "outputs": [
    {
     "name": "stdout",
     "output_type": "stream",
     "text": [
      "s\n",
      "t\n",
      "r\n",
      "Koniec\n"
     ]
    }
   ],
   "source": [
    "# Użycie instrukcji break wewnątrz pętli\n",
    "\n",
    "for val in \"string\":\n",
    "    if val == \"i\":\n",
    "        break\n",
    "    print(val)\n",
    "\n",
    "print(\"Koniec\")"
   ]
  },
  {
   "cell_type": "markdown",
   "metadata": {
    "slideshow": {
     "slide_type": "slide"
    }
   },
   "source": [
    "#### Przeskoczenie do następnej iteracji - `continue`"
   ]
  },
  {
   "cell_type": "code",
   "execution_count": 69,
   "metadata": {
    "slideshow": {
     "slide_type": "fragment"
    }
   },
   "outputs": [
    {
     "name": "stdout",
     "output_type": "stream",
     "text": [
      "Kolejna liczba: 1\n",
      "Kolejna liczba parzysta: 2\n",
      "Kolejna liczba: 3\n",
      "Kolejna liczba parzysta: 4\n",
      "Kolejna liczba: 5\n",
      "Kolejna liczba parzysta: 6\n",
      "Kolejna liczba: 7\n",
      "Kolejna liczba parzysta: 8\n",
      "Kolejna liczba: 9\n",
      "Kolejna liczba parzysta: 10\n",
      "Kolejna liczba: 11\n",
      "Kolejna liczba parzysta: 12\n",
      "Kolejna liczba: 13\n",
      "Kolejna liczba parzysta: 14\n",
      "Kolejna liczba: 15\n",
      "Kolejna liczba parzysta: 16\n",
      "Kolejna liczba: 17\n",
      "Kolejna liczba parzysta: 18\n",
      "Kolejna liczba: 19\n"
     ]
    }
   ],
   "source": [
    "for num in range(1, 20):\n",
    "    if not num % 2:  # num % 2 == 0\n",
    "        print('Kolejna liczba parzysta:', num)\n",
    "        continue\n",
    "    print('Kolejna liczba:', num)\n"
   ]
  },
  {
   "cell_type": "markdown",
   "metadata": {
    "slideshow": {
     "slide_type": "slide"
    }
   },
   "source": [
    "## Pass"
   ]
  },
  {
   "cell_type": "markdown",
   "metadata": {
    "slideshow": {
     "slide_type": "fragment"
    }
   },
   "source": [
    "* Z instrukcją pass nie jest związana jakakolwiek operacja – jej wykonanie nie powoduje żadnych skutków\n",
    "* Przydatna jest w roli wypełniacza, jeśli składnia wymaga obecności instrukcji, lecz nie jest potrzebne wykonanie żadnego kodu, np:"
   ]
  },
  {
   "cell_type": "code",
   "execution_count": 70,
   "metadata": {
    "slideshow": {
     "slide_type": "fragment"
    }
   },
   "outputs": [
    {
     "name": "stdout",
     "output_type": "stream",
     "text": [
      "Pętla wykonana\n"
     ]
    }
   ],
   "source": [
    "for i in range(10):\n",
    "    pass\n",
    "print(\"Pętla wykonana\")"
   ]
  },
  {
   "cell_type": "markdown",
   "metadata": {
    "slideshow": {
     "slide_type": "slide"
    }
   },
   "source": [
    "## Podmiana zawartości zmiennych"
   ]
  },
  {
   "cell_type": "code",
   "execution_count": 71,
   "metadata": {},
   "outputs": [
    {
     "name": "stdout",
     "output_type": "stream",
     "text": [
      "a: 7 , b: 5\n"
     ]
    }
   ],
   "source": [
    "a = 5\n",
    "b = 7\n",
    "a, b = b, a\n",
    "print(\"a:\", a, \", b:\", b)"
   ]
  },
  {
   "cell_type": "code",
   "execution_count": 72,
   "metadata": {},
   "outputs": [
    {
     "name": "stdout",
     "output_type": "stream",
     "text": [
      "a: 5 b: 7\n"
     ]
    }
   ],
   "source": [
    "pom = a\n",
    "a = b\n",
    "b = pom\n",
    "\n",
    "print(\"a:\", a, \"b:\", b)"
   ]
  },
  {
   "cell_type": "code",
   "execution_count": 73,
   "metadata": {},
   "outputs": [
    {
     "name": "stdout",
     "output_type": "stream",
     "text": [
      "317 Python abcde 400\n"
     ]
    }
   ],
   "source": [
    "a = \"Python\"\n",
    "b = 317\n",
    "c = 400\n",
    "d = \"abcde\"\n",
    "\n",
    "b, a, c, d = a, b, d, c\n",
    "print(f\"{a} {b} {c} {d}\")"
   ]
  },
  {
   "cell_type": "markdown",
   "metadata": {},
   "source": [
    "# Ćwiczenia"
   ]
  },
  {
   "cell_type": "markdown",
   "metadata": {},
   "source": [
    "### Ćwiczenie nr 1:\n",
    "Napisz program, który:\n",
    "* Będzie prosił użytkownika o podanie dwóch liczb, i\n",
    "* Wypisze:\n",
    "    * Wynik ich dzielenia,\n",
    "    * Resztę z dzielenia,\n",
    "    * Wynik dzielenia całkowitego"
   ]
  },
  {
   "cell_type": "markdown",
   "metadata": {},
   "source": [
    "### Ćwiczenie nr 2:\n",
    "Napisz program, który:\n",
    "Wypisze `True`, jeśli oba stwierdzenia są prawdziwe\n",
    "\n",
    "`x > 3` i `x < 10`"
   ]
  },
  {
   "cell_type": "markdown",
   "metadata": {},
   "source": [
    "### Ćwiczenie nr 3:\n",
    "Napisz program, który:\n",
    "Wypisze wartość `True`, jeśli jedno ze stwierdzeń jest prawdziwe\n",
    "\n",
    "`x > 4` lub `x < 3`\n"
   ]
  },
  {
   "cell_type": "markdown",
   "metadata": {},
   "source": [
    "### Ćwiczenie nr 4:\n",
    "Napisz program, który:\n",
    "Odwróci wynik, wydrukuj `False`, jeśli wynik jest prawdziwy\n",
    "\n",
    "nie ( `x > 3` i `x < 10` )\n"
   ]
  },
  {
   "cell_type": "markdown",
   "metadata": {},
   "source": [
    "### Ćwiczenie nr 5:\n",
    "Napisz program, który:\n",
    "Odwróci wynik, wydrukuj `False`, jeśli wynik jest prawdziwy\n",
    "\n",
    "nie ( `x > 3` i `x < 10` )\n"
   ]
  },
  {
   "cell_type": "markdown",
   "metadata": {},
   "source": [
    "### Ćwiczenie nr 6:\n",
    "Napisz program, w którym:\n",
    "* Przypisz `8` do zmiennej `x` i `15` do zmiennej `y`\n",
    "* Utwórz 2 instrukcje warunkowe\n",
    "* Niech pierwsza wypisze: „Co najmniej jeden z warunków jest spełniony”, jeśli `x` jest większe niż `3` lub `y` jest parzyste\n",
    "* Niech drugi wypisze „Żaden warunek nie jest spełniony”, jeśli `x` jest mniejsze lub równe `3`, a `y` jest nieparzyste\n"
   ]
  },
  {
   "cell_type": "markdown",
   "metadata": {},
   "source": [
    "### Ćwiczenie nr 7:\n",
    "Napisz program, w którym:\n",
    "* Utwórz listę zawierającą imiona: prowadzącego oraz wszystkich osób uczestniczacych w kursie\n",
    "* Następnie ją posortuj alfabetycznie, oraz\n",
    "* Policz ile z osób na liście jest imion żeńskich\n",
    "    * W tym celu możesz sprawdzić czy imię kończy się na „`a`”"
   ]
  },
  {
   "cell_type": "markdown",
   "metadata": {},
   "source": [
    "### Ćwiczenie nr 8:\n",
    "Napisz program, który:\n",
    "* Wyświetli 10 razy \"Hello world!\"\n",
    "* Następnie wyświetli napis \"Gotowe\"\n"
   ]
  },
  {
   "cell_type": "markdown",
   "metadata": {},
   "source": [
    "### Ćwiczenie nr 9:\n",
    "Napisz program, który zamieni 2 listy w jeden słownik:\n",
    "* Dwie listy skonwertuj na słownik w taki sposób, że pozycja z listy 1 jest kluczem, a pozycja z listy 2 jest wartością\n",
    "\n",
    "```python\n",
    "keys = ['Dziesieć', 'Dwadzieścia', 'Trzydzieści']\n",
    "values = [10, 20, 30]\n",
    "```\n",
    "\n",
    "##### Oczekiwany wynik:\n",
    "\n",
    "```python\n",
    "{'Dziesieć': 10, 'Dwadzieścia': 20, 'Trzydzieści': 30}\n",
    "```\n",
    "\n",
    "##### Wskazówka:\n",
    "\n",
    "Wykonaj iterację listy za pomocą pętli `for` i funkcji `range()`. W każdej iteracji dodaj nową parę klucz-wartość do `dict` za pomocą metody `update()`."
   ]
  },
  {
   "cell_type": "markdown",
   "metadata": {},
   "source": [
    "### Ćwiczenie nr 10:\n",
    "Umieść instrukcję `pass`, aby blok `if` nie zgłaszał błędu\n",
    "\n",
    "```python\n",
    "name = input(\"Proszę wpisać swoje imię.\")\n",
    "\n",
    "if len(name) > 0:\n",
    "    print(name)\n",
    "else:\n",
    "```"
   ]
  },
  {
   "cell_type": "markdown",
   "metadata": {},
   "source": [
    "### Ćwiczenie nr 11:\n",
    "Napisz program w Pythonie, aby znaleźć liczby podzielne przez `7` i będące wielokrotnością `5` między `2000` a `2700` (obie uwzględnione)\n",
    "\n",
    "##### Oczekiwany wynik:\n",
    "\n",
    "```['2030', '2065', '2100', '2135', '2170', '2205', '2240', '2275', '2310', '2345', '2380', '2415', '2450', '2485', '2520', '2555', '2590', '2625', '2660', '2695']```"
   ]
  },
  {
   "cell_type": "markdown",
   "metadata": {},
   "source": [
    "### Ćwiczenie nr 12:\n",
    "Napisz program, który policzy największy wspólny dzielnik dwóch liczb podanych przez użytkownika\n",
    "* W tym celu użyj operatora `%` oraz pętli `for`\n",
    "* dla liczb `7` i `21` odpowiedz to `7`"
   ]
  },
  {
   "cell_type": "markdown",
   "metadata": {},
   "source": [
    "### Ćwiczenie nr 13:\n",
    "Wypisz pierwsze 10 liczb naturalnych za pomocą pętli `while`"
   ]
  },
  {
   "cell_type": "markdown",
   "metadata": {},
   "source": [
    "### Ćwiczenie nr 14:\n",
    "Napisz program, który wydrukuje następujący wzór liczbowy za pomocą pętli.\n",
    "\n",
    "```\n",
    "1\n",
    "1 2\n",
    "1 2 3\n",
    "1 2 3 4\n",
    "1 2 3 4 5\n",
    "```\n",
    "##### Wskazówka:\n",
    "* Określ liczbę wierszy, tj. 5, ponieważ wzór zawiera pięć wierszy\n",
    "* Uruchom zewnętrzną pętlę 5 razy, używając pętli `for` i funkcji `range()`\n",
    "* Uruchom wewnętrzną pętlę `i+1` razy używając pętli `for` i funkcji `range()`\n",
    "  * W pierwszej iteracji pętli zewnętrznej pętla wewnętrzna wykona 1 raz\n",
    "  * W drugiej iteracji pętli zewnętrznej pętla wewnętrzna wykona 2 razy\n",
    "  * W trzeciej iteracji zewnętrznej pętli pętla wewnętrzna zostanie wykonana 3 razy i tak dalej aż do rzędu 5\n",
    "* Wypisz wartość `j` w każdej iteracji pętli wewnętrznej (`j` jest zmienną iteratora pętli wewnętrznej)\n",
    "* Wyświetlaj pustą linię na końcu każdej iteracji zewnętrznej pętli (pusta linia po każdym wierszu)"
   ]
  },
  {
   "cell_type": "markdown",
   "metadata": {},
   "source": [
    "### Ćwiczenie nr 15:\n",
    "Napisz program akceptujący liczbę od użytkownika i obliczający sumę wszystkich liczb od 1 do podanej liczby\n",
    "\n",
    "Na przykład, jeśli użytkownik wpisał `10`, wynik powinien wynosić `55` (`1+2+3+4+5+6+7+8+9+10`)\n",
    "\n",
    "Oczekiwany wynik:\n",
    "\n",
    "```\n",
    "Wpisz liczbę: 10\n",
    "\n",
    "Suma to: 55\n",
    "```"
   ]
  },
  {
   "cell_type": "markdown",
   "metadata": {},
   "source": [
    "### Ćwiczenie nr 16:\n",
    "Napisz program wypisujący tabliczkę mnożenia podanej liczby\n",
    "\n",
    "Przykład `num = 2`, więc wyjście powinno być\n",
    "```python\n",
    "2\n",
    "4\n",
    "6\n",
    "8\n",
    "10\n",
    "12\n",
    "14\n",
    "16\n",
    "18\n",
    "20\n",
    "```"
   ]
  },
  {
   "cell_type": "markdown",
   "metadata": {},
   "source": [
    "### Ćwiczenie nr 17:\n",
    "Napisz program wyświetlający tylko te liczby z listy, które spełniają następujące warunki\n",
    "\n",
    "* Liczba musi być podzielna przez pięć\n",
    "* Jeśli liczba jest większa niż 150, pomiń ją i przejdź do następnej liczby\n",
    "* Jeśli liczba jest większa niż 500, zatrzymaj pętlę\n",
    "\n",
    "**Dane:**\n",
    "\n",
    "```python\n",
    "numbers = [12, 75, 150, 180, 145, 525, 50]\n",
    "```\n",
    "\n",
    "**Oczekiwany wynik:**\n",
    "\n",
    "```python\n",
    "75\n",
    "150\n",
    "145\n",
    "```\n",
    "##### Wskazówka\n",
    "* Użyj pętli `for` do iteracji każdego elementu listy\n",
    "* Użyj instrukcji `break`, aby przerwać pętlę, jeśli bieżąca liczba jest większa niż 500\n",
    "* Użyj instrukcji `continue`, aby przejść do następnej liczby, jeśli bieżąca liczba jest większa niż 150\n",
    "* Użyj warunku `number % 5 == 0`, aby sprawdzić, czy liczba jest podzielna przez 5"
   ]
  }
 ],
 "metadata": {
  "celltoolbar": "Slideshow",
  "kernelspec": {
   "display_name": "Python 3 (ipykernel)",
   "language": "python",
   "name": "python3"
  },
  "language_info": {
   "codemirror_mode": {
    "name": "ipython",
    "version": 3
   },
   "file_extension": ".py",
   "mimetype": "text/x-python",
   "name": "python",
   "nbconvert_exporter": "python",
   "pygments_lexer": "ipython3",
   "version": "3.10.6"
  }
 },
 "nbformat": 4,
 "nbformat_minor": 4
}
