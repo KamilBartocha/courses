{
 "cells": [
  {
   "attachments": {},
   "cell_type": "markdown",
   "metadata": {
    "slideshow": {
     "slide_type": "slide"
    }
   },
   "source": [
    "<img src=\"../code_brainers_logo.png\" alt=\"logo\" width=\"400\"/>\n",
    "\n",
    "# 008 Python - pliki i moduły\n",
    "_Kamil Bartocha_"
   ]
  },
  {
   "attachments": {},
   "cell_type": "markdown",
   "metadata": {
    "slideshow": {
     "slide_type": "slide"
    }
   },
   "source": [
    "## Operacje na plikach"
   ]
  },
  {
   "attachments": {},
   "cell_type": "markdown",
   "metadata": {
    "slideshow": {
     "slide_type": "slide"
    }
   },
   "source": [
    "### Otwieranie i czytanie"
   ]
  },
  {
   "attachments": {},
   "cell_type": "markdown",
   "metadata": {
    "slideshow": {
     "slide_type": "fragment"
    }
   },
   "source": [
    "```python\n",
    "f = open('write_file_name', 'w')\n",
    "f = open('append_file_name', 'a')\n",
    "f = open('read_file_name', 'r')\n",
    "\n",
    "f.read()\n",
    "f.readline()\n",
    "f.readlines()\n",
    "```"
   ]
  },
  {
   "attachments": {},
   "cell_type": "markdown",
   "metadata": {
    "slideshow": {
     "slide_type": "slide"
    }
   },
   "source": [
    "### Zapis do pliku"
   ]
  },
  {
   "attachments": {},
   "cell_type": "markdown",
   "metadata": {
    "slideshow": {
     "slide_type": "fragment"
    }
   },
   "source": [
    "```python\n",
    "f.write('Witaj\\n’)\n",
    "value = 42\n",
    "f.write(value)\n",
    "```"
   ]
  },
  {
   "attachments": {},
   "cell_type": "markdown",
   "metadata": {
    "slideshow": {
     "slide_type": "slide"
    }
   },
   "source": [
    "### Zamykanie pliku"
   ]
  },
  {
   "attachments": {},
   "cell_type": "markdown",
   "metadata": {
    "slideshow": {
     "slide_type": "fragment"
    }
   },
   "source": [
    "```python\n",
    "f.close()\n",
    "```"
   ]
  },
  {
   "attachments": {},
   "cell_type": "markdown",
   "metadata": {
    "slideshow": {
     "slide_type": "slide"
    }
   },
   "source": [
    "### Przykład"
   ]
  },
  {
   "attachments": {},
   "cell_type": "markdown",
   "metadata": {
    "slideshow": {
     "slide_type": "slide"
    }
   },
   "source": [
    "`008_file_text.txt`:\n",
    "```python\n",
    "Co to jest język Python?\n",
    "Python jest szeroko stosowanym dynamicznym językiem programowania wysokiego poziomu, ogólnego przeznaczenia. Jego filozofia projektowania kładzie nacisk na czytelność kodu, a jego składnia pozwala programistom na wyrażanie koncepcji w mniejszej liczbie wierszy kodu niż jest to możliwe w językach takich jak C++ lub Java.\n",
    "Python obsługuje wiele paradygmatów programowania, w tym programowanie obiektowe, imperatywne i funkcjonalne oraz style proceduralne. Posiada dynamiczny system typów i automatyczne zarządzanie pamięcią oraz dużą i wszechstronną bibliotekę standardową.\n",
    "Najlepszym sposobem nauki języka Python są ćwiczenia i pytania z ćwiczeniami.\n",
    "```"
   ]
  },
  {
   "cell_type": "markdown",
   "metadata": {},
   "source": [
    "`f.read()`"
   ]
  },
  {
   "cell_type": "code",
   "execution_count": 1,
   "metadata": {
    "scrolled": true,
    "slideshow": {
     "slide_type": "slide"
    }
   },
   "outputs": [
    {
     "name": "stdout",
     "output_type": "stream",
     "text": [
      "Nazwa pliku:  008_file_text.txt\n",
      "Wczytany text: Co to jest język Python?\n",
      "Python jest szeroko stosowanym dynamicznym językiem programowania wysokiego poziomu, ogólnego przeznaczenia. Jego filozofia projektowania kładzie nacisk na czytelność kodu, a jego składnia pozwala programistom na wyrażanie koncepcji w mniejszej liczbie wierszy kodu niż jest to możliwe w językach takich jak C++ lub Java.\n",
      "Python obsługuje wiele paradygmatów programowania, w tym programowanie obiektowe, imperatywne i funkcjonalne oraz style proceduralne. Posiada dynamiczny system typów i automatyczne zarządzanie pamięcią oraz dużą i wszechstronną bibliotekę standardową.\n",
      "Najlepszym sposobem nauki języka Python są ćwiczenia i pytania z ćwiczeniami.\n"
     ]
    }
   ],
   "source": [
    "f = open(\"008_file_text.txt\", \"r\")\n",
    "print(\"Nazwa pliku: \", f.name)\n",
    "\n",
    "file_content = f.read()\n",
    "print(f\"Wczytany text: {file_content}\")\n",
    "\n",
    "f.close()"
   ]
  },
  {
   "cell_type": "code",
   "execution_count": 3,
   "metadata": {},
   "outputs": [
    {
     "name": "stdout",
     "output_type": "stream",
     "text": [
      "Nazwa pliku:  008_file_text.txt\n",
      "Wczytana liniaCo to jest język Python?\n",
      "\n"
     ]
    }
   ],
   "source": [
    "f = open(\"008_file_text.txt\", \"r\")\n",
    "print(\"Nazwa pliku: \", f.name)\n",
    "\n",
    "line = f.readline()\n",
    "print(f\"Wczytana linia{line}\")\n",
    "\n",
    "f.close()"
   ]
  },
  {
   "cell_type": "code",
   "execution_count": 4,
   "metadata": {},
   "outputs": [
    {
     "name": "stdout",
     "output_type": "stream",
     "text": [
      "Nazwa pliku:  008_file_text.txt\n",
      "Wczytane linie: ['Co to jest język Python?\\n', 'Python jest szeroko stosowanym dynamicznym językiem programowania wysokiego poziomu, ogólnego przeznaczenia. Jego filozofia projektowania kładzie nacisk na czytelność kodu, a jego składnia pozwala programistom na wyrażanie koncepcji w mniejszej liczbie wierszy kodu niż jest to możliwe w językach takich jak C++ lub Java.\\n', 'Python obsługuje wiele paradygmatów programowania, w tym programowanie obiektowe, imperatywne i funkcjonalne oraz style proceduralne. Posiada dynamiczny system typów i automatyczne zarządzanie pamięcią oraz dużą i wszechstronną bibliotekę standardową.\\n', 'Najlepszym sposobem nauki języka Python są ćwiczenia i pytania z ćwiczeniami.']\n"
     ]
    }
   ],
   "source": [
    "f = open(\"008_file_text.txt\", \"r\")\n",
    "print(\"Nazwa pliku: \", f.name)\n",
    "\n",
    "lines = f.readlines()\n",
    "print(f\"Wczytane linie: {lines}\")\n",
    "\n",
    "f.close()"
   ]
  },
  {
   "attachments": {},
   "cell_type": "markdown",
   "metadata": {
    "slideshow": {
     "slide_type": "slide"
    }
   },
   "source": [
    "### Menadżer kontekstu - `with` ang. _Context manager_"
   ]
  },
  {
   "attachments": {},
   "cell_type": "markdown",
   "metadata": {
    "slideshow": {
     "slide_type": "fragment"
    }
   },
   "source": [
    "Instrukcja `with` w Pythonie jest używana w obsłudze wyjątków, aby kod był czystszy i bardziej czytelny. Upraszcza zarządzanie wspólnymi zasobami, takimi jak strumienie plików. Zwróć uwagę na następujący przykład kodu, w jaki sposób użycie instrukcji `with` sprawia, że kod jest czystszy."
   ]
  },
  {
   "cell_type": "code",
   "execution_count": 5,
   "metadata": {
    "slideshow": {
     "slide_type": "fragment"
    }
   },
   "outputs": [],
   "source": [
    "# 1) bez użycia instrukcji with\n",
    "file = open('file_path', 'w')\n",
    "file.write('hello world !')\n",
    "file.close()"
   ]
  },
  {
   "cell_type": "code",
   "execution_count": 6,
   "metadata": {
    "slideshow": {
     "slide_type": "fragment"
    }
   },
   "outputs": [],
   "source": [
    "# 2) bez użycia instrukcji with z obsługą wyjątków\n",
    "file = open('file_path', 'w')\n",
    "try:\n",
    "    file.write('hello world')\n",
    "finally:\n",
    "    file.close()"
   ]
  },
  {
   "cell_type": "code",
   "execution_count": 7,
   "metadata": {
    "slideshow": {
     "slide_type": "fragment"
    }
   },
   "outputs": [],
   "source": [
    "# używanie instrukcji with\n",
    "with open('file_path', 'w') as file:\n",
    "\tfile.write('hello world !')"
   ]
  },
  {
   "attachments": {},
   "cell_type": "markdown",
   "metadata": {
    "slideshow": {
     "slide_type": "slide"
    }
   },
   "source": [
    "Zauważ, że w przeciwieństwie do pierwszych dwóch implementacji, nie ma potrzeby wywoływania `file.close()` podczas używania instrukcji `with`. Sama instrukcja `with` zapewnia właściwe pozyskiwanie i uwalnianie zasobów. Wyjątek podczas wywołania `file` w pierwszej implementacji może uniemożliwić poprawne zamknięcie pliku, co może wprowadzić kilka błędów w kodzie, np. wiele zmian w plikach nie będzie obowiązywać, dopóki plik nie zostanie poprawnie zamknięty."
   ]
  },
  {
   "attachments": {},
   "cell_type": "markdown",
   "metadata": {
    "slideshow": {
     "slide_type": "slide"
    }
   },
   "source": [
    "Drugie podejście w powyższym przykładzie zajmuje się wszystkimi wyjątkami, ale użycie instrukcji `with` sprawia, że kod jest zwarty i znacznie bardziej czytelny. W ten sposób instrukcja `with` pomaga uniknąć błędów i wycieków, zapewniając, że zasób zostanie prawidłowo wydany, gdy kod korzystający z zasobu zostanie całkowicie wykonany. Instrukcja `with` jest powszechnie używana ze strumieniami plików, jak pokazano powyżej oraz z blokadami, gniazdami, podprocesami i telnetami itp."
   ]
  },
  {
   "cell_type": "markdown",
   "metadata": {},
   "source": [
    "# Ćwiczenia"
   ]
  },
  {
   "cell_type": "markdown",
   "metadata": {},
   "source": [
    "### Ćwiczenie nr 1:\n",
    "Napisz program w Pythonie, który odczyta plik tekstowy wiersz po wierszu i zapisze go na liście `content_list`.\n",
    "`content_list` to lista zawierająca przeczytane wiersze."
   ]
  },
  {
   "cell_type": "code",
   "execution_count": 12,
   "metadata": {},
   "outputs": [
    {
     "name": "stdout",
     "output_type": "stream",
     "text": [
      "['Co to jest język Python?\\n', 'Python jest szeroko stosowanym dynamicznym językiem programowania wysokiego poziomu, ogólnego przeznaczenia. Jego filozofia projektowania kładzie nacisk na czytelność kodu, a jego składnia pozwala programistom na wyrażanie koncepcji w mniejszej liczbie wierszy kodu niż jest to możliwe w językach takich jak C++ lub Java.\\n', 'Python obsługuje wiele paradygmatów programowania, w tym programowanie obiektowe, imperatywne i funkcjonalne oraz style proceduralne. Posiada dynamiczny system typów i automatyczne zarządzanie pamięcią oraz dużą i wszechstronną bibliotekę standardową.\\n', 'Najlepszym sposobem nauki języka Python są ćwiczenia i pytania z ćwiczeniami.']\n"
     ]
    }
   ],
   "source": [
    "def file_read(fname):\n",
    "    with open(fname) as f:\n",
    "        # Content_list to lista zawierająca przeczytane wiersze.\n",
    "        content_list = f.readlines()\n",
    "        print(content_list)\n",
    "\n",
    "\n",
    "file_read('008_file_text.txt')"
   ]
  },
  {
   "cell_type": "markdown",
   "metadata": {},
   "source": [
    "### Ćwiczenie nr 2:\n",
    "Napisz program w Pythonie, aby odczytać i wyświetlić zawartość pliku w którym\n",
    "piszesz kod"
   ]
  },
  {
   "attachments": {},
   "cell_type": "markdown",
   "metadata": {
    "slideshow": {
     "slide_type": "slide"
    }
   },
   "source": [
    "#### Rozwiązanie"
   ]
  },
  {
   "cell_type": "code",
   "execution_count": 10,
   "metadata": {
    "slideshow": {
     "slide_type": "fragment"
    }
   },
   "outputs": [
    {
     "name": "stdout",
     "output_type": "stream",
     "text": [
      "{\n",
      " \"cells\": [\n",
      "  {\n",
      "   \"attachments\": {},\n",
      "   \"cell_type\": \"markdown\",\n",
      "   \"metadata\": {\n",
      "    \"slideshow\": {\n",
      "     \"slide_type\": \"slide\"\n",
      "    }\n",
      "   },\n",
      "   \"source\": [\n",
      "    \"<img src=\\\"../code_brainers_logo.png\\\" alt=\\\"logo\\\" width=\\\"400\\\"/>\\n\",\n",
      "    \"\\n\",\n",
      "    \"# 008 Python - pliki i moduły\\n\",\n",
      "    \"_Kamil Bartocha_\"\n",
      "   ]\n",
      "  },\n",
      "  {\n",
      "   \"attachments\": {},\n",
      "   \"cell_type\": \"markdown\",\n",
      "   \"metadata\": {\n",
      "    \"slideshow\": {\n",
      "     \"slide_type\": \"slide\"\n",
      "    }\n",
      "   },\n",
      "   \"source\": [\n",
      "    \"## Operacje na plikach\"\n",
      "   ]\n",
      "  },\n",
      "  {\n",
      "   \"attachments\": {},\n",
      "   \"cell_type\": \"markdown\",\n",
      "   \"metadata\": {\n",
      "    \"slideshow\": {\n",
      "     \"slide_type\": \"slide\"\n",
      "    }\n",
      "   },\n",
      "   \"source\": [\n",
      "    \"### Otwieranie i czytanie\"\n",
      "   ]\n",
      "  },\n",
      "  {\n",
      "   \"attachments\": {},\n",
      "   \"cell_type\": \"markdown\",\n",
      "   \"metadata\": {\n",
      "    \"slideshow\": {\n",
      "     \"slide_type\": \"fragment\"\n",
      "    }\n",
      "   },\n",
      "   \"source\": [\n",
      "    \"```python\\n\",\n",
      "    \"f = open('write_file_name', 'w')\\n\",\n",
      "    \"f = open('append_file_name', 'a')\\n\",\n",
      "    \"f = open('read_file_name', 'r')\\n\",\n",
      "    \"\\n\",\n",
      "    \"f.read()\\n\",\n",
      "    \"f.readline()\\n\",\n",
      "    \"f.readlines()\\n\",\n",
      "    \"```\"\n",
      "   ]\n",
      "  },\n",
      "  {\n",
      "   \"attachments\": {},\n",
      "   \"cell_type\": \"markdown\",\n",
      "   \"metadata\": {\n",
      "    \"slideshow\": {\n",
      "     \"slide_type\": \"slide\"\n",
      "    }\n",
      "   },\n",
      "   \"source\": [\n",
      "    \"### Zapis do pliku\"\n",
      "   ]\n",
      "  },\n",
      "  {\n",
      "   \"attachments\": {},\n",
      "   \"cell_type\": \"markdown\",\n",
      "   \"metadata\": {\n",
      "    \"slideshow\": {\n",
      "     \"slide_type\": \"fragment\"\n",
      "    }\n",
      "   },\n",
      "   \"source\": [\n",
      "    \"```python\\n\",\n",
      "    \"f.write('Witaj\\\\n’)\\n\",\n",
      "    \"value = 42\\n\",\n",
      "    \"f.write(value)\\n\",\n",
      "    \"```\"\n",
      "   ]\n",
      "  },\n",
      "  {\n",
      "   \"attachments\": {},\n",
      "   \"cell_type\": \"markdown\",\n",
      "   \"metadata\": {\n",
      "    \"slideshow\": {\n",
      "     \"slide_type\": \"slide\"\n",
      "    }\n",
      "   },\n",
      "   \"source\": [\n",
      "    \"### Zamykanie pliku\"\n",
      "   ]\n",
      "  },\n",
      "  {\n",
      "   \"attachments\": {},\n",
      "   \"cell_type\": \"markdown\",\n",
      "   \"metadata\": {\n",
      "    \"slideshow\": {\n",
      "     \"slide_type\": \"fragment\"\n",
      "    }\n",
      "   },\n",
      "   \"source\": [\n",
      "    \"```python\\n\",\n",
      "    \"f.close()\\n\",\n",
      "    \"```\"\n",
      "   ]\n",
      "  },\n",
      "  {\n",
      "   \"attachments\": {},\n",
      "   \"cell_type\": \"markdown\",\n",
      "   \"metadata\": {\n",
      "    \"slideshow\": {\n",
      "     \"slide_type\": \"slide\"\n",
      "    }\n",
      "   },\n",
      "   \"source\": [\n",
      "    \"### Przykład\"\n",
      "   ]\n",
      "  },\n",
      "  {\n",
      "   \"attachments\": {},\n",
      "   \"cell_type\": \"markdown\",\n",
      "   \"metadata\": {\n",
      "    \"slideshow\": {\n",
      "     \"slide_type\": \"slide\"\n",
      "    }\n",
      "   },\n",
      "   \"source\": [\n",
      "    \"`text_files/008_file_text.txt`:\\n\",\n",
      "    \"```python\\n\",\n",
      "    \"Co to jest język Python?\\n\",\n",
      "    \"Python jest szeroko stosowanym dynamicznym językiem programowania wysokiego poziomu, ogólnego przeznaczenia. Jego filozofia projektowania kładzie nacisk na czytelność kodu, a jego składnia pozwala programistom na wyrażanie koncepcji w mniejszej liczbie wierszy kodu niż jest to możliwe w językach takich jak C++ lub Java.\\n\",\n",
      "    \"Python obsługuje wiele paradygmatów programowania, w tym programowanie obiektowe, imperatywne i funkcjonalne oraz style proceduralne. Posiada dynamiczny system typów i automatyczne zarządzanie pamięcią oraz dużą i wszechstronną bibliotekę standardową.\\n\",\n",
      "    \"Najlepszym sposobem nauki języka Python są ćwiczenia i pytania z ćwiczeniami.\\n\",\n",
      "    \"```\"\n",
      "   ]\n",
      "  },\n",
      "  {\n",
      "   \"cell_type\": \"markdown\",\n",
      "   \"metadata\": {},\n",
      "   \"source\": [\n",
      "    \"`f.read()`\"\n",
      "   ]\n",
      "  },\n",
      "  {\n",
      "   \"cell_type\": \"code\",\n",
      "   \"execution_count\": 3,\n",
      "   \"metadata\": {\n",
      "    \"scrolled\": true,\n",
      "    \"slideshow\": {\n",
      "     \"slide_type\": \"slide\"\n",
      "    }\n",
      "   },\n",
      "   \"outputs\": [\n",
      "    {\n",
      "     \"name\": \"stdout\",\n",
      "     \"output_type\": \"stream\",\n",
      "     \"text\": [\n",
      "      \"Nazwa pliku:  text_files/008_file_text.txt\\n\",\n",
      "      \"Wczytany text: Co to jest język Python?\\n\",\n",
      "      \"Python jest szeroko stosowanym dynamicznym językiem programowania wysokiego poziomu, ogólnego przeznaczenia. Jego filozofia projektowania kładzie nacisk na czytelność kodu, a jego składnia pozwala programistom na wyrażanie koncepcji w mniejszej liczbie wierszy kodu niż jest to możliwe w językach takich jak C++ lub Java.\\n\",\n",
      "      \"Python obsługuje wiele paradygmatów programowania, w tym programowanie obiektowe, imperatywne i funkcjonalne oraz style proceduralne. Posiada dynamiczny system typów i automatyczne zarządzanie pamięcią oraz dużą i wszechstronną bibliotekę standardową.\\n\",\n",
      "      \"Najlepszym sposobem nauki języka Python są ćwiczenia i pytania z ćwiczeniami.\\n\"\n",
      "     ]\n",
      "    }\n",
      "   ],\n",
      "   \"source\": [\n",
      "    \"f = open(\\\"text_files/008_file_text.txt\\\", \\\"r\\\")\\n\",\n",
      "    \"print(\\\"Nazwa pliku: \\\", f.name)\\n\",\n",
      "    \"\\n\",\n",
      "    \"file_content = f.read()\\n\",\n",
      "    \"print(f\\\"Wczytany text: {file_content}\\\")\\n\",\n",
      "    \"\\n\",\n",
      "    \"f.close()\"\n",
      "   ]\n",
      "  },\n",
      "  {\n",
      "   \"cell_type\": \"code\",\n",
      "   \"execution_count\": 5,\n",
      "   \"metadata\": {},\n",
      "   \"outputs\": [\n",
      "    {\n",
      "     \"name\": \"stdout\",\n",
      "     \"output_type\": \"stream\",\n",
      "     \"text\": [\n",
      "      \"Nazwa pliku:  text_files/008_file_text.txt\\n\",\n",
      "      \"Wczytana liniaCo to jest język Python?\\n\",\n",
      "      \"\\n\"\n",
      "     ]\n",
      "    }\n",
      "   ],\n",
      "   \"source\": [\n",
      "    \"f = open(\\\"text_files/008_file_text.txt\\\", \\\"r\\\")\\n\",\n",
      "    \"print(\\\"Nazwa pliku: \\\", f.name)\\n\",\n",
      "    \"\\n\",\n",
      "    \"line = f.readline()\\n\",\n",
      "    \"print(f\\\"Wczytana linia{line}\\\")\\n\",\n",
      "    \"\\n\",\n",
      "    \"f.close()\"\n",
      "   ]\n",
      "  },\n",
      "  {\n",
      "   \"cell_type\": \"code\",\n",
      "   \"execution_count\": 8,\n",
      "   \"metadata\": {},\n",
      "   \"outputs\": [\n",
      "    {\n",
      "     \"name\": \"stdout\",\n",
      "     \"output_type\": \"stream\",\n",
      "     \"text\": [\n",
      "      \"Nazwa pliku:  text_files/008_file_text.txt\\n\",\n",
      "      \"Wczytane linie: ['Co to jest język Python?\\\\n', 'Python jest szeroko stosowanym dynamicznym językiem programowania wysokiego poziomu, ogólnego przeznaczenia. Jego filozofia projektowania kładzie nacisk na czytelność kodu, a jego składnia pozwala programistom na wyrażanie koncepcji w mniejszej liczbie wierszy kodu niż jest to możliwe w językach takich jak C++ lub Java.\\\\n', 'Python obsługuje wiele paradygmatów programowania, w tym programowanie obiektowe, imperatywne i funkcjonalne oraz style proceduralne. Posiada dynamiczny system typów i automatyczne zarządzanie pamięcią oraz dużą i wszechstronną bibliotekę standardową.\\\\n', 'Najlepszym sposobem nauki języka Python są ćwiczenia i pytania z ćwiczeniami.']\\n\"\n",
      "     ]\n",
      "    }\n",
      "   ],\n",
      "   \"source\": [\n",
      "    \"f = open(\\\"text_files/008_file_text.txt\\\", \\\"r\\\")\\n\",\n",
      "    \"print(\\\"Nazwa pliku: \\\", f.name)\\n\",\n",
      "    \"\\n\",\n",
      "    \"lines = f.readlines()\\n\",\n",
      "    \"print(f\\\"Wczytane linie: {lines}\\\")\\n\",\n",
      "    \"\\n\",\n",
      "    \"f.close()\"\n",
      "   ]\n",
      "  },\n",
      "  {\n",
      "   \"attachments\": {},\n",
      "   \"cell_type\": \"markdown\",\n",
      "   \"metadata\": {\n",
      "    \"slideshow\": {\n",
      "     \"slide_type\": \"slide\"\n",
      "    }\n",
      "   },\n",
      "   \"source\": [\n",
      "    \"### Menadżer kontekstu - `with` ang. _Context manager_\"\n",
      "   ]\n",
      "  },\n",
      "  {\n",
      "   \"attachments\": {},\n",
      "   \"cell_type\": \"markdown\",\n",
      "   \"metadata\": {\n",
      "    \"slideshow\": {\n",
      "     \"slide_type\": \"fragment\"\n",
      "    }\n",
      "   },\n",
      "   \"source\": [\n",
      "    \"Instrukcja `with` w Pythonie jest używana w obsłudze wyjątków, aby kod był czystszy i bardziej czytelny. Upraszcza zarządzanie wspólnymi zasobami, takimi jak strumienie plików. Zwróć uwagę na następujący przykład kodu, w jaki sposób użycie instrukcji `with` sprawia, że kod jest czystszy.\"\n",
      "   ]\n",
      "  },\n",
      "  {\n",
      "   \"cell_type\": \"code\",\n",
      "   \"execution_count\": null,\n",
      "   \"metadata\": {\n",
      "    \"slideshow\": {\n",
      "     \"slide_type\": \"fragment\"\n",
      "    }\n",
      "   },\n",
      "   \"outputs\": [],\n",
      "   \"source\": [\n",
      "    \"# 1) bez użycia instrukcji with\\n\",\n",
      "    \"file = open('file_path', 'w')\\n\",\n",
      "    \"file.write('hello world !')\\n\",\n",
      "    \"file.close()\"\n",
      "   ]\n",
      "  },\n",
      "  {\n",
      "   \"cell_type\": \"code\",\n",
      "   \"execution_count\": 9,\n",
      "   \"metadata\": {\n",
      "    \"slideshow\": {\n",
      "     \"slide_type\": \"fragment\"\n",
      "    }\n",
      "   },\n",
      "   \"outputs\": [],\n",
      "   \"source\": [\n",
      "    \"# 2) bez użycia instrukcji with z obsługą wyjątków\\n\",\n",
      "    \"file = open('file_path', 'w')\\n\",\n",
      "    \"try:\\n\",\n",
      "    \"    file.write('hello world')\\n\",\n",
      "    \"finally:\\n\",\n",
      "    \"    file.close()\"\n",
      "   ]\n",
      "  },\n",
      "  {\n",
      "   \"cell_type\": \"code\",\n",
      "   \"execution_count\": null,\n",
      "   \"metadata\": {\n",
      "    \"slideshow\": {\n",
      "     \"slide_type\": \"fragment\"\n",
      "    }\n",
      "   },\n",
      "   \"outputs\": [],\n",
      "   \"source\": [\n",
      "    \"# używanie instrukcji with\\n\",\n",
      "    \"with open('file_path', 'w') as file:\\n\",\n",
      "    \"\\tfile.write('hello world !')\"\n",
      "   ]\n",
      "  },\n",
      "  {\n",
      "   \"attachments\": {},\n",
      "   \"cell_type\": \"markdown\",\n",
      "   \"metadata\": {\n",
      "    \"slideshow\": {\n",
      "     \"slide_type\": \"slide\"\n",
      "    }\n",
      "   },\n",
      "   \"source\": [\n",
      "    \"Zauważ, że w przeciwieństwie do pierwszych dwóch implementacji, nie ma potrzeby wywoływania `file.close()` podczas używania instrukcji `with`. Sama instrukcja `with` zapewnia właściwe pozyskiwanie i uwalnianie zasobów. Wyjątek podczas wywołania `file` w pierwszej implementacji może uniemożliwić poprawne zamknięcie pliku, co może wprowadzić kilka błędów w kodzie, np. wiele zmian w plikach nie będzie obowiązywać, dopóki plik nie zostanie poprawnie zamknięty.\"\n",
      "   ]\n",
      "  },\n",
      "  {\n",
      "   \"attachments\": {},\n",
      "   \"cell_type\": \"markdown\",\n",
      "   \"metadata\": {\n",
      "    \"slideshow\": {\n",
      "     \"slide_type\": \"slide\"\n",
      "    }\n",
      "   },\n",
      "   \"source\": [\n",
      "    \"Drugie podejście w powyższym przykładzie zajmuje się wszystkimi wyjątkami, ale użycie instrukcji `with` sprawia, że kod jest zwarty i znacznie bardziej czytelny. W ten sposób instrukcja `with` pomaga uniknąć błędów i wycieków, zapewniając, że zasób zostanie prawidłowo wydany, gdy kod korzystający z zasobu zostanie całkowicie wykonany. Instrukcja `with` jest powszechnie używana ze strumieniami plików, jak pokazano powyżej oraz z blokadami, gniazdami, podprocesami i telnetami itp.\"\n",
      "   ]\n",
      "  },\n",
      "  {\n",
      "   \"cell_type\": \"markdown\",\n",
      "   \"metadata\": {},\n",
      "   \"source\": [\n",
      "    \"# Ćwiczenia\"\n",
      "   ]\n",
      "  },\n",
      "  {\n",
      "   \"cell_type\": \"markdown\",\n",
      "   \"metadata\": {},\n",
      "   \"source\": [\n",
      "    \"### Ćwiczenie nr 1:\\n\",\n",
      "    \"Napisz program w Pythonie, który odczyta plik tekstowy wiersz po wierszu i zapisze go na liście `content_list`.\\n\",\n",
      "    \"`content_list` to lista zawierająca przeczytane wiersze.\"\n",
      "   ]\n",
      "  },\n",
      "  {\n",
      "   \"cell_type\": \"code\",\n",
      "   \"execution_count\": null,\n",
      "   \"metadata\": {},\n",
      "   \"outputs\": [],\n",
      "   \"source\": [\n",
      "    \"def file_read(fname):\\n\",\n",
      "    \"    with open(fname) as f:\\n\",\n",
      "    \"        # Content_list to lista zawierająca przeczytane wiersze.\\n\",\n",
      "    \"        content_list = f.readlines()\\n\",\n",
      "    \"        print(content_list)\\n\",\n",
      "    \"\\n\",\n",
      "    \"\\n\",\n",
      "    \"file_read('08 Python (podstawy) - pliki i moduły.ipynb')\"\n",
      "   ]\n",
      "  },\n",
      "  {\n",
      "   \"cell_type\": \"markdown\",\n",
      "   \"metadata\": {},\n",
      "   \"source\": [\n",
      "    \"### Ćwiczenie nr 2:\\n\",\n",
      "    \"Napisz program w Pythonie, aby odczytać i wyświetlić zawartość pliku w którym\\n\",\n",
      "    \"piszesz kod\"\n",
      "   ]\n",
      "  },\n",
      "  {\n",
      "   \"attachments\": {},\n",
      "   \"cell_type\": \"markdown\",\n",
      "   \"metadata\": {\n",
      "    \"slideshow\": {\n",
      "     \"slide_type\": \"slide\"\n",
      "    }\n",
      "   },\n",
      "   \"source\": [\n",
      "    \"#### Rozwiązanie\"\n",
      "   ]\n",
      "  },\n",
      "  {\n",
      "   \"cell_type\": \"code\",\n",
      "   \"execution_count\": null,\n",
      "   \"metadata\": {\n",
      "    \"slideshow\": {\n",
      "     \"slide_type\": \"fragment\"\n",
      "    }\n",
      "   },\n",
      "   \"outputs\": [],\n",
      "   \"source\": [\n",
      "    \"def file_read(fname):\\n\",\n",
      "    \"    with open(fname, \\\"r\\\") as myfile:\\n\",\n",
      "    \"        data = myfile.read()\\n\",\n",
      "    \"        print(data)\\n\",\n",
      "    \"\\n\",\n",
      "    \"\\n\",\n",
      "    \"file_read('08 Python (podstawy) - pliki i moduły.ipynb')\"\n",
      "   ]\n",
      "  },\n",
      "  {\n",
      "   \"attachments\": {},\n",
      "   \"cell_type\": \"markdown\",\n",
      "   \"metadata\": {\n",
      "    \"slideshow\": {\n",
      "     \"slide_type\": \"fragment\"\n",
      "    }\n",
      "   },\n",
      "   \"source\": [\n",
      "    \"### Ćwiczenie nr 3:\\n\",\n",
      "    \"Napisz program w Pythonie, który znajdzie najdłuższe słowa w pliku tekstowym.\\n\",\n",
      "    \"\\n\",\n",
      "    \"input: plik `008_file_text.txt`\\n\",\n",
      "    \"\\n\",\n",
      "    \"output: `['przeznaczenia.', 'programowania,']`\"\n",
      "   ]\n",
      "  },\n",
      "  {\n",
      "   \"attachments\": {},\n",
      "   \"cell_type\": \"markdown\",\n",
      "   \"metadata\": {\n",
      "    \"slideshow\": {\n",
      "     \"slide_type\": \"slide\"\n",
      "    }\n",
      "   },\n",
      "   \"source\": [\n",
      "    \"#### Rozwiązanie\"\n",
      "   ]\n",
      "  },\n",
      "  {\n",
      "   \"cell_type\": \"code\",\n",
      "   \"execution_count\": 2,\n",
      "   \"metadata\": {\n",
      "    \"slideshow\": {\n",
      "     \"slide_type\": \"fragment\"\n",
      "    }\n",
      "   },\n",
      "   \"outputs\": [\n",
      "    {\n",
      "     \"name\": \"stdout\",\n",
      "     \"output_type\": \"stream\",\n",
      "     \"text\": [\n",
      "      \"['przeznaczenia.', 'programowania,']\\n\"\n",
      "     ]\n",
      "    }\n",
      "   ],\n",
      "   \"source\": [\n",
      "    \"def longest_word(filename):\\n\",\n",
      "    \"    with open(filename, 'r') as infile:\\n\",\n",
      "    \"        words = infile.read().split()\\n\",\n",
      "    \"        max = 0\\n\",\n",
      "    \"        for word in words:\\n\",\n",
      "    \"            if len(word) > max:\\n\",\n",
      "    \"                max = len(word)\\n\",\n",
      "    \"                words_max = []\\n\",\n",
      "    \"                words_max.append(word)\\n\",\n",
      "    \"            elif len(word) == max:\\n\",\n",
      "    \"                words_max.append(word)\\n\",\n",
      "    \"        return words_max\\n\",\n",
      "    \"\\n\",\n",
      "    \"print(longest_word('text.txt'))\"\n",
      "   ]\n",
      "  },\n",
      "  {\n",
      "   \"attachments\": {},\n",
      "   \"cell_type\": \"markdown\",\n",
      "   \"metadata\": {\n",
      "    \"slideshow\": {\n",
      "     \"slide_type\": \"slide\"\n",
      "    }\n",
      "   },\n",
      "   \"source\": [\n",
      "    \"### Ćwiczenie nr 4:\\n\",\n",
      "    \"Napisz program w Pythonie, który zapisze listę do pliku.\\n\",\n",
      "    \"przykładowa lista:\\n\",\n",
      "    \"\\n\",\n",
      "    \"`color = ['Red', 'Green', 'White', 'Black', 'Pink', 'Yellow']`\"\n",
      "   ]\n",
      "  },\n",
      "  {\n",
      "   \"attachments\": {},\n",
      "   \"cell_type\": \"markdown\",\n",
      "   \"metadata\": {\n",
      "    \"slideshow\": {\n",
      "     \"slide_type\": \"slide\"\n",
      "    }\n",
      "   },\n",
      "   \"source\": [\n",
      "    \"#### Rozwiązanie\"\n",
      "   ]\n",
      "  },\n",
      "  {\n",
      "   \"cell_type\": \"code\",\n",
      "   \"execution_count\": null,\n",
      "   \"metadata\": {\n",
      "    \"slideshow\": {\n",
      "     \"slide_type\": \"fragment\"\n",
      "    }\n",
      "   },\n",
      "   \"outputs\": [],\n",
      "   \"source\": [\n",
      "    \"color = ['Red', 'Green', 'White', 'Black', 'Pink', 'Yellow']\\n\",\n",
      "    \"myfile = open('abc.txt', \\\"w\\\")\\n\",\n",
      "    \"for c in color:\\n\",\n",
      "    \"    myfile.write(\\\"%s\\\\n\\\" % c)\\n\",\n",
      "    \"myfile.close()\\n\",\n",
      "    \"\\n\",\n",
      "    \"content = open('abc.txt')\\n\",\n",
      "    \"print(content.read())\"\n",
      "   ]\n",
      "  },\n",
      "  {\n",
      "   \"attachments\": {},\n",
      "   \"cell_type\": \"markdown\",\n",
      "   \"metadata\": {\n",
      "    \"slideshow\": {\n",
      "     \"slide_type\": \"slide\"\n",
      "    }\n",
      "   },\n",
      "   \"source\": [\n",
      "    \"## Moduły i biblioteki\"\n",
      "   ]\n",
      "  },\n",
      "  {\n",
      "   \"attachments\": {},\n",
      "   \"cell_type\": \"markdown\",\n",
      "   \"metadata\": {\n",
      "    \"slideshow\": {\n",
      "     \"slide_type\": \"fragment\"\n",
      "    }\n",
      "   },\n",
      "   \"source\": [\n",
      "    \"Dodatkowe funkcje Pythona zawarte są w modułach, z których:\\n\",\n",
      "    \"    \\n\",\n",
      "    \"* Część jest dostarczona w każdej instalacji Pythona – tak zwana biblioteka „standardowa”;\\n\",\n",
      "    \"* Reszta możliwa do doinstalowania – tak zwana biblioteka „zewnętrzna” (a raczej biblioteki „zewnętrzne”).\"\n",
      "   ]\n",
      "  },\n",
      "  {\n",
      "   \"attachments\": {},\n",
      "   \"cell_type\": \"markdown\",\n",
      "   \"metadata\": {\n",
      "    \"slideshow\": {\n",
      "     \"slide_type\": \"slide\"\n",
      "    }\n",
      "   },\n",
      "   \"source\": [\n",
      "    \"### Biblioteka „standardowa”\"\n",
      "   ]\n",
      "  },\n",
      "  {\n",
      "   \"attachments\": {},\n",
      "   \"cell_type\": \"markdown\",\n",
      "   \"metadata\": {\n",
      "    \"slideshow\": {\n",
      "     \"slide_type\": \"fragment\"\n",
      "    }\n",
      "   },\n",
      "   \"source\": [\n",
      "    \"* Python posiada rozbudowaną **bibliotekę standardową**, umożliwiającą jego stosowanie do wielu zadań\\n\",\n",
      "    \"* Twórcy języka stosują politykę tzw. **_Batteries Included_**, czyli dostarczenia wraz z pakietem instalacyjnym możliwie dużej liczby narzędzi\"\n",
      "   ]\n",
      "  },\n",
      "  {\n",
      "   \"attachments\": {},\n",
      "   \"cell_type\": \"markdown\",\n",
      "   \"metadata\": {\n",
      "    \"slideshow\": {\n",
      "     \"slide_type\": \"slide\"\n",
      "    }\n",
      "   },\n",
      "   \"source\": [\n",
      "    \"* Większa część biblioteki standardowej dostępna jest na wszystkich platformach, dzięki czemu nawet duże aplikacje mogą często być uruchamiane bez konieczności modyfikacji:\\n\",\n",
      "    \"  * Na **Uniksach**,\\n\",\n",
      "    \"  * Pod **Windows**,\\n\",\n",
      "    \"  * Na **Mac OS**\\n\",\n",
      "    \"\\n\",\n",
      "    \"Przykład:\"\n",
      "   ]\n",
      "  },\n",
      "  {\n",
      "   \"cell_type\": \"code\",\n",
      "   \"execution_count\": 10,\n",
      "   \"metadata\": {},\n",
      "   \"outputs\": [\n",
      "    {\n",
      "     \"data\": {\n",
      "      \"text/plain\": [\n",
      "       \"3.0\"\n",
      "      ]\n",
      "     },\n",
      "     \"execution_count\": 10,\n",
      "     \"metadata\": {},\n",
      "     \"output_type\": \"execute_result\"\n",
      "    }\n",
      "   ],\n",
      "   \"source\": [\n",
      "    \"import math\\n\",\n",
      "    \"math.sqrt(9)\"\n",
      "   ]\n",
      "  },\n",
      "  {\n",
      "   \"attachments\": {},\n",
      "   \"cell_type\": \"markdown\",\n",
      "   \"metadata\": {\n",
      "    \"slideshow\": {\n",
      "     \"slide_type\": \"slide\"\n",
      "    }\n",
      "   },\n",
      "   \"source\": [\n",
      "    \"### Biblioteki „zewnętrzne”\"\n",
      "   ]\n",
      "  },\n",
      "  {\n",
      "   \"attachments\": {},\n",
      "   \"cell_type\": \"markdown\",\n",
      "   \"metadata\": {\n",
      "    \"slideshow\": {\n",
      "     \"slide_type\": \"fragment\"\n",
      "    }\n",
      "   },\n",
      "   \"source\": [\n",
      "    \"* Zazwyczaj open-source, biblioteki rozwijane w specyficznej dziedzinie IT.\\n\",\n",
      "    \"* Twórca biblioteki zewnętrznej musi po prostu zapewnić, by stworzone przez niego moduły, funkcje i klasy posiadały odpowiednie atrybuty\\n\",\n",
      "    \"* Przykład: `Selenium`\"\n",
      "   ]\n",
      "  },\n",
      "  {\n",
      "   \"attachments\": {},\n",
      "   \"cell_type\": \"markdown\",\n",
      "   \"metadata\": {\n",
      "    \"slideshow\": {\n",
      "     \"slide_type\": \"slide\"\n",
      "    }\n",
      "   },\n",
      "   \"source\": [\n",
      "    \"### Import modułu\"\n",
      "   ]\n",
      "  },\n",
      "  {\n",
      "   \"attachments\": {},\n",
      "   \"cell_type\": \"markdown\",\n",
      "   \"metadata\": {\n",
      "    \"slideshow\": {\n",
      "     \"slide_type\": \"slide\"\n",
      "    }\n",
      "   },\n",
      "   \"source\": [\n",
      "    \"### Moduły i pakiety Pythona – wprowadzenie\"\n",
      "   ]\n",
      "  },\n",
      "  {\n",
      "   \"attachments\": {},\n",
      "   \"cell_type\": \"markdown\",\n",
      "   \"metadata\": {\n",
      "    \"slideshow\": {\n",
      "     \"slide_type\": \"fragment\"\n",
      "    }\n",
      "   },\n",
      "   \"source\": [\n",
      "    \"* Moduły mogą mieć jedną lub więcej funkcji\\n\",\n",
      "    \"* Pomagają w uporządkowaniu kodu\\n\",\n",
      "    \"* Zamiast jednego długiego pliku Pythona możesz mieć kilka plików (modułów)\\n\",\n",
      "    \"* Moduł to plik Pythona zawierający funkcje lub klasy\\n\",\n",
      "    \"* Program w języku Python może używać jednego lub więcej modułów\"\n",
      "   ]\n",
      "  },\n",
      "  {\n",
      "   \"attachments\": {},\n",
      "   \"cell_type\": \"markdown\",\n",
      "   \"metadata\": {\n",
      "    \"slideshow\": {\n",
      "     \"slide_type\": \"slide\"\n",
      "    }\n",
      "   },\n",
      "   \"source\": [\n",
      "    \"* Co to jest moduł?\\n\",\n",
      "    \"  * W Pythonie dostępnych jest wiele modułów (czasami nazywanych bibliotekami)\\n\",\n",
      "    \"  * Korzystając z tych modułów, możesz kodować znacznie szybciej\\n\",\n",
      "    \"  * Pomyśl o nich jak o klockach konstrukcyjnych, zawierają duże zestawy funkcji (czasem klas), które zapewniają dodatkowe funkcje\"\n",
      "   ]\n",
      "  },\n",
      "  {\n",
      "   \"attachments\": {},\n",
      "   \"cell_type\": \"markdown\",\n",
      "   \"metadata\": {\n",
      "    \"slideshow\": {\n",
      "     \"slide_type\": \"slide\"\n",
      "    }\n",
      "   },\n",
      "   \"source\": [\n",
      "    \"### Import modułów\"\n",
      "   ]\n",
      "  },\n",
      "  {\n",
      "   \"attachments\": {},\n",
      "   \"cell_type\": \"markdown\",\n",
      "   \"metadata\": {\n",
      "    \"slideshow\": {\n",
      "     \"slide_type\": \"fragment\"\n",
      "    }\n",
      "   },\n",
      "   \"source\": [\n",
      "    \"* Moduł importujemy poleceniem\\n\",\n",
      "    \"```python\\n\",\n",
      "    \"import <nazwa-modułu>\\n\",\n",
      "    \"```\\n\",\n",
      "    \"* lub\\n\",\n",
      "    \"```python\\n\",\n",
      "    \"import <nazwa-modułu> as <alias>\\n\",\n",
      "    \"```\"\n",
      "   ]\n",
      "  },\n",
      "  {\n",
      "   \"attachments\": {},\n",
      "   \"cell_type\": \"markdown\",\n",
      "   \"metadata\": {\n",
      "    \"slideshow\": {\n",
      "     \"slide_type\": \"slide\"\n",
      "    }\n",
      "   },\n",
      "   \"source\": [\n",
      "    \"### Import modułów – przykład\"\n",
      "   ]\n",
      "  },\n",
      "  {\n",
      "   \"attachments\": {},\n",
      "   \"cell_type\": \"markdown\",\n",
      "   \"metadata\": {\n",
      "    \"slideshow\": {\n",
      "     \"slide_type\": \"fragment\"\n",
      "    }\n",
      "   },\n",
      "   \"source\": [\n",
      "    \"* W poniższym przykładzie ładujemy moduł os\\n\",\n",
      "    \"* To jest skrót od **Systemu Operacyjnego** (ang. **_Operating System_**), więc możesz wykonywać zadania systemowe\\n\",\n",
      "    \"```python\\n\",\n",
      "    \"import os\\n\",\n",
      "    \"os.system(\\\"dir\\\")    # Windows\\n\",\n",
      "    \"os.system(\\\"ls\\\")     # UNIX\\n\",\n",
      "    \"```\\n\",\n",
      "    \"* Korzystając z tego modułu, wywołujemy jedną z jego funkcji o nazwie `system` (uruchamia polecenie)\"\n",
      "   ]\n",
      "  },\n",
      "  {\n",
      "   \"attachments\": {},\n",
      "   \"cell_type\": \"markdown\",\n",
      "   \"metadata\": {\n",
      "    \"slideshow\": {\n",
      "     \"slide_type\": \"slide\"\n",
      "    }\n",
      "   },\n",
      "   \"source\": [\n",
      "    \"* W tym przypadku po prostu wyświetli listę plików w katalogu:\\n\",\n",
      "    \"  * Polecenie `dir` \\t– Windows\\n\",\n",
      "    \"  * Polecenie `ls`\\t– UNIX\"\n",
      "   ]\n",
      "  },\n",
      "  {\n",
      "   \"cell_type\": \"code\",\n",
      "   \"execution_count\": 12,\n",
      "   \"metadata\": {\n",
      "    \"slideshow\": {\n",
      "     \"slide_type\": \"fragment\"\n",
      "    }\n",
      "   },\n",
      "   \"outputs\": [\n",
      "    {\n",
      "     \"name\": \"stdout\",\n",
      "     \"output_type\": \"stream\",\n",
      "     \"text\": [\n",
      "      \"001_python_wstep_do_programowania.ipynb\\n\",\n",
      "      \"002_python_srodowiska_programistyczne.ipynb\\n\",\n",
      "      \"003_python_wstep_do_pythona.ipynb\\n\",\n",
      "      \"004_python_typy_danych.ipynb\\n\",\n",
      "      \"005_python_elementy_jezyka.ipynb\\n\",\n",
      "      \"006_python_funkcje.ipynb\\n\",\n",
      "      \"007_python_wyjatki.ipynb\\n\",\n",
      "      \"\\u001b[34m008\\u001b[m\\u001b[m\\n\",\n",
      "      \"008_python_pliki_i_moduly.ipynb\\n\",\n",
      "      \"\\u001b[34m009\\u001b[m\\u001b[m\\n\",\n",
      "      \"\\u001b[34m010\\u001b[m\\u001b[m\\n\",\n",
      "      \"file_path\\n\",\n",
      "      \"\\u001b[34mtext_files\\u001b[m\\u001b[m\\n\",\n",
      "      \"\\u001b[34mwith_answers\\u001b[m\\u001b[m\\n\",\n",
      "      \"0\\n\"\n",
      "     ]\n",
      "    }\n",
      "   ],\n",
      "   \"source\": [\n",
      "    \"import os\\n\",\n",
      "    \"print(os.system(\\\"ls\\\"))\"\n",
      "   ]\n",
      "  },\n",
      "  {\n",
      "   \"attachments\": {},\n",
      "   \"cell_type\": \"markdown\",\n",
      "   \"metadata\": {\n",
      "    \"slideshow\": {\n",
      "     \"slide_type\": \"slide\"\n",
      "    }\n",
      "   },\n",
      "   \"source\": [\n",
      "    \"### Uzyskiwanie określonych funkcji z modułu\"\n",
      "   ]\n",
      "  },\n",
      "  {\n",
      "   \"attachments\": {},\n",
      "   \"cell_type\": \"markdown\",\n",
      "   \"metadata\": {\n",
      "    \"slideshow\": {\n",
      "     \"slide_type\": \"fragment\"\n",
      "    }\n",
      "   },\n",
      "   \"source\": [\n",
      "    \"* Możemy też zaimportować (uzyskać) niektóre (określone) obiekty (funkcje) z modułu\\n\",\n",
      "    \"```python\\n\",\n",
      "    \"from module import <obiekt1>, <obiekt2>, <obiekt3>\\n\",\n",
      "    \"```\"\n",
      "   ]\n",
      "  },\n",
      "  {\n",
      "   \"attachments\": {},\n",
      "   \"cell_type\": \"markdown\",\n",
      "   \"metadata\": {\n",
      "    \"slideshow\": {\n",
      "     \"slide_type\": \"slide\"\n",
      "    }\n",
      "   },\n",
      "   \"source\": [\n",
      "    \"### Uzyskiwanie określonych funkcji z modułu – przykład\"\n",
      "   ]\n",
      "  },\n",
      "  {\n",
      "   \"attachments\": {},\n",
      "   \"cell_type\": \"markdown\",\n",
      "   \"metadata\": {\n",
      "    \"slideshow\": {\n",
      "     \"slide_type\": \"fragment\"\n",
      "    }\n",
      "   },\n",
      "   \"source\": [\n",
      "    \"* Istnieje moduł o nazwie `time`, który ma wszelkiego rodzaju funkcje związane z czasem: pobierz datę, godzinę, minutę, sekundę i tak dalej\\n\",\n",
      "    \"* To całkiem sporo funkcji\\n\",\n",
      "    \"* Powiedzmy, że chcesz, aby program odczekał 2 sekundy\\n\",\n",
      "    \"* Jeśli chcesz, możesz zaimportować określoną funkcję zamiast całego modułu\"\n",
      "   ]\n",
      "  },\n",
      "  {\n",
      "   \"cell_type\": \"code\",\n",
      "   \"execution_count\": null,\n",
      "   \"metadata\": {\n",
      "    \"slideshow\": {\n",
      "     \"slide_type\": \"fragment\"\n",
      "    }\n",
      "   },\n",
      "   \"outputs\": [],\n",
      "   \"source\": [\n",
      "    \"from time import sleep\\n\",\n",
      "    \"print(\\\"Dobranoc\\\")\\n\",\n",
      "    \"sleep(2)\\n\",\n",
      "    \"print(\\\"Dzień dobry\\\")\"\n",
      "   ]\n",
      "  },\n",
      "  {\n",
      "   \"attachments\": {},\n",
      "   \"cell_type\": \"markdown\",\n",
      "   \"metadata\": {\n",
      "    \"slideshow\": {\n",
      "     \"slide_type\": \"slide\"\n",
      "    }\n",
      "   },\n",
      "   \"source\": [\n",
      "    \"### Importowanie wszystkich funkcji z modułu (z przykładem)\"\n",
      "   ]\n",
      "  },\n",
      "  {\n",
      "   \"attachments\": {},\n",
      "   \"cell_type\": \"markdown\",\n",
      "   \"metadata\": {\n",
      "    \"slideshow\": {\n",
      "     \"slide_type\": \"slide\"\n",
      "    }\n",
      "   },\n",
      "   \"source\": [\n",
      "    \"* ***Możliwe jest importowanie wielu (wszystkich) funkcji z modułów***\\n\",\n",
      "    \"  * _Nie należy stosować polecenia – nie jest to zalecane_\\n\",\n",
      "    \"  ```python\\n\",\n",
      "    \"  from module import *\\n\",\n",
      "    \"  ```\\n\",\n",
      "    \"  * _ponieważ może ono spowodować kolizję nazw pomiędzy funkcjami z różnych modułów_\\n\",\n",
      "    \"* Poniższy przykład importuje cały moduł czasu (wszystkie funkcje), którego możesz następnie użyć\"\n",
      "   ]\n",
      "  },\n",
      "  {\n",
      "   \"cell_type\": \"code\",\n",
      "   \"execution_count\": null,\n",
      "   \"metadata\": {\n",
      "    \"slideshow\": {\n",
      "     \"slide_type\": \"fragment\"\n",
      "    }\n",
      "   },\n",
      "   \"outputs\": [],\n",
      "   \"source\": [\n",
      "    \"from time import *\\n\",\n",
      "    \"sleep(2)\"\n",
      "   ]\n",
      "  },\n",
      "  {\n",
      "   \"attachments\": {},\n",
      "   \"cell_type\": \"markdown\",\n",
      "   \"metadata\": {\n",
      "    \"slideshow\": {\n",
      "     \"slide_type\": \"slide\"\n",
      "    }\n",
      "   },\n",
      "   \"source\": [\n",
      "    \"### Przykład: Importowanie modułu `math` i użycie funckji `sin()`\\n\",\n",
      "    \"Zaimportuj moduł matematyczny i wywołaj funkcję sinusoidalną.\"\n",
      "   ]\n",
      "  },\n",
      "  {\n",
      "   \"cell_type\": \"code\",\n",
      "   \"execution_count\": 17,\n",
      "   \"metadata\": {\n",
      "    \"slideshow\": {\n",
      "     \"slide_type\": \"fragment\"\n",
      "    }\n",
      "   },\n",
      "   \"outputs\": [\n",
      "    {\n",
      "     \"name\": \"stdout\",\n",
      "     \"output_type\": \"stream\",\n",
      "     \"text\": [\n",
      "      \"Wartość sinusa pi/6 to: \\n\",\n",
      "      \"1.0\\n\"\n",
      "     ]\n",
      "    }\n",
      "   ],\n",
      "   \"source\": [\n",
      "    \"import math\\n\",\n",
      "    \"a = math.pi / 2\\n\",\n",
      "    \"print (\\\"Wartość sinusa pi/6 to: \\\")\\n\",\n",
      "    \"print (math.sin(a))\"\n",
      "   ]\n",
      "  },\n",
      "  {\n",
      "   \"attachments\": {},\n",
      "   \"cell_type\": \"markdown\",\n",
      "   \"metadata\": {\n",
      "    \"slideshow\": {\n",
      "     \"slide_type\": \"slide\"\n",
      "    }\n",
      "   },\n",
      "   \"source\": [\n",
      "    \"### Tworzenie własnego modułu\"\n",
      "   ]\n",
      "  },\n",
      "  {\n",
      "   \"attachments\": {},\n",
      "   \"cell_type\": \"markdown\",\n",
      "   \"metadata\": {\n",
      "    \"slideshow\": {\n",
      "     \"slide_type\": \"fragment\"\n",
      "    }\n",
      "   },\n",
      "   \"source\": [\n",
      "    \"* Aby utworzyć moduł, utwórz plik w języku Python\\n\",\n",
      "    \"* Następnie zaimportuj go jak każdy inny moduł\\n\",\n",
      "    \"* Stwórz swój moduł (`008_fruit.py`)\\n\",\n",
      "    \"\\n\",\n",
      "    \"umieść w nim funkcję lemon_number():\\n\",\n",
      "    \"\\n\",\n",
      "    \"```python\\n\",\n",
      "    \"def lemon_number(l):\\n\",\n",
      "    \"    print('Lemoniada nr', l)\\n\",\n",
      "    \"```\"\n",
      "   ]\n",
      "  },\n",
      "  {\n",
      "   \"attachments\": {},\n",
      "   \"cell_type\": \"markdown\",\n",
      "   \"metadata\": {\n",
      "    \"slideshow\": {\n",
      "     \"slide_type\": \"slide\"\n",
      "    }\n",
      "   },\n",
      "   \"source\": [\n",
      "    \"* Następnie stwórz swój program (`module_import.py`) i wywołaj funkcję:\"\n",
      "   ]\n",
      "  },\n",
      "  {\n",
      "   \"cell_type\": \"code\",\n",
      "   \"execution_count\": 23,\n",
      "   \"metadata\": {\n",
      "    \"slideshow\": {\n",
      "     \"slide_type\": \"fragment\"\n",
      "    }\n",
      "   },\n",
      "   \"outputs\": [\n",
      "    {\n",
      "     \"name\": \"stdout\",\n",
      "     \"output_type\": \"stream\",\n",
      "     \"text\": [\n",
      "      \"Lemoniada nr 5\\n\"\n",
      "     ]\n",
      "    }\n",
      "   ],\n",
      "   \"source\": [\n",
      "    \"import fruit\\n\",\n",
      "    \"\\n\",\n",
      "    \"fruit.lemon_number(5)\\n\",\n",
      "    \"# lemon_number(5)\"\n",
      "   ]\n",
      "  },\n",
      "  {\n",
      "   \"attachments\": {},\n",
      "   \"cell_type\": \"markdown\",\n",
      "   \"metadata\": {\n",
      "    \"slideshow\": {\n",
      "     \"slide_type\": \"slide\"\n",
      "    }\n",
      "   },\n",
      "   \"source\": [\n",
      "    \"### Wyszukiwanie modułów\"\n",
      "   ]\n",
      "  },\n",
      "  {\n",
      "   \"attachments\": {},\n",
      "   \"cell_type\": \"markdown\",\n",
      "   \"metadata\": {\n",
      "    \"slideshow\": {\n",
      "     \"slide_type\": \"slide\"\n",
      "    }\n",
      "   },\n",
      "   \"source\": [\n",
      "    \"* Interpreter Pythona wyszukuje moduły w kolejności:\\n\",\n",
      "    \"  * Katalog, w którym jest uruchamiany skrypt (może być to katalog bieżący)\\n\",\n",
      "    \"  * Następnie w katalogach zawartych w zmiennej systemowej '`PYTHONPATH`’\\n\",\n",
      "    \"  * W katalogach systemowych `PATH`\\n\",\n",
      "    \"* Nie znaleziono modułu Pythona?\\n\",\n",
      "    \"  * Jeśli pojawi się błąd „`ImportError: No module named`”, oznacza to, że moduł nie jest zainstalowany\\n\",\n",
      "    \"  * Możesz zainstalować moduł zewnętrzny za pomocą menedżera pakietów (o tym później)\"\n",
      "   ]\n",
      "  },\n",
      "  {\n",
      "   \"attachments\": {},\n",
      "   \"cell_type\": \"markdown\",\n",
      "   \"metadata\": {\n",
      "    \"slideshow\": {\n",
      "     \"slide_type\": \"slide\"\n",
      "    }\n",
      "   },\n",
      "   \"source\": [\n",
      "    \"### Instalowanie dodatkowych modułów\"\n",
      "   ]\n",
      "  },\n",
      "  {\n",
      "   \"attachments\": {},\n",
      "   \"cell_type\": \"markdown\",\n",
      "   \"metadata\": {\n",
      "    \"slideshow\": {\n",
      "     \"slide_type\": \"fragment\"\n",
      "    }\n",
      "   },\n",
      "   \"source\": [\n",
      "    \"* Dodatkowe moduły można znaleźć poprzez stronę **Python Package Index** oraz zainstalować używając:\\n\",\n",
      "    \"  * Programu **PyPI** udostępnianego przez **Python Package Index**\\n\",\n",
      "    \"  * Środowiska **conda**, która dostarcza pakiety **Anaconda**\\n\",\n",
      "    \"  * Systemowych paczek Pythona w przypadku Linuksa\\n\",\n",
      "    \"  * Środowisk **Homebrew** lub **MacPorts** dla macOS\\n\",\n",
      "    \"* Wszystkie te sposoby umożliwiają automatyczne zarządzanie wszystkimi zależnościami między pakietami\"\n",
      "   ]\n",
      "  },\n",
      "  {\n",
      "   \"attachments\": {},\n",
      "   \"cell_type\": \"markdown\",\n",
      "   \"metadata\": {\n",
      "    \"slideshow\": {\n",
      "     \"slide_type\": \"slide\"\n",
      "    }\n",
      "   },\n",
      "   \"source\": [\n",
      "    \"### Python Package Index\"\n",
      "   ]\n",
      "  },\n",
      "  {\n",
      "   \"attachments\": {},\n",
      "   \"cell_type\": \"markdown\",\n",
      "   \"metadata\": {\n",
      "    \"slideshow\": {\n",
      "     \"slide_type\": \"-\"\n",
      "    }\n",
      "   },\n",
      "   \"source\": [\n",
      "    \"![Logo for Python Package Index (PyPI)](https://upload.wikimedia.org/wikipedia/commons/6/64/PyPI_logo.svg)\"\n",
      "   ]\n",
      "  },\n",
      "  {\n",
      "   \"attachments\": {},\n",
      "   \"cell_type\": \"markdown\",\n",
      "   \"metadata\": {\n",
      "    \"slideshow\": {\n",
      "     \"slide_type\": \"slide\"\n",
      "    }\n",
      "   },\n",
      "   \"source\": [\n",
      "    \"* Indeks pakietów Python, w skrócie **PyPI** i znany również jako **Cheese Shop**\\n\",\n",
      "    \"* Oficjalne **repozytorium oprogramowania** dla **Pythona**\\n\",\n",
      "    \"* Jest analogiczny do **CPAN**, repozytorium dla **Perla**\\n\",\n",
      "    \"* Niektórzy menedżerowie pakietów, w tym **pip**, używają PyPI jako domyślnego źródła pakietów i ich zależności\\n\",\n",
      "    \"* URL: https://pypi.org\"\n",
      "   ]\n",
      "  },\n",
      "  {\n",
      "   \"attachments\": {},\n",
      "   \"cell_type\": \"markdown\",\n",
      "   \"metadata\": {\n",
      "    \"slideshow\": {\n",
      "     \"slide_type\": \"slide\"\n",
      "    }\n",
      "   },\n",
      "   \"source\": [\n",
      "    \"### PyPI\"\n",
      "   ]\n",
      "  },\n",
      "  {\n",
      "   \"attachments\": {},\n",
      "   \"cell_type\": \"markdown\",\n",
      "   \"metadata\": {\n",
      "    \"slideshow\": {\n",
      "     \"slide_type\": \"fragment\"\n",
      "    }\n",
      "   },\n",
      "   \"source\": [\n",
      "    \"* **pip** to **de facto** standardowy **system zarządzania pakietami** używany do instalowania i zarządzania **pakietami oprogramowania** napisanymi w języku **Python**\\n\",\n",
      "    \"* Wiele pakietów można znaleźć w domyślnym źródle pakietów i ich zależnościach – **Python Package Index**\"\n",
      "   ]\n",
      "  },\n",
      "  {\n",
      "   \"attachments\": {},\n",
      "   \"cell_type\": \"markdown\",\n",
      "   \"metadata\": {\n",
      "    \"slideshow\": {\n",
      "     \"slide_type\": \"slide\"\n",
      "    }\n",
      "   },\n",
      "   \"source\": [\n",
      "    \"![pip --help](https://upload.wikimedia.org/wikipedia/commons/0/02/Pip_help.png)\"\n",
      "   ]\n",
      "  },\n",
      "  {\n",
      "   \"attachments\": {},\n",
      "   \"cell_type\": \"markdown\",\n",
      "   \"metadata\": {\n",
      "    \"slideshow\": {\n",
      "     \"slide_type\": \"slide\"\n",
      "    }\n",
      "   },\n",
      "   \"source\": [\n",
      "    \"* Większość dystrybucji Pythona pochodzi z preinstalowanym pipem\\n\",\n",
      "    \"* Najpowszechniejszym zastosowaniem **pip** jest instalacja z **Python Package Index** przy użyciu **specyfikatora wymagań**\\n\",\n",
      "    \"* Ogólnie rzecz biorąc, specyfikator wymagań składa się z nazwy projektu, po której następuje opcjonalny **specyfikator wersji**\\n\",\n",
      "    \"* Strona internetowa: https://pip.pypa.io/\"\n",
      "   ]\n",
      "  },\n",
      "  {\n",
      "   \"attachments\": {},\n",
      "   \"cell_type\": \"markdown\",\n",
      "   \"metadata\": {\n",
      "    \"slideshow\": {\n",
      "     \"slide_type\": \"slide\"\n",
      "    }\n",
      "   },\n",
      "   \"source\": [\n",
      "    \"### Instalacja przy użyciu PyPI\"\n",
      "   ]\n",
      "  },\n",
      "  {\n",
      "   \"attachments\": {},\n",
      "   \"cell_type\": \"markdown\",\n",
      "   \"metadata\": {\n",
      "    \"slideshow\": {\n",
      "     \"slide_type\": \"fragment\"\n",
      "    }\n",
      "   },\n",
      "   \"source\": [\n",
      "    \"* Wyszukujemy paczkę przy przez komendę\\n\",\n",
      "    \"```sh\\n\",\n",
      "    \"pip search <paczka>\\n\",\n",
      "    \"```\\n\",\n",
      "    \"* Instalujemy paczkę przez komendę\\n\",\n",
      "    \"```sh\\n\",\n",
      "    \"pip install <paczka>\\n\",\n",
      "    \"```\"\n",
      "   ]\n",
      "  },\n",
      "  {\n",
      "   \"attachments\": {},\n",
      "   \"cell_type\": \"markdown\",\n",
      "   \"metadata\": {\n",
      "    \"slideshow\": {\n",
      "     \"slide_type\": \"fragment\"\n",
      "    }\n",
      "   },\n",
      "   \"source\": [\n",
      "    \"![An output of pip install virtualenv](https://upload.wikimedia.org/wikipedia/commons/7/7f/Pip_install_virtualenv.png)\"\n",
      "   ]\n",
      "  },\n",
      "  {\n",
      "   \"attachments\": {},\n",
      "   \"cell_type\": \"markdown\",\n",
      "   \"metadata\": {\n",
      "    \"slideshow\": {\n",
      "     \"slide_type\": \"slide\"\n",
      "    }\n",
      "   },\n",
      "   \"source\": [\n",
      "    \"### Conda (menedżer pakietów)\"\n",
      "   ]\n",
      "  },\n",
      "  {\n",
      "   \"attachments\": {},\n",
      "   \"cell_type\": \"markdown\",\n",
      "   \"metadata\": {},\n",
      "   \"source\": [\n",
      "    \"![Logo of the conda package manager](https://upload.wikimedia.org/wikipedia/commons/e/ea/Conda_logo.svg)\"\n",
      "   ]\n",
      "  },\n",
      "  {\n",
      "   \"attachments\": {},\n",
      "   \"cell_type\": \"markdown\",\n",
      "   \"metadata\": {\n",
      "    \"slideshow\": {\n",
      "     \"slide_type\": \"slide\"\n",
      "    }\n",
      "   },\n",
      "   \"source\": [\n",
      "    \"* **Menedżer pakietów i system zarządzania środowiskiem:**\\n\",\n",
      "    \"  * **Open-source**\\n\",\n",
      "    \"  * **Wieloplatformowy**\\n\",\n",
      "    \"  * **Niezależny od języka**\\n\",\n",
      "    \"* Początkowo część **dystrybucji Anaconda Python** opracowanej przez Anaconda Inc.\\n\",\n",
      "    \"* Okazała się, że być użyteczna samodzielnie i do innych celów niż Python\\n\",\n",
      "    \"* Została więc wydzielona jako osobny pakiet\\n\",\n",
      "    \"* Wydana na **licencji BSD**\\n\",\n",
      "    \"* Strona internetowa: https://conda.io/\"\n",
      "   ]\n",
      "  },\n",
      "  {\n",
      "   \"attachments\": {},\n",
      "   \"cell_type\": \"markdown\",\n",
      "   \"metadata\": {\n",
      "    \"slideshow\": {\n",
      "     \"slide_type\": \"slide\"\n",
      "    }\n",
      "   },\n",
      "   \"source\": [\n",
      "    \"### Anaconda\"\n",
      "   ]\n",
      "  },\n",
      "  {\n",
      "   \"attachments\": {},\n",
      "   \"cell_type\": \"markdown\",\n",
      "   \"metadata\": {},\n",
      "   \"source\": [\n",
      "    \"![Anaconda Logo](https://upload.wikimedia.org/wikipedia/en/c/cd/Anaconda_Logo.png)\"\n",
      "   ]\n",
      "  },\n",
      "  {\n",
      "   \"attachments\": {},\n",
      "   \"cell_type\": \"markdown\",\n",
      "   \"metadata\": {\n",
      "    \"slideshow\": {\n",
      "     \"slide_type\": \"slide\"\n",
      "    }\n",
      "   },\n",
      "   \"source\": [\n",
      "    \"* Darmowa i otwarta dystrybucja języków programowania:\\n\",\n",
      "    \"  * Python\\n\",\n",
      "    \"  * R\\n\",\n",
      "    \"* Do obliczeń naukowych\\n\",\n",
      "    \"* Ma na celu uproszczenie:\\n\",\n",
      "    \"  * Zarządzania pakietami\\n\",\n",
      "    \"  * Wdrażania\\n\",\n",
      "    \"* Obejmuje pakiety danych naukowych odpowiednie dla systemów:\\n\",\n",
      "    \"  * Windows\\n\",\n",
      "    \"  * Linux\\n\",\n",
      "    \"  * macOS\\n\",\n",
      "    \"* Strona internetowa: https://conda.io/\"\n",
      "   ]\n",
      "  },\n",
      "  {\n",
      "   \"attachments\": {},\n",
      "   \"cell_type\": \"markdown\",\n",
      "   \"metadata\": {\n",
      "    \"slideshow\": {\n",
      "     \"slide_type\": \"slide\"\n",
      "    }\n",
      "   },\n",
      "   \"source\": [\n",
      "    \"### Instalacja przy użyciu Conda\"\n",
      "   ]\n",
      "  },\n",
      "  {\n",
      "   \"attachments\": {},\n",
      "   \"cell_type\": \"markdown\",\n",
      "   \"metadata\": {\n",
      "    \"slideshow\": {\n",
      "     \"slide_type\": \"fragment\"\n",
      "    }\n",
      "   },\n",
      "   \"source\": [\n",
      "    \"* Conda umożliwia użytkownikom łatwe instalowanie różnych wersji pakietów oprogramowania **binarnego** i wszelkich wymaganych bibliotek odpowiednich dla ich **platformy komputerowej**\\n\",\n",
      "    \"* Ponadto umożliwia użytkownikom przełączanie się między wersjami pakietów oraz pobieranie i instalowanie aktualizacji z repozytorium oprogramowania\\n\",\n",
      "    \"* Wyszukujemy paczkę przy przez komendę\\n\",\n",
      "    \"```sh\\n\",\n",
      "    \"conda search <paczka>\\n\",\n",
      "    \"```\\n\",\n",
      "    \"* Instalujemy paczkę przez komendę\\n\",\n",
      "    \"```sh\\n\",\n",
      "    \"conda install <paczka>\\n\",\n",
      "    \"```\"\n",
      "   ]\n",
      "  },\n",
      "  {\n",
      "   \"attachments\": {},\n",
      "   \"cell_type\": \"markdown\",\n",
      "   \"metadata\": {\n",
      "    \"slideshow\": {\n",
      "     \"slide_type\": \"slide\"\n",
      "    }\n",
      "   },\n",
      "   \"source\": [\n",
      "    \"### Homebrew (menedżer pakietów)\"\n",
      "   ]\n",
      "  },\n",
      "  {\n",
      "   \"attachments\": {},\n",
      "   \"cell_type\": \"markdown\",\n",
      "   \"metadata\": {},\n",
      "   \"source\": [\n",
      "    \"![Homebrew logo](https://upload.wikimedia.org/wikipedia/commons/thumb/9/95/Homebrew_logo.svg/398px-Homebrew_logo.svg.png)\"\n",
      "   ]\n",
      "  },\n",
      "  {\n",
      "   \"attachments\": {},\n",
      "   \"cell_type\": \"markdown\",\n",
      "   \"metadata\": {\n",
      "    \"slideshow\": {\n",
      "     \"slide_type\": \"slide\"\n",
      "    }\n",
      "   },\n",
      "   \"source\": [\n",
      "    \"* **Darmowy system zarządzania pakietami** oprogramowania typu **open source**, który upraszcza instalację oprogramowania w systemie operacyjnym:\\n\",\n",
      "    \"  * **MacOS Apple**\\n\",\n",
      "    \"  * **Linux**\\n\",\n",
      "    \"* Nazwa ma sugerować pomysł budowy oprogramowania na komputerze Mac w zależności od upodobań\\n\",\n",
      "    \"* Strona internetowa: https://brew.sh/\"\n",
      "   ]\n",
      "  },\n",
      "  {\n",
      "   \"attachments\": {},\n",
      "   \"cell_type\": \"markdown\",\n",
      "   \"metadata\": {\n",
      "    \"slideshow\": {\n",
      "     \"slide_type\": \"slide\"\n",
      "    }\n",
      "   },\n",
      "   \"source\": [\n",
      "    \"### MacPorts (zwany dawniej DarwinPorts)\"\n",
      "   ]\n",
      "  },\n",
      "  {\n",
      "   \"attachments\": {},\n",
      "   \"cell_type\": \"markdown\",\n",
      "   \"metadata\": {},\n",
      "   \"source\": [\n",
      "    \"![An SVG recreation of the MacPorts Logo, published by Vincent Habchi.](https://upload.wikimedia.org/wikipedia/commons/f/f5/MacPorts_Logo.svg)\"\n",
      "   ]\n",
      "  },\n",
      "  {\n",
      "   \"attachments\": {},\n",
      "   \"cell_type\": \"markdown\",\n",
      "   \"metadata\": {\n",
      "    \"slideshow\": {\n",
      "     \"slide_type\": \"fragment\"\n",
      "    }\n",
      "   },\n",
      "   \"source\": [\n",
      "    \"* Projekt **FLOSS** (ang. **_free and open-source software_**) na licencji BSD \\n\",\n",
      "    \"* Upraszcza instalację innego oprogramowania **open source** na systemach:\\n\",\n",
      "    \"  * **macOS**\\n\",\n",
      "    \"  * **Darwin**\\n\",\n",
      "    \"* Podobny do projektu **Fink** lub innych **kolekcji portów** znanych z **BSD**\\n\",\n",
      "    \"* Strona internetowa: https://macports.org/\"\n",
      "   ]\n",
      "  },\n",
      "  {\n",
      "   \"cell_type\": \"code\",\n",
      "   \"execution_count\": null,\n",
      "   \"metadata\": {\n",
      "    \"slideshow\": {\n",
      "     \"slide_type\": \"skip\"\n",
      "    }\n",
      "   },\n",
      "   \"outputs\": [],\n",
      "   \"source\": []\n",
      "  }\n",
      " ],\n",
      " \"metadata\": {\n",
      "  \"celltoolbar\": \"Slideshow\",\n",
      "  \"kernelspec\": {\n",
      "   \"display_name\": \"Python 3 (ipykernel)\",\n",
      "   \"language\": \"python\",\n",
      "   \"name\": \"python3\"\n",
      "  },\n",
      "  \"language_info\": {\n",
      "   \"codemirror_mode\": {\n",
      "    \"name\": \"ipython\",\n",
      "    \"version\": 3\n",
      "   },\n",
      "   \"file_extension\": \".py\",\n",
      "   \"mimetype\": \"text/x-python\",\n",
      "   \"name\": \"python\",\n",
      "   \"nbconvert_exporter\": \"python\",\n",
      "   \"pygments_lexer\": \"ipython3\",\n",
      "   \"version\": \"3.10.6\"\n",
      "  }\n",
      " },\n",
      " \"nbformat\": 4,\n",
      " \"nbformat_minor\": 4\n",
      "}\n",
      "\n"
     ]
    }
   ],
   "source": [
    "def file_read(fname):\n",
    "    with open(fname, \"r\") as myfile:\n",
    "        data = myfile.read()\n",
    "        print(data)\n",
    "\n",
    "\n",
    "file_read('008_python_pliki_i_moduly.ipynb')"
   ]
  },
  {
   "attachments": {},
   "cell_type": "markdown",
   "metadata": {
    "slideshow": {
     "slide_type": "fragment"
    }
   },
   "source": [
    "### Ćwiczenie nr 3:\n",
    "Napisz program w Pythonie, który znajdzie najdłuższe słowa w pliku tekstowym.\n",
    "\n",
    "input: plik `008_file_text.txt`\n",
    "\n",
    "output: `['przeznaczenia.', 'programowania,']`"
   ]
  },
  {
   "attachments": {},
   "cell_type": "markdown",
   "metadata": {
    "slideshow": {
     "slide_type": "slide"
    }
   },
   "source": [
    "#### Rozwiązanie"
   ]
  },
  {
   "cell_type": "code",
   "execution_count": 14,
   "metadata": {
    "slideshow": {
     "slide_type": "fragment"
    }
   },
   "outputs": [
    {
     "name": "stdout",
     "output_type": "stream",
     "text": [
      "['przeznaczenia.', 'programowania,']\n"
     ]
    }
   ],
   "source": [
    "def longest_word(filename):\n",
    "    with open(filename, 'r') as infile:\n",
    "        words = infile.read().split()\n",
    "        max = 0\n",
    "        for word in words:\n",
    "            if len(word) > max:\n",
    "                max = len(word)\n",
    "                words_max = []\n",
    "                words_max.append(word)\n",
    "            elif len(word) == max:\n",
    "                words_max.append(word)\n",
    "        return words_max\n",
    "\n",
    "print(longest_word('008_file_text.txt'))"
   ]
  },
  {
   "attachments": {},
   "cell_type": "markdown",
   "metadata": {
    "slideshow": {
     "slide_type": "slide"
    }
   },
   "source": [
    "### Ćwiczenie nr 4:\n",
    "Napisz program w Pythonie, który zapisze listę do pliku.\n",
    "przykładowa lista:\n",
    "\n",
    "`color = ['Red', 'Green', 'White', 'Black', 'Pink', 'Yellow']`"
   ]
  },
  {
   "attachments": {},
   "cell_type": "markdown",
   "metadata": {
    "slideshow": {
     "slide_type": "slide"
    }
   },
   "source": [
    "#### Rozwiązanie"
   ]
  },
  {
   "cell_type": "code",
   "execution_count": 15,
   "metadata": {
    "slideshow": {
     "slide_type": "fragment"
    }
   },
   "outputs": [
    {
     "name": "stdout",
     "output_type": "stream",
     "text": [
      "Red\n",
      "Green\n",
      "White\n",
      "Black\n",
      "Pink\n",
      "Yellow\n",
      "\n"
     ]
    }
   ],
   "source": [
    "color = ['Red', 'Green', 'White', 'Black', 'Pink', 'Yellow']\n",
    "myfile = open('list_to_file.txt', \"w\")\n",
    "for c in color:\n",
    "    myfile.write(c + \"\\n\")\n",
    "myfile.close()\n",
    "\n",
    "content = open('list_to_file.txt')\n",
    "print(content.read())"
   ]
  },
  {
   "attachments": {},
   "cell_type": "markdown",
   "metadata": {
    "slideshow": {
     "slide_type": "slide"
    }
   },
   "source": [
    "## Moduły i biblioteki"
   ]
  },
  {
   "attachments": {},
   "cell_type": "markdown",
   "metadata": {
    "slideshow": {
     "slide_type": "fragment"
    }
   },
   "source": [
    "Dodatkowe funkcje Pythona zawarte są w modułach, z których:\n",
    "    \n",
    "* Część jest dostarczona w każdej instalacji Pythona – tak zwana biblioteka „standardowa”;\n",
    "* Reszta możliwa do doinstalowania – tak zwana biblioteka „zewnętrzna” (a raczej biblioteki „zewnętrzne”)."
   ]
  },
  {
   "attachments": {},
   "cell_type": "markdown",
   "metadata": {
    "slideshow": {
     "slide_type": "slide"
    }
   },
   "source": [
    "### Biblioteka „standardowa”"
   ]
  },
  {
   "attachments": {},
   "cell_type": "markdown",
   "metadata": {
    "slideshow": {
     "slide_type": "fragment"
    }
   },
   "source": [
    "* Python posiada rozbudowaną **bibliotekę standardową**, umożliwiającą jego stosowanie do wielu zadań\n",
    "* Twórcy języka stosują politykę tzw. **_Batteries Included_**, czyli dostarczenia wraz z pakietem instalacyjnym możliwie dużej liczby narzędzi"
   ]
  },
  {
   "attachments": {},
   "cell_type": "markdown",
   "metadata": {
    "slideshow": {
     "slide_type": "slide"
    }
   },
   "source": [
    "* Większa część biblioteki standardowej dostępna jest na wszystkich platformach, dzięki czemu nawet duże aplikacje mogą często być uruchamiane bez konieczności modyfikacji:\n",
    "  * Na **Uniksach**,\n",
    "  * Pod **Windows**,\n",
    "  * Na **Mac OS**\n",
    "\n",
    "Przykład:"
   ]
  },
  {
   "cell_type": "code",
   "execution_count": 10,
   "metadata": {},
   "outputs": [
    {
     "data": {
      "text/plain": [
       "3.0"
      ]
     },
     "execution_count": 10,
     "metadata": {},
     "output_type": "execute_result"
    }
   ],
   "source": [
    "import math\n",
    "math.sqrt(9)"
   ]
  },
  {
   "attachments": {},
   "cell_type": "markdown",
   "metadata": {
    "slideshow": {
     "slide_type": "slide"
    }
   },
   "source": [
    "### Biblioteki „zewnętrzne”"
   ]
  },
  {
   "attachments": {},
   "cell_type": "markdown",
   "metadata": {
    "slideshow": {
     "slide_type": "fragment"
    }
   },
   "source": [
    "* Zazwyczaj open-source, biblioteki rozwijane w specyficznej dziedzinie IT.\n",
    "* Twórca biblioteki zewnętrznej musi po prostu zapewnić, by stworzone przez niego moduły, funkcje i klasy posiadały odpowiednie atrybuty\n",
    "* Przykład: `Selenium`"
   ]
  },
  {
   "attachments": {},
   "cell_type": "markdown",
   "metadata": {
    "slideshow": {
     "slide_type": "slide"
    }
   },
   "source": [
    "### Import modułu"
   ]
  },
  {
   "attachments": {},
   "cell_type": "markdown",
   "metadata": {
    "slideshow": {
     "slide_type": "slide"
    }
   },
   "source": [
    "### Moduły i pakiety Pythona – wprowadzenie"
   ]
  },
  {
   "attachments": {},
   "cell_type": "markdown",
   "metadata": {
    "slideshow": {
     "slide_type": "fragment"
    }
   },
   "source": [
    "* Moduły mogą mieć jedną lub więcej funkcji\n",
    "* Pomagają w uporządkowaniu kodu\n",
    "* Zamiast jednego długiego pliku Pythona możesz mieć kilka plików (modułów)\n",
    "* Moduł to plik Pythona zawierający funkcje lub klasy\n",
    "* Program w języku Python może używać jednego lub więcej modułów"
   ]
  },
  {
   "attachments": {},
   "cell_type": "markdown",
   "metadata": {
    "slideshow": {
     "slide_type": "slide"
    }
   },
   "source": [
    "* Co to jest moduł?\n",
    "  * W Pythonie dostępnych jest wiele modułów (czasami nazywanych bibliotekami)\n",
    "  * Korzystając z tych modułów, możesz kodować znacznie szybciej\n",
    "  * Pomyśl o nich jak o klockach konstrukcyjnych, zawierają duże zestawy funkcji (czasem klas), które zapewniają dodatkowe funkcje"
   ]
  },
  {
   "attachments": {},
   "cell_type": "markdown",
   "metadata": {
    "slideshow": {
     "slide_type": "slide"
    }
   },
   "source": [
    "### Import modułów"
   ]
  },
  {
   "attachments": {},
   "cell_type": "markdown",
   "metadata": {
    "slideshow": {
     "slide_type": "fragment"
    }
   },
   "source": [
    "* Moduł importujemy poleceniem\n",
    "```python\n",
    "import <nazwa-modułu>\n",
    "```\n",
    "* lub\n",
    "```python\n",
    "import <nazwa-modułu> as <alias>\n",
    "```"
   ]
  },
  {
   "attachments": {},
   "cell_type": "markdown",
   "metadata": {
    "slideshow": {
     "slide_type": "slide"
    }
   },
   "source": [
    "### Import modułów – przykład"
   ]
  },
  {
   "attachments": {},
   "cell_type": "markdown",
   "metadata": {
    "slideshow": {
     "slide_type": "fragment"
    }
   },
   "source": [
    "* W poniższym przykładzie ładujemy moduł os\n",
    "* To jest skrót od **Systemu Operacyjnego** (ang. **_Operating System_**), więc możesz wykonywać zadania systemowe\n",
    "```python\n",
    "import os\n",
    "os.system(\"dir\")    # Windows\n",
    "os.system(\"ls\")     # UNIX\n",
    "```\n",
    "* Korzystając z tego modułu, wywołujemy jedną z jego funkcji o nazwie `system` (uruchamia polecenie)"
   ]
  },
  {
   "attachments": {},
   "cell_type": "markdown",
   "metadata": {
    "slideshow": {
     "slide_type": "slide"
    }
   },
   "source": [
    "* W tym przypadku po prostu wyświetli listę plików w katalogu:\n",
    "  * Polecenie `dir` \t– Windows\n",
    "  * Polecenie `ls`\t– UNIX"
   ]
  },
  {
   "cell_type": "code",
   "execution_count": 12,
   "metadata": {
    "slideshow": {
     "slide_type": "fragment"
    }
   },
   "outputs": [
    {
     "name": "stdout",
     "output_type": "stream",
     "text": [
      "001_python_wstep_do_programowania.ipynb\n",
      "002_python_srodowiska_programistyczne.ipynb\n",
      "003_python_wstep_do_pythona.ipynb\n",
      "004_python_typy_danych.ipynb\n",
      "005_python_elementy_jezyka.ipynb\n",
      "006_python_funkcje.ipynb\n",
      "007_python_wyjatki.ipynb\n",
      "\u001b[34m008\u001b[m\u001b[m\n",
      "008_python_pliki_i_moduly.ipynb\n",
      "\u001b[34m009\u001b[m\u001b[m\n",
      "\u001b[34m010\u001b[m\u001b[m\n",
      "file_path\n",
      "\u001b[34mtext_files\u001b[m\u001b[m\n",
      "\u001b[34mwith_answers\u001b[m\u001b[m\n",
      "0\n"
     ]
    }
   ],
   "source": [
    "import os\n",
    "print(os.system(\"ls\"))"
   ]
  },
  {
   "attachments": {},
   "cell_type": "markdown",
   "metadata": {
    "slideshow": {
     "slide_type": "slide"
    }
   },
   "source": [
    "### Uzyskiwanie określonych funkcji z modułu"
   ]
  },
  {
   "attachments": {},
   "cell_type": "markdown",
   "metadata": {
    "slideshow": {
     "slide_type": "fragment"
    }
   },
   "source": [
    "* Możemy też zaimportować (uzyskać) niektóre (określone) obiekty (funkcje) z modułu\n",
    "```python\n",
    "from module import <obiekt1>, <obiekt2>, <obiekt3>\n",
    "```"
   ]
  },
  {
   "attachments": {},
   "cell_type": "markdown",
   "metadata": {
    "slideshow": {
     "slide_type": "slide"
    }
   },
   "source": [
    "### Uzyskiwanie określonych funkcji z modułu – przykład"
   ]
  },
  {
   "attachments": {},
   "cell_type": "markdown",
   "metadata": {
    "slideshow": {
     "slide_type": "fragment"
    }
   },
   "source": [
    "* Istnieje moduł o nazwie `time`, który ma wszelkiego rodzaju funkcje związane z czasem: pobierz datę, godzinę, minutę, sekundę i tak dalej\n",
    "* To całkiem sporo funkcji\n",
    "* Powiedzmy, że chcesz, aby program odczekał 2 sekundy\n",
    "* Jeśli chcesz, możesz zaimportować określoną funkcję zamiast całego modułu"
   ]
  },
  {
   "cell_type": "code",
   "execution_count": null,
   "metadata": {
    "slideshow": {
     "slide_type": "fragment"
    }
   },
   "outputs": [],
   "source": [
    "from time import sleep\n",
    "print(\"Dobranoc\")\n",
    "sleep(2)\n",
    "print(\"Dzień dobry\")"
   ]
  },
  {
   "attachments": {},
   "cell_type": "markdown",
   "metadata": {
    "slideshow": {
     "slide_type": "slide"
    }
   },
   "source": [
    "### Importowanie wszystkich funkcji z modułu (z przykładem)"
   ]
  },
  {
   "attachments": {},
   "cell_type": "markdown",
   "metadata": {
    "slideshow": {
     "slide_type": "slide"
    }
   },
   "source": [
    "* ***Możliwe jest importowanie wielu (wszystkich) funkcji z modułów***\n",
    "  * _Nie należy stosować polecenia – nie jest to zalecane_\n",
    "  ```python\n",
    "  from module import *\n",
    "  ```\n",
    "  * _ponieważ może ono spowodować kolizję nazw pomiędzy funkcjami z różnych modułów_\n",
    "* Poniższy przykład importuje cały moduł czasu (wszystkie funkcje), którego możesz następnie użyć"
   ]
  },
  {
   "cell_type": "code",
   "execution_count": null,
   "metadata": {
    "slideshow": {
     "slide_type": "fragment"
    }
   },
   "outputs": [],
   "source": [
    "from time import *\n",
    "sleep(2)"
   ]
  },
  {
   "attachments": {},
   "cell_type": "markdown",
   "metadata": {
    "slideshow": {
     "slide_type": "slide"
    }
   },
   "source": [
    "### Przykład: Importowanie modułu `math` i użycie funckji `sin()`\n",
    "Zaimportuj moduł matematyczny i wywołaj funkcję sinusoidalną."
   ]
  },
  {
   "cell_type": "code",
   "execution_count": 17,
   "metadata": {
    "slideshow": {
     "slide_type": "fragment"
    }
   },
   "outputs": [
    {
     "name": "stdout",
     "output_type": "stream",
     "text": [
      "Wartość sinusa pi/6 to: \n",
      "1.0\n"
     ]
    }
   ],
   "source": [
    "import math\n",
    "a = math.pi / 2\n",
    "print (\"Wartość sinusa pi/6 to: \")\n",
    "print (math.sin(a))"
   ]
  },
  {
   "attachments": {},
   "cell_type": "markdown",
   "metadata": {
    "slideshow": {
     "slide_type": "slide"
    }
   },
   "source": [
    "### Tworzenie własnego modułu"
   ]
  },
  {
   "attachments": {},
   "cell_type": "markdown",
   "metadata": {
    "slideshow": {
     "slide_type": "fragment"
    }
   },
   "source": [
    "* Aby utworzyć moduł, utwórz plik w języku Python\n",
    "* Następnie zaimportuj go jak każdy inny moduł\n",
    "* Stwórz swój moduł (`fruitmodule.py`)\n",
    "\n",
    "umieść w nim funkcję lemon_number():\n",
    "\n",
    "```python\n",
    "def lemon_number(l):\n",
    "    print('Lemoniada nr', l)\n",
    "```"
   ]
  },
  {
   "attachments": {},
   "cell_type": "markdown",
   "metadata": {
    "slideshow": {
     "slide_type": "slide"
    }
   },
   "source": [
    "* Następnie stwórz swój program (`module_import.py`) i wywołaj funkcję:\n",
    "\n",
    "```python\n",
    "import fruitmodule\n",
    "fruitmodule.lemon_number(5)\n",
    "```"
   ]
  },
  {
   "attachments": {},
   "cell_type": "markdown",
   "metadata": {
    "slideshow": {
     "slide_type": "slide"
    }
   },
   "source": [
    "### Wyszukiwanie modułów"
   ]
  },
  {
   "attachments": {},
   "cell_type": "markdown",
   "metadata": {
    "slideshow": {
     "slide_type": "slide"
    }
   },
   "source": [
    "* Interpreter Pythona wyszukuje moduły w kolejności:\n",
    "  * Katalog, w którym jest uruchamiany skrypt (może być to katalog bieżący)\n",
    "  * Następnie w katalogach zawartych w zmiennej systemowej '`PYTHONPATH`’\n",
    "  * W katalogach systemowych `PATH`\n",
    "* Nie znaleziono modułu Pythona?\n",
    "  * Jeśli pojawi się błąd „`ImportError: No module named`”, oznacza to, że moduł nie jest zainstalowany\n",
    "  * Możesz zainstalować moduł zewnętrzny za pomocą menedżera pakietów (o tym później)"
   ]
  },
  {
   "attachments": {},
   "cell_type": "markdown",
   "metadata": {
    "slideshow": {
     "slide_type": "slide"
    }
   },
   "source": [
    "### Instalowanie dodatkowych modułów"
   ]
  },
  {
   "attachments": {},
   "cell_type": "markdown",
   "metadata": {
    "slideshow": {
     "slide_type": "fragment"
    }
   },
   "source": [
    "* Dodatkowe moduły można znaleźć poprzez stronę **Python Package Index** oraz zainstalować używając:\n",
    "  * Programu **PyPI** udostępnianego przez **Python Package Index**\n",
    "  * Środowiska **conda**, która dostarcza pakiety **Anaconda**\n",
    "  * Systemowych paczek Pythona w przypadku Linuksa\n",
    "  * Środowisk **Homebrew** lub **MacPorts** dla macOS\n",
    "* Wszystkie te sposoby umożliwiają automatyczne zarządzanie wszystkimi zależnościami między pakietami"
   ]
  },
  {
   "attachments": {},
   "cell_type": "markdown",
   "metadata": {
    "slideshow": {
     "slide_type": "slide"
    }
   },
   "source": [
    "### Python Package Index"
   ]
  },
  {
   "attachments": {},
   "cell_type": "markdown",
   "metadata": {
    "slideshow": {
     "slide_type": "-"
    }
   },
   "source": [
    "![Logo for Python Package Index (PyPI)](https://upload.wikimedia.org/wikipedia/commons/6/64/PyPI_logo.svg)"
   ]
  },
  {
   "attachments": {},
   "cell_type": "markdown",
   "metadata": {
    "slideshow": {
     "slide_type": "slide"
    }
   },
   "source": [
    "* Indeks pakietów Python, w skrócie **PyPI**\n",
    "* Oficjalne **repozytorium oprogramowania** dla **Pythona**\n",
    "* Niektórzy menedżerowie pakietów, w tym **pip**, używają PyPI jako domyślnego źródła pakietów i ich zależności\n",
    "* URL: https://pypi.org"
   ]
  },
  {
   "attachments": {},
   "cell_type": "markdown",
   "metadata": {
    "slideshow": {
     "slide_type": "slide"
    }
   },
   "source": [
    "### PyPI"
   ]
  },
  {
   "attachments": {},
   "cell_type": "markdown",
   "metadata": {
    "slideshow": {
     "slide_type": "fragment"
    }
   },
   "source": [
    "* **pip** to **de facto** standardowy **system zarządzania pakietami** używany do instalowania i zarządzania **pakietami oprogramowania** napisanymi w języku **Python**\n",
    "* Wiele pakietów można znaleźć w domyślnym źródle pakietów i ich zależnościach – **Python Package Index**"
   ]
  },
  {
   "attachments": {},
   "cell_type": "markdown",
   "metadata": {
    "slideshow": {
     "slide_type": "slide"
    }
   },
   "source": [
    "![pip --help](https://upload.wikimedia.org/wikipedia/commons/0/02/Pip_help.png)"
   ]
  },
  {
   "attachments": {},
   "cell_type": "markdown",
   "metadata": {
    "slideshow": {
     "slide_type": "slide"
    }
   },
   "source": [
    "* Większość dystrybucji Pythona pochodzi z preinstalowanym pipem\n",
    "* Najpowszechniejszym zastosowaniem **pip** jest instalacja z **Python Package Index** przy użyciu **specyfikatora wymagań**\n",
    "* Ogólnie rzecz biorąc, specyfikator wymagań składa się z nazwy projektu, po której następuje opcjonalny **specyfikator wersji**\n",
    "* Strona internetowa: https://pip.pypa.io/"
   ]
  },
  {
   "attachments": {},
   "cell_type": "markdown",
   "metadata": {
    "slideshow": {
     "slide_type": "slide"
    }
   },
   "source": [
    "### Instalacja przy użyciu PyPI"
   ]
  },
  {
   "attachments": {},
   "cell_type": "markdown",
   "metadata": {
    "slideshow": {
     "slide_type": "fragment"
    }
   },
   "source": [
    "* Wyszukujemy paczkę przy przez komendę\n",
    "```sh\n",
    "pip search <paczka>\n",
    "```\n",
    "* Instalujemy paczkę przez komendę\n",
    "```sh\n",
    "pip install <paczka>\n",
    "```"
   ]
  },
  {
   "attachments": {},
   "cell_type": "markdown",
   "metadata": {
    "slideshow": {
     "slide_type": "fragment"
    }
   },
   "source": [
    "![An output of pip install virtualenv](https://upload.wikimedia.org/wikipedia/commons/7/7f/Pip_install_virtualenv.png)"
   ]
  }
 ],
 "metadata": {
  "celltoolbar": "Slideshow",
  "kernelspec": {
   "display_name": "Python 3 (ipykernel)",
   "language": "python",
   "name": "python3"
  },
  "language_info": {
   "codemirror_mode": {
    "name": "ipython",
    "version": 3
   },
   "file_extension": ".py",
   "mimetype": "text/x-python",
   "name": "python",
   "nbconvert_exporter": "python",
   "pygments_lexer": "ipython3",
   "version": "3.10.6"
  }
 },
 "nbformat": 4,
 "nbformat_minor": 4
}
