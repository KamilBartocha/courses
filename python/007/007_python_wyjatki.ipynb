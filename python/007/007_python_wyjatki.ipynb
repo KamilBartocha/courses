{
 "cells": [
  {
   "attachments": {},
   "cell_type": "markdown",
   "metadata": {
    "slideshow": {
     "slide_type": "slide"
    }
   },
   "source": [
    "![](https://media-exp1.licdn.com/dms/image/C4D0BAQHUQWhqV2rl1g/company-logo_200_200/0/1550502396615?e=2159024400&v=beta&t=_mM0D3cbDu8DL3MUvcb75g65zJ-c4Wd0nrguJGoW_gE)"
   ]
  },
  {
   "attachments": {},
   "cell_type": "markdown",
   "metadata": {},
   "source": [
    "# Python (podstawy) - wyjątki"
   ]
  },
  {
   "attachments": {},
   "cell_type": "markdown",
   "metadata": {},
   "source": [
    "_Mikołaj Leszczuk_"
   ]
  },
  {
   "attachments": {},
   "cell_type": "markdown",
   "metadata": {
    "slideshow": {
     "slide_type": "slide"
    }
   },
   "source": [
    "## Konspekt"
   ]
  },
  {
   "attachments": {},
   "cell_type": "markdown",
   "metadata": {
    "slideshow": {
     "slide_type": "fragment"
    }
   },
   "source": [
    "* Wyjątki\n",
    "* Obsługa"
   ]
  },
  {
   "attachments": {},
   "cell_type": "markdown",
   "metadata": {
    "slideshow": {
     "slide_type": "slide"
    }
   },
   "source": [
    "## Wyjątki"
   ]
  },
  {
   "attachments": {},
   "cell_type": "markdown",
   "metadata": {
    "slideshow": {
     "slide_type": "slide"
    }
   },
   "source": [
    "### Wyjątki, ang. _Exception_"
   ]
  },
  {
   "attachments": {},
   "cell_type": "markdown",
   "metadata": {
    "slideshow": {
     "slide_type": "fragment"
    }
   },
   "source": [
    "* Mechanizm **przepływu sterowania** używany w **procesorach** oraz współczesnych **językach programowania** do obsługi zdarzeń wyjątkowych, a w szczególności błędów, których wystąpienie zmienia prawidłowy przebieg wykonywania programu.\n",
    "* W momencie zajścia niespodziewanego zdarzenia generowany jest wyjątek, który musi zostać obsłużony przez zapamiętanie bieżącego stanu programu i przejście do **procedury** jego obsługi."
   ]
  },
  {
   "attachments": {},
   "cell_type": "markdown",
   "metadata": {
    "slideshow": {
     "slide_type": "slide"
    }
   },
   "source": [
    "* W niektórych sytuacjach po obsłużeniu wyjątku można powrócić do wykonywania przerwanego kodu, korzystając z zapamiętanych informacji stanu.\n",
    "* Przykładowo obsługa błędu braku **strony pamięci** polega najczęściej na pobraniu brakującej strony z **pliku wymiany**, co umożliwia kontynuowanie pracy programu, natomiast błąd dzielenia przez zero powoduje, że wykonywanie dalszych obliczeń nie ma sensu i musi zostać definitywnie przerwane."
   ]
  },
  {
   "attachments": {},
   "cell_type": "markdown",
   "metadata": {
    "slideshow": {
     "slide_type": "slide"
    }
   },
   "source": [
    "### Wyjątki w procesorach "
   ]
  },
  {
   "attachments": {},
   "cell_type": "markdown",
   "metadata": {
    "slideshow": {
     "slide_type": "fragment"
    }
   },
   "source": [
    "* Wyjątki w procesorach są zdarzeniami, których wynikiem jest przerwanie wykonania bieżącego strumienia instrukcji i przekazanie sterowania do oprogramowania systemowego w celu programowej reakcji na zdarzenie\n",
    "* Wyjątki dzielą się na synchroniczne, obsługiwane bezpośrednio po wystąpieniu, oraz asynchroniczne, których obsługa może, w zależności od bieżącego priorytetu procesora, zostać opóźniona\n",
    "* Do wyjątków asynchronicznych należą przerwania\n",
    "* Wyjątki synchroniczne – to:\n",
    "  * Pułapki (traps) i\n",
    "  * Błędy (faults, aborts, errors)"
   ]
  },
  {
   "attachments": {},
   "cell_type": "markdown",
   "metadata": {
    "slideshow": {
     "slide_type": "slide"
    }
   },
   "source": [
    "* Przerwania mogą być generowane:\n",
    "  * Sprzętowo przez sterowniki urządzeń zewnętrznych, oraz \n",
    "  * Programowo przez procesor – w nowocześniejszych architekturach (np. ARM)\n",
    "* Pułapki są generowane przez jednostkę wykonawczą procesora w wyniku wykonania instrukcji, na końcu jej wykonania"
   ]
  },
  {
   "attachments": {},
   "cell_type": "markdown",
   "metadata": {
    "slideshow": {
     "slide_type": "slide"
    }
   },
   "source": [
    "* Pułapki służą do trzech celów:\n",
    "  * Wywołania przez program użytkowy usług systemu operacyjnego – instrukcja SVC (ARM), INT (x86), SYSCALL (x86) itp. (pułapka wywołania systemu była dawniej niezbyt fortunnie nazywana „przerwaniem programowym”)\n",
    "  * Sygnalizacji niepoprawnego z punktu widzenia programisty wykonania programu (np. pułapka przy nadmiarze operacji arytmetycznej)\n",
    "  * Wspomagania debugowania programów (pułapka śledzenia)"
   ]
  },
  {
   "attachments": {},
   "cell_type": "markdown",
   "metadata": {
    "slideshow": {
     "slide_type": "slide"
    }
   },
   "source": [
    "* Przy wystąpieniu pułapki wykonanie instrukcji, która ją spowodowała, zostaje normalnie zakończone\n",
    "* Błędy mogą być generowane przez procesor lub jego otoczenie \n",
    "* Charakterystyczną cechą błędów jest to, że uniemożliwiają one zakończenie wykonania instrukcji, podczas której wystąpiły\n",
    "* Są to np.:\n",
    "  * Błąd wyrównania danych, sygnalizowany przez jednostkę wykonawczą\n",
    "  * Błąd niezidentyfikowanej instrukcji lub niedozwolonej instrukcji\n",
    "  * Błędy dostępu do pamięci, sygnalizowane przez jednostkę zarządzania pamięcią (stronicowania lub segmentacji)"
   ]
  },
  {
   "attachments": {},
   "cell_type": "markdown",
   "metadata": {
    "slideshow": {
     "slide_type": "slide"
    }
   },
   "source": [
    "### Wyjątki w językach programowania"
   ]
  },
  {
   "attachments": {},
   "cell_type": "markdown",
   "metadata": {
    "slideshow": {
     "slide_type": "fragment"
    }
   },
   "source": [
    "* W **językach programowania** wsparcie dla wyjątków realizowane jest na poziomie składni i semantyki danego języka\n",
    "* Zgłoszenie sytuacji wyjątkowej możliwe jest w dowolnym miejscu kodu"
   ]
  },
  {
   "attachments": {},
   "cell_type": "markdown",
   "metadata": {
    "slideshow": {
     "slide_type": "slide"
    }
   },
   "source": [
    "### Wyjątki w Pythonie"
   ]
  },
  {
   "attachments": {},
   "cell_type": "markdown",
   "metadata": {
    "slideshow": {
     "slide_type": "fragment"
    }
   },
   "source": [
    "* Gdy interpreter Pythona zauważy w programie błąd, tworzy wyjątek z opisem błędu"
   ]
  },
  {
   "cell_type": "code",
   "execution_count": 1,
   "metadata": {
    "scrolled": true,
    "slideshow": {
     "slide_type": "slide"
    }
   },
   "outputs": [
    {
     "ename": "ZeroDivisionError",
     "evalue": "division by zero",
     "output_type": "error",
     "traceback": [
      "\u001b[0;31m---------------------------------------------------------------------------\u001b[0m",
      "\u001b[0;31mZeroDivisionError\u001b[0m                         Traceback (most recent call last)",
      "Cell \u001b[0;32mIn[1], line 1\u001b[0m\n\u001b[0;32m----> 1\u001b[0m \u001b[39mprint\u001b[39m(\u001b[39m5\u001b[39m \u001b[39m*\u001b[39m (\u001b[39m1\u001b[39;49m\u001b[39m/\u001b[39;49m\u001b[39m0\u001b[39;49m))\n",
      "\u001b[0;31mZeroDivisionError\u001b[0m: division by zero"
     ]
    }
   ],
   "source": [
    "print(5 * (1/0))"
   ]
  },
  {
   "cell_type": "code",
   "execution_count": 3,
   "metadata": {
    "scrolled": true,
    "slideshow": {
     "slide_type": "fragment"
    }
   },
   "outputs": [
    {
     "name": "stdout",
     "output_type": "stream",
     "text": [
      "10\n"
     ]
    }
   ],
   "source": [
    "print(4 + x * 3)"
   ]
  },
  {
   "cell_type": "code",
   "execution_count": 6,
   "metadata": {
    "slideshow": {
     "slide_type": "fragment"
    }
   },
   "outputs": [
    {
     "ename": "TypeError",
     "evalue": "unsupported operand type(s) for +: 'int' and 'str'",
     "output_type": "error",
     "traceback": [
      "\u001b[0;31m---------------------------------------------------------------------------\u001b[0m",
      "\u001b[0;31mTypeError\u001b[0m                                 Traceback (most recent call last)",
      "Cell \u001b[0;32mIn[6], line 1\u001b[0m\n\u001b[0;32m----> 1\u001b[0m \u001b[39mprint\u001b[39m(\u001b[39m2\u001b[39;49m \u001b[39m+\u001b[39;49m \u001b[39m'\u001b[39;49m\u001b[39m2\u001b[39;49m\u001b[39m'\u001b[39;49m)\n",
      "\u001b[0;31mTypeError\u001b[0m: unsupported operand type(s) for +: 'int' and 'str'"
     ]
    }
   ],
   "source": [
    "print(2 + '2')"
   ]
  },
  {
   "attachments": {},
   "cell_type": "markdown",
   "metadata": {
    "slideshow": {
     "slide_type": "slide"
    }
   },
   "source": [
    "### Lista wbudowanych wyjątków Pythona"
   ]
  },
  {
   "attachments": {},
   "cell_type": "markdown",
   "metadata": {
    "slideshow": {
     "slide_type": "slide"
    }
   },
   "source": [
    "![](https://images1.arabicprogrammer.com/66/8e/8e9ad449be8f27467ffcdfbb93f695a2.JPEG)"
   ]
  },
  {
   "attachments": {},
   "cell_type": "markdown",
   "metadata": {
    "slideshow": {
     "slide_type": "slide"
    }
   },
   "source": [
    "## Obsługa"
   ]
  },
  {
   "attachments": {},
   "cell_type": "markdown",
   "metadata": {
    "slideshow": {
     "slide_type": "slide"
    }
   },
   "source": [
    "### Wyjątki i obsługa błędów w Pythonie"
   ]
  },
  {
   "attachments": {},
   "cell_type": "markdown",
   "metadata": {
    "slideshow": {
     "slide_type": "slide"
    }
   },
   "source": [
    "![Wyjątki Pythona](https://files.realpython.com/media/try_except_else_finally.a7fac6c36c55.png)"
   ]
  },
  {
   "attachments": {},
   "cell_type": "markdown",
   "metadata": {
    "slideshow": {
     "slide_type": "slide"
    }
   },
   "source": [
    "### Podstawowa obsługa"
   ]
  },
  {
   "attachments": {},
   "cell_type": "markdown",
   "metadata": {
    "slideshow": {
     "slide_type": "fragment"
    }
   },
   "source": [
    "* Podniesiony wyjątek można przechwycić i obsłużyć przy pomocy struktury:\n",
    "```python\n",
    "try:\n",
    "\t...\n",
    "\t<linie kodu> \n",
    "except Exeption as err: \n",
    "\t<obsługa wtątku>\n",
    "```\n",
    "* Możemy również podnieść wyjątek przez `raise`\n"
   ]
  },
  {
   "attachments": {},
   "cell_type": "markdown",
   "metadata": {
    "slideshow": {
     "slide_type": "slide"
    }
   },
   "source": [
    "### Na przykład"
   ]
  },
  {
   "cell_type": "code",
   "execution_count": null,
   "metadata": {
    "slideshow": {
     "slide_type": "fragment"
    }
   },
   "outputs": [],
   "source": [
    "import sys\n",
    "try:\n",
    "    f = open(\"plik.txt\")\n",
    "    s = f.readline()\n",
    "    i = int(s.strip())  # Usuń spacje\n",
    "    print(i)\n",
    "except OSError as err:\n",
    "    print(\"Błąd systemu: {0}\".format(err))\n",
    "except ValueError:\n",
    "    print(\"Nie można dokonać konwersji.\")\n",
    "except:     # PEP 8: E722 nie używaj pustego 'except'\n",
    "    print(\"Nieoczekiwany wyjątek:\", sys.exc_info()[0])\n",
    "    raise"
   ]
  },
  {
   "attachments": {},
   "cell_type": "markdown",
   "metadata": {
    "slideshow": {
     "slide_type": "slide"
    }
   },
   "source": [
    "### Słowo kluczowe `else`"
   ]
  },
  {
   "attachments": {},
   "cell_type": "markdown",
   "metadata": {
    "slideshow": {
     "slide_type": "fragment"
    }
   },
   "source": [
    "* Do struktury\\\n",
    "`try\n",
    "except`\\\n",
    "można dodać również słowo kluczowe `else`, które wykona kod, tylko wtedy gdy nie pojawi się wyjątek\n",
    "* Innymi słowy możesz użyć słowa kluczowego `else`, aby zdefiniować blok kodu do wykonania, jeśli nie zostaną zgłoszone żadne błędy\n",
    "* Struktury tej można użyć np.: przy otwieraniu plików"
   ]
  },
  {
   "attachments": {},
   "cell_type": "markdown",
   "metadata": {
    "slideshow": {
     "slide_type": "slide"
    }
   },
   "source": [
    "### Przykład"
   ]
  },
  {
   "cell_type": "code",
   "execution_count": null,
   "metadata": {
    "slideshow": {
     "slide_type": "fragment"
    }
   },
   "outputs": [],
   "source": [
    "try:\n",
    "    print(\"Dzień dobry\")\n",
    "except:\n",
    "    print(\"Coś poszło nie tak\")\n",
    "else:\n",
    "    print(\"Nic nie poszło źle\")"
   ]
  },
  {
   "attachments": {},
   "cell_type": "markdown",
   "metadata": {
    "slideshow": {
     "slide_type": "slide"
    }
   },
   "source": [
    "### Słowo kluczowe `finally`"
   ]
  },
  {
   "attachments": {},
   "cell_type": "markdown",
   "metadata": {
    "slideshow": {
     "slide_type": "slide"
    }
   },
   "source": [
    "* Do struktury\\\n",
    "`try\n",
    "except`\\\n",
    "można również dodać słowo kluczowe `finally`, które wskaże blok, który zawsze zostanie wykonany niezależnie od tego:\n",
    "  * Czy wyjątek się pojawi\n",
    "  * Czy nie\n",
    "\n",
    "```python\n",
    "try:\n",
    "    operacja_która_może_wyrzucić_ioerror()\n",
    "except IOError:\n",
    "    obsłuż_jakoś_wyjątek()\n",
    "else:    # nie chcemy złapać IOError, jeśli jest podniesiony\n",
    "    kolejna_operacja_która_może_wyrzucić_ioerror()\n",
    "finally:\n",
    "    coś_my_zawsze_trzeba_zrobić()\n",
    "```"
   ]
  },
  {
   "attachments": {},
   "cell_type": "markdown",
   "metadata": {
    "slideshow": {
     "slide_type": "slide"
    }
   },
   "source": [
    "* Innymi słowy, blok `finally`, jeśli został określony, zostanie wykonany niezależnie od tego, czy blok `try` wywoła błąd, czy nie"
   ]
  },
  {
   "attachments": {},
   "cell_type": "markdown",
   "metadata": {
    "slideshow": {
     "slide_type": "slide"
    }
   },
   "source": [
    "### Przykład"
   ]
  },
  {
   "cell_type": "code",
   "execution_count": null,
   "metadata": {
    "slideshow": {
     "slide_type": "fragment"
    }
   },
   "outputs": [],
   "source": [
    "try:\n",
    "    print(\"x\")\n",
    "except:\n",
    "    print(\"Coś poszło nie tak\")\n",
    "finally:\n",
    "    print(\"Klauzula „try except” jest zakończona\")"
   ]
  },
  {
   "attachments": {},
   "cell_type": "markdown",
   "metadata": {
    "slideshow": {
     "slide_type": "slide"
    }
   },
   "source": [
    "### Podnieś wyjątek"
   ]
  },
  {
   "attachments": {},
   "cell_type": "markdown",
   "metadata": {
    "slideshow": {
     "slide_type": "fragment"
    }
   },
   "source": [
    "* Jako programista Pythona możesz zgłosić wyjątek, jeśli wystąpi warunek\n",
    "* Aby zgłosić (lub podnieść) wyjątek, użyj słowa kluczowego `raise`\n",
    "* Słowo kluczowe `raise` jest używane do zgłaszania wyjątku\n",
    "* Możesz zdefiniować rodzaj błędu, który należy zgłosić, oraz tekst do wydrukowania dla użytkownika\n",
    "* Przykłady:\n",
    "  1. Wywołaj błąd i zatrzymaj program, jeśli `x` jest mniejsze niż `0`\n",
    "  1. Podnieś `TypeError`, jeśli `x` nie jest liczbą całkowitą (`int`)"
   ]
  },
  {
   "attachments": {},
   "cell_type": "markdown",
   "metadata": {
    "slideshow": {
     "slide_type": "slide"
    }
   },
   "source": [
    "### Przykład 1"
   ]
  },
  {
   "cell_type": "code",
   "execution_count": null,
   "metadata": {
    "slideshow": {
     "slide_type": "fragment"
    }
   },
   "outputs": [],
   "source": [
    "x = -1\n",
    "\n",
    "if x < 0:\n",
    "    raise Exception(\"Przepraszamy, brak liczb poniżej zera\")"
   ]
  },
  {
   "attachments": {},
   "cell_type": "markdown",
   "metadata": {
    "slideshow": {
     "slide_type": "slide"
    }
   },
   "source": [
    "### Przykład 2"
   ]
  },
  {
   "cell_type": "code",
   "execution_count": null,
   "metadata": {
    "slideshow": {
     "slide_type": "fragment"
    }
   },
   "outputs": [],
   "source": [
    "x = \"Dzień dobry\"\n",
    "\n",
    "if type(x) is not int:\n",
    "    raise TypeError(\"Dozwolone są tylko liczby całkowite\")"
   ]
  },
  {
   "attachments": {},
   "cell_type": "markdown",
   "metadata": {
    "slideshow": {
     "slide_type": "slide"
    }
   },
   "source": [
    "## Ćwiczenia"
   ]
  },
  {
   "attachments": {},
   "cell_type": "markdown",
   "metadata": {
    "slideshow": {
     "slide_type": "slide"
    }
   },
   "source": [
    "### Błędy i wyjątki"
   ]
  },
  {
   "attachments": {},
   "cell_type": "markdown",
   "metadata": {
    "slideshow": {
     "slide_type": "slide"
    }
   },
   "source": [
    "#### Ćwiczenie"
   ]
  },
  {
   "attachments": {},
   "cell_type": "markdown",
   "metadata": {
    "slideshow": {
     "slide_type": "fragment"
    }
   },
   "source": [
    "Podczas pisania funkcji najlepiej jest przeprowadzić walidację liczb.\n",
    "\n",
    "Jeśli użytkownicy wprowadzą tekst, pojawi się błąd podczas próby konwersji na `int`.\n",
    "\n",
    "Napisz program, który poprosi użytkownika o podanie dwóch liczb.\n",
    "\n",
    "Dodaj i wydrukuj wynik.\n",
    "\n",
    "Jeśli nie zostanie wprowadzona liczba, zwróć komunikat o błędzie i poproś ponownie."
   ]
  },
  {
   "attachments": {},
   "cell_type": "markdown",
   "metadata": {
    "slideshow": {
     "slide_type": "slide"
    }
   },
   "source": [
    "#### Rozwiązanie"
   ]
  },
  {
   "cell_type": "code",
   "execution_count": null,
   "metadata": {
    "slideshow": {
     "slide_type": "fragment"
    }
   },
   "outputs": [],
   "source": [
    "pass"
   ]
  },
  {
   "attachments": {},
   "cell_type": "markdown",
   "metadata": {
    "slideshow": {
     "slide_type": "slide"
    }
   },
   "source": [
    "### Wyjątek `ZeroDivisionError` z instrukcjami `try except`"
   ]
  },
  {
   "attachments": {},
   "cell_type": "markdown",
   "metadata": {
    "slideshow": {
     "slide_type": "slide"
    }
   },
   "source": [
    "#### Ćwiczenie 1"
   ]
  },
  {
   "attachments": {},
   "cell_type": "markdown",
   "metadata": {
    "slideshow": {
     "slide_type": "fragment"
    }
   },
   "source": [
    "Podziel przez siebie dwie liczby\n",
    "\n",
    "Umieść:\n",
    "\n",
    "```python\n",
    "wynik = \"Nie możesz podzielić przez 0\"\n",
    "```\n",
    "\n",
    "we właściwym miejscu, aby program uniknął `ZeroDivisionError`\n",
    "\n",
    "* Podpowiedź 1: Po prostu umieść przypisanie wartości dla wyniku po linii `Except`\n",
    "* Podpowiedź 2: Zwróć uwagę na wcięcia"
   ]
  },
  {
   "attachments": {},
   "cell_type": "markdown",
   "metadata": {
    "slideshow": {
     "slide_type": "slide"
    }
   },
   "source": [
    "#### Rozwiązanie"
   ]
  },
  {
   "cell_type": "code",
   "execution_count": null,
   "metadata": {
    "slideshow": {
     "slide_type": "fragment"
    }
   },
   "outputs": [],
   "source": [
    "pass"
   ]
  },
  {
   "attachments": {},
   "cell_type": "markdown",
   "metadata": {
    "slideshow": {
     "slide_type": "slide"
    }
   },
   "source": [
    "### Polecenie `except`, które nic nie robi"
   ]
  },
  {
   "attachments": {},
   "cell_type": "markdown",
   "metadata": {
    "slideshow": {
     "slide_type": "slide"
    }
   },
   "source": [
    "#### Ćwiczenie 2"
   ]
  },
  {
   "attachments": {},
   "cell_type": "markdown",
   "metadata": {
    "slideshow": {
     "slide_type": "fragment"
    }
   },
   "source": [
    "Napisz dowolny kod.\n",
    "\n",
    "Wychwyć w nim wyjątek, ale nic nie rób."
   ]
  },
  {
   "attachments": {},
   "cell_type": "markdown",
   "metadata": {
    "slideshow": {
     "slide_type": "slide"
    }
   },
   "source": [
    "#### Rozwiązanie"
   ]
  },
  {
   "cell_type": "code",
   "execution_count": null,
   "metadata": {
    "slideshow": {
     "slide_type": "fragment"
    }
   },
   "outputs": [],
   "source": [
    "pass"
   ]
  },
  {
   "attachments": {},
   "cell_type": "markdown",
   "metadata": {
    "slideshow": {
     "slide_type": "slide"
    }
   },
   "source": [
    "### Wyjątek `Exception` z instrukcjami `try except`"
   ]
  },
  {
   "attachments": {},
   "cell_type": "markdown",
   "metadata": {
    "slideshow": {
     "slide_type": "slide"
    }
   },
   "source": [
    "#### Ćwiczenie 3"
   ]
  },
  {
   "attachments": {},
   "cell_type": "markdown",
   "metadata": {
    "slideshow": {
     "slide_type": "fragment"
    }
   },
   "source": [
    "Spróbuj dodać `int` do ciągu.\n",
    "\n",
    "Umieść:\n",
    "\n",
    "```python\n",
    "msg = \"Nie możesz dodać int do string\"\n",
    "```\n",
    "\n",
    "aby program uniknął błędu `BaseException`.\n",
    "\n",
    "Możesz użyć wyjątku `Exception`, chociaż zwykle powinno się ostrożnie używać tak potężnych instrukcji wyjątków."
   ]
  },
  {
   "attachments": {},
   "cell_type": "markdown",
   "metadata": {
    "slideshow": {
     "slide_type": "slide"
    }
   },
   "source": [
    "#### Rozwiązanie"
   ]
  },
  {
   "cell_type": "code",
   "execution_count": null,
   "metadata": {
    "slideshow": {
     "slide_type": "fragment"
    }
   },
   "outputs": [],
   "source": [
    "pass"
   ]
  },
  {
   "attachments": {},
   "cell_type": "markdown",
   "metadata": {
    "slideshow": {
     "slide_type": "slide"
    }
   },
   "source": [
    "### Wyjątek `IndexError` w instrukcjach `try except`"
   ]
  },
  {
   "attachments": {},
   "cell_type": "markdown",
   "metadata": {
    "slideshow": {
     "slide_type": "slide"
    }
   },
   "source": [
    "#### Ćwiczenie 4"
   ]
  },
  {
   "attachments": {},
   "cell_type": "markdown",
   "metadata": {
    "slideshow": {
     "slide_type": "fragment"
    }
   },
   "source": [
    "Stwórz trójelementową listę.\n",
    "\n",
    "Spróbuj wydrukować piąty element.\n",
    "\n",
    "Umieść:\n",
    "\n",
    "```python\n",
    "msg = \"Jesteś poza zakresem listy\"\n",
    "```\n",
    "\n",
    "aby uniknąć wyjątku `IndexError`."
   ]
  },
  {
   "attachments": {},
   "cell_type": "markdown",
   "metadata": {
    "slideshow": {
     "slide_type": "slide"
    }
   },
   "source": [
    "#### Rozwiązanie"
   ]
  },
  {
   "cell_type": "code",
   "execution_count": null,
   "metadata": {
    "slideshow": {
     "slide_type": "fragment"
    }
   },
   "outputs": [],
   "source": [
    "pass"
   ]
  },
  {
   "attachments": {},
   "cell_type": "markdown",
   "metadata": {
    "slideshow": {
     "slide_type": "slide"
    }
   },
   "source": [
    "### Słowo kluczowe `else`"
   ]
  },
  {
   "attachments": {},
   "cell_type": "markdown",
   "metadata": {
    "slideshow": {
     "slide_type": "slide"
    }
   },
   "source": [
    "#### Ćwiczenie 5"
   ]
  },
  {
   "attachments": {},
   "cell_type": "markdown",
   "metadata": {
    "slideshow": {
     "slide_type": "fragment"
    }
   },
   "source": [
    "Spróbuj otworzyć do czytania plik (podpowiedź: `open(arg, \"r\")`).\n",
    "\n",
    "W razie braku możliwości otwarcia pliku, obsłuż wyjątek.\n",
    "\n",
    "W przeciwnym przypadku wypisz:\n",
    "\n",
    "* Nazwę pliku;\n",
    "* Liczbę wierszy (podpowiedź: `len(f.readlines()`).\n",
    "\n",
    "Na koniec zamknij ten plik (podpowiedź: `close()`)."
   ]
  },
  {
   "attachments": {},
   "cell_type": "markdown",
   "metadata": {
    "slideshow": {
     "slide_type": "slide"
    }
   },
   "source": [
    "#### Rozwiązanie"
   ]
  },
  {
   "cell_type": "code",
   "execution_count": null,
   "metadata": {
    "slideshow": {
     "slide_type": "slide"
    }
   },
   "outputs": [],
   "source": [
    "pass"
   ]
  },
  {
   "cell_type": "code",
   "execution_count": null,
   "metadata": {
    "slideshow": {
     "slide_type": "slide"
    }
   },
   "outputs": [],
   "source": [
    "pass"
   ]
  },
  {
   "attachments": {},
   "cell_type": "markdown",
   "metadata": {
    "slideshow": {
     "slide_type": "slide"
    }
   },
   "source": [
    "### Słowo kluczowe `finally`"
   ]
  },
  {
   "attachments": {},
   "cell_type": "markdown",
   "metadata": {
    "slideshow": {
     "slide_type": "slide"
    }
   },
   "source": [
    "#### Ćwiczenie 6"
   ]
  },
  {
   "attachments": {},
   "cell_type": "markdown",
   "metadata": {
    "slideshow": {
     "slide_type": "fragment"
    }
   },
   "source": [
    "Użyj `finally` do zamykania obiektów i czyszczenia zasobów.\n",
    "\n",
    "Spróbuj otworzyć i zapisać (podpowiedź: `write`) w pliku, którego nie można zapisać.\n",
    "\n",
    "Zapewnij, aby program mógł kontynuować bez pozostawiania otwartego obiektu pliku."
   ]
  },
  {
   "attachments": {},
   "cell_type": "markdown",
   "metadata": {
    "slideshow": {
     "slide_type": "slide"
    }
   },
   "source": [
    "#### Rozwiązanie"
   ]
  },
  {
   "cell_type": "code",
   "execution_count": null,
   "metadata": {
    "slideshow": {
     "slide_type": "fragment"
    }
   },
   "outputs": [],
   "source": [
    "pass"
   ]
  },
  {
   "attachments": {},
   "cell_type": "markdown",
   "metadata": {
    "slideshow": {
     "slide_type": "slide"
    }
   },
   "source": [
    "#### Ćwiczenie 7"
   ]
  },
  {
   "attachments": {},
   "cell_type": "markdown",
   "metadata": {
    "slideshow": {
     "slide_type": "fragment"
    }
   },
   "source": [
    "Napisz funkcję dzielącą jej argument pierwszy przez drugi.\n",
    "\n",
    "Spróbuj wykonać działanie i zwrócić wynik.\n",
    "\n",
    "W przypadku błędu dzielenia przez zero, wypisz komunikat o błędzie.\n",
    "\n",
    "Wypisz komunikat, który zawsze się wypisze.\n",
    "\n",
    "Wywołaj funkcję z różnymi argumentami."
   ]
  },
  {
   "attachments": {},
   "cell_type": "markdown",
   "metadata": {
    "slideshow": {
     "slide_type": "slide"
    }
   },
   "source": [
    "#### Rozwiązanie"
   ]
  },
  {
   "cell_type": "code",
   "execution_count": null,
   "metadata": {
    "slideshow": {
     "slide_type": "fragment"
    }
   },
   "outputs": [],
   "source": [
    "pass"
   ]
  },
  {
   "attachments": {},
   "cell_type": "markdown",
   "metadata": {
    "slideshow": {
     "slide_type": "slide"
    }
   },
   "source": [
    "#### Ćwiczenie 8"
   ]
  },
  {
   "attachments": {},
   "cell_type": "markdown",
   "metadata": {
    "slideshow": {
     "slide_type": "fragment"
    }
   },
   "source": [
    "Użyj wszystkie 4 elementy struktury obsługi wyjątków przy otwieraniu plików.\n",
    "\n",
    "Spróbuj otworzyć do czytania plik.\n",
    "\n",
    "W razie braku możliwości otwarcia pliku, obsłuż wyjątek.\n",
    "\n",
    "W przeciwnym przypadku wypisz:\n",
    "\n",
    "* Nazwę pliku;\n",
    "* Liczbę wierszy.\n",
    "\n",
    "Na koniec zamknij ten plik.\n",
    "\n",
    "Jeżeli dany plik nie jest zamknięty (podpowiedź: `closed`), to go zamknij."
   ]
  },
  {
   "attachments": {},
   "cell_type": "markdown",
   "metadata": {
    "slideshow": {
     "slide_type": "slide"
    }
   },
   "source": [
    "#### Rozwiązanie"
   ]
  },
  {
   "cell_type": "code",
   "execution_count": null,
   "metadata": {
    "slideshow": {
     "slide_type": "slide"
    }
   },
   "outputs": [],
   "source": [
    "pass"
   ]
  }
 ],
 "metadata": {
  "celltoolbar": "Slideshow",
  "kernelspec": {
   "display_name": "Python 3 (ipykernel)",
   "language": "python",
   "name": "python3"
  },
  "language_info": {
   "codemirror_mode": {
    "name": "ipython",
    "version": 3
   },
   "file_extension": ".py",
   "mimetype": "text/x-python",
   "name": "python",
   "nbconvert_exporter": "python",
   "pygments_lexer": "ipython3",
   "version": "3.10.6"
  }
 },
 "nbformat": 4,
 "nbformat_minor": 4
}
