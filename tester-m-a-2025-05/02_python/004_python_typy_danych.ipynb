{
 "cells": [
  {
   "cell_type": "markdown",
   "metadata": {
    "slideshow": {
     "slide_type": "slide"
    }
   },
   "source": [
    "<img src=\"code_brainers_logo.png\" alt=\"logo\" width=\"400\"/>\n",
    "\n",
    "# 004 Python - typy danych\n",
    "_Kamil Bartocha_"
   ]
  },
  {
   "cell_type": "markdown",
   "metadata": {
    "slideshow": {
     "slide_type": "slide"
    }
   },
   "source": [
    "## Podstawowe typy danych\n",
    "* W języku Python możemy używać wielu typów danych na które będą wskazywały nasze zmienne"
   ]
  },
  {
   "cell_type": "markdown",
   "metadata": {
    "slideshow": {
     "slide_type": "slide"
    }
   },
   "source": [
    "### Wyświetlanie w Pythonie\n",
    "* Do wyświetlania napisów, oraz zawartości zmiennych, stałych i innych obiektów w języku Python służy funkcja `print(x)`, gdzie `x` jest rzeczą, która zostanie wyświetlona\n",
    "* W Pythonie funkcje są zapisywane podobnie jak w matematyce, czyli `f(x)`, gdzie `f` to nazwa funkcji a `x` to argumenty przekazywane do funkcji\n",
    "* Jedną z dostępnych funkcji jest `type(obj)`, która zwraca informacje o typie zmiennej lub obiektu `obj`"
   ]
  },
  {
   "cell_type": "markdown",
   "metadata": {
    "slideshow": {
     "slide_type": "slide"
    }
   },
   "source": [
    "### Typ numeryczny\n",
    "* Python rozróżnia typy liczb:\n",
    "  * Całkowite np. `0`, `1`, `5`, `2137670`, `-45600`, …\n",
    "  * Rzeczywiste(w tym zmiennoprzecinkowe) np. `0.5`, `1/3`, `1.67e-10`, `6.023e+23`, …\n",
    "  * Zespolone\n",
    "* Można konwertować między sobą również zmienne zawierające liczby całkowite na liczby rzeczywiste:\n",
    "  * `float()` oraz na odwrót\n",
    "  * `int()`\n",
    "* Typ danych na który wskazuje dana zmienna możemy sprawdzić poleceniem (funkcją) `type()`"
   ]
  },
  {
   "cell_type": "code",
   "execution_count": 4,
   "metadata": {
    "slideshow": {
     "slide_type": "slide"
    }
   },
   "outputs": [
    {
     "name": "stdout",
     "output_type": "stream",
     "text": [
      "2\n",
      "<class 'int'>\n"
     ]
    }
   ],
   "source": [
    "i = 2\n",
    "print(i)\n",
    "print(type(i))"
   ]
  },
  {
   "cell_type": "code",
   "execution_count": 4,
   "metadata": {
    "slideshow": {
     "slide_type": "fragment"
    }
   },
   "outputs": [
    {
     "name": "stdout",
     "output_type": "stream",
     "text": [
      "2.71828\n",
      "<class 'float'>\n"
     ]
    }
   ],
   "source": [
    "f = 2.71828\n",
    "print(f)\n",
    "print(type(f))"
   ]
  },
  {
   "cell_type": "code",
   "execution_count": 5,
   "metadata": {
    "slideshow": {
     "slide_type": "fragment"
    }
   },
   "outputs": [
    {
     "name": "stdout",
     "output_type": "stream",
     "text": [
      "(0.5+1j)\n",
      "<class 'complex'>\n",
      "1.0\n",
      "0.5\n"
     ]
    }
   ],
   "source": [
    "c = 0.5 + 1j\n",
    "print(c)\n",
    "print(type(c))\n",
    "print(c.imag)\n",
    "print(c.real)\n"
   ]
  },
  {
   "cell_type": "markdown",
   "metadata": {},
   "source": [
    "#### Konwersja int na float i float na int"
   ]
  },
  {
   "cell_type": "code",
   "execution_count": 1,
   "metadata": {
    "slideshow": {
     "slide_type": "fragment"
    }
   },
   "outputs": [
    {
     "name": "stdout",
     "output_type": "stream",
     "text": [
      "2\n",
      "<class 'int'>\n",
      "2.0\n",
      "<class 'float'>\n"
     ]
    }
   ],
   "source": [
    "i = 2\n",
    "print(i)\n",
    "print(type(i))\n",
    "\n",
    "i = float(i)\n",
    "print(i)\n",
    "print(type(i))"
   ]
  },
  {
   "cell_type": "code",
   "execution_count": 5,
   "metadata": {},
   "outputs": [
    {
     "name": "stdout",
     "output_type": "stream",
     "text": [
      "2.342\n",
      "2\n",
      "2.99\n",
      "2\n",
      "3ala\n"
     ]
    }
   ],
   "source": [
    "i = 2.342\n",
    "print(i)\n",
    "i_int = int(i)\n",
    "print(i_int)\n",
    "\n",
    "i = 2.99\n",
    "print(i)\n",
    "i_int = int(i)\n",
    "print(i_int)\n",
    "\n",
    "# x = 'a'\n",
    "# print(float(x)) #nie wolno!\n",
    "x = 3\n",
    "print(str(x) + \"ala\")"
   ]
  },
  {
   "cell_type": "code",
   "execution_count": 8,
   "metadata": {},
   "outputs": [
    {
     "name": "stdout",
     "output_type": "stream",
     "text": [
      "1980\n",
      "<class 'int'>\n"
     ]
    }
   ],
   "source": [
    "wiek = input(\"podaj wiek\")\n",
    "wiek_konwersja = int(wiek)\n",
    "rok_ur = 2025 - wiek_konwersja  #2025 - 44(int)\n",
    "print(rok_ur)\n",
    "print(type(rok_ur))"
   ]
  },
  {
   "cell_type": "markdown",
   "metadata": {
    "slideshow": {
     "slide_type": "slide"
    }
   },
   "source": [
    "### Typ logiczny\n",
    "* Zawiera wartości logiczne **_prawda_** i **_fałsz_**"
   ]
  },
  {
   "cell_type": "code",
   "execution_count": 15,
   "metadata": {
    "slideshow": {
     "slide_type": "fragment"
    }
   },
   "outputs": [
    {
     "name": "stdout",
     "output_type": "stream",
     "text": [
      "False\n",
      "<class 'bool'>\n"
     ]
    }
   ],
   "source": [
    "x = True\n",
    "y = False\n",
    "\n",
    "a = 2 < 1\n",
    "print(a)\n",
    "print(type(a))"
   ]
  },
  {
   "cell_type": "code",
   "execution_count": 16,
   "metadata": {
    "slideshow": {
     "slide_type": "slide"
    }
   },
   "outputs": [
    {
     "name": "stdout",
     "output_type": "stream",
     "text": [
      "False\n",
      "<class 'bool'>\n"
     ]
    }
   ],
   "source": [
    "b = 2.71828 > 3\n",
    "print(b)\n",
    "print(type(b))"
   ]
  },
  {
   "cell_type": "markdown",
   "metadata": {
    "slideshow": {
     "slide_type": "slide"
    }
   },
   "source": [
    "### Typ znakowy\n",
    "* Zawiera pojedyncze znaki lub ciągi znaków"
   ]
  },
  {
   "cell_type": "code",
   "execution_count": 14,
   "metadata": {
    "slideshow": {
     "slide_type": "fragment"
    }
   },
   "outputs": [
    {
     "name": "stdout",
     "output_type": "stream",
     "text": [
      "A\n",
      "<class 'str'>\n"
     ]
    }
   ],
   "source": [
    "znak = \"A\"\n",
    "print(znak)\n",
    "print(type(znak))"
   ]
  },
  {
   "cell_type": "code",
   "execution_count": 11,
   "metadata": {
    "slideshow": {
     "slide_type": "fragment"
    }
   },
   "outputs": [
    {
     "name": "stdout",
     "output_type": "stream",
     "text": [
      "Ala ma kota\n",
      "<class 'str'>\n"
     ]
    }
   ],
   "source": [
    "napis = \"Ala ma kota\"\n",
    "print(napis)\n",
    "print(type(napis))"
   ]
  },
  {
   "cell_type": "markdown",
   "metadata": {},
   "source": [
    "### Wycinanie, przypomnienie"
   ]
  },
  {
   "cell_type": "markdown",
   "metadata": {
    "slideshow": {
     "slide_type": "slide"
    }
   },
   "source": [
    "* Również w napisach można sprawdzić zawartość każdego elementu\n",
    "  * `a[start:stop]  # elementy od start do stop-1`\n",
    "  * `a[start:]      # elementy od start do reszty tablicy`\n",
    "  * `a[:stop]       # elementy od początku do stop-1`\n",
    "  * `a[:]           # kopia całej tablicy`\n",
    "* Istnieje również wartość kroku (`step`), której można użyć z dowolnym z powyższych:\n",
    "  * `a[start:stop:step]  # elementy od start do stop-1, co step`"
   ]
  },
  {
   "cell_type": "code",
   "execution_count": null,
   "metadata": {},
   "outputs": [
    {
     "name": "stdout",
     "output_type": "stream",
     "text": [
      "lista3 [1, 2, 3]\n",
      "lista4 [1, 2, 3]\n",
      "lista3 [1, 2, 3, 5]\n",
      "lista4 [1, 2, 3, 5]\n"
     ]
    }
   ],
   "source": [
    "\n",
    "lista3 = [1, 2, 3]\n",
    "lista4 = lista3\n",
    "\n",
    "print(f\"lista3 {lista3}\")\n",
    "print(f\"lista4 {lista4}\")\n",
    "\n",
    "lista3.append(5)\n",
    "\n",
    "print(f\"lista3 {lista3}\")\n",
    "print(f\"lista4 {lista4}\")\n"
   ]
  },
  {
   "cell_type": "code",
   "execution_count": 17,
   "metadata": {},
   "outputs": [
    {
     "name": "stdout",
     "output_type": "stream",
     "text": [
      "lista3 [1, 2, 3]\n",
      "lista4 [1, 2, 3]\n",
      "lista3 [1, 2, 3, 5]\n",
      "lista4 [1, 2, 3]\n"
     ]
    }
   ],
   "source": [
    "\n",
    "lista3 = [1, 2, 3]\n",
    "lista4 = lista3[:]\n",
    "\n",
    "print(f\"lista3 {lista3}\")\n",
    "print(f\"lista4 {lista4}\")\n",
    "\n",
    "lista3.append(5)\n",
    "\n",
    "print(f\"lista3 {lista3}\")\n",
    "print(f\"lista4 {lista4}\")"
   ]
  },
  {
   "cell_type": "code",
   "execution_count": 21,
   "metadata": {},
   "outputs": [
    {
     "name": "stdout",
     "output_type": "stream",
     "text": [
      "[2, 4, 6]\n",
      "[1, 3, 5, 7]\n"
     ]
    }
   ],
   "source": [
    "lista1 = [1, 2, 3, 4, 5, 6, 7, 8]\n",
    "wycinek = lista1[1:6:2]\n",
    "print(wycinek)\n",
    "\n",
    "wycinek2 = lista1[::2]\n",
    "print(wycinek2)"
   ]
  },
  {
   "cell_type": "code",
   "execution_count": 16,
   "metadata": {
    "slideshow": {
     "slide_type": "slide"
    }
   },
   "outputs": [
    {
     "name": "stdout",
     "output_type": "stream",
     "text": [
      "A\n",
      "<class 'str'>\n",
      "<class 'str'>\n"
     ]
    }
   ],
   "source": [
    "napis = \"Ala ma kota\"\n",
    "print(napis[0])\n",
    "print(type(napis))\n",
    "print(type(napis[0]))"
   ]
  },
  {
   "cell_type": "code",
   "execution_count": 17,
   "metadata": {},
   "outputs": [
    {
     "name": "stdout",
     "output_type": "stream",
     "text": [
      "Ala\n"
     ]
    }
   ],
   "source": [
    "print(napis[0:3])"
   ]
  },
  {
   "cell_type": "code",
   "execution_count": null,
   "metadata": {
    "slideshow": {
     "slide_type": "slide"
    }
   },
   "outputs": [
    {
     "name": "stdout",
     "output_type": "stream",
     "text": [
      "Aam oa\n",
      "<class 'str'>\n",
      "[2, 4, 6, 8]\n"
     ]
    }
   ],
   "source": [
    "print(napis[::2]) # Ala ma kota => Aam oa\n",
    "print(type(napis[::2]))\n",
    "liczby = [1, 2, 3, 4, 5, 6, 7, 8]\n",
    "print(liczby[1::2])"
   ]
  },
  {
   "cell_type": "markdown",
   "metadata": {
    "slideshow": {
     "slide_type": "slide"
    }
   },
   "source": [
    "* Napisów, w przeciwieństwie do list, nie można zmieniać"
   ]
  },
  {
   "cell_type": "code",
   "execution_count": 15,
   "metadata": {
    "slideshow": {
     "slide_type": "fragment"
    }
   },
   "outputs": [
    {
     "ename": "TypeError",
     "evalue": "'str' object does not support item assignment",
     "output_type": "error",
     "traceback": [
      "\u001b[0;31m---------------------------------------------------------------------------\u001b[0m",
      "\u001b[0;31mTypeError\u001b[0m                                 Traceback (most recent call last)",
      "Cell \u001b[0;32mIn[15], line 2\u001b[0m\n\u001b[1;32m      1\u001b[0m napis \u001b[39m=\u001b[39m \u001b[39m\"\u001b[39m\u001b[39mAla ma kota\u001b[39m\u001b[39m\"\u001b[39m\n\u001b[0;32m----> 2\u001b[0m napis[\u001b[39m-\u001b[39;49m\u001b[39m1\u001b[39;49m] \u001b[39m=\u001b[39m \u001b[39m\"\u001b[39m\u001b[39my\u001b[39m\u001b[39m\"\u001b[39m\n",
      "\u001b[0;31mTypeError\u001b[0m: 'str' object does not support item assignment"
     ]
    }
   ],
   "source": [
    "napis = \"Ala ma kota\"\n",
    "napis[-1] = \"y\""
   ]
  },
  {
   "cell_type": "markdown",
   "metadata": {
    "slideshow": {
     "slide_type": "slide"
    }
   },
   "source": [
    "* Można jednak zapisać do zmiennej znakowej nową treść"
   ]
  },
  {
   "cell_type": "code",
   "execution_count": 24,
   "metadata": {
    "slideshow": {
     "slide_type": "fragment"
    }
   },
   "outputs": [],
   "source": [
    "napis = \"Ala ma kota\""
   ]
  },
  {
   "cell_type": "code",
   "execution_count": 25,
   "metadata": {
    "slideshow": {
     "slide_type": "fragment"
    }
   },
   "outputs": [],
   "source": [
    "napis = \"Ala ma koty\""
   ]
  },
  {
   "cell_type": "code",
   "execution_count": 26,
   "metadata": {
    "slideshow": {
     "slide_type": "fragment"
    }
   },
   "outputs": [],
   "source": [
    "napis = \"Ala będzie miała kotki dwa\""
   ]
  },
  {
   "cell_type": "code",
   "execution_count": 19,
   "metadata": {
    "slideshow": {
     "slide_type": "fragment"
    }
   },
   "outputs": [
    {
     "name": "stdout",
     "output_type": "stream",
     "text": [
      "127\n",
      "<class 'int'>\n"
     ]
    }
   ],
   "source": [
    "zmienna = 127\n",
    "print(zmienna)\n",
    "print(type(zmienna))"
   ]
  },
  {
   "cell_type": "code",
   "execution_count": 20,
   "metadata": {
    "slideshow": {
     "slide_type": "slide"
    }
   },
   "outputs": [
    {
     "name": "stdout",
     "output_type": "stream",
     "text": [
      "127\n",
      "<class 'str'>\n"
     ]
    }
   ],
   "source": [
    "zmienna = \"127\"\n",
    "print(zmienna)\n",
    "print(type(zmienna))"
   ]
  },
  {
   "cell_type": "markdown",
   "metadata": {
    "slideshow": {
     "slide_type": "slide"
    }
   },
   "source": [
    "#### Nie można dodawać do siebie różnych typów zmiennych"
   ]
  },
  {
   "cell_type": "code",
   "execution_count": 21,
   "metadata": {
    "slideshow": {
     "slide_type": "fragment"
    }
   },
   "outputs": [
    {
     "ename": "TypeError",
     "evalue": "can only concatenate str (not \"int\") to str",
     "output_type": "error",
     "traceback": [
      "\u001b[0;31m---------------------------------------------------------------------------\u001b[0m",
      "\u001b[0;31mTypeError\u001b[0m                                 Traceback (most recent call last)",
      "Cell \u001b[0;32mIn[21], line 3\u001b[0m\n\u001b[1;32m      1\u001b[0m napis \u001b[39m=\u001b[39m \u001b[39m\"\u001b[39m\u001b[39mAla ma kota a kot ma psa\u001b[39m\u001b[39m\"\u001b[39m\n\u001b[1;32m      2\u001b[0m liczba_calkowita \u001b[39m=\u001b[39m \u001b[39m2\u001b[39m\n\u001b[0;32m----> 3\u001b[0m napis \u001b[39m+\u001b[39;49m liczba_calkowita\n",
      "\u001b[0;31mTypeError\u001b[0m: can only concatenate str (not \"int\") to str"
     ]
    }
   ],
   "source": [
    "napis = \"Ala ma kota a kot ma psa\"\n",
    "liczba_calkowita = 2\n",
    "napis + liczba_calkowita"
   ]
  },
  {
   "cell_type": "markdown",
   "metadata": {
    "slideshow": {
     "slide_type": "slide"
    }
   },
   "source": [
    "* By je dodać, trzeba skonwertować je do wspólnego typu do czego służą wbudowane funkcje `str()`, `int()`, `float()`, `complex()`"
   ]
  },
  {
   "cell_type": "code",
   "execution_count": 22,
   "metadata": {
    "slideshow": {
     "slide_type": "fragment"
    }
   },
   "outputs": [
    {
     "name": "stdout",
     "output_type": "stream",
     "text": [
      "Ala ma kota a kot ma psa 2\n"
     ]
    }
   ],
   "source": [
    "napis = \"Ala ma kota a kot ma psa \"\n",
    "liczba_calkowita = 2\n",
    "print(napis + str(liczba_calkowita)) # napis + \"2\""
   ]
  },
  {
   "cell_type": "markdown",
   "metadata": {},
   "source": [
    "#### Znalezienie środkowego elementu tekstu - tekst jest nieparzysty, wskazówka do ćwiczeń:"
   ]
  },
  {
   "cell_type": "code",
   "execution_count": 23,
   "metadata": {},
   "outputs": [
    {
     "name": "stdout",
     "output_type": "stream",
     "text": [
      "9\n",
      "4\n",
      "a\n"
     ]
    }
   ],
   "source": [
    "tekst = \"alamakota\"\n",
    "len_t = len(tekst)\n",
    "print(len_t)\n",
    "\n",
    "idx = len_t // 2\n",
    "print(idx)\n",
    "\n",
    "print(tekst[idx])\n"
   ]
  },
  {
   "cell_type": "markdown",
   "metadata": {
    "slideshow": {
     "slide_type": "slide"
    }
   },
   "source": [
    "#### Ćwicznenie nr 1:"
   ]
  },
  {
   "cell_type": "markdown",
   "metadata": {
    "slideshow": {
     "slide_type": "fragment"
    }
   },
   "source": [
    "* Biorąc pod uwagę ciąg o nieparzystej długości większej niż 7, zwróć łańcuch złożony z trzech środkowych znaków danego ciągu:\n",
    "  * Dane wejściowe:\\\n",
    "    `str1 = \"Datatypes\"`\n",
    "  * Oczekiwany wynik:\\\n",
    "    `aty`"
   ]
  },
  {
   "cell_type": "code",
   "execution_count": 17,
   "metadata": {},
   "outputs": [
    {
     "name": "stdout",
     "output_type": "stream",
     "text": [
      "LL\n"
     ]
    }
   ],
   "source": [
    "tekst = \"ALLA\"\n",
    "lt = len(tekst) // 2\n",
    "if len(tekst) % 2 == 0:  #parzysty\n",
    "    print(tekst[lt-1:lt+1])    # \"ALLA\"       -> LL\n",
    "else:\n",
    "    print(tekst[lt-1:lt+2])    #  \"datatypes\" -> \"aty\""
   ]
  },
  {
   "cell_type": "code",
   "execution_count": 18,
   "metadata": {},
   "outputs": [
    {
     "name": "stdout",
     "output_type": "stream",
     "text": [
      "aty\n"
     ]
    }
   ],
   "source": [
    "str1 = \"Datatypes\"\n",
    "length = len(str1)\n",
    "middle = length // 2\n",
    "result = str1[middle - 1 : middle + 2]\n",
    "print(result)"
   ]
  },
  {
   "cell_type": "markdown",
   "metadata": {
    "slideshow": {
     "slide_type": "slide"
    }
   },
   "source": [
    "#### Ćwiczenie nr 2:"
   ]
  },
  {
   "cell_type": "markdown",
   "metadata": {
    "slideshow": {
     "slide_type": "fragment"
    }
   },
   "source": [
    "* Biorąc pod uwagę 2 ciągi, `s1` i `s2`, utwórz nowy ciąg, dodając `s2` w środku `s1`\n",
    "* Dane:\n",
    "  * `s1 = \"FullStack\"`\n",
    "  * `s2 = \"Python”`\n",
    "* Oczekiwany wynik:\\\n",
    "  `FullPythonStack`"
   ]
  },
  {
   "cell_type": "code",
   "execution_count": null,
   "metadata": {},
   "outputs": [
    {
     "name": "stdout",
     "output_type": "stream",
     "text": [
      "FullPythonStack\n"
     ]
    }
   ],
   "source": [
    "s1 = \"FullStack\"\n",
    "s2 = \"Python\"\n",
    "\n",
    "middle_s1 = len(s1) // 2\n",
    "result = s1[:middle_s1] + s2 + s1[middle_s1:]\n",
    "print(result)"
   ]
  },
  {
   "cell_type": "code",
   "execution_count": 23,
   "metadata": {},
   "outputs": [
    {
     "name": "stdout",
     "output_type": "stream",
     "text": [
      "FullPythonStack\n"
     ]
    }
   ],
   "source": [
    "s1 = \"FullStack\"\n",
    "s2 = \"Python\"\n",
    "\n",
    "print(s1[:len(s1) // 2] + s2 + s1[len(s1) // 2:])"
   ]
  },
  {
   "cell_type": "markdown",
   "metadata": {
    "slideshow": {
     "slide_type": "slide"
    }
   },
   "source": [
    "#### Ćwiczenie nr 3:"
   ]
  },
  {
   "cell_type": "markdown",
   "metadata": {
    "slideshow": {
     "slide_type": "fragment"
    }
   },
   "source": [
    "* Biorąc pod uwagę 2 ciągi, `s1` i `s2` zwróć nowy ciąg złożony z pierwszego, środkowego i ostatniego znaku każdego ciągu wejściowego\n",
    "* Dane:\n",
    "  * `s1 = \"America\"`\n",
    "  * `s2 = \"Japan\"`\n",
    "* Oczekiwany wynik:\\\n",
    "`AJrpan`"
   ]
  },
  {
   "cell_type": "code",
   "execution_count": null,
   "metadata": {},
   "outputs": [],
   "source": []
  },
  {
   "cell_type": "markdown",
   "metadata": {
    "slideshow": {
     "slide_type": "slide"
    }
   },
   "source": [
    "#### Ćwiczenie nr 4*:"
   ]
  },
  {
   "cell_type": "markdown",
   "metadata": {
    "slideshow": {
     "slide_type": "fragment"
    }
   },
   "source": [
    "* Odwróć podany ciąg\n",
    "* Dane:\\\n",
    "`str1 = \"Python\"`\n",
    "* Oczekiwany wynik:\\\n",
    "`nohtyP`"
   ]
  },
  {
   "cell_type": "code",
   "execution_count": 27,
   "metadata": {},
   "outputs": [
    {
     "name": "stdout",
     "output_type": "stream",
     "text": [
      "nohtyP\n",
      "nohtyP\n",
      "nohtyP\n"
     ]
    }
   ],
   "source": [
    "str = 'Python'\n",
    "print(str[-1:-7:-1])\n",
    "print(str[::-1])\n",
    "reversed_str = str[::-1]\n",
    "print(reversed_str)\n"
   ]
  },
  {
   "cell_type": "markdown",
   "metadata": {
    "slideshow": {
     "slide_type": "slide"
    }
   },
   "source": [
    "## Złożone typy danych"
   ]
  },
  {
   "cell_type": "markdown",
   "metadata": {
    "slideshow": {
     "slide_type": "slide"
    }
   },
   "source": [
    "### Lista"
   ]
  },
  {
   "cell_type": "markdown",
   "metadata": {
    "slideshow": {
     "slide_type": "fragment"
    }
   },
   "source": [
    "* Bardzo często najlepiej mieć zmienną zawierającą więcej więcej niż jedną wartość\n",
    "* Do takich zmiennych należy lista, która jest uporządkowanym zbiorem obiektów, które mogą mieć różny typ"
   ]
  },
  {
   "cell_type": "code",
   "execution_count": 18,
   "metadata": {
    "slideshow": {
     "slide_type": "slide"
    }
   },
   "outputs": [
    {
     "name": "stdout",
     "output_type": "stream",
     "text": [
      "[1, 2, 3, 4, -5, 6, -10]\n",
      "<class 'list'>\n"
     ]
    }
   ],
   "source": [
    "lista = [1, 2, 3, 4, -5, 6, -10]\n",
    "print(lista)\n",
    "print(type(lista))"
   ]
  },
  {
   "cell_type": "code",
   "execution_count": 25,
   "metadata": {
    "slideshow": {
     "slide_type": "fragment"
    }
   },
   "outputs": [
    {
     "name": "stdout",
     "output_type": "stream",
     "text": [
      "[0.1, 0.2, 0.3, 4.5, -7.3, 6.87, 10]\n",
      "<class 'list'>\n",
      "<class 'float'>\n",
      "<class 'int'>\n"
     ]
    }
   ],
   "source": [
    "liczby = [0.1, 0.2, 0.3, 4.5, -7.3, 6.87, 10]\n",
    "print(liczby)\n",
    "print(type(liczby))\n",
    "\n",
    "print(type(liczby[1]))\n",
    "print(type(liczby[-1]))"
   ]
  },
  {
   "cell_type": "code",
   "execution_count": 26,
   "metadata": {
    "slideshow": {
     "slide_type": "slide"
    }
   },
   "outputs": [
    {
     "name": "stdout",
     "output_type": "stream",
     "text": [
      "['Ala', 'Zygmunt', 'Alojzy', 'Bogusława']\n",
      "<class 'list'>\n",
      "<class 'str'>\n"
     ]
    }
   ],
   "source": [
    "imiona = ['Ala', 'Zygmunt', \"Alojzy\", \"Bogusława\"]\n",
    "print(imiona)\n",
    "print(type(imiona))\n",
    "print(type(imiona[1]))"
   ]
  },
  {
   "cell_type": "markdown",
   "metadata": {
    "slideshow": {
     "slide_type": "slide"
    }
   },
   "source": [
    "#### Wycinanie kawałków list"
   ]
  },
  {
   "cell_type": "markdown",
   "metadata": {
    "slideshow": {
     "slide_type": "fragment"
    }
   },
   "source": [
    "* Można również wykrajać kawałki listy stosując notację `lista[start:stop:krok]`"
   ]
  },
  {
   "cell_type": "code",
   "execution_count": 27,
   "metadata": {
    "slideshow": {
     "slide_type": "slide"
    }
   },
   "outputs": [
    {
     "name": "stdout",
     "output_type": "stream",
     "text": [
      "['Berta', 3, 4, -5, 'kot']\n",
      "[3, -5]\n",
      "[1, 'Berta', 3, 4]\n",
      "[3.14, True]\n"
     ]
    }
   ],
   "source": [
    "lista = [1, \"Berta\", 3, 4, -5, \"kot\", -10.75, 3.14, True]\n",
    "print(lista[1:6])\n",
    "print(lista[2:6:2])\n",
    "print(lista[:4])\n",
    "print(lista[-2:])"
   ]
  },
  {
   "cell_type": "code",
   "execution_count": 28,
   "metadata": {
    "slideshow": {
     "slide_type": "slide"
    }
   },
   "outputs": [
    {
     "name": "stdout",
     "output_type": "stream",
     "text": [
      "[True, 3.14, -10.75, 'kot', -5, 4, 3, 'Berta', 1]\n"
     ]
    }
   ],
   "source": [
    "lista_rev = lista[::-1]\n",
    "print(lista_rev)"
   ]
  },
  {
   "cell_type": "markdown",
   "metadata": {
    "slideshow": {
     "slide_type": "slide"
    }
   },
   "source": [
    "#### Modyfikacja list"
   ]
  },
  {
   "cell_type": "markdown",
   "metadata": {
    "slideshow": {
     "slide_type": "fragment"
    }
   },
   "source": [
    "* Listy można modyfikować (zmieniać poszczególne elementy)"
   ]
  },
  {
   "cell_type": "code",
   "execution_count": 28,
   "metadata": {
    "slideshow": {
     "slide_type": "fragment"
    }
   },
   "outputs": [
    {
     "name": "stdout",
     "output_type": "stream",
     "text": [
      "[1, 'Berta', 3, 4, -5, 'kot', -10.75, 3.14]\n",
      "[2, 3, 'pies', 'a', '2', 9]\n"
     ]
    }
   ],
   "source": [
    "lista = [1, \"Berta\", 3, 4, -5, \"kot\", -10.75, 3.14]\n",
    "print(lista)\n",
    "lista = [2, 3, 5, 7, 9]\n",
    "lista[2:4] = [\"pies\", \"a\", \"2\"] ## *\n",
    "print(lista)"
   ]
  },
  {
   "cell_type": "markdown",
   "metadata": {
    "slideshow": {
     "slide_type": "slide"
    }
   },
   "source": [
    "#### Dodawanie kolejnych elementów na końcu"
   ]
  },
  {
   "cell_type": "markdown",
   "metadata": {
    "slideshow": {
     "slide_type": "fragment"
    }
   },
   "source": [
    "* W szczególności do list można dodawać kolejne elementy na końcu"
   ]
  },
  {
   "cell_type": "code",
   "execution_count": null,
   "metadata": {
    "slideshow": {
     "slide_type": "fragment"
    }
   },
   "outputs": [
    {
     "name": "stdout",
     "output_type": "stream",
     "text": [
      "[1, 'Berta', 3, 4, -5, 'kot', -10.75, 3.14, 'zebra']\n"
     ]
    }
   ],
   "source": [
    "lista = [1, \"Berta\", 3, 4, -5, \"kot\", -10.75, 3.14]\n",
    "lista.append(\"zebra\")\n",
    "print(lista)"
   ]
  },
  {
   "cell_type": "markdown",
   "metadata": {
    "slideshow": {
     "slide_type": "slide"
    }
   },
   "source": [
    "#### Dodawanie kolejnych elementów na i-tym indeksie"
   ]
  },
  {
   "cell_type": "markdown",
   "metadata": {
    "slideshow": {
     "slide_type": "fragment"
    }
   },
   "source": [
    "* lub na i-tym indeksie"
   ]
  },
  {
   "cell_type": "code",
   "execution_count": 29,
   "metadata": {
    "slideshow": {
     "slide_type": "fragment"
    }
   },
   "outputs": [
    {
     "name": "stdout",
     "output_type": "stream",
     "text": [
      "[1, 'Berta', 'zebra', 3, 4, -5, 'kot', -10.75, 3.14]\n"
     ]
    }
   ],
   "source": [
    "lista = [1, \"Berta\", 3, 4, -5, \"kot\", -10.75, 3.14]\n",
    "lista.insert(2, \"zebra\")\n",
    "print(lista)\n"
   ]
  },
  {
   "cell_type": "markdown",
   "metadata": {
    "slideshow": {
     "slide_type": "slide"
    }
   },
   "source": [
    "#### Python jest językiem obiektowym"
   ]
  },
  {
   "cell_type": "markdown",
   "metadata": {
    "slideshow": {
     "slide_type": "fragment"
    }
   },
   "source": [
    "* Notacja `lista.metoda()` (np.: `lista.sort()`, `lista.append()`) jest przykładem programowania obiektowego (OOP = _Object Oriented Programming_), ponieważ obiekt jakim jest lista ma zdefiniowaną funkcję dostępną przez notację `..` \n",
    "* Sprawdzić wszystkie metody można w `Ipython` używając autokompletowania (Tab)"
   ]
  },
  {
   "cell_type": "markdown",
   "metadata": {
    "slideshow": {
     "slide_type": "slide"
    }
   },
   "source": [
    "#### Lista użytecznych metod"
   ]
  },
  {
   "cell_type": "markdown",
   "metadata": {
    "slideshow": {
     "slide_type": "fragment"
    }
   },
   "source": [
    "* Lista ma wiele użytecznych metod\n",
    "  * `.append(x)` – dodaje `x` do listy\n",
    "  * `.remove(x)` – usuwa pierwszy `x` z listy\n",
    "  * `.pop()` – usuwa i zwraca ostatni element listy\n",
    "  * `.insert(i, x)` – wstawia `x` przed indeksem `i`\n",
    "  * `.extend(x)` – dodaje na koniec listy dodatkową zmienną iterowalną `x`\n",
    "  * `.count(x)` – zwraca ilość wystąpień `x` \n",
    "  * `.index(x)` – zwraca indeks pierwszego wystąpienia `x`\n",
    "  * `.sort()` – sortuje listę rosnąco\n",
    "  * `.reverse()` – sortuje listę w odwróconym porządku"
   ]
  },
  {
   "cell_type": "code",
   "execution_count": null,
   "metadata": {},
   "outputs": [
    {
     "name": "stdout",
     "output_type": "stream",
     "text": [
      "[1, 3, 4, 1, 2]\n",
      "None\n",
      "[1, 2, 3, 4, 1, 2, 'ala']\n",
      "ma\n",
      "[1, 'zebra', 2, 3, 4, 1, 2, 'ala']\n",
      "[1, 'zebra', 2, 3, 4, 1, 2, 'ala', '33', 33]\n",
      "2\n",
      "9\n",
      "[1, 2, 2, 4, 4, 5, 5, 7]\n"
     ]
    }
   ],
   "source": [
    "lista1 = [1, 2, 3, 4, 1, 2]\n",
    "y = lista1.remove(2)\n",
    "print(lista1)\n",
    "print(y)\n",
    "\n",
    "lista1 = [1, 2, 3, 4, 1, 2, \"ala\", \"ma\"]\n",
    "x = lista1.pop()\n",
    "print(lista1)\n",
    "print(x)\n",
    "\n",
    "lista1.insert(1, \"zebra\")\n",
    "print(lista1)\n",
    "\n",
    "lista1.extend([\"33\", 33])\n",
    "print(lista1)\n",
    "\n",
    "len2 = lista1.count(1)\n",
    "print(len2)\n",
    "\n",
    "idx33 = lista1.index(33)\n",
    "print(idx33)\n",
    "\n",
    "lista2 = [2, 4, 5 ,7 ,2,4 ,1, 5]\n",
    "lista2.sort()\n",
    "\n",
    "print(lista2)"
   ]
  },
  {
   "cell_type": "markdown",
   "metadata": {
    "slideshow": {
     "slide_type": "slide"
    }
   },
   "source": [
    "#### Funkcje działające na sekwencjach"
   ]
  },
  {
   "cell_type": "markdown",
   "metadata": {
    "slideshow": {
     "slide_type": "fragment"
    }
   },
   "source": [
    "* Funkcje działające na sekwencjach (listach, ciągach znaków oraz krotkach)\n",
    "  * `len()` – zwraca ilość elementów\n",
    "  * `reversed()` – zwraca obiekt zawierający odwróconą sekwencję\n",
    "  * `sorted(lista)` – zwraca kopię listy posortowanej rosnąco\n",
    "  * `sorted(lista, reverse=True)` – zwraca kopię listy w odwrotnym porządku\n",
    "  * `enumerate()` – zwraca obiekt zawierający indeksy i elementy sekwencji"
   ]
  },
  {
   "cell_type": "code",
   "execution_count": 42,
   "metadata": {},
   "outputs": [
    {
     "name": "stdout",
     "output_type": "stream",
     "text": [
      "[1, 1, 2, 2, 3]\n"
     ]
    }
   ],
   "source": [
    "lista1 = [1, 2, 3, 2, 1]\n",
    "\n",
    "lista1.sort()\n",
    "print(lista1)"
   ]
  },
  {
   "cell_type": "code",
   "execution_count": 30,
   "metadata": {},
   "outputs": [
    {
     "name": "stdout",
     "output_type": "stream",
     "text": [
      "[1, 1, 2, 2, 3, 4]\n",
      "[1, 2, 3, 4, 1, 2]\n"
     ]
    }
   ],
   "source": [
    "lista1 = [1, 2, 3, 4, 1, 2]\n",
    "lista2 = sorted(lista1)\n",
    "\n",
    "print(lista2)\n",
    "print(lista1)"
   ]
  },
  {
   "cell_type": "markdown",
   "metadata": {
    "slideshow": {
     "slide_type": "slide"
    }
   },
   "source": [
    "#### Ćwiczenie nr 5:"
   ]
  },
  {
   "cell_type": "markdown",
   "metadata": {
    "slideshow": {
     "slide_type": "fragment"
    }
   },
   "source": [
    "* Utwórz listę zawierającą imiona wszystkich kursantów\n",
    "* Następnie ją posortuj alfabetycznie, oraz\n",
    "* Sprawdź ile elementów ona zawiera\n",
    "* wyświetl listę i jej długość"
   ]
  },
  {
   "cell_type": "code",
   "execution_count": 31,
   "metadata": {},
   "outputs": [
    {
     "name": "stdout",
     "output_type": "stream",
     "text": [
      "7\n",
      "['Ala', 'Andrzej', 'Grażyna', 'Jacek', 'Max', 'Sebek', 'Zenon']\n"
     ]
    }
   ],
   "source": [
    "kursanci = [\"Ala\", \"Jacek\", \"Sebek\", \"Zenon\", \"Andrzej\", \"Grażyna\", \"Max\" ]\n",
    "kursanci_sort = sorted(kursanci)\n",
    "liczba_kurs = len(kursanci_sort)\n",
    "print(liczba_kurs)\n",
    "print(kursanci_sort)"
   ]
  },
  {
   "cell_type": "code",
   "execution_count": 32,
   "metadata": {},
   "outputs": [
    {
     "name": "stdout",
     "output_type": "stream",
     "text": [
      "['Ania', 'Iza', 'Krzysiek', 'Marek']\n",
      "4\n"
     ]
    }
   ],
   "source": [
    "lista_imion = [\"Iza\", \"Ania\", \"Marek\", \"Krzysiek\"]\n",
    "# print(lista_imion)\n",
    "lista_imion.sort()\n",
    "print(lista_imion)\n",
    "print(len(lista_imion))"
   ]
  },
  {
   "cell_type": "code",
   "execution_count": 33,
   "metadata": {},
   "outputs": [
    {
     "name": "stdout",
     "output_type": "stream",
     "text": [
      "['Ala', 'Basia', 'Cyryl', 'Daniel', 'Adam', 'Błażej', 'Celina', 'Danuta']\n",
      "['Adam', 'Ala', 'Basia', 'Błażej', 'Celina', 'Cyryl', 'Daniel', 'Danuta']\n",
      "8\n"
     ]
    }
   ],
   "source": [
    "imiona=[\"Ala\", \"Basia\", \"Cyryl\", \"Daniel\", \"Adam\", \"Błażej\", \"Celina\", \"Danuta\"]\n",
    "print(imiona)\n",
    "imiona_alf = sorted(imiona)\n",
    "print(imiona_alf)\n",
    "print(len(imiona_alf))"
   ]
  },
  {
   "cell_type": "code",
   "execution_count": 55,
   "metadata": {},
   "outputs": [
    {
     "name": "stdout",
     "output_type": "stream",
     "text": [
      "['ines', 'iza', 'kamil', 'martyna', 'piotrek', 'przemek']\n",
      "6\n",
      "Lista: ['ines', 'iza', 'kamil', 'martyna', 'piotrek', 'przemek']\n",
      "Długość listy: 6\n"
     ]
    }
   ],
   "source": [
    "list_ = ['kamil', 'martyna', 'przemek', 'piotrek', 'ines', 'iza']\n",
    "list_sorted = sorted(list_)\n",
    "print(list_sorted)\n",
    "ilosc_elementow = len(list_sorted)\n",
    "print(ilosc_elementow)\n",
    "print('Lista:', list_sorted)\n",
    "print('Długość listy:', len(list_sorted))"
   ]
  },
  {
   "cell_type": "code",
   "execution_count": null,
   "metadata": {},
   "outputs": [
    {
     "name": "stdout",
     "output_type": "stream",
     "text": [
      "['Anna', 'Kamil', 'Kasia', 'Marta', 'Zosia']\n",
      "5\n",
      "<enumerate object at 0x1244298c0>\n"
     ]
    }
   ],
   "source": [
    "lista = ['Kamil' , 'Kasia', 'Marta', 'Zosia', 'Anna']\n",
    "lista2 = sorted(lista)\n",
    "print(lista2)\n",
    "lista3 = len(lista)\n",
    "print(lista3)\n",
    "lista4 = enumerate(lista)\n",
    "print(lista4)\n",
    "lista5 = sorted(lista, reverse=True)"
   ]
  },
  {
   "cell_type": "code",
   "execution_count": 36,
   "metadata": {},
   "outputs": [
    {
     "name": "stdout",
     "output_type": "stream",
     "text": [
      "Posortowana lista (sorted): ['Grzesiek', 'Iza', 'Kamil', 'Kasia', 'Krzysztof', 'Marta', 'Martyna', 'Michał', 'Natalia', 'Przemek']\n",
      "Posortowana lista (sort): ['Grzesiek', 'Iza', 'Kamil', 'Kasia', 'Krzysztof', 'Marta', 'Martyna', 'Michał', 'Natalia', 'Przemek']\n",
      "Długość listy: 10\n"
     ]
    }
   ],
   "source": [
    "kurs = [\"Przemek\", \"Michał\", \"Natalia\", \"Grzesiek\", \"Iza\", \"Kamil\", \"Martyna\", \"Kasia\", \"Marta\", \"Krzysztof\"]\n",
    "posortowani = sorted(kurs)\n",
    "print(\"Posortowana lista (sorted):\", posortowani)\n",
    "kurs.sort()\n",
    "print(\"Posortowana lista (sort):\", kurs)\n",
    "długosc = len(kurs)\n",
    "print(\"Długość listy:\", długosc)"
   ]
  },
  {
   "cell_type": "code",
   "execution_count": 38,
   "metadata": {},
   "outputs": [
    {
     "name": "stdout",
     "output_type": "stream",
     "text": [
      "Posortowana lista imion: ['Kamil', 'Michał', 'Natalia', 'Patryk']\n",
      "Liczba kursantów: 4\n"
     ]
    }
   ],
   "source": [
    "imiona = ['Natalia', 'Kamil', 'Patryk', 'Michał']\n",
    "imiona.sort()\n",
    "dlugosc_listy = len(imiona)\n",
    "print(\"Posortowana lista imion:\", imiona)\n",
    "print(\"Liczba kursantów:\", dlugosc_listy)"
   ]
  },
  {
   "cell_type": "markdown",
   "metadata": {
    "slideshow": {
     "slide_type": "slide"
    }
   },
   "source": [
    "## Słownik _ang. dictionary_"
   ]
  },
  {
   "cell_type": "code",
   "execution_count": null,
   "metadata": {
    "slideshow": {
     "slide_type": "fragment"
    }
   },
   "outputs": [],
   "source": [
    "slownik = {\"ala\": \"kot\", \"ola\": 1, 2: True}\n",
    "print(slownik)\n",
    "print(type(slownik))\n",
    "\n",
    "print(slownik[\"ala\"])\n",
    "print(slownik[2])\n",
    "\n",
    "slownik[\"ala\"] = 20\n",
    "slownik[\"ma\"] = 500\n",
    "\n",
    "print(slownik)\n"
   ]
  },
  {
   "cell_type": "markdown",
   "metadata": {
    "slideshow": {
     "slide_type": "slide"
    }
   },
   "source": [
    "* Funkcje (metody):\n",
    "  * `slownik.keys()`\n",
    "  * `slownik.values()`\n",
    "  * `slownik.items()`"
   ]
  },
  {
   "cell_type": "code",
   "execution_count": 48,
   "metadata": {
    "slideshow": {
     "slide_type": "slide"
    }
   },
   "outputs": [
    {
     "name": "stdout",
     "output_type": "stream",
     "text": [
      "<class 'dict'>\n",
      "{'Maja': 500456, 'Jasio': 343455}\n"
     ]
    }
   ],
   "source": [
    "tel = {} # pusty słownik\n",
    "print(type(tel))\n",
    "tel = {'Maja': 500456 , 'Jasio': 343455}\n",
    "print(tel)"
   ]
  },
  {
   "cell_type": "code",
   "execution_count": 49,
   "metadata": {
    "slideshow": {
     "slide_type": "fragment"
    }
   },
   "outputs": [
    {
     "name": "stdout",
     "output_type": "stream",
     "text": [
      "{'Maja': 500456, 'Jasio': 343455, 'Ola': 3024127}\n",
      "{'Maja': 500456, 'Jasio': 343455, 'Ola': True, 'Kowalski': 42523}\n"
     ]
    }
   ],
   "source": [
    "tel['Ola'] = 3024127\n",
    "print(tel)\n",
    "\n",
    "tel['Kowalski'] = 42523\n",
    "tel['Ola'] = True\n",
    "print(tel)"
   ]
  },
  {
   "cell_type": "code",
   "execution_count": 50,
   "metadata": {
    "slideshow": {
     "slide_type": "fragment"
    }
   },
   "outputs": [
    {
     "name": "stdout",
     "output_type": "stream",
     "text": [
      "{'Jasio': 343455, 'Ola': True, 'Kowalski': 42523}\n",
      "{'Jasio': 343455, 'Ola': None, 'Kowalski': 42523}\n"
     ]
    }
   ],
   "source": [
    "del tel['Maja']\n",
    "print(tel)\n",
    "\n",
    "tel[\"Ola\"] = None\n",
    "print(tel)"
   ]
  },
  {
   "cell_type": "code",
   "execution_count": null,
   "metadata": {
    "slideshow": {
     "slide_type": "slide"
    }
   },
   "outputs": [
    {
     "name": "stdout",
     "output_type": "stream",
     "text": [
      "{}\n"
     ]
    }
   ],
   "source": [
    "tel = dict([('Jan', 4139277), ('Kazimierz', 4126327)])\n",
    "tel = dict()\n",
    "\n",
    "print(tel)"
   ]
  },
  {
   "cell_type": "code",
   "execution_count": 52,
   "metadata": {},
   "outputs": [
    {
     "name": "stdout",
     "output_type": "stream",
     "text": [
      "{'1': 2, '2': 34}\n",
      "dict_keys(['pay1', 'pay2', 'pay3'])\n",
      "dict_values([12313, 534875324, {'1': 2, '2': 34}])\n",
      "dict_items([('pay1', 12313), ('pay2', 534875324), ('pay3', {'1': 2, '2': 34})])\n"
     ]
    }
   ],
   "source": [
    "payments = {\"pay1\": 12313, \"pay2\": 534875324, \"pay3\": {\"1\":2, \"2\": 34}}\n",
    "\n",
    "x = payments[\"pay3\"]\n",
    "\n",
    "print(x)\n",
    "\n",
    "\n",
    "print(payments.keys())\n",
    "print(payments.values())\n",
    "print(payments.items())\n",
    "\n"
   ]
  },
  {
   "cell_type": "markdown",
   "metadata": {
    "slideshow": {
     "slide_type": "slide"
    }
   },
   "source": [
    "## Zbiór _ang. set_"
   ]
  },
  {
   "cell_type": "code",
   "execution_count": null,
   "metadata": {
    "slideshow": {
     "slide_type": "fragment"
    }
   },
   "outputs": [
    {
     "name": "stdout",
     "output_type": "stream",
     "text": [
      "{1, 2.89, 'ala', 'kot'}\n",
      "False\n",
      "True\n",
      "[1, 2, 3, 5]\n",
      "{1, 2.89, 'ma', 'kot', 'ala'}\n",
      "{1, 2.89, 'masdasdsada', 'ma', 'kot', 'ala'}\n"
     ]
    }
   ],
   "source": [
    "zbior = {\"ala\", \"kot\", 1, 2.89, 1, 1}\n",
    "print(zbior)\n",
    "x = \"aldasdasd\" in zbior\n",
    "y = \"ala\" in zbior\n",
    "\n",
    "print(x)\n",
    "print(y)\n",
    "\n",
    "lista2 = [2 ,1 ,2 ,3, 5 ,3, 1]\n",
    "z = list(set(lista2))\n",
    "print(z)\n",
    "zbior.add(\"ma\")\n",
    "print(zbior)\n",
    "zbior.update([\"masdasdsada\", \"ma\"])\n",
    "print(zbior)"
   ]
  },
  {
   "cell_type": "code",
   "execution_count": 27,
   "metadata": {},
   "outputs": [
    {
     "name": "stdout",
     "output_type": "stream",
     "text": [
      "{1, 2, 3, 4}\n",
      "{3, 4, 5, 6}\n",
      "{1, 2, 5, 6}\n"
     ]
    }
   ],
   "source": [
    "x = {1, 2 ,3 ,4}\n",
    "y = {3, 4, 5, 6}\n",
    "\n",
    "print(x)\n",
    "print(y)\n",
    "\n",
    "print(x ^ y)"
   ]
  },
  {
   "cell_type": "markdown",
   "metadata": {
    "slideshow": {
     "slide_type": "slide"
    }
   },
   "source": [
    "* Operacje na zbiorach:\n",
    "  * sprawdzenie czy `element` należy do zbioru:\\\n",
    "  `zbior: element in zbior`\n",
    "  * sprawdzenie czy `element` nie należy do zbioru:\\\n",
    "  `zbior: element not in zbior`\n",
    "  * odejmowanie od siebie zbiorów:\\\n",
    "  `c = a - b`\n",
    "  * dodawanie do siebie zbiorów:\\\n",
    "  `c = a | b`\n",
    "  * część wspólna zbiorów:\\\n",
    "  `c = a & b`\n",
    "  * część rozłączna zbiorów:\\\n",
    "  `c = a ^ b`"
   ]
  },
  {
   "cell_type": "code",
   "execution_count": 38,
   "metadata": {
    "slideshow": {
     "slide_type": "skip"
    }
   },
   "outputs": [
    {
     "name": "stdout",
     "output_type": "stream",
     "text": [
      "False\n",
      "{3, 4, 5, 8}\n",
      "{1, 2}\n",
      "{3, 4, 5}\n",
      "{1, 2, 3, 4, 5, 8}\n"
     ]
    }
   ],
   "source": [
    "print(1 not in zbior)\n",
    "\n",
    "zb = {1, 2, 3 ,4, 3, 5}\n",
    "zb2 = {1, 2, 8}\n",
    "\n",
    "print(zb ^ zb2)\n",
    "print(zb & zb2)\n",
    "print(zb - zb2)\n",
    "print(zb | zb2)\n"
   ]
  },
  {
   "cell_type": "code",
   "execution_count": 1,
   "metadata": {},
   "outputs": [
    {
     "name": "stdout",
     "output_type": "stream",
     "text": [
      "[1, 2, 3, 4, 5, 7, 8]\n"
     ]
    }
   ],
   "source": [
    "payments_list = [1, 2, 3, 4, 5, 2, 3, 3, 1, 2, 7, 8]\n",
    "pay_no_d = list(set(payments_list))\n",
    "print(pay_no_d)"
   ]
  },
  {
   "cell_type": "code",
   "execution_count": 2,
   "metadata": {},
   "outputs": [
    {
     "name": "stdout",
     "output_type": "stream",
     "text": [
      "[13, 14]\n"
     ]
    }
   ],
   "source": [
    "pay1_response = [12, 13, 14, 15]\n",
    "pay2_response = [13, 14, 15, 16, 17]\n",
    "pay3_response = [11, 13, 14, 18, 20]\n",
    "\n",
    "result = list(set(pay1_response) & set(pay2_response) & set(pay3_response)) #{13, 14}\n",
    "print(result)"
   ]
  },
  {
   "cell_type": "markdown",
   "metadata": {},
   "source": [
    "## Krotka _ang. Tuple_"
   ]
  },
  {
   "cell_type": "code",
   "execution_count": 3,
   "metadata": {},
   "outputs": [
    {
     "name": "stdout",
     "output_type": "stream",
     "text": [
      "(1, 2, 3, 4, 5)\n",
      "<class 'tuple'>\n"
     ]
    }
   ],
   "source": [
    "krotka = (1, 2, 3, 4, 5)\n",
    "print(krotka)\n",
    "print(type(krotka))"
   ]
  },
  {
   "cell_type": "markdown",
   "metadata": {},
   "source": [
    "* Krotka jest niezmienialna"
   ]
  },
  {
   "cell_type": "code",
   "execution_count": 31,
   "metadata": {},
   "outputs": [
    {
     "ename": "TypeError",
     "evalue": "'tuple' object does not support item assignment",
     "output_type": "error",
     "traceback": [
      "\u001b[0;31m---------------------------------------------------------------------------\u001b[0m",
      "\u001b[0;31mTypeError\u001b[0m                                 Traceback (most recent call last)",
      "Cell \u001b[0;32mIn[31], line 1\u001b[0m\n\u001b[0;32m----> 1\u001b[0m \u001b[43mkrotka\u001b[49m\u001b[43m[\u001b[49m\u001b[38;5;241;43m2\u001b[39;49m\u001b[43m]\u001b[49m \u001b[38;5;241m=\u001b[39m \u001b[38;5;241m5\u001b[39m\n",
      "\u001b[0;31mTypeError\u001b[0m: 'tuple' object does not support item assignment"
     ]
    }
   ],
   "source": [
    "krotka[2] = 5"
   ]
  },
  {
   "cell_type": "code",
   "execution_count": 4,
   "metadata": {},
   "outputs": [
    {
     "name": "stdout",
     "output_type": "stream",
     "text": [
      "[1, 2, 3, 4, 5]\n"
     ]
    }
   ],
   "source": [
    "li = list(krotka)\n",
    "print(li)"
   ]
  },
  {
   "cell_type": "markdown",
   "metadata": {},
   "source": [
    "## Sposoby wyświetlania danych, tekst + zmienne w print()"
   ]
  },
  {
   "cell_type": "code",
   "execution_count": null,
   "metadata": {},
   "outputs": [
    {
     "name": "stdout",
     "output_type": "stream",
     "text": [
      "Masz 21 lat.\n",
      "Masz 21 lat.\n",
      "Masz 21 lat!\n",
      "Masz 10.5 lat!\n"
     ]
    }
   ],
   "source": [
    "age = 21\n",
    "\"\"\" Text to print: Masz <age> lat.\"\"\"\n",
    "\n",
    "print(\"Masz \" + str(age) + \" lat.\")    # konkatenacja ze zmianą typu\n",
    "print(\"Masz {} lat.\".format(age))      # .format()\n",
    "print(f\"Masz {age} lat!\")              # f string\n",
    "print(f\"Masz {age / 2} lat!\")          # f string\n"
   ]
  }
 ],
 "metadata": {
  "celltoolbar": "Slideshow",
  "kernelspec": {
   "display_name": "Python 3",
   "language": "python",
   "name": "python3"
  },
  "language_info": {
   "codemirror_mode": {
    "name": "ipython",
    "version": 3
   },
   "file_extension": ".py",
   "mimetype": "text/x-python",
   "name": "python",
   "nbconvert_exporter": "python",
   "pygments_lexer": "ipython3",
   "version": "3.9.6"
  }
 },
 "nbformat": 4,
 "nbformat_minor": 4
}
