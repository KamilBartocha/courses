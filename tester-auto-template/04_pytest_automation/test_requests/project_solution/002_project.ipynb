{
 "cells": [
  {
   "cell_type": "markdown",
   "metadata": {},
   "source": [
    "### Test Cases:\n",
    "1. Napisz podstawowy test, który sprawdzi czy api zwraca kod 200\n",
    "2. Napisz test, który stworzy task(create task)\n",
    "    metoda: PUT endpoint: /create-task\n",
    "\n",
    "    body:\n",
    "    ```json\n",
    "    {\n",
    "    \"content\": \"<string>\",\n",
    "    \"user_id\": \"<string>\",\n",
    "    \"is_done\": False\n",
    "    }\n",
    "    ```\n",
    "\n",
    "    `-v` \"verbose\" - pokazuje wywnik każdego testu oddzielnie\n",
    "\n",
    "    `-s` wyświetli kod jeśli użyliśmy funkcji `print()`\n",
    "\n",
    "    `pytest <file_name>.py -v -s`\n",
    "    Po dodaniu nowego taska, sprawdz za pomocą `get-task` czy został dodany i czy treść się zgadza\n",
    "\n",
    "    Jeden test można uruchomić za pomocą:\n",
    "    `pytest <file_name>.py::test_name`\n",
    "3. Napisz test który sprawdzi czy można poprawnie aktualizować task\n",
    "4. Napisz test który sprawdzi usuwanie taska: Stwórz, usuń, sprawdz czy usunięty\n",
    "5. Reafakoruj kod any był skalowalny i używał funkcji pomocniczych do powtarzanych fragmentów kodu\n",
    "6. Przenieś funkcje pomocnicze do osobnego pliku."
   ]
  },
  {
   "cell_type": "markdown",
   "metadata": {},
   "source": [
    "### Rozwiązanie:\n",
    "#### plik 1, nazwa dowolna"
   ]
  },
  {
   "cell_type": "code",
   "execution_count": null,
   "metadata": {},
   "outputs": [],
   "source": [
    "from helpers_requests import *\n",
    "\n",
    "ENDPOINT = \"https://todo.pixegami.io/\"\n",
    "\n",
    "def test_can_call_api():\n",
    "    response = send_request(ENDPOINT)\n",
    "    assert response.status_code == 200\n",
    "\n",
    "def test_can_create_task():\n",
    "    payload = {\"content\": \"ala_cb\",\n",
    "               \"user_id\": \"tester_cb\",\n",
    "               \"is_done\": False\n",
    "              }\n",
    "    response = create_task(ENDPOINT, payload)\n",
    "    assert response.status_code == 200\n",
    "\n",
    "def test_can_update_task():\n",
    "    payload = {\"content\": \"update_cb\",\n",
    "               \"user_id\": \"update_cb\",\n",
    "               \"is_done\": False\n",
    "              }\n",
    "    response = create_task(ENDPOINT, payload)\n",
    "    assert response.status_code == 200\n",
    "    data = response.json()\n",
    "    task_id = data[\"task\"][\"task_id\"]\n",
    "    new_payload = {\"user_id\": \"update_cb\",\n",
    "                   \"task_id\": task_id,\n",
    "                   \"is_done\": True,\n",
    "                   \"content\": \"new_content\"\n",
    "                  }\n",
    "    update_response = update_task(ENDPOINT, new_payload)\n",
    "    assert update_response.status_code == 200\n",
    "\n",
    "    get_task_response = get_task(ENDPOINT, task_id)\n",
    "    assert get_task_response.status_code == 200\n",
    "\n",
    "    data_after_update = get_task_response.json()\n",
    "    assert data_after_update[\"content\"] == new_payload[\"content\"]\n",
    "    assert data_after_update[\"is_done\"] == new_payload[\"is_done\"]\n",
    "\n",
    "def test_can_delete_task():\n",
    "    payload = {\"content\": \"update_cb\",\n",
    "               \"user_id\": \"update_cb\",\n",
    "               \"is_done\": False\n",
    "              }\n",
    "    response = create_task(ENDPOINT, payload)\n",
    "    assert response.status_code == 200\n",
    "    data = response.json()\n",
    "    task_id = data[\"task\"][\"task_id\"]\n",
    "\n",
    "    delete_response = delete_task(ENDPOINT, task_id)\n",
    "    assert delete_response.status_code == 200\n",
    "\n",
    "    get_task_response = get_task(ENDPOINT, task_id)\n",
    "    assert get_task_response.status_code == 404\n"
   ]
  },
  {
   "cell_type": "markdown",
   "metadata": {},
   "source": [
    "#### Plik 2, nazwa: helpers_requests.py"
   ]
  },
  {
   "cell_type": "code",
   "execution_count": 1,
   "metadata": {},
   "outputs": [],
   "source": [
    "import requests\n",
    "\n",
    "def send_request(ENDPOINT):\n",
    "    return requests.get(url=ENDPOINT)\n",
    "\n",
    "def create_task(ENDPOINT, payload):\n",
    "    return requests.put(url=ENDPOINT + \"create-task\", json=payload)\n",
    "\n",
    "def update_task(ENDPOINT, new_payload):\n",
    "    return requests.put(url=ENDPOINT + \"update-task\", json=new_payload)\n",
    "\n",
    "def get_task(ENDPOINT, task_id):\n",
    "    return requests.get(ENDPOINT + \"get-task/\" + task_id)\n",
    "\n",
    "def delete_task(ENDPOINT, task_id):\n",
    "    return requests.delete(url=ENDPOINT + \"delete-task/\" + task_id)\n"
   ]
  },
  {
   "cell_type": "markdown",
   "metadata": {},
   "source": [
    "## Ćwiczenie\n",
    "\n",
    "Napisz testy do API testowanego w Postmanie, zacznij od przetestowania kolejnych metody dostępnych w API"
   ]
  }
 ],
 "metadata": {
  "celltoolbar": "Slideshow",
  "kernelspec": {
   "display_name": "Python 3 (ipykernel)",
   "language": "python",
   "name": "python3"
  },
  "language_info": {
   "codemirror_mode": {
    "name": "ipython",
    "version": 3
   },
   "file_extension": ".py",
   "mimetype": "text/x-python",
   "name": "python",
   "nbconvert_exporter": "python",
   "pygments_lexer": "ipython3",
   "version": "3.10.14"
  }
 },
 "nbformat": 4,
 "nbformat_minor": 4
}
